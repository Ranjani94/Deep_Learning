{
  "nbformat": 4,
  "nbformat_minor": 0,
  "metadata": {
    "colab": {
      "name": "pytorch1.ipynb",
      "provenance": [],
      "authorship_tag": "ABX9TyMhYz2ZyJCIxY8EptFp75Gn",
      "include_colab_link": true
    },
    "kernelspec": {
      "name": "python3",
      "display_name": "Python 3"
    },
    "accelerator": "GPU"
  },
  "cells": [
    {
      "cell_type": "markdown",
      "metadata": {
        "id": "view-in-github",
        "colab_type": "text"
      },
      "source": [
        "<a href=\"https://colab.research.google.com/github/Ranjani94/Deep_Learning/blob/master/Ungraded_Assignment_4/pytorch1.ipynb\" target=\"_parent\"><img src=\"https://colab.research.google.com/assets/colab-badge.svg\" alt=\"Open In Colab\"/></a>"
      ]
    },
    {
      "cell_type": "markdown",
      "metadata": {
        "id": "NfvkX5tAhTJA",
        "colab_type": "text"
      },
      "source": [
        "###Getting started with pytorch..\n",
        "\n",
        "PDF: https://pytorch.org/assets/deep-learning/Deep-Learning-with-PyTorch.pdf\n",
        "\n",
        "GPU: Moderately large networks can take hours to days to train from scratch on large,\n",
        "real-world data sets on workstations equipped with good GPUs. That time can be\n",
        "PyTorch has the batteries included 13\n",
        "reduced by using multiple GPUs on the same machine and even further by using clusters of machines equipped with multiple GPUs. \n",
        "\n",
        "\n",
        "Chapter 1: It covers about basics of pytorch, strength and weakness, hardware requirement, PyTorch’s role as a library for building deep learning\n",
        "projects"
      ]
    },
    {
      "cell_type": "code",
      "metadata": {
        "id": "DiS_LpDXe_iC",
        "colab_type": "code",
        "colab": {}
      },
      "source": [
        "import torch"
      ],
      "execution_count": 0,
      "outputs": []
    },
    {
      "cell_type": "code",
      "metadata": {
        "id": "I0bpY_64hlAj",
        "colab_type": "code",
        "colab": {
          "base_uri": "https://localhost:8080/",
          "height": 34
        },
        "outputId": "db37c892-1b5f-4c8f-b24d-c5a361e43edd"
      },
      "source": [
        "torch.version.__version__"
      ],
      "execution_count": 2,
      "outputs": [
        {
          "output_type": "execute_result",
          "data": {
            "text/plain": [
              "'1.4.0'"
            ]
          },
          "metadata": {
            "tags": []
          },
          "execution_count": 2
        }
      ]
    },
    {
      "cell_type": "code",
      "metadata": {
        "id": "sZc54AxThoMm",
        "colab_type": "code",
        "colab": {}
      },
      "source": [
        "a = torch.ones(3,3)"
      ],
      "execution_count": 0,
      "outputs": []
    },
    {
      "cell_type": "code",
      "metadata": {
        "id": "N_z9QWPxhr8e",
        "colab_type": "code",
        "colab": {}
      },
      "source": [
        "b = torch.ones(3,3)"
      ],
      "execution_count": 0,
      "outputs": []
    },
    {
      "cell_type": "code",
      "metadata": {
        "id": "gvPSPLbVhu1v",
        "colab_type": "code",
        "colab": {
          "base_uri": "https://localhost:8080/",
          "height": 68
        },
        "outputId": "8202be15-7a89-4207-f44b-f7ae72d1eb0a"
      },
      "source": [
        "a + b"
      ],
      "execution_count": 5,
      "outputs": [
        {
          "output_type": "execute_result",
          "data": {
            "text/plain": [
              "tensor([[2., 2., 2.],\n",
              "        [2., 2., 2.],\n",
              "        [2., 2., 2.]])"
            ]
          },
          "metadata": {
            "tags": []
          },
          "execution_count": 5
        }
      ]
    },
    {
      "cell_type": "markdown",
      "metadata": {
        "id": "Jx-8_SKoibH_",
        "colab_type": "text"
      },
      "source": [
        "### CUDA-capable graphical processing unit (GPU)"
      ]
    },
    {
      "cell_type": "code",
      "metadata": {
        "id": "fzBOYBWuhwaf",
        "colab_type": "code",
        "colab": {}
      },
      "source": [
        "a = a.to('cuda')\n",
        "b = b.to('cuda')"
      ],
      "execution_count": 0,
      "outputs": []
    },
    {
      "cell_type": "code",
      "metadata": {
        "id": "jKYsTR2uh32o",
        "colab_type": "code",
        "colab": {
          "base_uri": "https://localhost:8080/",
          "height": 68
        },
        "outputId": "4cac528e-29db-4c8f-db46-9192f57129e0"
      },
      "source": [
        "a+b"
      ],
      "execution_count": 7,
      "outputs": [
        {
          "output_type": "execute_result",
          "data": {
            "text/plain": [
              "tensor([[2., 2., 2.],\n",
              "        [2., 2., 2.],\n",
              "        [2., 2., 2.]], device='cuda:0')"
            ]
          },
          "metadata": {
            "tags": []
          },
          "execution_count": 7
        }
      ]
    }
  ]
}