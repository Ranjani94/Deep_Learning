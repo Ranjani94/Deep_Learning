{
  "nbformat": 4,
  "nbformat_minor": 0,
  "metadata": {
    "colab": {
      "name": "keras_logistic_reg.ipynb",
      "provenance": [],
      "collapsed_sections": [],
      "authorship_tag": "ABX9TyMJW42iVKY5bIKdGLH85FfY",
      "include_colab_link": true
    },
    "kernelspec": {
      "name": "python3",
      "display_name": "Python 3"
    },
    "accelerator": "GPU"
  },
  "cells": [
    {
      "cell_type": "markdown",
      "metadata": {
        "id": "view-in-github",
        "colab_type": "text"
      },
      "source": [
        "<a href=\"https://colab.research.google.com/github/Ranjani94/Deep_Learning/blob/master/Assignment2/keras_logistic_reg.ipynb\" target=\"_parent\"><img src=\"https://colab.research.google.com/assets/colab-badge.svg\" alt=\"Open In Colab\"/></a>"
      ]
    },
    {
      "cell_type": "markdown",
      "metadata": {
        "id": "ybjjf64f9_vV",
        "colab_type": "text"
      },
      "source": [
        "###Boston Housing Prediction using Keras "
      ]
    },
    {
      "cell_type": "code",
      "metadata": {
        "id": "30oLKq-HmUDt",
        "colab_type": "code",
        "colab": {
          "base_uri": "https://localhost:8080/",
          "height": 51
        },
        "outputId": "412fdb8b-174f-42b3-c4e5-49549ba9e53b"
      },
      "source": [
        "from __future__ import absolute_import, division, print_function, unicode_literals\n",
        "\n",
        "# TensorFlow and tf.keras\n",
        "import tensorflow as tf\n",
        "from tensorflow import keras\n",
        "\n",
        "from tensorflow.keras.models import Sequential\n",
        "from tensorflow.keras.layers import Dense, Dropout\n",
        "from sklearn.preprocessing import StandardScaler\n",
        "from sklearn.model_selection import train_test_split\n",
        "from sklearn.datasets import fetch_california_housing\n",
        "from keras.regularizers import L1L2\n",
        "\n",
        "import os\n",
        "import numpy as np\n",
        "import pandas as pd\n",
        "import matplotlib.pyplot as plt\n",
        "\n",
        "print(tf.__version__)\n"
      ],
      "execution_count": 1,
      "outputs": [
        {
          "output_type": "stream",
          "text": [
            "2.2.0-rc3\n"
          ],
          "name": "stdout"
        },
        {
          "output_type": "stream",
          "text": [
            "Using TensorFlow backend.\n"
          ],
          "name": "stderr"
        }
      ]
    },
    {
      "cell_type": "markdown",
      "metadata": {
        "id": "z2YzaypW-Rn7",
        "colab_type": "text"
      },
      "source": [
        "###Loadin the data from scikit library"
      ]
    },
    {
      "cell_type": "code",
      "metadata": {
        "id": "QXIQ-BRdqI7R",
        "colab_type": "code",
        "colab": {
          "base_uri": "https://localhost:8080/",
          "height": 34
        },
        "outputId": "d2edfac9-deee-46bb-a2ee-2a964c8230be"
      },
      "source": [
        "housing = fetch_california_housing()"
      ],
      "execution_count": 2,
      "outputs": [
        {
          "output_type": "stream",
          "text": [
            "Downloading Cal. housing from https://ndownloader.figshare.com/files/5976036 to /root/scikit_learn_data\n"
          ],
          "name": "stderr"
        }
      ]
    },
    {
      "cell_type": "markdown",
      "metadata": {
        "id": "bd3WBlv5-WOH",
        "colab_type": "text"
      },
      "source": [
        "###dividing the dataset into train, validation and test data "
      ]
    },
    {
      "cell_type": "code",
      "metadata": {
        "id": "1Y3t7QZG6JIW",
        "colab_type": "code",
        "colab": {}
      },
      "source": [
        "x_train_f, x_test, y_train_f, y_test = train_test_split(housing.data, housing.target, random_state=42)\n",
        "x_train, x_valid, y_train, y_valid = train_test_split(x_train_f, y_train_f, random_state=42)"
      ],
      "execution_count": 0,
      "outputs": []
    },
    {
      "cell_type": "code",
      "metadata": {
        "id": "Zos9wqmxr7cV",
        "colab_type": "code",
        "colab": {
          "base_uri": "https://localhost:8080/",
          "height": 34
        },
        "outputId": "e46ada1d-6547-4ff8-9666-8f0933909fef"
      },
      "source": [
        "x_train.shape"
      ],
      "execution_count": 4,
      "outputs": [
        {
          "output_type": "execute_result",
          "data": {
            "text/plain": [
              "(11610, 8)"
            ]
          },
          "metadata": {
            "tags": []
          },
          "execution_count": 4
        }
      ]
    },
    {
      "cell_type": "code",
      "metadata": {
        "id": "plgGXPxNr7eM",
        "colab_type": "code",
        "colab": {
          "base_uri": "https://localhost:8080/",
          "height": 34
        },
        "outputId": "198c39f7-1a99-43ff-a71b-3481384346df"
      },
      "source": [
        "x_valid.shape"
      ],
      "execution_count": 5,
      "outputs": [
        {
          "output_type": "execute_result",
          "data": {
            "text/plain": [
              "(3870, 8)"
            ]
          },
          "metadata": {
            "tags": []
          },
          "execution_count": 5
        }
      ]
    },
    {
      "cell_type": "code",
      "metadata": {
        "id": "4QhjfCGer7fw",
        "colab_type": "code",
        "colab": {
          "base_uri": "https://localhost:8080/",
          "height": 34
        },
        "outputId": "e07ea0d2-9e79-4ee9-aa16-ff43f05da496"
      },
      "source": [
        "x_test.shape"
      ],
      "execution_count": 6,
      "outputs": [
        {
          "output_type": "execute_result",
          "data": {
            "text/plain": [
              "(5160, 8)"
            ]
          },
          "metadata": {
            "tags": []
          },
          "execution_count": 6
        }
      ]
    },
    {
      "cell_type": "code",
      "metadata": {
        "id": "weSEj_h0r7hX",
        "colab_type": "code",
        "colab": {
          "base_uri": "https://localhost:8080/",
          "height": 51
        },
        "outputId": "48c56629-0dff-4492-95e5-72011f00ab95"
      },
      "source": [
        "x_train[0]"
      ],
      "execution_count": 7,
      "outputs": [
        {
          "output_type": "execute_result",
          "data": {
            "text/plain": [
              "array([ 3.52140000e+00,  1.50000000e+01,  3.04994451e+00,  1.10654828e+00,\n",
              "        1.44700000e+03,  1.60599334e+00,  3.76300000e+01, -1.22430000e+02])"
            ]
          },
          "metadata": {
            "tags": []
          },
          "execution_count": 7
        }
      ]
    },
    {
      "cell_type": "markdown",
      "metadata": {
        "id": "We7DB976-fac",
        "colab_type": "text"
      },
      "source": [
        "###Normalizing the data"
      ]
    },
    {
      "cell_type": "code",
      "metadata": {
        "id": "5Q1L7oOnr7jQ",
        "colab_type": "code",
        "colab": {}
      },
      "source": [
        "scaler = StandardScaler()"
      ],
      "execution_count": 0,
      "outputs": []
    },
    {
      "cell_type": "code",
      "metadata": {
        "id": "TExupZluvk1S",
        "colab_type": "code",
        "colab": {}
      },
      "source": [
        "x_train = scaler.fit_transform(x_train)\n",
        "x_valid = scaler.transform(x_valid)\n",
        "x_test = scaler.transform(x_test)"
      ],
      "execution_count": 0,
      "outputs": []
    },
    {
      "cell_type": "code",
      "metadata": {
        "id": "TuMZFEXgv8am",
        "colab_type": "code",
        "colab": {
          "base_uri": "https://localhost:8080/",
          "height": 51
        },
        "outputId": "68418328-5802-4ce8-bfb7-321e71eccb92"
      },
      "source": [
        "x_train[0]"
      ],
      "execution_count": 10,
      "outputs": [
        {
          "output_type": "execute_result",
          "data": {
            "text/plain": [
              "array([-0.19397883, -1.07781319, -0.94338545,  0.01485314,  0.02073335,\n",
              "       -0.57291624,  0.92926047, -1.42215523])"
            ]
          },
          "metadata": {
            "tags": []
          },
          "execution_count": 10
        }
      ]
    },
    {
      "cell_type": "code",
      "metadata": {
        "id": "kEAM2H0T3vXP",
        "colab_type": "code",
        "colab": {}
      },
      "source": [
        "batch_size = 128 \n",
        "epoch = 100"
      ],
      "execution_count": 0,
      "outputs": []
    },
    {
      "cell_type": "markdown",
      "metadata": {
        "id": "Rfi0Rrva-0sl",
        "colab_type": "text"
      },
      "source": [
        "###Building a model"
      ]
    },
    {
      "cell_type": "code",
      "metadata": {
        "id": "53ujRj20wAfG",
        "colab_type": "code",
        "colab": {}
      },
      "source": [
        "model = keras.models.Sequential([\n",
        "      keras.layers.Dense(64, activation='relu', input_shape=(x_train.shape[1],)),\n",
        "      keras.layers.Dense(64, activation ='relu'),\n",
        "      keras.layers.Dense(1, activation='sigmoid')\n",
        "])"
      ],
      "execution_count": 0,
      "outputs": []
    },
    {
      "cell_type": "code",
      "metadata": {
        "id": "5d1qAsGA9p42",
        "colab_type": "code",
        "colab": {
          "base_uri": "https://localhost:8080/",
          "height": 255
        },
        "outputId": "8548feae-bd0c-483b-d5e9-3eafc7082a10"
      },
      "source": [
        "model.summary()"
      ],
      "execution_count": 13,
      "outputs": [
        {
          "output_type": "stream",
          "text": [
            "Model: \"sequential\"\n",
            "_________________________________________________________________\n",
            "Layer (type)                 Output Shape              Param #   \n",
            "=================================================================\n",
            "dense (Dense)                (None, 64)                576       \n",
            "_________________________________________________________________\n",
            "dense_1 (Dense)              (None, 64)                4160      \n",
            "_________________________________________________________________\n",
            "dense_2 (Dense)              (None, 1)                 65        \n",
            "=================================================================\n",
            "Total params: 4,801\n",
            "Trainable params: 4,801\n",
            "Non-trainable params: 0\n",
            "_________________________________________________________________\n"
          ],
          "name": "stdout"
        }
      ]
    },
    {
      "cell_type": "code",
      "metadata": {
        "id": "DcaYVcno4hRc",
        "colab_type": "code",
        "colab": {}
      },
      "source": [
        "model.compile(loss='mean_squared_error', optimizer='sgd', metrics=['accuracy'])"
      ],
      "execution_count": 0,
      "outputs": []
    },
    {
      "cell_type": "code",
      "metadata": {
        "id": "9JaHqYHM4-EU",
        "colab_type": "code",
        "colab": {
          "base_uri": "https://localhost:8080/",
          "height": 1000
        },
        "outputId": "97c2475e-5171-4b79-e81d-4945f63841fb"
      },
      "source": [
        "history = model.fit(x_train, y_train, epochs=epoch, batch_size=batch_size, verbose=1, validation_data=(x_valid, y_valid))"
      ],
      "execution_count": 15,
      "outputs": [
        {
          "output_type": "stream",
          "text": [
            "Epoch 1/100\n",
            "91/91 [==============================] - 0s 4ms/step - loss: 3.0631 - accuracy: 0.0028 - val_loss: 2.5700 - val_accuracy: 0.0044\n",
            "Epoch 2/100\n",
            "91/91 [==============================] - 0s 3ms/step - loss: 2.6355 - accuracy: 0.0029 - val_loss: 2.4462 - val_accuracy: 0.0044\n",
            "Epoch 3/100\n",
            "91/91 [==============================] - 0s 3ms/step - loss: 2.5653 - accuracy: 0.0029 - val_loss: 2.4130 - val_accuracy: 0.0044\n",
            "Epoch 4/100\n",
            "91/91 [==============================] - 0s 3ms/step - loss: 2.5432 - accuracy: 0.0029 - val_loss: 2.3993 - val_accuracy: 0.0044\n",
            "Epoch 5/100\n",
            "91/91 [==============================] - 0s 3ms/step - loss: 2.5326 - accuracy: 0.0029 - val_loss: 2.3923 - val_accuracy: 0.0044\n",
            "Epoch 6/100\n",
            "91/91 [==============================] - 0s 3ms/step - loss: 2.5267 - accuracy: 0.0029 - val_loss: 2.3881 - val_accuracy: 0.0044\n",
            "Epoch 7/100\n",
            "91/91 [==============================] - 0s 3ms/step - loss: 2.5228 - accuracy: 0.0029 - val_loss: 2.3853 - val_accuracy: 0.0044\n",
            "Epoch 8/100\n",
            "91/91 [==============================] - 0s 3ms/step - loss: 2.5260 - accuracy: 0.0029 - val_loss: 2.3834 - val_accuracy: 0.0044\n",
            "Epoch 9/100\n",
            "91/91 [==============================] - 0s 3ms/step - loss: 2.5198 - accuracy: 0.0029 - val_loss: 2.3821 - val_accuracy: 0.0044\n",
            "Epoch 10/100\n",
            "91/91 [==============================] - 0s 3ms/step - loss: 2.5182 - accuracy: 0.0029 - val_loss: 2.3810 - val_accuracy: 0.0044\n",
            "Epoch 11/100\n",
            "91/91 [==============================] - 0s 3ms/step - loss: 2.5159 - accuracy: 0.0029 - val_loss: 2.3802 - val_accuracy: 0.0044\n",
            "Epoch 12/100\n",
            "91/91 [==============================] - 0s 3ms/step - loss: 2.5182 - accuracy: 0.0029 - val_loss: 2.3795 - val_accuracy: 0.0044\n",
            "Epoch 13/100\n",
            "91/91 [==============================] - 0s 3ms/step - loss: 2.5167 - accuracy: 0.0029 - val_loss: 2.3790 - val_accuracy: 0.0044\n",
            "Epoch 14/100\n",
            "91/91 [==============================] - 0s 3ms/step - loss: 2.5148 - accuracy: 0.0029 - val_loss: 2.3786 - val_accuracy: 0.0044\n",
            "Epoch 15/100\n",
            "91/91 [==============================] - 0s 3ms/step - loss: 2.5166 - accuracy: 0.0029 - val_loss: 2.3782 - val_accuracy: 0.0044\n",
            "Epoch 16/100\n",
            "91/91 [==============================] - 0s 3ms/step - loss: 2.5154 - accuracy: 0.0029 - val_loss: 2.3779 - val_accuracy: 0.0044\n",
            "Epoch 17/100\n",
            "91/91 [==============================] - 0s 3ms/step - loss: 2.5155 - accuracy: 0.0029 - val_loss: 2.3776 - val_accuracy: 0.0044\n",
            "Epoch 18/100\n",
            "91/91 [==============================] - 0s 3ms/step - loss: 2.5125 - accuracy: 0.0029 - val_loss: 2.3774 - val_accuracy: 0.0044\n",
            "Epoch 19/100\n",
            "91/91 [==============================] - 0s 3ms/step - loss: 2.5133 - accuracy: 0.0029 - val_loss: 2.3772 - val_accuracy: 0.0044\n",
            "Epoch 20/100\n",
            "91/91 [==============================] - 0s 3ms/step - loss: 2.5135 - accuracy: 0.0029 - val_loss: 2.3770 - val_accuracy: 0.0044\n",
            "Epoch 21/100\n",
            "91/91 [==============================] - 0s 3ms/step - loss: 2.5127 - accuracy: 0.0029 - val_loss: 2.3768 - val_accuracy: 0.0044\n",
            "Epoch 22/100\n",
            "91/91 [==============================] - 0s 3ms/step - loss: 2.5147 - accuracy: 0.0029 - val_loss: 2.3767 - val_accuracy: 0.0044\n",
            "Epoch 23/100\n",
            "91/91 [==============================] - 0s 3ms/step - loss: 2.5125 - accuracy: 0.0029 - val_loss: 2.3766 - val_accuracy: 0.0044\n",
            "Epoch 24/100\n",
            "91/91 [==============================] - 0s 3ms/step - loss: 2.5151 - accuracy: 0.0029 - val_loss: 2.3764 - val_accuracy: 0.0044\n",
            "Epoch 25/100\n",
            "91/91 [==============================] - 0s 3ms/step - loss: 2.5135 - accuracy: 0.0029 - val_loss: 2.3763 - val_accuracy: 0.0044\n",
            "Epoch 26/100\n",
            "91/91 [==============================] - 0s 3ms/step - loss: 2.5137 - accuracy: 0.0029 - val_loss: 2.3762 - val_accuracy: 0.0044\n",
            "Epoch 27/100\n",
            "91/91 [==============================] - 0s 3ms/step - loss: 2.5113 - accuracy: 0.0029 - val_loss: 2.3762 - val_accuracy: 0.0044\n",
            "Epoch 28/100\n",
            "91/91 [==============================] - 0s 3ms/step - loss: 2.5126 - accuracy: 0.0029 - val_loss: 2.3761 - val_accuracy: 0.0044\n",
            "Epoch 29/100\n",
            "91/91 [==============================] - 0s 3ms/step - loss: 2.5119 - accuracy: 0.0029 - val_loss: 2.3760 - val_accuracy: 0.0044\n",
            "Epoch 30/100\n",
            "91/91 [==============================] - 0s 3ms/step - loss: 2.5111 - accuracy: 0.0029 - val_loss: 2.3759 - val_accuracy: 0.0044\n",
            "Epoch 31/100\n",
            "91/91 [==============================] - 0s 3ms/step - loss: 2.5108 - accuracy: 0.0029 - val_loss: 2.3759 - val_accuracy: 0.0044\n",
            "Epoch 32/100\n",
            "91/91 [==============================] - 0s 3ms/step - loss: 2.5137 - accuracy: 0.0029 - val_loss: 2.3758 - val_accuracy: 0.0044\n",
            "Epoch 33/100\n",
            "91/91 [==============================] - 0s 3ms/step - loss: 2.5139 - accuracy: 0.0029 - val_loss: 2.3758 - val_accuracy: 0.0044\n",
            "Epoch 34/100\n",
            "91/91 [==============================] - 0s 3ms/step - loss: 2.5143 - accuracy: 0.0029 - val_loss: 2.3757 - val_accuracy: 0.0044\n",
            "Epoch 35/100\n",
            "91/91 [==============================] - 0s 3ms/step - loss: 2.5110 - accuracy: 0.0029 - val_loss: 2.3757 - val_accuracy: 0.0044\n",
            "Epoch 36/100\n",
            "91/91 [==============================] - 0s 3ms/step - loss: 2.5129 - accuracy: 0.0029 - val_loss: 2.3756 - val_accuracy: 0.0044\n",
            "Epoch 37/100\n",
            "91/91 [==============================] - 0s 3ms/step - loss: 2.5159 - accuracy: 0.0029 - val_loss: 2.3756 - val_accuracy: 0.0044\n",
            "Epoch 38/100\n",
            "91/91 [==============================] - 0s 3ms/step - loss: 2.5150 - accuracy: 0.0029 - val_loss: 2.3755 - val_accuracy: 0.0044\n",
            "Epoch 39/100\n",
            "91/91 [==============================] - 0s 3ms/step - loss: 2.5102 - accuracy: 0.0029 - val_loss: 2.3755 - val_accuracy: 0.0044\n",
            "Epoch 40/100\n",
            "91/91 [==============================] - 0s 3ms/step - loss: 2.5126 - accuracy: 0.0029 - val_loss: 2.3755 - val_accuracy: 0.0044\n",
            "Epoch 41/100\n",
            "91/91 [==============================] - 0s 3ms/step - loss: 2.5130 - accuracy: 0.0029 - val_loss: 2.3754 - val_accuracy: 0.0044\n",
            "Epoch 42/100\n",
            "91/91 [==============================] - 0s 3ms/step - loss: 2.5146 - accuracy: 0.0029 - val_loss: 2.3754 - val_accuracy: 0.0044\n",
            "Epoch 43/100\n",
            "91/91 [==============================] - 0s 3ms/step - loss: 2.5115 - accuracy: 0.0029 - val_loss: 2.3754 - val_accuracy: 0.0044\n",
            "Epoch 44/100\n",
            "91/91 [==============================] - 0s 3ms/step - loss: 2.5113 - accuracy: 0.0029 - val_loss: 2.3753 - val_accuracy: 0.0044\n",
            "Epoch 45/100\n",
            "91/91 [==============================] - 0s 3ms/step - loss: 2.5121 - accuracy: 0.0029 - val_loss: 2.3753 - val_accuracy: 0.0044\n",
            "Epoch 46/100\n",
            "91/91 [==============================] - 0s 3ms/step - loss: 2.5102 - accuracy: 0.0029 - val_loss: 2.3753 - val_accuracy: 0.0044\n",
            "Epoch 47/100\n",
            "91/91 [==============================] - 0s 3ms/step - loss: 2.5112 - accuracy: 0.0029 - val_loss: 2.3753 - val_accuracy: 0.0044\n",
            "Epoch 48/100\n",
            "91/91 [==============================] - 0s 3ms/step - loss: 2.5142 - accuracy: 0.0029 - val_loss: 2.3753 - val_accuracy: 0.0044\n",
            "Epoch 49/100\n",
            "91/91 [==============================] - 0s 3ms/step - loss: 2.5129 - accuracy: 0.0029 - val_loss: 2.3752 - val_accuracy: 0.0044\n",
            "Epoch 50/100\n",
            "91/91 [==============================] - 0s 3ms/step - loss: 2.5129 - accuracy: 0.0029 - val_loss: 2.3752 - val_accuracy: 0.0044\n",
            "Epoch 51/100\n",
            "91/91 [==============================] - 0s 3ms/step - loss: 2.5131 - accuracy: 0.0029 - val_loss: 2.3752 - val_accuracy: 0.0044\n",
            "Epoch 52/100\n",
            "91/91 [==============================] - 0s 3ms/step - loss: 2.5107 - accuracy: 0.0029 - val_loss: 2.3752 - val_accuracy: 0.0044\n",
            "Epoch 53/100\n",
            "91/91 [==============================] - 0s 3ms/step - loss: 2.5115 - accuracy: 0.0029 - val_loss: 2.3752 - val_accuracy: 0.0044\n",
            "Epoch 54/100\n",
            "91/91 [==============================] - 0s 3ms/step - loss: 2.5145 - accuracy: 0.0029 - val_loss: 2.3751 - val_accuracy: 0.0044\n",
            "Epoch 55/100\n",
            "91/91 [==============================] - 0s 3ms/step - loss: 2.5110 - accuracy: 0.0029 - val_loss: 2.3751 - val_accuracy: 0.0044\n",
            "Epoch 56/100\n",
            "91/91 [==============================] - 0s 3ms/step - loss: 2.5125 - accuracy: 0.0029 - val_loss: 2.3751 - val_accuracy: 0.0044\n",
            "Epoch 57/100\n",
            "91/91 [==============================] - 0s 3ms/step - loss: 2.5130 - accuracy: 0.0029 - val_loss: 2.3751 - val_accuracy: 0.0044\n",
            "Epoch 58/100\n",
            "91/91 [==============================] - 0s 3ms/step - loss: 2.5141 - accuracy: 0.0029 - val_loss: 2.3751 - val_accuracy: 0.0044\n",
            "Epoch 59/100\n",
            "91/91 [==============================] - 0s 3ms/step - loss: 2.5104 - accuracy: 0.0029 - val_loss: 2.3751 - val_accuracy: 0.0044\n",
            "Epoch 60/100\n",
            "91/91 [==============================] - 0s 3ms/step - loss: 2.5134 - accuracy: 0.0029 - val_loss: 2.3750 - val_accuracy: 0.0044\n",
            "Epoch 61/100\n",
            "91/91 [==============================] - 0s 3ms/step - loss: 2.5115 - accuracy: 0.0029 - val_loss: 2.3750 - val_accuracy: 0.0044\n",
            "Epoch 62/100\n",
            "91/91 [==============================] - 0s 3ms/step - loss: 2.5112 - accuracy: 0.0029 - val_loss: 2.3750 - val_accuracy: 0.0044\n",
            "Epoch 63/100\n",
            "91/91 [==============================] - 0s 3ms/step - loss: 2.5109 - accuracy: 0.0029 - val_loss: 2.3750 - val_accuracy: 0.0044\n",
            "Epoch 64/100\n",
            "91/91 [==============================] - 0s 3ms/step - loss: 2.5132 - accuracy: 0.0029 - val_loss: 2.3750 - val_accuracy: 0.0044\n",
            "Epoch 65/100\n",
            "91/91 [==============================] - 0s 3ms/step - loss: 2.5116 - accuracy: 0.0029 - val_loss: 2.3750 - val_accuracy: 0.0044\n",
            "Epoch 66/100\n",
            "91/91 [==============================] - 0s 3ms/step - loss: 2.5130 - accuracy: 0.0029 - val_loss: 2.3750 - val_accuracy: 0.0044\n",
            "Epoch 67/100\n",
            "91/91 [==============================] - 0s 3ms/step - loss: 2.5104 - accuracy: 0.0029 - val_loss: 2.3750 - val_accuracy: 0.0044\n",
            "Epoch 68/100\n",
            "91/91 [==============================] - 0s 3ms/step - loss: 2.5098 - accuracy: 0.0029 - val_loss: 2.3750 - val_accuracy: 0.0044\n",
            "Epoch 69/100\n",
            "91/91 [==============================] - 0s 3ms/step - loss: 2.5121 - accuracy: 0.0029 - val_loss: 2.3749 - val_accuracy: 0.0044\n",
            "Epoch 70/100\n",
            "91/91 [==============================] - 0s 3ms/step - loss: 2.5112 - accuracy: 0.0029 - val_loss: 2.3749 - val_accuracy: 0.0044\n",
            "Epoch 71/100\n",
            "91/91 [==============================] - 0s 3ms/step - loss: 2.5138 - accuracy: 0.0029 - val_loss: 2.3749 - val_accuracy: 0.0044\n",
            "Epoch 72/100\n",
            "91/91 [==============================] - 0s 3ms/step - loss: 2.5108 - accuracy: 0.0029 - val_loss: 2.3749 - val_accuracy: 0.0044\n",
            "Epoch 73/100\n",
            "91/91 [==============================] - 0s 3ms/step - loss: 2.5129 - accuracy: 0.0029 - val_loss: 2.3749 - val_accuracy: 0.0044\n",
            "Epoch 74/100\n",
            "91/91 [==============================] - 0s 3ms/step - loss: 2.5106 - accuracy: 0.0029 - val_loss: 2.3749 - val_accuracy: 0.0044\n",
            "Epoch 75/100\n",
            "91/91 [==============================] - 0s 3ms/step - loss: 2.5108 - accuracy: 0.0029 - val_loss: 2.3749 - val_accuracy: 0.0044\n",
            "Epoch 76/100\n",
            "91/91 [==============================] - 0s 3ms/step - loss: 2.5136 - accuracy: 0.0029 - val_loss: 2.3749 - val_accuracy: 0.0044\n",
            "Epoch 77/100\n",
            "91/91 [==============================] - 0s 3ms/step - loss: 2.5106 - accuracy: 0.0029 - val_loss: 2.3749 - val_accuracy: 0.0044\n",
            "Epoch 78/100\n",
            "91/91 [==============================] - 0s 3ms/step - loss: 2.5120 - accuracy: 0.0029 - val_loss: 2.3749 - val_accuracy: 0.0044\n",
            "Epoch 79/100\n",
            "91/91 [==============================] - 0s 3ms/step - loss: 2.5101 - accuracy: 0.0029 - val_loss: 2.3749 - val_accuracy: 0.0044\n",
            "Epoch 80/100\n",
            "91/91 [==============================] - 0s 3ms/step - loss: 2.5112 - accuracy: 0.0029 - val_loss: 2.3749 - val_accuracy: 0.0044\n",
            "Epoch 81/100\n",
            "91/91 [==============================] - 0s 3ms/step - loss: 2.5136 - accuracy: 0.0029 - val_loss: 2.3749 - val_accuracy: 0.0044\n",
            "Epoch 82/100\n",
            "91/91 [==============================] - 0s 3ms/step - loss: 2.5129 - accuracy: 0.0029 - val_loss: 2.3748 - val_accuracy: 0.0044\n",
            "Epoch 83/100\n",
            "91/91 [==============================] - 0s 3ms/step - loss: 2.5133 - accuracy: 0.0029 - val_loss: 2.3748 - val_accuracy: 0.0044\n",
            "Epoch 84/100\n",
            "91/91 [==============================] - 0s 3ms/step - loss: 2.5107 - accuracy: 0.0029 - val_loss: 2.3748 - val_accuracy: 0.0044\n",
            "Epoch 85/100\n",
            "91/91 [==============================] - 0s 3ms/step - loss: 2.5118 - accuracy: 0.0029 - val_loss: 2.3748 - val_accuracy: 0.0044\n",
            "Epoch 86/100\n",
            "91/91 [==============================] - 0s 3ms/step - loss: 2.5092 - accuracy: 0.0029 - val_loss: 2.3748 - val_accuracy: 0.0044\n",
            "Epoch 87/100\n",
            "91/91 [==============================] - 0s 3ms/step - loss: 2.5116 - accuracy: 0.0029 - val_loss: 2.3748 - val_accuracy: 0.0044\n",
            "Epoch 88/100\n",
            "91/91 [==============================] - 0s 3ms/step - loss: 2.5121 - accuracy: 0.0029 - val_loss: 2.3748 - val_accuracy: 0.0044\n",
            "Epoch 89/100\n",
            "91/91 [==============================] - 0s 3ms/step - loss: 2.5116 - accuracy: 0.0029 - val_loss: 2.3748 - val_accuracy: 0.0044\n",
            "Epoch 90/100\n",
            "91/91 [==============================] - 0s 3ms/step - loss: 2.5110 - accuracy: 0.0029 - val_loss: 2.3748 - val_accuracy: 0.0044\n",
            "Epoch 91/100\n",
            "91/91 [==============================] - 0s 3ms/step - loss: 2.5117 - accuracy: 0.0029 - val_loss: 2.3748 - val_accuracy: 0.0044\n",
            "Epoch 92/100\n",
            "91/91 [==============================] - 0s 3ms/step - loss: 2.5114 - accuracy: 0.0029 - val_loss: 2.3748 - val_accuracy: 0.0044\n",
            "Epoch 93/100\n",
            "91/91 [==============================] - 0s 3ms/step - loss: 2.5089 - accuracy: 0.0029 - val_loss: 2.3748 - val_accuracy: 0.0044\n",
            "Epoch 94/100\n",
            "91/91 [==============================] - 0s 3ms/step - loss: 2.5117 - accuracy: 0.0029 - val_loss: 2.3748 - val_accuracy: 0.0044\n",
            "Epoch 95/100\n",
            "91/91 [==============================] - 0s 3ms/step - loss: 2.5092 - accuracy: 0.0029 - val_loss: 2.3748 - val_accuracy: 0.0044\n",
            "Epoch 96/100\n",
            "91/91 [==============================] - 0s 3ms/step - loss: 2.5132 - accuracy: 0.0029 - val_loss: 2.3748 - val_accuracy: 0.0044\n",
            "Epoch 97/100\n",
            "91/91 [==============================] - 0s 3ms/step - loss: 2.5136 - accuracy: 0.0029 - val_loss: 2.3748 - val_accuracy: 0.0044\n",
            "Epoch 98/100\n",
            "91/91 [==============================] - 0s 3ms/step - loss: 2.5137 - accuracy: 0.0029 - val_loss: 2.3748 - val_accuracy: 0.0044\n",
            "Epoch 99/100\n",
            "91/91 [==============================] - 0s 3ms/step - loss: 2.5110 - accuracy: 0.0029 - val_loss: 2.3748 - val_accuracy: 0.0044\n",
            "Epoch 100/100\n",
            "91/91 [==============================] - 0s 3ms/step - loss: 2.5100 - accuracy: 0.0029 - val_loss: 2.3748 - val_accuracy: 0.0044\n"
          ],
          "name": "stdout"
        }
      ]
    },
    {
      "cell_type": "markdown",
      "metadata": {
        "id": "_vPps0Yz-qCu",
        "colab_type": "text"
      },
      "source": [
        "###Evaluating the model"
      ]
    },
    {
      "cell_type": "code",
      "metadata": {
        "id": "ktEwUh7d5OS7",
        "colab_type": "code",
        "colab": {
          "base_uri": "https://localhost:8080/",
          "height": 34
        },
        "outputId": "7a8c7915-ece0-4867-8308-b143f8d947be"
      },
      "source": [
        "mse_test = model.evaluate(x_test, y_test)"
      ],
      "execution_count": 23,
      "outputs": [
        {
          "output_type": "stream",
          "text": [
            "162/162 [==============================] - 0s 2ms/step - loss: 2.4683 - accuracy: 0.0021\n"
          ],
          "name": "stdout"
        }
      ]
    },
    {
      "cell_type": "code",
      "metadata": {
        "id": "vM03s7hSZPvl",
        "colab_type": "code",
        "colab": {
          "base_uri": "https://localhost:8080/",
          "height": 51
        },
        "outputId": "032e0f8d-65ed-4a6f-ec91-a78ca2fe2408"
      },
      "source": [
        "print('Test score:', mse_test[0])\n",
        "print('Test accuracy:', mse_test[1])"
      ],
      "execution_count": 24,
      "outputs": [
        {
          "output_type": "stream",
          "text": [
            "Test score: 2.4682815074920654\n",
            "Test accuracy: 0.0021317829377949238\n"
          ],
          "name": "stdout"
        }
      ]
    },
    {
      "cell_type": "code",
      "metadata": {
        "id": "rS_Dd5h16ILJ",
        "colab_type": "code",
        "colab": {}
      },
      "source": [
        "x_new = x_test[:3]"
      ],
      "execution_count": 0,
      "outputs": []
    },
    {
      "cell_type": "markdown",
      "metadata": {
        "id": "zxcG670l-m08",
        "colab_type": "text"
      },
      "source": [
        "###Model Prediction"
      ]
    },
    {
      "cell_type": "code",
      "metadata": {
        "id": "hJJ1GXVg88LV",
        "colab_type": "code",
        "colab": {}
      },
      "source": [
        "y_pred = model.predict(x_new)"
      ],
      "execution_count": 0,
      "outputs": []
    },
    {
      "cell_type": "code",
      "metadata": {
        "id": "Pu_B3x6q8_5m",
        "colab_type": "code",
        "colab": {
          "base_uri": "https://localhost:8080/",
          "height": 68
        },
        "outputId": "f1deb5a0-c1c3-4d4a-a7ba-ba1202a2e3ef"
      },
      "source": [
        "y_pred"
      ],
      "execution_count": 27,
      "outputs": [
        {
          "output_type": "execute_result",
          "data": {
            "text/plain": [
              "array([[0.994624 ],\n",
              "       [0.9937889],\n",
              "       [0.9999801]], dtype=float32)"
            ]
          },
          "metadata": {
            "tags": []
          },
          "execution_count": 27
        }
      ]
    },
    {
      "cell_type": "markdown",
      "metadata": {
        "id": "V7OWx49M-tfO",
        "colab_type": "text"
      },
      "source": [
        "###Plotting between train and validation data"
      ]
    },
    {
      "cell_type": "code",
      "metadata": {
        "id": "QWOxwpvp9KBn",
        "colab_type": "code",
        "colab": {
          "base_uri": "https://localhost:8080/",
          "height": 269
        },
        "outputId": "3f7db87c-73ef-4ac3-878f-f05af5d5a534"
      },
      "source": [
        "plt.plot(pd.DataFrame(history.history))\n",
        "plt.grid(True)\n",
        "plt.gca().set_ylim(0,1)\n",
        "plt.show()"
      ],
      "execution_count": 28,
      "outputs": [
        {
          "output_type": "display_data",
          "data": {
            "image/png": "[encoded data removed]",
            "text/plain": [
              "<Figure size 432x288 with 1 Axes>"
            ]
          },
          "metadata": {
            "tags": [],
            "needs_background": "light"
          }
        }
      ]
    },
    {
      "cell_type": "code",
      "metadata": {
        "id": "kev6ZbUd9bQX",
        "colab_type": "code",
        "colab": {}
      },
      "source": [
        "# save model as json and yaml\n",
        "# json_string = model.to_json()\n",
        "# open('housing_Logistic_model.json', 'w').write(json_string)\n",
        "# yaml_string = model.to_yaml()\n",
        "# open('housing_Logistic_model.yaml', 'w').write(yaml_string)\n",
        "\n",
        "# # save the weights in h5 format\n",
        "# model.save_weights('housing_Logistic_wts.h5')\n",
        "\n",
        "# to read a saved model and weights\n",
        "# model = model_from_json(open('my_model_architecture.json').read())\n",
        "# model = model_from_yaml(open('my_model_architecture.yaml').read())\n",
        "# model.load_weights('my_model_weights.h5')"
      ],
      "execution_count": 0,
      "outputs": []
    }
  ]
}