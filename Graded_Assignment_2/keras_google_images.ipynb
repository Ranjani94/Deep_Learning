{
  "nbformat": 4,
  "nbformat_minor": 0,
  "metadata": {
    "colab": {
      "name": "keras_google_images.ipynb",
      "provenance": [],
      "authorship_tag": "ABX9TyPLr0dolYyppiRB4meUiy7l",
      "include_colab_link": true
    },
    "kernelspec": {
      "name": "python3",
      "display_name": "Python 3"
    },
    "accelerator": "TPU"
  },
  "cells": [
    {
      "cell_type": "markdown",
      "metadata": {
        "id": "view-in-github",
        "colab_type": "text"
      },
      "source": [
        "<a href=\"https://colab.research.google.com/github/Ranjani94/Deep_Learning/blob/master/Assignment2/keras_google_images.ipynb\" target=\"_parent\"><img src=\"https://colab.research.google.com/assets/colab-badge.svg\" alt=\"Open In Colab\"/></a>"
      ]
    },
    {
      "cell_type": "markdown",
      "metadata": {
        "id": "qMBOZQO9ndD8",
        "colab_type": "text"
      },
      "source": [
        "#Download your own dataset from google images, preprocess and classify using CNN and keras\n",
        "\n",
        "\n",
        "urls=Array.from(document.querySelectorAll('.rg_i')).map(el=> el.hasAttribute('data-src')?el.getAttribute('data-src'):el.getAttribute('data-iurl'));\n",
        "window.open('data:text/csv;charset=utf-8,' + escape(urls.join('\\n')));\n",
        "\n",
        "\n",
        "\n",
        "Use these code snippets to download csv file which cotains the url of images from Google Image..."
      ]
    },
    {
      "cell_type": "code",
      "metadata": {
        "id": "1jxMAcPwuytq",
        "colab_type": "code",
        "colab": {
          "base_uri": "https://localhost:8080/",
          "height": 34
        },
        "outputId": "542f49f8-50ae-4346-c20e-7cd979866248"
      },
      "source": [
        "from google.colab import drive\n",
        "drive.mount('/content/gdrive', force_remount=True)\n",
        "root_dir = \"/content/gdrive/My Drive/\"\n",
        "base_dir = root_dir + 'Deep_Learning/'"
      ],
      "execution_count": 96,
      "outputs": [
        {
          "output_type": "stream",
          "text": [
            "Mounted at /content/gdrive\n"
          ],
          "name": "stdout"
        }
      ]
    },
    {
      "cell_type": "code",
      "metadata": {
        "id": "0HC3LJzjBYZe",
        "colab_type": "code",
        "colab": {
          "base_uri": "https://localhost:8080/",
          "height": 34
        },
        "outputId": "de015fde-bfb2-4e22-b5f2-f1f0c4e1f2eb"
      },
      "source": [
        "from __future__ import absolute_import, division, print_function, unicode_literals\n",
        "\n",
        "# TensorFlow and tf.keras\n",
        "import tensorflow as tf\n",
        "from tensorflow import keras\n",
        "\n",
        "from tensorflow.keras.models import Sequential\n",
        "from keras.utils.np_utils import to_categorical\n",
        "from tensorflow.keras.layers import Dense, Conv2D, Flatten, Dropout, MaxPool2D\n",
        "from keras.optimizers import RMSprop,Adam\n",
        "from tensorflow.keras.preprocessing.image import ImageDataGenerator\n",
        "from keras.regularizers import L1L2\n",
        "from keras.callbacks import ReduceLROnPlateau\n",
        "\n",
        "from sklearn.preprocessing import StandardScaler\n",
        "from sklearn.model_selection import train_test_split\n",
        "from sklearn.datasets import fetch_california_housing\n",
        "from sklearn.metrics import confusion_matrix\n",
        "import itertools\n",
        "\n",
        "\n",
        "import os\n",
        "import numpy as np\n",
        "import pandas as pd\n",
        "import matplotlib.pyplot as plt\n",
        "import seaborn as sns\n",
        "import glob\n",
        "import cv2\n",
        "\n",
        "print(tf.__version__)\n"
      ],
      "execution_count": 115,
      "outputs": [
        {
          "output_type": "stream",
          "text": [
            "2.2.0-rc3\n"
          ],
          "name": "stdout"
        }
      ]
    },
    {
      "cell_type": "code",
      "metadata": {
        "id": "grQj9lYpaFsi",
        "colab_type": "code",
        "colab": {
          "base_uri": "https://localhost:8080/",
          "height": 51
        },
        "outputId": "de21962a-c49a-4ca5-fa73-8d7dbb32fbbb"
      },
      "source": [
        "pip install opencv-python"
      ],
      "execution_count": 93,
      "outputs": [
        {
          "output_type": "stream",
          "text": [
            "Requirement already satisfied: opencv-python in /usr/local/lib/python3.6/dist-packages (4.1.2.30)\n",
            "Requirement already satisfied: numpy>=1.11.3 in /usr/local/lib/python3.6/dist-packages (from opencv-python) (1.18.2)\n"
          ],
          "name": "stdout"
        }
      ]
    },
    {
      "cell_type": "code",
      "metadata": {
        "id": "1bTV011JaFv3",
        "colab_type": "code",
        "colab": {
          "base_uri": "https://localhost:8080/",
          "height": 102
        },
        "outputId": "a54bb0ee-52b2-4933-9fef-8296b86a0b9c"
      },
      "source": [
        "pip install requests"
      ],
      "execution_count": 11,
      "outputs": [
        {
          "output_type": "stream",
          "text": [
            "Requirement already satisfied: requests in /usr/local/lib/python3.6/dist-packages (2.21.0)\n",
            "Requirement already satisfied: urllib3<1.25,>=1.21.1 in /usr/local/lib/python3.6/dist-packages (from requests) (1.24.3)\n",
            "Requirement already satisfied: certifi>=2017.4.17 in /usr/local/lib/python3.6/dist-packages (from requests) (2020.4.5.1)\n",
            "Requirement already satisfied: idna<2.9,>=2.5 in /usr/local/lib/python3.6/dist-packages (from requests) (2.8)\n",
            "Requirement already satisfied: chardet<3.1.0,>=3.0.2 in /usr/local/lib/python3.6/dist-packages (from requests) (3.0.4)\n"
          ],
          "name": "stdout"
        }
      ]
    },
    {
      "cell_type": "markdown",
      "metadata": {
        "id": "PvEwYCtUoBL4",
        "colab_type": "text"
      },
      "source": [
        "###Download images from the URL....\n"
      ]
    },
    {
      "cell_type": "code",
      "metadata": {
        "id": "Oc827ev9aF2m",
        "colab_type": "code",
        "colab": {
          "base_uri": "https://localhost:8080/",
          "height": 1000
        },
        "outputId": "f553de7e-6cd9-4b32-c89b-8c19877a55c2"
      },
      "source": [
        "# import required packages\n",
        "import requests\n",
        "import cv2\n",
        "import os\n",
        " \n",
        "from imutils import paths\n",
        " \n",
        "url_path = open('/content/gdrive/My Drive/Deep_Learning/DL_dataset/airplane.csv').read().strip().split('\\n')\n",
        "total = 0\n",
        " \n",
        "if not os.path.exists('airplane'):\n",
        "    os.mkdir('airplane')\n",
        "image_path = 'airplane'\n",
        " \n",
        "for url in url_path:\n",
        "    try:\n",
        "        req = requests.get(url, timeout=60)\n",
        " \n",
        "        file_path = os.path.sep.join([image_path, '{}.jpg'.format(\n",
        "            str(total).zfill(6))]\n",
        "        )\n",
        "        file = open(file_path, 'wb')\n",
        "        file.write(req.content)\n",
        "        file.close()\n",
        " \n",
        "        print('Downloaded {}'.format(file_path))\n",
        "        total += 1\n",
        " \n",
        "    except:\n",
        "        print('Could not download {}. Downloading next file'.format(file_path))"
      ],
      "execution_count": 12,
      "outputs": [
        {
          "output_type": "stream",
          "text": [
            "Downloaded airplaneC/000000.jpg\n",
            "Downloaded airplaneC/000001.jpg\n",
            "Downloaded airplaneC/000002.jpg\n",
            "Downloaded airplaneC/000003.jpg\n",
            "Downloaded airplaneC/000004.jpg\n",
            "Downloaded airplaneC/000005.jpg\n",
            "Downloaded airplaneC/000006.jpg\n",
            "Downloaded airplaneC/000007.jpg\n",
            "Downloaded airplaneC/000008.jpg\n",
            "Downloaded airplaneC/000009.jpg\n",
            "Downloaded airplaneC/000010.jpg\n",
            "Downloaded airplaneC/000011.jpg\n",
            "Downloaded airplaneC/000012.jpg\n",
            "Downloaded airplaneC/000013.jpg\n",
            "Downloaded airplaneC/000014.jpg\n",
            "Downloaded airplaneC/000015.jpg\n",
            "Downloaded airplaneC/000016.jpg\n",
            "Downloaded airplaneC/000017.jpg\n",
            "Downloaded airplaneC/000018.jpg\n",
            "Downloaded airplaneC/000019.jpg\n",
            "Downloaded airplaneC/000020.jpg\n",
            "Downloaded airplaneC/000021.jpg\n",
            "Downloaded airplaneC/000022.jpg\n",
            "Downloaded airplaneC/000023.jpg\n",
            "Downloaded airplaneC/000024.jpg\n",
            "Downloaded airplaneC/000025.jpg\n",
            "Downloaded airplaneC/000026.jpg\n",
            "Downloaded airplaneC/000027.jpg\n",
            "Downloaded airplaneC/000028.jpg\n",
            "Downloaded airplaneC/000029.jpg\n",
            "Downloaded airplaneC/000030.jpg\n",
            "Downloaded airplaneC/000031.jpg\n",
            "Downloaded airplaneC/000032.jpg\n",
            "Downloaded airplaneC/000033.jpg\n",
            "Downloaded airplaneC/000034.jpg\n",
            "Downloaded airplaneC/000035.jpg\n",
            "Downloaded airplaneC/000036.jpg\n",
            "Downloaded airplaneC/000037.jpg\n",
            "Downloaded airplaneC/000038.jpg\n",
            "Downloaded airplaneC/000039.jpg\n",
            "Downloaded airplaneC/000040.jpg\n",
            "Downloaded airplaneC/000041.jpg\n",
            "Downloaded airplaneC/000042.jpg\n",
            "Downloaded airplaneC/000043.jpg\n",
            "Downloaded airplaneC/000044.jpg\n",
            "Downloaded airplaneC/000045.jpg\n",
            "Downloaded airplaneC/000046.jpg\n",
            "Downloaded airplaneC/000047.jpg\n",
            "Downloaded airplaneC/000048.jpg\n",
            "Downloaded airplaneC/000049.jpg\n",
            "Downloaded airplaneC/000050.jpg\n",
            "Downloaded airplaneC/000051.jpg\n",
            "Downloaded airplaneC/000052.jpg\n",
            "Downloaded airplaneC/000053.jpg\n",
            "Downloaded airplaneC/000054.jpg\n",
            "Downloaded airplaneC/000055.jpg\n",
            "Downloaded airplaneC/000056.jpg\n",
            "Downloaded airplaneC/000057.jpg\n",
            "Downloaded airplaneC/000058.jpg\n",
            "Downloaded airplaneC/000059.jpg\n",
            "Downloaded airplaneC/000060.jpg\n",
            "Downloaded airplaneC/000061.jpg\n",
            "Downloaded airplaneC/000062.jpg\n",
            "Downloaded airplaneC/000063.jpg\n",
            "Downloaded airplaneC/000064.jpg\n",
            "Downloaded airplaneC/000065.jpg\n",
            "Downloaded airplaneC/000066.jpg\n",
            "Downloaded airplaneC/000067.jpg\n",
            "Downloaded airplaneC/000068.jpg\n",
            "Downloaded airplaneC/000069.jpg\n",
            "Downloaded airplaneC/000070.jpg\n",
            "Downloaded airplaneC/000071.jpg\n",
            "Downloaded airplaneC/000072.jpg\n",
            "Downloaded airplaneC/000073.jpg\n",
            "Downloaded airplaneC/000074.jpg\n",
            "Downloaded airplaneC/000075.jpg\n",
            "Downloaded airplaneC/000076.jpg\n",
            "Downloaded airplaneC/000077.jpg\n",
            "Downloaded airplaneC/000078.jpg\n",
            "Downloaded airplaneC/000079.jpg\n",
            "Could not download airplaneC/000079.jpg. Downloading next file\n",
            "Could not download airplaneC/000079.jpg. Downloading next file\n",
            "Could not download airplaneC/000079.jpg. Downloading next file\n",
            "Could not download airplaneC/000079.jpg. Downloading next file\n",
            "Could not download airplaneC/000079.jpg. Downloading next file\n",
            "Could not download airplaneC/000079.jpg. Downloading next file\n",
            "Could not download airplaneC/000079.jpg. Downloading next file\n",
            "Could not download airplaneC/000079.jpg. Downloading next file\n",
            "Could not download airplaneC/000079.jpg. Downloading next file\n",
            "Could not download airplaneC/000079.jpg. Downloading next file\n",
            "Could not download airplaneC/000079.jpg. Downloading next file\n",
            "Could not download airplaneC/000079.jpg. Downloading next file\n",
            "Could not download airplaneC/000079.jpg. Downloading next file\n",
            "Could not download airplaneC/000079.jpg. Downloading next file\n",
            "Could not download airplaneC/000079.jpg. Downloading next file\n",
            "Could not download airplaneC/000079.jpg. Downloading next file\n",
            "Could not download airplaneC/000079.jpg. Downloading next file\n",
            "Could not download airplaneC/000079.jpg. Downloading next file\n",
            "Could not download airplaneC/000079.jpg. Downloading next file\n",
            "Could not download airplaneC/000079.jpg. Downloading next file\n",
            "Downloaded airplaneC/000080.jpg\n",
            "Downloaded airplaneC/000081.jpg\n",
            "Downloaded airplaneC/000082.jpg\n",
            "Downloaded airplaneC/000083.jpg\n",
            "Downloaded airplaneC/000084.jpg\n",
            "Downloaded airplaneC/000085.jpg\n",
            "Downloaded airplaneC/000086.jpg\n",
            "Downloaded airplaneC/000087.jpg\n",
            "Downloaded airplaneC/000088.jpg\n",
            "Downloaded airplaneC/000089.jpg\n",
            "Downloaded airplaneC/000090.jpg\n",
            "Downloaded airplaneC/000091.jpg\n",
            "Downloaded airplaneC/000092.jpg\n",
            "Downloaded airplaneC/000093.jpg\n",
            "Downloaded airplaneC/000094.jpg\n",
            "Downloaded airplaneC/000095.jpg\n",
            "Downloaded airplaneC/000096.jpg\n",
            "Downloaded airplaneC/000097.jpg\n",
            "Downloaded airplaneC/000098.jpg\n",
            "Downloaded airplaneC/000099.jpg\n",
            "Downloaded airplaneC/000100.jpg\n",
            "Downloaded airplaneC/000101.jpg\n",
            "Downloaded airplaneC/000102.jpg\n",
            "Downloaded airplaneC/000103.jpg\n",
            "Downloaded airplaneC/000104.jpg\n",
            "Downloaded airplaneC/000105.jpg\n",
            "Downloaded airplaneC/000106.jpg\n",
            "Downloaded airplaneC/000107.jpg\n",
            "Downloaded airplaneC/000108.jpg\n",
            "Downloaded airplaneC/000109.jpg\n",
            "Downloaded airplaneC/000110.jpg\n",
            "Downloaded airplaneC/000111.jpg\n",
            "Downloaded airplaneC/000112.jpg\n",
            "Downloaded airplaneC/000113.jpg\n",
            "Downloaded airplaneC/000114.jpg\n",
            "Downloaded airplaneC/000115.jpg\n",
            "Downloaded airplaneC/000116.jpg\n",
            "Downloaded airplaneC/000117.jpg\n",
            "Downloaded airplaneC/000118.jpg\n",
            "Downloaded airplaneC/000119.jpg\n",
            "Downloaded airplaneC/000120.jpg\n",
            "Downloaded airplaneC/000121.jpg\n",
            "Downloaded airplaneC/000122.jpg\n",
            "Downloaded airplaneC/000123.jpg\n",
            "Downloaded airplaneC/000124.jpg\n",
            "Downloaded airplaneC/000125.jpg\n",
            "Downloaded airplaneC/000126.jpg\n",
            "Downloaded airplaneC/000127.jpg\n",
            "Downloaded airplaneC/000128.jpg\n",
            "Downloaded airplaneC/000129.jpg\n",
            "Downloaded airplaneC/000130.jpg\n",
            "Downloaded airplaneC/000131.jpg\n",
            "Downloaded airplaneC/000132.jpg\n",
            "Downloaded airplaneC/000133.jpg\n",
            "Downloaded airplaneC/000134.jpg\n",
            "Downloaded airplaneC/000135.jpg\n",
            "Downloaded airplaneC/000136.jpg\n",
            "Downloaded airplaneC/000137.jpg\n",
            "Downloaded airplaneC/000138.jpg\n",
            "Downloaded airplaneC/000139.jpg\n",
            "Downloaded airplaneC/000140.jpg\n",
            "Downloaded airplaneC/000141.jpg\n",
            "Downloaded airplaneC/000142.jpg\n",
            "Downloaded airplaneC/000143.jpg\n",
            "Downloaded airplaneC/000144.jpg\n",
            "Downloaded airplaneC/000145.jpg\n",
            "Downloaded airplaneC/000146.jpg\n",
            "Downloaded airplaneC/000147.jpg\n",
            "Downloaded airplaneC/000148.jpg\n",
            "Downloaded airplaneC/000149.jpg\n",
            "Downloaded airplaneC/000150.jpg\n",
            "Downloaded airplaneC/000151.jpg\n",
            "Downloaded airplaneC/000152.jpg\n",
            "Downloaded airplaneC/000153.jpg\n",
            "Downloaded airplaneC/000154.jpg\n",
            "Downloaded airplaneC/000155.jpg\n",
            "Downloaded airplaneC/000156.jpg\n",
            "Downloaded airplaneC/000157.jpg\n",
            "Downloaded airplaneC/000158.jpg\n",
            "Downloaded airplaneC/000159.jpg\n",
            "Could not download airplaneC/000159.jpg. Downloading next file\n",
            "Could not download airplaneC/000159.jpg. Downloading next file\n",
            "Could not download airplaneC/000159.jpg. Downloading next file\n",
            "Could not download airplaneC/000159.jpg. Downloading next file\n",
            "Could not download airplaneC/000159.jpg. Downloading next file\n",
            "Could not download airplaneC/000159.jpg. Downloading next file\n",
            "Could not download airplaneC/000159.jpg. Downloading next file\n",
            "Could not download airplaneC/000159.jpg. Downloading next file\n",
            "Could not download airplaneC/000159.jpg. Downloading next file\n",
            "Could not download airplaneC/000159.jpg. Downloading next file\n",
            "Could not download airplaneC/000159.jpg. Downloading next file\n",
            "Could not download airplaneC/000159.jpg. Downloading next file\n",
            "Could not download airplaneC/000159.jpg. Downloading next file\n",
            "Could not download airplaneC/000159.jpg. Downloading next file\n",
            "Could not download airplaneC/000159.jpg. Downloading next file\n",
            "Could not download airplaneC/000159.jpg. Downloading next file\n",
            "Could not download airplaneC/000159.jpg. Downloading next file\n",
            "Could not download airplaneC/000159.jpg. Downloading next file\n",
            "Could not download airplaneC/000159.jpg. Downloading next file\n",
            "Could not download airplaneC/000159.jpg. Downloading next file\n",
            "Downloaded airplaneC/000160.jpg\n",
            "Downloaded airplaneC/000161.jpg\n",
            "Downloaded airplaneC/000162.jpg\n",
            "Downloaded airplaneC/000163.jpg\n",
            "Downloaded airplaneC/000164.jpg\n",
            "Downloaded airplaneC/000165.jpg\n",
            "Downloaded airplaneC/000166.jpg\n",
            "Downloaded airplaneC/000167.jpg\n",
            "Downloaded airplaneC/000168.jpg\n",
            "Downloaded airplaneC/000169.jpg\n",
            "Downloaded airplaneC/000170.jpg\n",
            "Downloaded airplaneC/000171.jpg\n",
            "Downloaded airplaneC/000172.jpg\n",
            "Downloaded airplaneC/000173.jpg\n",
            "Downloaded airplaneC/000174.jpg\n",
            "Downloaded airplaneC/000175.jpg\n",
            "Downloaded airplaneC/000176.jpg\n",
            "Downloaded airplaneC/000177.jpg\n",
            "Downloaded airplaneC/000178.jpg\n",
            "Downloaded airplaneC/000179.jpg\n",
            "Downloaded airplaneC/000180.jpg\n",
            "Downloaded airplaneC/000181.jpg\n",
            "Downloaded airplaneC/000182.jpg\n",
            "Downloaded airplaneC/000183.jpg\n",
            "Downloaded airplaneC/000184.jpg\n",
            "Downloaded airplaneC/000185.jpg\n",
            "Downloaded airplaneC/000186.jpg\n",
            "Downloaded airplaneC/000187.jpg\n",
            "Downloaded airplaneC/000188.jpg\n",
            "Downloaded airplaneC/000189.jpg\n",
            "Downloaded airplaneC/000190.jpg\n",
            "Downloaded airplaneC/000191.jpg\n",
            "Downloaded airplaneC/000192.jpg\n",
            "Downloaded airplaneC/000193.jpg\n",
            "Downloaded airplaneC/000194.jpg\n",
            "Downloaded airplaneC/000195.jpg\n",
            "Downloaded airplaneC/000196.jpg\n",
            "Downloaded airplaneC/000197.jpg\n",
            "Downloaded airplaneC/000198.jpg\n",
            "Downloaded airplaneC/000199.jpg\n",
            "Downloaded airplaneC/000200.jpg\n",
            "Downloaded airplaneC/000201.jpg\n",
            "Downloaded airplaneC/000202.jpg\n",
            "Downloaded airplaneC/000203.jpg\n",
            "Downloaded airplaneC/000204.jpg\n",
            "Downloaded airplaneC/000205.jpg\n",
            "Downloaded airplaneC/000206.jpg\n",
            "Downloaded airplaneC/000207.jpg\n",
            "Downloaded airplaneC/000208.jpg\n",
            "Downloaded airplaneC/000209.jpg\n",
            "Downloaded airplaneC/000210.jpg\n",
            "Downloaded airplaneC/000211.jpg\n",
            "Downloaded airplaneC/000212.jpg\n",
            "Downloaded airplaneC/000213.jpg\n",
            "Downloaded airplaneC/000214.jpg\n",
            "Downloaded airplaneC/000215.jpg\n",
            "Downloaded airplaneC/000216.jpg\n",
            "Downloaded airplaneC/000217.jpg\n",
            "Downloaded airplaneC/000218.jpg\n",
            "Downloaded airplaneC/000219.jpg\n",
            "Downloaded airplaneC/000220.jpg\n",
            "Downloaded airplaneC/000221.jpg\n",
            "Downloaded airplaneC/000222.jpg\n",
            "Downloaded airplaneC/000223.jpg\n",
            "Downloaded airplaneC/000224.jpg\n",
            "Downloaded airplaneC/000225.jpg\n",
            "Downloaded airplaneC/000226.jpg\n",
            "Downloaded airplaneC/000227.jpg\n",
            "Downloaded airplaneC/000228.jpg\n",
            "Downloaded airplaneC/000229.jpg\n",
            "Downloaded airplaneC/000230.jpg\n",
            "Downloaded airplaneC/000231.jpg\n",
            "Downloaded airplaneC/000232.jpg\n",
            "Downloaded airplaneC/000233.jpg\n",
            "Downloaded airplaneC/000234.jpg\n",
            "Downloaded airplaneC/000235.jpg\n",
            "Downloaded airplaneC/000236.jpg\n",
            "Downloaded airplaneC/000237.jpg\n",
            "Downloaded airplaneC/000238.jpg\n",
            "Downloaded airplaneC/000239.jpg\n",
            "Could not download airplaneC/000239.jpg. Downloading next file\n",
            "Could not download airplaneC/000239.jpg. Downloading next file\n",
            "Could not download airplaneC/000239.jpg. Downloading next file\n",
            "Could not download airplaneC/000239.jpg. Downloading next file\n",
            "Could not download airplaneC/000239.jpg. Downloading next file\n",
            "Could not download airplaneC/000239.jpg. Downloading next file\n",
            "Could not download airplaneC/000239.jpg. Downloading next file\n",
            "Could not download airplaneC/000239.jpg. Downloading next file\n",
            "Could not download airplaneC/000239.jpg. Downloading next file\n",
            "Could not download airplaneC/000239.jpg. Downloading next file\n",
            "Could not download airplaneC/000239.jpg. Downloading next file\n",
            "Could not download airplaneC/000239.jpg. Downloading next file\n",
            "Could not download airplaneC/000239.jpg. Downloading next file\n",
            "Could not download airplaneC/000239.jpg. Downloading next file\n",
            "Could not download airplaneC/000239.jpg. Downloading next file\n",
            "Could not download airplaneC/000239.jpg. Downloading next file\n",
            "Could not download airplaneC/000239.jpg. Downloading next file\n",
            "Could not download airplaneC/000239.jpg. Downloading next file\n",
            "Could not download airplaneC/000239.jpg. Downloading next file\n",
            "Could not download airplaneC/000239.jpg. Downloading next file\n",
            "Downloaded airplaneC/000240.jpg\n",
            "Downloaded airplaneC/000241.jpg\n",
            "Downloaded airplaneC/000242.jpg\n",
            "Downloaded airplaneC/000243.jpg\n",
            "Downloaded airplaneC/000244.jpg\n",
            "Downloaded airplaneC/000245.jpg\n",
            "Downloaded airplaneC/000246.jpg\n",
            "Downloaded airplaneC/000247.jpg\n",
            "Downloaded airplaneC/000248.jpg\n",
            "Downloaded airplaneC/000249.jpg\n",
            "Downloaded airplaneC/000250.jpg\n",
            "Downloaded airplaneC/000251.jpg\n",
            "Downloaded airplaneC/000252.jpg\n",
            "Downloaded airplaneC/000253.jpg\n",
            "Downloaded airplaneC/000254.jpg\n",
            "Downloaded airplaneC/000255.jpg\n",
            "Downloaded airplaneC/000256.jpg\n",
            "Downloaded airplaneC/000257.jpg\n",
            "Downloaded airplaneC/000258.jpg\n",
            "Downloaded airplaneC/000259.jpg\n",
            "Downloaded airplaneC/000260.jpg\n",
            "Downloaded airplaneC/000261.jpg\n",
            "Downloaded airplaneC/000262.jpg\n",
            "Downloaded airplaneC/000263.jpg\n",
            "Downloaded airplaneC/000264.jpg\n",
            "Downloaded airplaneC/000265.jpg\n",
            "Downloaded airplaneC/000266.jpg\n",
            "Downloaded airplaneC/000267.jpg\n",
            "Downloaded airplaneC/000268.jpg\n",
            "Downloaded airplaneC/000269.jpg\n",
            "Downloaded airplaneC/000270.jpg\n",
            "Downloaded airplaneC/000271.jpg\n",
            "Downloaded airplaneC/000272.jpg\n",
            "Downloaded airplaneC/000273.jpg\n",
            "Downloaded airplaneC/000274.jpg\n",
            "Downloaded airplaneC/000275.jpg\n",
            "Downloaded airplaneC/000276.jpg\n",
            "Downloaded airplaneC/000277.jpg\n",
            "Downloaded airplaneC/000278.jpg\n",
            "Downloaded airplaneC/000279.jpg\n",
            "Downloaded airplaneC/000280.jpg\n",
            "Downloaded airplaneC/000281.jpg\n",
            "Downloaded airplaneC/000282.jpg\n",
            "Downloaded airplaneC/000283.jpg\n",
            "Downloaded airplaneC/000284.jpg\n",
            "Downloaded airplaneC/000285.jpg\n",
            "Downloaded airplaneC/000286.jpg\n",
            "Downloaded airplaneC/000287.jpg\n",
            "Downloaded airplaneC/000288.jpg\n",
            "Downloaded airplaneC/000289.jpg\n",
            "Downloaded airplaneC/000290.jpg\n",
            "Downloaded airplaneC/000291.jpg\n",
            "Downloaded airplaneC/000292.jpg\n",
            "Downloaded airplaneC/000293.jpg\n",
            "Downloaded airplaneC/000294.jpg\n",
            "Downloaded airplaneC/000295.jpg\n",
            "Downloaded airplaneC/000296.jpg\n",
            "Downloaded airplaneC/000297.jpg\n",
            "Downloaded airplaneC/000298.jpg\n",
            "Downloaded airplaneC/000299.jpg\n",
            "Downloaded airplaneC/000300.jpg\n",
            "Downloaded airplaneC/000301.jpg\n",
            "Downloaded airplaneC/000302.jpg\n",
            "Downloaded airplaneC/000303.jpg\n",
            "Downloaded airplaneC/000304.jpg\n",
            "Downloaded airplaneC/000305.jpg\n",
            "Downloaded airplaneC/000306.jpg\n",
            "Downloaded airplaneC/000307.jpg\n",
            "Downloaded airplaneC/000308.jpg\n",
            "Downloaded airplaneC/000309.jpg\n",
            "Downloaded airplaneC/000310.jpg\n",
            "Downloaded airplaneC/000311.jpg\n",
            "Downloaded airplaneC/000312.jpg\n",
            "Downloaded airplaneC/000313.jpg\n",
            "Downloaded airplaneC/000314.jpg\n",
            "Downloaded airplaneC/000315.jpg\n",
            "Downloaded airplaneC/000316.jpg\n",
            "Downloaded airplaneC/000317.jpg\n",
            "Downloaded airplaneC/000318.jpg\n",
            "Downloaded airplaneC/000319.jpg\n"
          ],
          "name": "stdout"
        }
      ]
    },
    {
      "cell_type": "code",
      "metadata": {
        "id": "HRNzPpnkaFvI",
        "colab_type": "code",
        "colab": {}
      },
      "source": [
        "# for imagePath in paths.list_images('airplane'):\n",
        "#     delete_image = False\n",
        " \n",
        "#     try:\n",
        "#         image = cv2.imread(imagePath)\n",
        " \n",
        "#         if image is None:\n",
        "#             delete_image = True\n",
        " \n",
        "#     # if OpenCV cannot load the image\n",
        "#     except:\n",
        "#         delete_image = True\n",
        " \n",
        "#     if delete_image:\n",
        "#         print('Deleting {}'.format(imagePath))\n",
        "#         os.remove(imagePath)"
      ],
      "execution_count": 0,
      "outputs": []
    },
    {
      "cell_type": "markdown",
      "metadata": {
        "id": "e_owzUEaoPL9",
        "colab_type": "text"
      },
      "source": [
        "###Images are loaded in drive.."
      ]
    },
    {
      "cell_type": "code",
      "metadata": {
        "id": "RwG64AvSBYcW",
        "colab_type": "code",
        "colab": {}
      },
      "source": [
        "filepath = base_dir + '/DL_dataset/'"
      ],
      "execution_count": 0,
      "outputs": []
    },
    {
      "cell_type": "code",
      "metadata": {
        "id": "N8IXjcV9BYgc",
        "colab_type": "code",
        "colab": {}
      },
      "source": [
        "np.random.seed(1234)\n",
        "classes=[\"airplane\",\"boat\",\"car\",\"bus\",\"bike\",\"train\",\"rocket\"]\n",
        "\n",
        "all_arrays=[]\n",
        "img_size=100\n",
        "for i in classes:\n",
        "    path=os.path.join(filepath,i)\n",
        "    class_num=classes.index(i)\n",
        "    for img in os.listdir(path):\n",
        "        try:\n",
        "          img_array=cv2.imread(os.path.join(path,img),\n",
        "                              cv2.IMREAD_GRAYSCALE)\n",
        "          img_array=cv2.resize(img_array,(img_size,img_size))\n",
        "          all_arrays.append([img_array,class_num])\n",
        "          if img_array is None:\n",
        "              continue\n",
        " \n",
        "    # if OpenCV cannot load the image\n",
        "        except:\n",
        "            #delete_image = True\n",
        "            continue\n",
        "        if delete_image:\n",
        "          print('Deleting {}'.format(path))\n",
        "          os.remove(imagePath)\n",
        "        "
      ],
      "execution_count": 0,
      "outputs": []
    },
    {
      "cell_type": "code",
      "metadata": {
        "id": "-zqh1QbCBYj4",
        "colab_type": "code",
        "colab": {}
      },
      "source": [
        "automobile_array_train=[]\n",
        "for features,label in all_arrays:\n",
        "    automobile_array_train.append(features)"
      ],
      "execution_count": 0,
      "outputs": []
    },
    {
      "cell_type": "code",
      "metadata": {
        "id": "VV7flHzEBYnP",
        "colab_type": "code",
        "colab": {
          "base_uri": "https://localhost:8080/",
          "height": 339
        },
        "outputId": "19c02898-588c-4afb-ea37-8fafd7b3188a"
      },
      "source": [
        "location=[[1,500],[1150,1500]]\n",
        "automobile_names=[\"airplane\",\"boat\",\"bus\",\"bike\",\"car\",\"train\",\"rocket\"]\n",
        "a=0\n",
        "b=1\n",
        "c=2\n",
        "for i,j in location:\n",
        "    plt.subplots(figsize=(8,8))\n",
        "    plt.subplot(1,3,1)\n",
        "    plt.imshow(automobile_array_train[i])\n",
        "    plt.title(automobile_names[a])\n",
        "    plt.axis(\"off\")\n",
        "    plt.subplot(1,3,2)\n",
        "    plt.imshow(automobile_array_train[j])\n",
        "    plt.title(automobile_names[b])\n",
        "    plt.axis(\"off\")\n",
        "    a+=2\n",
        "    b+=2\n",
        "  "
      ],
      "execution_count": 101,
      "outputs": [
        {
          "output_type": "display_data",
          "data": {
            "image/png": "[encoded data removed]",
            "text/plain": [
              "<Figure size 576x576 with 2 Axes>"
            ]
          },
          "metadata": {
            "tags": [],
            "needs_background": "light"
          }
        },
        {
          "output_type": "display_data",
          "data": {
            "image/png": "[encoded data removed]",
            "text/plain": [
              "<Figure size 576x576 with 2 Axes>"
            ]
          },
          "metadata": {
            "tags": [],
            "needs_background": "light"
          }
        }
      ]
    },
    {
      "cell_type": "code",
      "metadata": {
        "id": "RFmRL7-pBYqa",
        "colab_type": "code",
        "colab": {}
      },
      "source": [
        "import random\n",
        "random.shuffle(all_arrays)\n",
        "\n",
        "X_train=[]\n",
        "Y_train=[]\n",
        "for features,label in all_arrays:\n",
        "    X_train.append(features)\n",
        "    Y_train.append(label)\n",
        "X_train=np.array(X_train) #arraying\n",
        "\n",
        "# import random\n",
        "# random.shuffle(all_arrays2)\n",
        "\n",
        "# X_test=[]\n",
        "# Y_test=[]\n",
        "# for features,label in all_arrays2:\n",
        "#     X_test.append(features)\n",
        "#     Y_test.append(label)\n",
        "# X_test=np.array(X_test) #arraying"
      ],
      "execution_count": 0,
      "outputs": []
    },
    {
      "cell_type": "code",
      "metadata": {
        "id": "bqQfa5IJmupc",
        "colab_type": "code",
        "colab": {
          "base_uri": "https://localhost:8080/",
          "height": 34
        },
        "outputId": "f4b2f73b-0178-483e-8962-ca02ace4da57"
      },
      "source": [
        "#normalization and reshaping\n",
        "X_train=X_train.reshape(-1,img_size,img_size,1)\n",
        "X_train=X_train/255\n",
        "# X_test=X_test.reshape(-1,img_size,img_size,1)\n",
        "# X_test=X_test/255\n",
        "print(\"shape of X_train= \",X_train.shape)\n",
        "# print(\"shape of X_test=  \",X_test.shape)"
      ],
      "execution_count": 103,
      "outputs": [
        {
          "output_type": "stream",
          "text": [
            "shape of X_train=  (2239, 100, 100, 1)\n"
          ],
          "name": "stdout"
        }
      ]
    },
    {
      "cell_type": "code",
      "metadata": {
        "id": "dThljj34BYtF",
        "colab_type": "code",
        "colab": {}
      },
      "source": [
        "from keras.utils import to_categorical\n",
        "Y_train=to_categorical(Y_train,num_classes=7)\n",
        "# Y_test=to_categorical(Y_test,num_classes=9)"
      ],
      "execution_count": 0,
      "outputs": []
    },
    {
      "cell_type": "code",
      "metadata": {
        "id": "sWthxzXiBYwH",
        "colab_type": "code",
        "colab": {}
      },
      "source": [
        "x_train,x_val,y_train,y_val=train_test_split(X_train,Y_train,test_size=0.2,random_state=42)"
      ],
      "execution_count": 0,
      "outputs": []
    },
    {
      "cell_type": "code",
      "metadata": {
        "id": "UCAlYNVPBYzV",
        "colab_type": "code",
        "colab": {
          "base_uri": "https://localhost:8080/",
          "height": 34
        },
        "outputId": "112363b7-8558-4499-f8d4-4fc48ef6fb6c"
      },
      "source": [
        "x_train.shape"
      ],
      "execution_count": 106,
      "outputs": [
        {
          "output_type": "execute_result",
          "data": {
            "text/plain": [
              "(1791, 100, 100, 1)"
            ]
          },
          "metadata": {
            "tags": []
          },
          "execution_count": 106
        }
      ]
    },
    {
      "cell_type": "code",
      "metadata": {
        "id": "3Ii-KSZaBY1V",
        "colab_type": "code",
        "colab": {
          "base_uri": "https://localhost:8080/",
          "height": 34
        },
        "outputId": "a960f8be-3dab-451e-cecc-ba278d35c87c"
      },
      "source": [
        "x_val.shape"
      ],
      "execution_count": 107,
      "outputs": [
        {
          "output_type": "execute_result",
          "data": {
            "text/plain": [
              "(448, 100, 100, 1)"
            ]
          },
          "metadata": {
            "tags": []
          },
          "execution_count": 107
        }
      ]
    },
    {
      "cell_type": "code",
      "metadata": {
        "id": "LIyLrroZBY3q",
        "colab_type": "code",
        "colab": {
          "base_uri": "https://localhost:8080/",
          "height": 34
        },
        "outputId": "bc789b8f-5ce6-48d9-e83e-3faaee898cca"
      },
      "source": [
        "y_train.shape"
      ],
      "execution_count": 108,
      "outputs": [
        {
          "output_type": "execute_result",
          "data": {
            "text/plain": [
              "(1791, 7)"
            ]
          },
          "metadata": {
            "tags": []
          },
          "execution_count": 108
        }
      ]
    },
    {
      "cell_type": "code",
      "metadata": {
        "id": "tzTITBQxBY5t",
        "colab_type": "code",
        "colab": {
          "base_uri": "https://localhost:8080/",
          "height": 34
        },
        "outputId": "0ac1022a-078c-42b2-856c-a33cc1623f7e"
      },
      "source": [
        "y_val.shape"
      ],
      "execution_count": 109,
      "outputs": [
        {
          "output_type": "execute_result",
          "data": {
            "text/plain": [
              "(448, 7)"
            ]
          },
          "metadata": {
            "tags": []
          },
          "execution_count": 109
        }
      ]
    },
    {
      "cell_type": "markdown",
      "metadata": {
        "id": "bkFCGwjyK5pS",
        "colab_type": "text"
      },
      "source": [
        "###Building a model using CNN"
      ]
    },
    {
      "cell_type": "code",
      "metadata": {
        "id": "zovuGwoGBY7l",
        "colab_type": "code",
        "colab": {}
      },
      "source": [
        "from keras.layers.normalization import BatchNormalization\n",
        "model=Sequential()\n",
        "model.add(Conv2D(filters=8,kernel_size=(5,5),padding=\"Same\",activation=\"relu\",input_shape=(100,100,1)))\n",
        "model.add(MaxPool2D(pool_size=(2,2)))\n",
        "model.add(tf.keras.layers.BatchNormalization())\n",
        "model.add(Dropout(0.25))\n",
        "\n",
        "model.add(Conv2D(filters=16,kernel_size=(4,4),padding=\"Same\",activation=\"relu\"))\n",
        "model.add(MaxPool2D(pool_size=(2,2),strides=(2,2)))\n",
        "model.add(tf.keras.layers.BatchNormalization())\n",
        "model.add(Dropout(0.25))\n",
        "\n",
        "model.add(Conv2D(filters=32,kernel_size=(4,4),padding=\"Same\",activation=\"relu\"))\n",
        "model.add(MaxPool2D(pool_size=(2,2),strides=(2,2)))\n",
        "model.add(tf.keras.layers.BatchNormalization())\n",
        "model.add(Dropout(0.25))\n",
        "model.add(Flatten())\n",
        "model.add(Dense(512,activation=\"relu\"))\n",
        "model.add(Dropout(0.5))\n",
        "model.add(Dense(7,activation=\"softmax\"))\n",
        "#defining optimizer\n",
        "optimizer=Adam(lr=0.001,beta_1=0.9,beta_2=0.999)\n",
        "#compile the model\n",
        "model.compile(optimizer='adam',loss=\"categorical_crossentropy\",metrics=[\"accuracy\"])\n",
        "\n",
        "epochs=20\n",
        "batch_size=36"
      ],
      "execution_count": 0,
      "outputs": []
    },
    {
      "cell_type": "code",
      "metadata": {
        "id": "ixqlcmoWBY9M",
        "colab_type": "code",
        "colab": {
          "base_uri": "https://localhost:8080/",
          "height": 697
        },
        "outputId": "7b600070-6a0a-4166-c9ad-739abde105e0"
      },
      "source": [
        "model.summary()"
      ],
      "execution_count": 125,
      "outputs": [
        {
          "output_type": "stream",
          "text": [
            "Model: \"sequential_19\"\n",
            "_________________________________________________________________\n",
            "Layer (type)                 Output Shape              Param #   \n",
            "=================================================================\n",
            "conv2d_26 (Conv2D)           (None, 100, 100, 8)       208       \n",
            "_________________________________________________________________\n",
            "max_pooling2d_25 (MaxPooling (None, 50, 50, 8)         0         \n",
            "_________________________________________________________________\n",
            "batch_normalization_4 (Batch (None, 50, 50, 8)         32        \n",
            "_________________________________________________________________\n",
            "dropout_21 (Dropout)         (None, 50, 50, 8)         0         \n",
            "_________________________________________________________________\n",
            "conv2d_27 (Conv2D)           (None, 50, 50, 16)        2064      \n",
            "_________________________________________________________________\n",
            "max_pooling2d_26 (MaxPooling (None, 25, 25, 16)        0         \n",
            "_________________________________________________________________\n",
            "batch_normalization_5 (Batch (None, 25, 25, 16)        64        \n",
            "_________________________________________________________________\n",
            "dropout_22 (Dropout)         (None, 25, 25, 16)        0         \n",
            "_________________________________________________________________\n",
            "conv2d_28 (Conv2D)           (None, 25, 25, 32)        8224      \n",
            "_________________________________________________________________\n",
            "max_pooling2d_27 (MaxPooling (None, 12, 12, 32)        0         \n",
            "_________________________________________________________________\n",
            "batch_normalization_6 (Batch (None, 12, 12, 32)        128       \n",
            "_________________________________________________________________\n",
            "dropout_23 (Dropout)         (None, 12, 12, 32)        0         \n",
            "_________________________________________________________________\n",
            "flatten_5 (Flatten)          (None, 4608)              0         \n",
            "_________________________________________________________________\n",
            "dense_10 (Dense)             (None, 512)               2359808   \n",
            "_________________________________________________________________\n",
            "dropout_24 (Dropout)         (None, 512)               0         \n",
            "_________________________________________________________________\n",
            "dense_11 (Dense)             (None, 7)                 3591      \n",
            "=================================================================\n",
            "Total params: 2,374,119\n",
            "Trainable params: 2,374,007\n",
            "Non-trainable params: 112\n",
            "_________________________________________________________________\n"
          ],
          "name": "stdout"
        }
      ]
    },
    {
      "cell_type": "markdown",
      "metadata": {
        "id": "JyhIZPMuK-cW",
        "colab_type": "text"
      },
      "source": [
        "###Data Augmentation"
      ]
    },
    {
      "cell_type": "code",
      "metadata": {
        "id": "OFHMlzAdnJ9L",
        "colab_type": "code",
        "colab": {}
      },
      "source": [
        "# datagen=ImageDataGenerator(featurewise_center=False, #set input mean to 0\n",
        "#                            samplewise_center=False,  #set each sample mean to 0\n",
        "#                            featurewise_std_normalization=False, #divide input datas to std\n",
        "#                            samplewise_std_normalization=False,  #divide each datas to own std\n",
        "#                            zca_whitening=False,  #dimension reduction\n",
        "#                            rotation_range=0.5,    #rotate 5 degree\n",
        "#                            zoom_range=0.5,        #zoom in-out 5%\n",
        "#                            width_shift_range=0.5, #shift 5%\n",
        "#                            height_shift_range=0.5,\n",
        "#                            horizontal_flip=False,  #randomly flip images\n",
        "#                            vertical_flip=False,\n",
        "#                            )\n",
        "# datagen.fit(x_train)"
      ],
      "execution_count": 0,
      "outputs": []
    },
    {
      "cell_type": "code",
      "metadata": {
        "id": "_tU0D0IhnLPz",
        "colab_type": "code",
        "colab": {}
      },
      "source": [
        "# #model fitting\n",
        "# history=model.fit_generator(datagen.flow(x_train,y_train,batch_size=batch_size),epochs=epochs,\n",
        "#                             validation_data=(x_val,y_val),steps_per_epoch=x_train.shape[0]//batch_size\n",
        "#                            )"
      ],
      "execution_count": 0,
      "outputs": []
    },
    {
      "cell_type": "code",
      "metadata": {
        "id": "8F1ms7I5IOT2",
        "colab_type": "code",
        "colab": {
          "base_uri": "https://localhost:8080/",
          "height": 1000
        },
        "outputId": "5645a4dc-4298-4b1a-dac5-c82a70c4b1c1"
      },
      "source": [
        "history = model.fit(x_train, y_train, batch_size = 10, epochs = 30, verbose = 1, validation_data=(x_val, y_val))"
      ],
      "execution_count": 133,
      "outputs": [
        {
          "output_type": "stream",
          "text": [
            "Epoch 1/30\n",
            "180/180 [==============================] - 21s 115ms/step - loss: 1.0421 - accuracy: 0.6460 - val_loss: 2.2879 - val_accuracy: 0.3482\n",
            "Epoch 2/30\n",
            "180/180 [==============================] - 20s 112ms/step - loss: 0.8714 - accuracy: 0.6868 - val_loss: 1.3823 - val_accuracy: 0.5915\n",
            "Epoch 3/30\n",
            "180/180 [==============================] - 20s 112ms/step - loss: 0.7667 - accuracy: 0.7264 - val_loss: 1.5436 - val_accuracy: 0.5938\n",
            "Epoch 4/30\n",
            "180/180 [==============================] - 21s 114ms/step - loss: 0.6018 - accuracy: 0.7929 - val_loss: 1.5277 - val_accuracy: 0.5647\n",
            "Epoch 5/30\n",
            "180/180 [==============================] - 21s 115ms/step - loss: 0.5369 - accuracy: 0.8157 - val_loss: 1.4981 - val_accuracy: 0.5446\n",
            "Epoch 6/30\n",
            "180/180 [==============================] - 21s 115ms/step - loss: 0.4767 - accuracy: 0.8398 - val_loss: 1.8847 - val_accuracy: 0.5558\n",
            "Epoch 7/30\n",
            "180/180 [==============================] - 21s 114ms/step - loss: 0.4526 - accuracy: 0.8386 - val_loss: 1.2787 - val_accuracy: 0.6473\n",
            "Epoch 8/30\n",
            "180/180 [==============================] - 20s 113ms/step - loss: 0.4415 - accuracy: 0.8576 - val_loss: 1.5431 - val_accuracy: 0.6429\n",
            "Epoch 9/30\n",
            "180/180 [==============================] - 20s 113ms/step - loss: 0.3519 - accuracy: 0.8671 - val_loss: 1.8202 - val_accuracy: 0.6429\n",
            "Epoch 10/30\n",
            "180/180 [==============================] - 21s 114ms/step - loss: 0.3533 - accuracy: 0.8917 - val_loss: 3.8643 - val_accuracy: 0.4018\n",
            "Epoch 11/30\n",
            "180/180 [==============================] - 20s 113ms/step - loss: 0.3975 - accuracy: 0.8749 - val_loss: 1.6723 - val_accuracy: 0.6116\n",
            "Epoch 12/30\n",
            "180/180 [==============================] - 20s 113ms/step - loss: 0.3576 - accuracy: 0.8850 - val_loss: 2.1299 - val_accuracy: 0.6027\n",
            "Epoch 13/30\n",
            "180/180 [==============================] - 21s 115ms/step - loss: 0.3263 - accuracy: 0.8978 - val_loss: 1.3548 - val_accuracy: 0.6808\n",
            "Epoch 14/30\n",
            "180/180 [==============================] - 20s 113ms/step - loss: 0.2703 - accuracy: 0.9146 - val_loss: 1.4153 - val_accuracy: 0.6562\n",
            "Epoch 15/30\n",
            "180/180 [==============================] - 20s 113ms/step - loss: 0.1975 - accuracy: 0.9324 - val_loss: 1.7459 - val_accuracy: 0.5938\n",
            "Epoch 16/30\n",
            "180/180 [==============================] - 20s 114ms/step - loss: 0.1939 - accuracy: 0.9347 - val_loss: 1.6231 - val_accuracy: 0.6384\n",
            "Epoch 17/30\n",
            "180/180 [==============================] - 20s 113ms/step - loss: 0.2290 - accuracy: 0.9274 - val_loss: 2.2725 - val_accuracy: 0.5737\n",
            "Epoch 18/30\n",
            "180/180 [==============================] - 21s 114ms/step - loss: 0.1858 - accuracy: 0.9324 - val_loss: 4.5126 - val_accuracy: 0.4643\n",
            "Epoch 19/30\n",
            "180/180 [==============================] - 21s 116ms/step - loss: 0.1975 - accuracy: 0.9358 - val_loss: 1.7152 - val_accuracy: 0.5781\n",
            "Epoch 20/30\n",
            "180/180 [==============================] - 21s 115ms/step - loss: 0.2402 - accuracy: 0.9263 - val_loss: 1.9670 - val_accuracy: 0.6540\n",
            "Epoch 21/30\n",
            "180/180 [==============================] - 21s 115ms/step - loss: 0.2407 - accuracy: 0.9330 - val_loss: 1.7890 - val_accuracy: 0.5915\n",
            "Epoch 22/30\n",
            "180/180 [==============================] - 21s 114ms/step - loss: 0.1897 - accuracy: 0.9391 - val_loss: 1.8572 - val_accuracy: 0.6429\n",
            "Epoch 23/30\n",
            "180/180 [==============================] - 20s 114ms/step - loss: 0.1864 - accuracy: 0.9403 - val_loss: 2.0572 - val_accuracy: 0.6027\n",
            "Epoch 24/30\n",
            "180/180 [==============================] - 20s 113ms/step - loss: 0.2076 - accuracy: 0.9380 - val_loss: 1.9734 - val_accuracy: 0.6406\n",
            "Epoch 25/30\n",
            "180/180 [==============================] - 21s 117ms/step - loss: 0.1886 - accuracy: 0.9369 - val_loss: 2.3865 - val_accuracy: 0.5223\n",
            "Epoch 26/30\n",
            "180/180 [==============================] - 20s 113ms/step - loss: 0.1716 - accuracy: 0.9447 - val_loss: 2.2966 - val_accuracy: 0.5982\n",
            "Epoch 27/30\n",
            "180/180 [==============================] - 21s 114ms/step - loss: 0.1629 - accuracy: 0.9492 - val_loss: 2.2502 - val_accuracy: 0.5692\n",
            "Epoch 28/30\n",
            "180/180 [==============================] - 21s 115ms/step - loss: 0.1593 - accuracy: 0.9425 - val_loss: 2.4794 - val_accuracy: 0.5491\n",
            "Epoch 29/30\n",
            "180/180 [==============================] - 21s 114ms/step - loss: 0.1582 - accuracy: 0.9509 - val_loss: 1.9529 - val_accuracy: 0.6362\n",
            "Epoch 30/30\n",
            "180/180 [==============================] - 25s 141ms/step - loss: 0.1385 - accuracy: 0.9598 - val_loss: 2.1576 - val_accuracy: 0.6384\n"
          ],
          "name": "stdout"
        }
      ]
    },
    {
      "cell_type": "markdown",
      "metadata": {
        "id": "Z_eAtVVfLXGr",
        "colab_type": "text"
      },
      "source": [
        "We have got accuracy of 96%"
      ]
    },
    {
      "cell_type": "code",
      "metadata": {
        "id": "I1DVncNYnQXT",
        "colab_type": "code",
        "colab": {
          "base_uri": "https://localhost:8080/",
          "height": 295
        },
        "outputId": "3edb3c01-07e9-4aa8-f00d-c53d6cb7c429"
      },
      "source": [
        "plt.plot(history.history[\"val_accuracy\"],color=\"r\",label=\"val_accuracy\")\n",
        "plt.title(\"Accuracy Graph\")\n",
        "plt.xlabel(\"number of epochs\")\n",
        "plt.ylabel(\"accuracy\")\n",
        "plt.legend()\n",
        "plt.grid()\n",
        "plt.show()"
      ],
      "execution_count": 134,
      "outputs": [
        {
          "output_type": "display_data",
          "data": {
            "image/png": "[encoded data removed]",
            "text/plain": [
              "<Figure size 432x288 with 1 Axes>"
            ]
          },
          "metadata": {
            "tags": [],
            "needs_background": "light"
          }
        }
      ]
    },
    {
      "cell_type": "code",
      "metadata": {
        "id": "1-GC5RSuoohO",
        "colab_type": "code",
        "colab": {
          "base_uri": "https://localhost:8080/",
          "height": 537
        },
        "outputId": "75e79526-a5cc-445c-c27c-6af58d50c12e"
      },
      "source": [
        "#confusion matrix\n",
        "y_pred=model.predict(x_val)\n",
        "y_pred_classes=np.argmax(y_pred,axis=1)\n",
        "y_true=np.argmax(y_val,axis=1)\n",
        "#compute conf mat\n",
        "conf_mat=confusion_matrix(y_true,y_pred_classes)\n",
        "#plot the con mat\n",
        "fruit_names=[\"airplane\",\"boat\",\"car\",\"bus\",\"bike\",\"train\",\"rocket\"]\n",
        "f,ax=plt.subplots(figsize=(10,9))\n",
        "sns.heatmap(conf_mat,annot=True,fmt='.0f')\n",
        "ax.set_xticklabels(fruit_names)\n",
        "ax.set_yticklabels(fruit_names)\n",
        "plt.show()"
      ],
      "execution_count": 135,
      "outputs": [
        {
          "output_type": "display_data",
          "data": {
            "image/png": "[encoded data removed]",
            "text/plain": [
              "<Figure size 720x648 with 2 Axes>"
            ]
          },
          "metadata": {
            "tags": [],
            "needs_background": "light"
          }
        }
      ]
    }
  ]
}