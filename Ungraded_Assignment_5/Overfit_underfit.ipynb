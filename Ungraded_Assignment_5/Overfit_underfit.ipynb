{
  "nbformat": 4,
  "nbformat_minor": 0,
  "metadata": {
    "colab": {
      "name": "Overfit_underfit.ipynb",
      "provenance": [],
      "authorship_tag": "ABX9TyNDuiV3vGINlvsY1KGvt8bs",
      "include_colab_link": true
    },
    "kernelspec": {
      "name": "python3",
      "display_name": "Python 3"
    },
    "accelerator": "GPU"
  },
  "cells": [
    {
      "cell_type": "markdown",
      "metadata": {
        "id": "view-in-github",
        "colab_type": "text"
      },
      "source": [
        "<a href=\"https://colab.research.google.com/github/Ranjani94/Deep_Learning/blob/master/Ungraded_Assignment_5/Overfit_underfit.ipynb\" target=\"_parent\"><img src=\"https://colab.research.google.com/assets/colab-badge.svg\" alt=\"Open In Colab\"/></a>"
      ]
    },
    {
      "cell_type": "markdown",
      "metadata": {
        "id": "M95rQqpJezQn",
        "colab_type": "text"
      },
      "source": [
        "###Explaining Overfitting and Underfitting using Tensorflow"
      ]
    },
    {
      "cell_type": "code",
      "metadata": {
        "id": "f3m1_Z9DewSD",
        "colab_type": "code",
        "colab": {
          "base_uri": "https://localhost:8080/",
          "height": 34
        },
        "outputId": "075ab748-ecac-4600-f0fd-6b5e094fb702"
      },
      "source": [
        "import tensorflow as tf\n",
        "\n",
        "from tensorflow.keras import layers\n",
        "from tensorflow.keras import regularizers\n",
        "\n",
        "print(tf.__version__)"
      ],
      "execution_count": 1,
      "outputs": [
        {
          "output_type": "stream",
          "text": [
            "2.2.0\n"
          ],
          "name": "stdout"
        }
      ]
    },
    {
      "cell_type": "code",
      "metadata": {
        "id": "3qfuoHIXe7p4",
        "colab_type": "code",
        "colab": {
          "base_uri": "https://localhost:8080/",
          "height": 34
        },
        "outputId": "2659ad81-5f17-4925-94f4-72ea538358ad"
      },
      "source": [
        "!pip install -q git+https://github.com/tensorflow/docs\n",
        "\n",
        "import tensorflow_docs as tfdocs\n",
        "import tensorflow_docs.modeling\n",
        "import tensorflow_docs.plots"
      ],
      "execution_count": 2,
      "outputs": [
        {
          "output_type": "stream",
          "text": [
            "  Building wheel for tensorflow-docs (setup.py) ... \u001b[?25l\u001b[?25hdone\n"
          ],
          "name": "stdout"
        }
      ]
    },
    {
      "cell_type": "code",
      "metadata": {
        "id": "ra2bLL2OfSBf",
        "colab_type": "code",
        "colab": {}
      },
      "source": [
        "from  IPython import display\n",
        "from matplotlib import pyplot as plt\n",
        "\n",
        "import numpy as np\n",
        "\n",
        "import pathlib\n",
        "import shutil\n",
        "import tempfile\n"
      ],
      "execution_count": 0,
      "outputs": []
    },
    {
      "cell_type": "code",
      "metadata": {
        "id": "jYlzrbvEfTaO",
        "colab_type": "code",
        "colab": {}
      },
      "source": [
        "logdir = pathlib.Path(tempfile.mkdtemp())/\"tensorboard_logs\"\n",
        "shutil.rmtree(logdir, ignore_errors=True)"
      ],
      "execution_count": 0,
      "outputs": []
    },
    {
      "cell_type": "code",
      "metadata": {
        "id": "S30v08ATfUjU",
        "colab_type": "code",
        "colab": {
          "base_uri": "https://localhost:8080/",
          "height": 51
        },
        "outputId": "052be565-7150-482c-9b5b-2e4be08282b1"
      },
      "source": [
        "gz = tf.keras.utils.get_file('HIGGS.csv.gz', 'http://mlphysics.ics.uci.edu/data/higgs/HIGGS.csv.gz')"
      ],
      "execution_count": 5,
      "outputs": [
        {
          "output_type": "stream",
          "text": [
            "Downloading data from http://mlphysics.ics.uci.edu/data/higgs/HIGGS.csv.gz\n",
            "2816409600/2816407858 [==============================] - 82s 0us/step\n"
          ],
          "name": "stdout"
        }
      ]
    },
    {
      "cell_type": "code",
      "metadata": {
        "id": "RY-02o35fV4_",
        "colab_type": "code",
        "colab": {}
      },
      "source": [
        "FEATURES = 28"
      ],
      "execution_count": 0,
      "outputs": []
    },
    {
      "cell_type": "code",
      "metadata": {
        "id": "mqgDlIu5fXWT",
        "colab_type": "code",
        "colab": {}
      },
      "source": [
        "ds = tf.data.experimental.CsvDataset(gz,[float(),]*(FEATURES+1), compression_type=\"GZIP\")"
      ],
      "execution_count": 0,
      "outputs": []
    },
    {
      "cell_type": "code",
      "metadata": {
        "id": "27YWPAKYfYfU",
        "colab_type": "code",
        "colab": {}
      },
      "source": [
        "def pack_row(*row):\n",
        "  label = row[0]\n",
        "  features = tf.stack(row[1:],1)\n",
        "  return features, label"
      ],
      "execution_count": 0,
      "outputs": []
    },
    {
      "cell_type": "code",
      "metadata": {
        "id": "90bXvfKmfZwU",
        "colab_type": "code",
        "colab": {}
      },
      "source": [
        "packed_ds = ds.batch(10000).map(pack_row).unbatch()"
      ],
      "execution_count": 0,
      "outputs": []
    },
    {
      "cell_type": "code",
      "metadata": {
        "id": "3hB0JJAkfbMX",
        "colab_type": "code",
        "colab": {
          "base_uri": "https://localhost:8080/",
          "height": 367
        },
        "outputId": "e49c14ec-e909-4200-a7ca-25a2630776a9"
      },
      "source": [
        "for features,label in packed_ds.batch(1000).take(1):\n",
        "  print(features[0])\n",
        "  plt.hist(features.numpy().flatten(), bins = 101)"
      ],
      "execution_count": 10,
      "outputs": [
        {
          "output_type": "stream",
          "text": [
            "tf.Tensor(\n",
            "[ 0.8692932  -0.6350818   0.22569026  0.32747006 -0.6899932   0.75420225\n",
            " -0.24857314 -1.0920639   0.          1.3749921  -0.6536742   0.9303491\n",
            "  1.1074361   1.1389043  -1.5781983  -1.0469854   0.          0.65792954\n",
            " -0.01045457 -0.04576717  3.1019614   1.35376     0.9795631   0.97807616\n",
            "  0.92000484  0.72165745  0.98875093  0.87667835], shape=(28,), dtype=float32)\n"
          ],
          "name": "stdout"
        },
        {
          "output_type": "display_data",
          "data": {
            "image/png": "[encoded data removed]",
            "text/plain": [
              "<Figure size 432x288 with 1 Axes>"
            ]
          },
          "metadata": {
            "tags": [],
            "needs_background": "light"
          }
        }
      ]
    },
    {
      "cell_type": "code",
      "metadata": {
        "id": "cLRJjqHFfe97",
        "colab_type": "code",
        "colab": {}
      },
      "source": [
        "N_VALIDATION = int(1e3)\n",
        "N_TRAIN = int(1e4)\n",
        "BUFFER_SIZE = int(1e4)\n",
        "BATCH_SIZE = 500\n",
        "STEPS_PER_EPOCH = N_TRAIN//BATCH_SIZE"
      ],
      "execution_count": 0,
      "outputs": []
    },
    {
      "cell_type": "code",
      "metadata": {
        "id": "PbYmFiA6fmze",
        "colab_type": "code",
        "colab": {}
      },
      "source": [
        "validate_ds = packed_ds.take(N_VALIDATION).cache()\n",
        "train_ds = packed_ds.skip(N_VALIDATION).take(N_TRAIN).cache()"
      ],
      "execution_count": 0,
      "outputs": []
    },
    {
      "cell_type": "code",
      "metadata": {
        "id": "XxMyATIyfn5H",
        "colab_type": "code",
        "colab": {
          "base_uri": "https://localhost:8080/",
          "height": 34
        },
        "outputId": "e2b98afd-5532-4c14-933c-d9d0b6e34bb4"
      },
      "source": [
        "train_ds"
      ],
      "execution_count": 13,
      "outputs": [
        {
          "output_type": "execute_result",
          "data": {
            "text/plain": [
              "<CacheDataset shapes: ((28,), ()), types: (tf.float32, tf.float32)>"
            ]
          },
          "metadata": {
            "tags": []
          },
          "execution_count": 13
        }
      ]
    },
    {
      "cell_type": "code",
      "metadata": {
        "id": "eeo0ZUtffo_G",
        "colab_type": "code",
        "colab": {}
      },
      "source": [
        "validate_ds = validate_ds.batch(BATCH_SIZE)\n",
        "train_ds = train_ds.shuffle(BUFFER_SIZE).repeat().batch(BATCH_SIZE)"
      ],
      "execution_count": 0,
      "outputs": []
    },
    {
      "cell_type": "code",
      "metadata": {
        "id": "0byr_HsGfqTm",
        "colab_type": "code",
        "colab": {}
      },
      "source": [
        "lr_schedule = tf.keras.optimizers.schedules.InverseTimeDecay(\n",
        "  0.001,\n",
        "  decay_steps=STEPS_PER_EPOCH*1000,\n",
        "  decay_rate=1,\n",
        "  staircase=False)\n",
        "\n",
        "def get_optimizer():\n",
        "  return tf.keras.optimizers.Adam(lr_schedule)"
      ],
      "execution_count": 0,
      "outputs": []
    },
    {
      "cell_type": "code",
      "metadata": {
        "id": "9VNBDEtvftHO",
        "colab_type": "code",
        "colab": {
          "base_uri": "https://localhost:8080/",
          "height": 388
        },
        "outputId": "c4ac7ad3-38bb-4e0a-e552-5bfbcd968548"
      },
      "source": [
        "step = np.linspace(0,100000)\n",
        "lr = lr_schedule(step)\n",
        "plt.figure(figsize = (8,6))\n",
        "plt.plot(step/STEPS_PER_EPOCH, lr)\n",
        "plt.ylim([0,max(plt.ylim())])\n",
        "plt.xlabel('Epoch')\n",
        "_ = plt.ylabel('Learning Rate')\n"
      ],
      "execution_count": 16,
      "outputs": [
        {
          "output_type": "display_data",
          "data": {
            "image/png": "[encoded data removed]",
            "text/plain": [
              "<Figure size 576x432 with 1 Axes>"
            ]
          },
          "metadata": {
            "tags": [],
            "needs_background": "light"
          }
        }
      ]
    },
    {
      "cell_type": "code",
      "metadata": {
        "id": "lYo50mS9fuIe",
        "colab_type": "code",
        "colab": {}
      },
      "source": [
        "def get_callbacks(name):\n",
        "  return [\n",
        "    tfdocs.modeling.EpochDots(),\n",
        "    tf.keras.callbacks.EarlyStopping(monitor='val_binary_crossentropy', patience=200),\n",
        "    tf.keras.callbacks.TensorBoard(logdir/name),\n",
        "  ]"
      ],
      "execution_count": 0,
      "outputs": []
    },
    {
      "cell_type": "code",
      "metadata": {
        "id": "u0-k2vjVfwDe",
        "colab_type": "code",
        "colab": {}
      },
      "source": [
        "def compile_and_fit(model, name, optimizer=None, max_epochs=2000):\n",
        "  if optimizer is None:\n",
        "    optimizer = get_optimizer()\n",
        "  model.compile(optimizer=optimizer,\n",
        "                loss=tf.keras.losses.BinaryCrossentropy(from_logits=True),\n",
        "                metrics=[\n",
        "                  tf.keras.losses.BinaryCrossentropy(\n",
        "                      from_logits=True, name='binary_crossentropy'),\n",
        "                  'accuracy'])\n",
        "\n",
        "  model.summary()\n",
        "\n",
        "  history = model.fit(\n",
        "    train_ds,\n",
        "    steps_per_epoch = STEPS_PER_EPOCH,\n",
        "    epochs=max_epochs,\n",
        "    validation_data=validate_ds,\n",
        "    callbacks=get_callbacks(name),\n",
        "    verbose=0)\n",
        "  return history"
      ],
      "execution_count": 0,
      "outputs": []
    },
    {
      "cell_type": "code",
      "metadata": {
        "id": "JwiMrEqpfxlp",
        "colab_type": "code",
        "colab": {}
      },
      "source": [
        "tiny_model = tf.keras.Sequential([\n",
        "    layers.Dense(16, activation='elu', input_shape=(FEATURES,)),\n",
        "    layers.Dense(1)\n",
        "])"
      ],
      "execution_count": 0,
      "outputs": []
    },
    {
      "cell_type": "code",
      "metadata": {
        "id": "onMk3IWvfzv2",
        "colab_type": "code",
        "colab": {}
      },
      "source": [
        "size_histories = {}"
      ],
      "execution_count": 0,
      "outputs": []
    },
    {
      "cell_type": "code",
      "metadata": {
        "id": "vdhvrhI_f10G",
        "colab_type": "code",
        "colab": {
          "base_uri": "https://localhost:8080/",
          "height": 938
        },
        "outputId": "b8248d5c-3a6e-4a11-91b8-9f5edc7b0cb4"
      },
      "source": [
        "size_histories['Tiny'] = compile_and_fit(tiny_model, 'sizes/Tiny')"
      ],
      "execution_count": 28,
      "outputs": [
        {
          "output_type": "stream",
          "text": [
            "Model: \"sequential_1\"\n",
            "_________________________________________________________________\n",
            "Layer (type)                 Output Shape              Param #   \n",
            "=================================================================\n",
            "dense_2 (Dense)              (None, 16)                464       \n",
            "_________________________________________________________________\n",
            "dense_3 (Dense)              (None, 1)                 17        \n",
            "=================================================================\n",
            "Total params: 481\n",
            "Trainable params: 481\n",
            "Non-trainable params: 0\n",
            "_________________________________________________________________\n",
            "\n",
            "Epoch: 0, accuracy:0.4976,  binary_crossentropy:0.7437,  loss:0.7437,  val_accuracy:0.4680,  val_binary_crossentropy:0.7214,  val_loss:0.7214,  \n",
            "....................................................................................................\n",
            "Epoch: 100, accuracy:0.6002,  binary_crossentropy:0.6247,  loss:0.6247,  val_accuracy:0.5760,  val_binary_crossentropy:0.6275,  val_loss:0.6275,  \n",
            "....................................................................................................\n",
            "Epoch: 200, accuracy:0.6170,  binary_crossentropy:0.6144,  loss:0.6144,  val_accuracy:0.6170,  val_binary_crossentropy:0.6149,  val_loss:0.6149,  \n",
            "....................................................................................................\n",
            "Epoch: 300, accuracy:0.6359,  binary_crossentropy:0.6042,  loss:0.6042,  val_accuracy:0.6170,  val_binary_crossentropy:0.6046,  val_loss:0.6046,  \n",
            "....................................................................................................\n",
            "Epoch: 400, accuracy:0.6489,  binary_crossentropy:0.5949,  loss:0.5949,  val_accuracy:0.6500,  val_binary_crossentropy:0.5930,  val_loss:0.5930,  \n",
            "....................................................................................................\n",
            "Epoch: 500, accuracy:0.6647,  binary_crossentropy:0.5886,  loss:0.5886,  val_accuracy:0.6440,  val_binary_crossentropy:0.5894,  val_loss:0.5894,  \n",
            "....................................................................................................\n",
            "Epoch: 600, accuracy:0.6733,  binary_crossentropy:0.5836,  loss:0.5836,  val_accuracy:0.6570,  val_binary_crossentropy:0.5864,  val_loss:0.5864,  \n",
            "....................................................................................................\n",
            "Epoch: 700, accuracy:0.6721,  binary_crossentropy:0.5801,  loss:0.5801,  val_accuracy:0.6740,  val_binary_crossentropy:0.5840,  val_loss:0.5840,  \n",
            "....................................................................................................\n",
            "Epoch: 800, accuracy:0.6794,  binary_crossentropy:0.5771,  loss:0.5771,  val_accuracy:0.6490,  val_binary_crossentropy:0.5863,  val_loss:0.5863,  \n",
            "....................................................................................................\n",
            "Epoch: 900, accuracy:0.6766,  binary_crossentropy:0.5751,  loss:0.5751,  val_accuracy:0.6690,  val_binary_crossentropy:0.5831,  val_loss:0.5831,  \n",
            "....................................................................................................\n",
            "Epoch: 1000, accuracy:0.6817,  binary_crossentropy:0.5731,  loss:0.5731,  val_accuracy:0.6760,  val_binary_crossentropy:0.5818,  val_loss:0.5818,  \n",
            "....................................................................................................\n",
            "Epoch: 1100, accuracy:0.6847,  binary_crossentropy:0.5721,  loss:0.5721,  val_accuracy:0.6810,  val_binary_crossentropy:0.5813,  val_loss:0.5813,  \n",
            "....................................................................................................\n",
            "Epoch: 1200, accuracy:0.6865,  binary_crossentropy:0.5699,  loss:0.5699,  val_accuracy:0.6770,  val_binary_crossentropy:0.5809,  val_loss:0.5809,  \n",
            "....................................................................................................\n",
            "Epoch: 1300, accuracy:0.6875,  binary_crossentropy:0.5685,  loss:0.5685,  val_accuracy:0.6630,  val_binary_crossentropy:0.5811,  val_loss:0.5811,  \n",
            "....................................................................................................\n",
            "Epoch: 1400, accuracy:0.6884,  binary_crossentropy:0.5672,  loss:0.5672,  val_accuracy:0.6620,  val_binary_crossentropy:0.5814,  val_loss:0.5814,  \n",
            "....................................................................................................\n",
            "Epoch: 1500, accuracy:0.6903,  binary_crossentropy:0.5661,  loss:0.5661,  val_accuracy:0.6650,  val_binary_crossentropy:0.5806,  val_loss:0.5806,  \n",
            "....................................................................................................\n",
            "Epoch: 1600, accuracy:0.6924,  binary_crossentropy:0.5655,  loss:0.5655,  val_accuracy:0.6620,  val_binary_crossentropy:0.5814,  val_loss:0.5814,  \n",
            "....................................................................................................\n",
            "Epoch: 1700, accuracy:0.6942,  binary_crossentropy:0.5640,  loss:0.5640,  val_accuracy:0.6580,  val_binary_crossentropy:0.5819,  val_loss:0.5819,  \n",
            "....................................................................................................\n",
            "Epoch: 1800, accuracy:0.6920,  binary_crossentropy:0.5635,  loss:0.5635,  val_accuracy:0.6620,  val_binary_crossentropy:0.5804,  val_loss:0.5804,  \n",
            "....................................................................................................\n",
            "Epoch: 1900, accuracy:0.6917,  binary_crossentropy:0.5625,  loss:0.5625,  val_accuracy:0.6620,  val_binary_crossentropy:0.5800,  val_loss:0.5800,  \n",
            "...................................................................................................."
          ],
          "name": "stdout"
        }
      ]
    },
    {
      "cell_type": "code",
      "metadata": {
        "id": "ezBOo87rf22t",
        "colab_type": "code",
        "colab": {
          "base_uri": "https://localhost:8080/",
          "height": 300
        },
        "outputId": "39b6af28-458b-46c8-95e5-3a601d723c94"
      },
      "source": [
        "plotter = tfdocs.plots.HistoryPlotter(metric = 'binary_crossentropy', smoothing_std=10)\n",
        "plotter.plot(size_histories)\n",
        "plt.ylim([0.5, 0.7])"
      ],
      "execution_count": 30,
      "outputs": [
        {
          "output_type": "execute_result",
          "data": {
            "text/plain": [
              "(0.5, 0.7)"
            ]
          },
          "metadata": {
            "tags": []
          },
          "execution_count": 30
        },
        {
          "output_type": "display_data",
          "data": {
            "image/png": "[encoded data removed]",
            "text/plain": [
              "<Figure size 432x288 with 1 Axes>"
            ]
          },
          "metadata": {
            "tags": [],
            "needs_background": "light"
          }
        }
      ]
    },
    {
      "cell_type": "code",
      "metadata": {
        "id": "8jbp34g6f5Fk",
        "colab_type": "code",
        "colab": {}
      },
      "source": [
        "small_model = tf.keras.Sequential([\n",
        "    # `input_shape` is only required here so that `.summary` works.\n",
        "    layers.Dense(16, activation='elu', input_shape=(FEATURES,)),\n",
        "    layers.Dense(16, activation='elu'),\n",
        "    layers.Dense(1)\n",
        "])"
      ],
      "execution_count": 0,
      "outputs": []
    },
    {
      "cell_type": "code",
      "metadata": {
        "id": "j2IxiK6Ef6bD",
        "colab_type": "code",
        "colab": {
          "base_uri": "https://localhost:8080/",
          "height": 462
        },
        "outputId": "2694051d-2dae-404f-85c2-c1b6e9ed7484"
      },
      "source": [
        "size_histories['Small'] = compile_and_fit(small_model, 'sizes/Small')"
      ],
      "execution_count": 32,
      "outputs": [
        {
          "output_type": "stream",
          "text": [
            "Model: \"sequential_2\"\n",
            "_________________________________________________________________\n",
            "Layer (type)                 Output Shape              Param #   \n",
            "=================================================================\n",
            "dense_4 (Dense)              (None, 16)                464       \n",
            "_________________________________________________________________\n",
            "dense_5 (Dense)              (None, 16)                272       \n",
            "_________________________________________________________________\n",
            "dense_6 (Dense)              (None, 1)                 17        \n",
            "=================================================================\n",
            "Total params: 753\n",
            "Trainable params: 753\n",
            "Non-trainable params: 0\n",
            "_________________________________________________________________\n",
            "\n",
            "Epoch: 0, accuracy:0.4883,  binary_crossentropy:0.7415,  loss:0.7415,  val_accuracy:0.4930,  val_binary_crossentropy:0.7084,  val_loss:0.7084,  \n",
            "....................................................................................................\n",
            "Epoch: 100, accuracy:0.6400,  binary_crossentropy:0.6042,  loss:0.6042,  val_accuracy:0.6450,  val_binary_crossentropy:0.6003,  val_loss:0.6003,  \n",
            "....................................................................................................\n",
            "Epoch: 200, accuracy:0.6739,  binary_crossentropy:0.5850,  loss:0.5850,  val_accuracy:0.6570,  val_binary_crossentropy:0.5858,  val_loss:0.5858,  \n",
            "....................................................................................................\n",
            "Epoch: 300, accuracy:0.6809,  binary_crossentropy:0.5758,  loss:0.5758,  val_accuracy:0.6670,  val_binary_crossentropy:0.5846,  val_loss:0.5846,  \n",
            "....................................................................................................\n",
            "Epoch: 400, accuracy:0.6870,  binary_crossentropy:0.5703,  loss:0.5703,  val_accuracy:0.6690,  val_binary_crossentropy:0.5845,  val_loss:0.5845,  \n",
            "........................................................................................."
          ],
          "name": "stdout"
        }
      ]
    },
    {
      "cell_type": "code",
      "metadata": {
        "id": "tDmYC1emf7YF",
        "colab_type": "code",
        "colab": {}
      },
      "source": [
        "medium_model = tf.keras.Sequential([\n",
        "    layers.Dense(64, activation='elu', input_shape=(FEATURES,)),\n",
        "    layers.Dense(64, activation='elu'),\n",
        "    layers.Dense(64, activation='elu'),\n",
        "    layers.Dense(1)\n",
        "])"
      ],
      "execution_count": 0,
      "outputs": []
    },
    {
      "cell_type": "code",
      "metadata": {
        "id": "vpCwJFm_f85h",
        "colab_type": "code",
        "colab": {}
      },
      "source": [
        "large_model = tf.keras.Sequential([\n",
        "    layers.Dense(512, activation='elu', input_shape=(FEATURES,)),\n",
        "    layers.Dense(512, activation='elu'),\n",
        "    layers.Dense(512, activation='elu'),\n",
        "    layers.Dense(512, activation='elu'),\n",
        "    layers.Dense(1)\n",
        "])"
      ],
      "execution_count": 0,
      "outputs": []
    },
    {
      "cell_type": "code",
      "metadata": {
        "id": "Y_y4szXNf-50",
        "colab_type": "code",
        "colab": {
          "base_uri": "https://localhost:8080/",
          "height": 462
        },
        "outputId": "23496e98-55fd-472f-8269-742e0e620ff0"
      },
      "source": [
        "size_histories['large'] = compile_and_fit(large_model, \"sizes/large\")"
      ],
      "execution_count": 35,
      "outputs": [
        {
          "output_type": "stream",
          "text": [
            "Model: \"sequential_4\"\n",
            "_________________________________________________________________\n",
            "Layer (type)                 Output Shape              Param #   \n",
            "=================================================================\n",
            "dense_11 (Dense)             (None, 512)               14848     \n",
            "_________________________________________________________________\n",
            "dense_12 (Dense)             (None, 512)               262656    \n",
            "_________________________________________________________________\n",
            "dense_13 (Dense)             (None, 512)               262656    \n",
            "_________________________________________________________________\n",
            "dense_14 (Dense)             (None, 512)               262656    \n",
            "_________________________________________________________________\n",
            "dense_15 (Dense)             (None, 1)                 513       \n",
            "=================================================================\n",
            "Total params: 803,329\n",
            "Trainable params: 803,329\n",
            "Non-trainable params: 0\n",
            "_________________________________________________________________\n",
            "\n",
            "Epoch: 0, accuracy:0.5078,  binary_crossentropy:0.8082,  loss:0.8082,  val_accuracy:0.4970,  val_binary_crossentropy:0.6776,  val_loss:0.6776,  \n",
            "....................................................................................................\n",
            "Epoch: 100, accuracy:1.0000,  binary_crossentropy:0.0021,  loss:0.0021,  val_accuracy:0.6710,  val_binary_crossentropy:1.7943,  val_loss:1.7943,  \n",
            "....................................................................................................\n",
            "Epoch: 200, accuracy:1.0000,  binary_crossentropy:0.0001,  loss:0.0001,  val_accuracy:0.6730,  val_binary_crossentropy:2.4327,  val_loss:2.4327,  \n",
            ".........................."
          ],
          "name": "stdout"
        }
      ]
    },
    {
      "cell_type": "code",
      "metadata": {
        "id": "QyJFisemgA5F",
        "colab_type": "code",
        "colab": {
          "base_uri": "https://localhost:8080/",
          "height": 304
        },
        "outputId": "6e607ea0-9e8a-438f-95f9-69de0ead959d"
      },
      "source": [
        "plotter.plot(size_histories)\n",
        "a = plt.xscale('log')\n",
        "plt.xlim([5, max(plt.xlim())])\n",
        "plt.ylim([0.5, 0.7])\n",
        "plt.xlabel(\"Epochs [Log Scale]\")"
      ],
      "execution_count": 36,
      "outputs": [
        {
          "output_type": "execute_result",
          "data": {
            "text/plain": [
              "Text(0.5, 0, 'Epochs [Log Scale]')"
            ]
          },
          "metadata": {
            "tags": []
          },
          "execution_count": 36
        },
        {
          "output_type": "display_data",
          "data": {
            "image/png": "[encoded data removed]",
            "text/plain": [
              "<Figure size 432x288 with 1 Axes>"
            ]
          },
          "metadata": {
            "tags": [],
            "needs_background": "light"
          }
        }
      ]
    },
    {
      "cell_type": "code",
      "metadata": {
        "id": "j8d3-VhBgCWu",
        "colab_type": "code",
        "colab": {
          "base_uri": "https://localhost:8080/",
          "height": 34
        },
        "outputId": "5fae315c-d99d-4d2f-ca70-693699016545"
      },
      "source": [
        "%tensorboard --logdir {logdir}/sizes"
      ],
      "execution_count": 38,
      "outputs": [
        {
          "output_type": "stream",
          "text": [
            "UsageError: Line magic function `%tensorboard` not found.\n"
          ],
          "name": "stderr"
        }
      ]
    },
    {
      "cell_type": "code",
      "metadata": {
        "id": "_9yYB-ajgDrm",
        "colab_type": "code",
        "colab": {
          "base_uri": "https://localhost:8080/",
          "height": 821
        },
        "outputId": "9f4497a5-d5c7-4bda-879c-894397ecf7fd"
      },
      "source": [
        "display.IFrame(\n",
        "    src=\"https://tensorboard.dev/experiment/vW7jmmF9TmKmy3rbheMQpw/#scalars&_smoothingWeight=0.97\",\n",
        "    width=\"100%\", height=\"800px\")"
      ],
      "execution_count": 39,
      "outputs": [
        {
          "output_type": "execute_result",
          "data": {
            "text/html": [
              "\n",
              "        <iframe\n",
              "            width=\"100%\"\n",
              "            height=\"800px\"\n",
              "            src=\"https://tensorboard.dev/experiment/vW7jmmF9TmKmy3rbheMQpw/#scalars&_smoothingWeight=0.97\"\n",
              "            frameborder=\"0\"\n",
              "            allowfullscreen\n",
              "        ></iframe>\n",
              "        "
            ],
            "text/plain": [
              "<IPython.lib.display.IFrame at 0x7f6a59bdacf8>"
            ]
          },
          "metadata": {
            "tags": []
          },
          "execution_count": 39
        }
      ]
    },
    {
      "cell_type": "code",
      "metadata": {
        "id": "CbSqeC4EgGne",
        "colab_type": "code",
        "colab": {
          "base_uri": "https://localhost:8080/",
          "height": 34
        },
        "outputId": "90536ffc-1f67-44a1-e10c-706988f0babc"
      },
      "source": [
        "shutil.rmtree(logdir/'regularizers/Tiny', ignore_errors=True)\n",
        "shutil.copytree(logdir/'sizes/Tiny', logdir/'regularizers/Tiny')"
      ],
      "execution_count": 42,
      "outputs": [
        {
          "output_type": "execute_result",
          "data": {
            "text/plain": [
              "PosixPath('/tmp/tmp0mmnxxny/tensorboard_logs/regularizers/Tiny')"
            ]
          },
          "metadata": {
            "tags": []
          },
          "execution_count": 42
        }
      ]
    },
    {
      "cell_type": "code",
      "metadata": {
        "id": "WueQd_lcgHyW",
        "colab_type": "code",
        "colab": {}
      },
      "source": [
        "regularizer_histories = {}\n",
        "regularizer_histories['Tiny'] = size_histories['Tiny']"
      ],
      "execution_count": 0,
      "outputs": []
    },
    {
      "cell_type": "code",
      "metadata": {
        "id": "dsQCmdphgJom",
        "colab_type": "code",
        "colab": {
          "base_uri": "https://localhost:8080/",
          "height": 564
        },
        "outputId": "dff603ed-f407-4b9e-f257-c5d9c21b2794"
      },
      "source": [
        "l2_model = tf.keras.Sequential([\n",
        "    layers.Dense(512, activation='elu',\n",
        "                 kernel_regularizer=regularizers.l2(0.001),\n",
        "                 input_shape=(FEATURES,)),\n",
        "    layers.Dense(512, activation='elu',\n",
        "                 kernel_regularizer=regularizers.l2(0.001)),\n",
        "    layers.Dense(512, activation='elu',\n",
        "                 kernel_regularizer=regularizers.l2(0.001)),\n",
        "    layers.Dense(512, activation='elu',\n",
        "                 kernel_regularizer=regularizers.l2(0.001)),\n",
        "    layers.Dense(1)\n",
        "])\n",
        "\n",
        "regularizer_histories['l2'] = compile_and_fit(l2_model, \"regularizers/l2\")"
      ],
      "execution_count": 44,
      "outputs": [
        {
          "output_type": "stream",
          "text": [
            "Model: \"sequential_5\"\n",
            "_________________________________________________________________\n",
            "Layer (type)                 Output Shape              Param #   \n",
            "=================================================================\n",
            "dense_16 (Dense)             (None, 512)               14848     \n",
            "_________________________________________________________________\n",
            "dense_17 (Dense)             (None, 512)               262656    \n",
            "_________________________________________________________________\n",
            "dense_18 (Dense)             (None, 512)               262656    \n",
            "_________________________________________________________________\n",
            "dense_19 (Dense)             (None, 512)               262656    \n",
            "_________________________________________________________________\n",
            "dense_20 (Dense)             (None, 1)                 513       \n",
            "=================================================================\n",
            "Total params: 803,329\n",
            "Trainable params: 803,329\n",
            "Non-trainable params: 0\n",
            "_________________________________________________________________\n",
            "\n",
            "Epoch: 0, accuracy:0.5108,  binary_crossentropy:0.7647,  loss:2.2656,  val_accuracy:0.5050,  val_binary_crossentropy:0.6768,  val_loss:2.0874,  \n",
            "....................................................................................................\n",
            "Epoch: 100, accuracy:0.6475,  binary_crossentropy:0.5970,  loss:0.6200,  val_accuracy:0.6610,  val_binary_crossentropy:0.5884,  val_loss:0.6111,  \n",
            "....................................................................................................\n",
            "Epoch: 200, accuracy:0.6699,  binary_crossentropy:0.5817,  loss:0.6038,  val_accuracy:0.6750,  val_binary_crossentropy:0.5825,  val_loss:0.6045,  \n",
            "....................................................................................................\n",
            "Epoch: 300, accuracy:0.6835,  binary_crossentropy:0.5756,  loss:0.5975,  val_accuracy:0.6510,  val_binary_crossentropy:0.5810,  val_loss:0.6027,  \n",
            "....................................................................................................\n",
            "Epoch: 400, accuracy:0.6847,  binary_crossentropy:0.5724,  loss:0.5948,  val_accuracy:0.6750,  val_binary_crossentropy:0.5833,  val_loss:0.6056,  \n",
            "....................................................................................................\n",
            "Epoch: 500, accuracy:0.6832,  binary_crossentropy:0.5672,  loss:0.5911,  val_accuracy:0.6760,  val_binary_crossentropy:0.5790,  val_loss:0.6029,  \n",
            "........................."
          ],
          "name": "stdout"
        }
      ]
    },
    {
      "cell_type": "code",
      "metadata": {
        "id": "w06VJApngLi-",
        "colab_type": "code",
        "colab": {
          "base_uri": "https://localhost:8080/",
          "height": 300
        },
        "outputId": "8ccf542f-a4a7-4d61-d535-b007fd5c559e"
      },
      "source": [
        "plotter.plot(regularizer_histories)\n",
        "plt.ylim([0.5, 0.7])"
      ],
      "execution_count": 45,
      "outputs": [
        {
          "output_type": "execute_result",
          "data": {
            "text/plain": [
              "(0.5, 0.7)"
            ]
          },
          "metadata": {
            "tags": []
          },
          "execution_count": 45
        },
        {
          "output_type": "display_data",
          "data": {
            "image/png": "[encoded data removed]",
            "text/plain": [
              "<Figure size 432x288 with 1 Axes>"
            ]
          },
          "metadata": {
            "tags": [],
            "needs_background": "light"
          }
        }
      ]
    },
    {
      "cell_type": "code",
      "metadata": {
        "id": "JDZksXS4gOwV",
        "colab_type": "code",
        "colab": {}
      },
      "source": [
        "result = l2_model(features)\n",
        "regularization_loss=tf.add_n(l2_model.losses)"
      ],
      "execution_count": 0,
      "outputs": []
    },
    {
      "cell_type": "code",
      "metadata": {
        "id": "kh_r_mu7gQQV",
        "colab_type": "code",
        "colab": {
          "base_uri": "https://localhost:8080/",
          "height": 632
        },
        "outputId": "460211d2-d168-4444-d492-70169337e8ef"
      },
      "source": [
        "dropout_model = tf.keras.Sequential([\n",
        "    layers.Dense(512, activation='elu', input_shape=(FEATURES,)),\n",
        "    layers.Dropout(0.5),\n",
        "    layers.Dense(512, activation='elu'),\n",
        "    layers.Dropout(0.5),\n",
        "    layers.Dense(512, activation='elu'),\n",
        "    layers.Dropout(0.5),\n",
        "    layers.Dense(512, activation='elu'),\n",
        "    layers.Dropout(0.5),\n",
        "    layers.Dense(1)\n",
        "])\n",
        "\n",
        "regularizer_histories['dropout'] = compile_and_fit(dropout_model, \"regularizers/dropout\")"
      ],
      "execution_count": 47,
      "outputs": [
        {
          "output_type": "stream",
          "text": [
            "Model: \"sequential_6\"\n",
            "_________________________________________________________________\n",
            "Layer (type)                 Output Shape              Param #   \n",
            "=================================================================\n",
            "dense_21 (Dense)             (None, 512)               14848     \n",
            "_________________________________________________________________\n",
            "dropout (Dropout)            (None, 512)               0         \n",
            "_________________________________________________________________\n",
            "dense_22 (Dense)             (None, 512)               262656    \n",
            "_________________________________________________________________\n",
            "dropout_1 (Dropout)          (None, 512)               0         \n",
            "_________________________________________________________________\n",
            "dense_23 (Dense)             (None, 512)               262656    \n",
            "_________________________________________________________________\n",
            "dropout_2 (Dropout)          (None, 512)               0         \n",
            "_________________________________________________________________\n",
            "dense_24 (Dense)             (None, 512)               262656    \n",
            "_________________________________________________________________\n",
            "dropout_3 (Dropout)          (None, 512)               0         \n",
            "_________________________________________________________________\n",
            "dense_25 (Dense)             (None, 1)                 513       \n",
            "=================================================================\n",
            "Total params: 803,329\n",
            "Trainable params: 803,329\n",
            "Non-trainable params: 0\n",
            "_________________________________________________________________\n",
            "\n",
            "Epoch: 0, accuracy:0.5084,  binary_crossentropy:0.7960,  loss:0.7960,  val_accuracy:0.4740,  val_binary_crossentropy:0.6910,  val_loss:0.6910,  \n",
            "....................................................................................................\n",
            "Epoch: 100, accuracy:0.6600,  binary_crossentropy:0.5951,  loss:0.5951,  val_accuracy:0.6890,  val_binary_crossentropy:0.5747,  val_loss:0.5747,  \n",
            "....................................................................................................\n",
            "Epoch: 200, accuracy:0.6875,  binary_crossentropy:0.5570,  loss:0.5570,  val_accuracy:0.6850,  val_binary_crossentropy:0.5802,  val_loss:0.5802,  \n",
            "....................................................................................................\n",
            "Epoch: 300, accuracy:0.7254,  binary_crossentropy:0.5115,  loss:0.5115,  val_accuracy:0.6840,  val_binary_crossentropy:0.5927,  val_loss:0.5927,  \n",
            "................................."
          ],
          "name": "stdout"
        }
      ]
    },
    {
      "cell_type": "code",
      "metadata": {
        "id": "LyYcU5yPgRY5",
        "colab_type": "code",
        "colab": {
          "base_uri": "https://localhost:8080/",
          "height": 300
        },
        "outputId": "fa8ddf63-b544-4181-8c2a-b681fc227ba5"
      },
      "source": [
        "plotter.plot(regularizer_histories)\n",
        "plt.ylim([0.5, 0.7])"
      ],
      "execution_count": 48,
      "outputs": [
        {
          "output_type": "execute_result",
          "data": {
            "text/plain": [
              "(0.5, 0.7)"
            ]
          },
          "metadata": {
            "tags": []
          },
          "execution_count": 48
        },
        {
          "output_type": "display_data",
          "data": {
            "image/png": "[encoded data removed]",
            "text/plain": [
              "<Figure size 432x288 with 1 Axes>"
            ]
          },
          "metadata": {
            "tags": [],
            "needs_background": "light"
          }
        }
      ]
    },
    {
      "cell_type": "code",
      "metadata": {
        "id": "yFOHQJRPgSwd",
        "colab_type": "code",
        "colab": {
          "base_uri": "https://localhost:8080/",
          "height": 802
        },
        "outputId": "e18f93bb-e303-4b56-c1f2-6143840e540f"
      },
      "source": [
        "combined_model = tf.keras.Sequential([\n",
        "    layers.Dense(512, kernel_regularizer=regularizers.l2(0.0001),\n",
        "                 activation='elu', input_shape=(FEATURES,)),\n",
        "    layers.Dropout(0.5),\n",
        "    layers.Dense(512, kernel_regularizer=regularizers.l2(0.0001),\n",
        "                 activation='elu'),\n",
        "    layers.Dropout(0.5),\n",
        "    layers.Dense(512, kernel_regularizer=regularizers.l2(0.0001),\n",
        "                 activation='elu'),\n",
        "    layers.Dropout(0.5),\n",
        "    layers.Dense(512, kernel_regularizer=regularizers.l2(0.0001),\n",
        "                 activation='elu'),\n",
        "    layers.Dropout(0.5),\n",
        "    layers.Dense(1)\n",
        "])\n",
        "\n",
        "regularizer_histories['combined'] = compile_and_fit(combined_model, \"regularizers/combined\")"
      ],
      "execution_count": 49,
      "outputs": [
        {
          "output_type": "stream",
          "text": [
            "Model: \"sequential_7\"\n",
            "_________________________________________________________________\n",
            "Layer (type)                 Output Shape              Param #   \n",
            "=================================================================\n",
            "dense_26 (Dense)             (None, 512)               14848     \n",
            "_________________________________________________________________\n",
            "dropout_4 (Dropout)          (None, 512)               0         \n",
            "_________________________________________________________________\n",
            "dense_27 (Dense)             (None, 512)               262656    \n",
            "_________________________________________________________________\n",
            "dropout_5 (Dropout)          (None, 512)               0         \n",
            "_________________________________________________________________\n",
            "dense_28 (Dense)             (None, 512)               262656    \n",
            "_________________________________________________________________\n",
            "dropout_6 (Dropout)          (None, 512)               0         \n",
            "_________________________________________________________________\n",
            "dense_29 (Dense)             (None, 512)               262656    \n",
            "_________________________________________________________________\n",
            "dropout_7 (Dropout)          (None, 512)               0         \n",
            "_________________________________________________________________\n",
            "dense_30 (Dense)             (None, 1)                 513       \n",
            "=================================================================\n",
            "Total params: 803,329\n",
            "Trainable params: 803,329\n",
            "Non-trainable params: 0\n",
            "_________________________________________________________________\n",
            "\n",
            "Epoch: 0, accuracy:0.5004,  binary_crossentropy:0.7875,  loss:0.9456,  val_accuracy:0.5090,  val_binary_crossentropy:0.6691,  val_loss:0.8264,  \n",
            "....................................................................................................\n",
            "Epoch: 100, accuracy:0.6460,  binary_crossentropy:0.6066,  loss:0.6357,  val_accuracy:0.6660,  val_binary_crossentropy:0.5843,  val_loss:0.6133,  \n",
            "....................................................................................................\n",
            "Epoch: 200, accuracy:0.6638,  binary_crossentropy:0.5885,  loss:0.6145,  val_accuracy:0.6880,  val_binary_crossentropy:0.5746,  val_loss:0.6006,  \n",
            "....................................................................................................\n",
            "Epoch: 300, accuracy:0.6697,  binary_crossentropy:0.5824,  loss:0.6112,  val_accuracy:0.6750,  val_binary_crossentropy:0.5653,  val_loss:0.5941,  \n",
            "....................................................................................................\n",
            "Epoch: 400, accuracy:0.6752,  binary_crossentropy:0.5776,  loss:0.6080,  val_accuracy:0.6810,  val_binary_crossentropy:0.5564,  val_loss:0.5868,  \n",
            "....................................................................................................\n",
            "Epoch: 500, accuracy:0.6822,  binary_crossentropy:0.5684,  loss:0.6020,  val_accuracy:0.7010,  val_binary_crossentropy:0.5506,  val_loss:0.5843,  \n",
            "....................................................................................................\n",
            "Epoch: 600, accuracy:0.6823,  binary_crossentropy:0.5633,  loss:0.5991,  val_accuracy:0.6780,  val_binary_crossentropy:0.5565,  val_loss:0.5923,  \n",
            "....................................................................................................\n",
            "Epoch: 700, accuracy:0.6932,  binary_crossentropy:0.5577,  loss:0.5950,  val_accuracy:0.6980,  val_binary_crossentropy:0.5474,  val_loss:0.5848,  \n",
            "....................................................................................................\n",
            "Epoch: 800, accuracy:0.6942,  binary_crossentropy:0.5551,  loss:0.5940,  val_accuracy:0.7000,  val_binary_crossentropy:0.5404,  val_loss:0.5793,  \n",
            "......................................................"
          ],
          "name": "stdout"
        }
      ]
    },
    {
      "cell_type": "code",
      "metadata": {
        "id": "LougUhXBgUZ9",
        "colab_type": "code",
        "colab": {
          "base_uri": "https://localhost:8080/",
          "height": 300
        },
        "outputId": "629856fc-54e2-49cb-8f0e-f97bd526dbfe"
      },
      "source": [
        "plotter.plot(regularizer_histories)\n",
        "plt.ylim([0.5, 0.7])"
      ],
      "execution_count": 50,
      "outputs": [
        {
          "output_type": "execute_result",
          "data": {
            "text/plain": [
              "(0.5, 0.7)"
            ]
          },
          "metadata": {
            "tags": []
          },
          "execution_count": 50
        },
        {
          "output_type": "display_data",
          "data": {
            "image/png": "[encoded data removed]",
            "text/plain": [
              "<Figure size 432x288 with 1 Axes>"
            ]
          },
          "metadata": {
            "tags": [],
            "needs_background": "light"
          }
        }
      ]
    }
  ]
}