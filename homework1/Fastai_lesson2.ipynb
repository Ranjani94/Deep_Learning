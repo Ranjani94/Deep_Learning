{
  "nbformat": 4,
  "nbformat_minor": 0,
  "metadata": {
    "colab": {
      "name": "Fastai_lesson2.ipynb",
      "provenance": [],
      "authorship_tag": "ABX9TyMGa5VnjUdPzdz7f111wOr7",
      "include_colab_link": true
    },
    "kernelspec": {
      "name": "python3",
      "display_name": "Python 3"
    },
    "accelerator": "GPU"
  },
  "cells": [
    {
      "cell_type": "markdown",
      "metadata": {
        "id": "view-in-github",
        "colab_type": "text"
      },
      "source": [
        "<a href=\"https://colab.research.google.com/github/Ranjani94/Deep_Learning/blob/master/homework1/Fastai_lesson2.ipynb\" target=\"_parent\"><img src=\"https://colab.research.google.com/assets/colab-badge.svg\" alt=\"Open In Colab\"/></a>"
      ]
    },
    {
      "cell_type": "markdown",
      "metadata": {
        "id": "50142kadeGh7",
        "colab_type": "text"
      },
      "source": [
        "#Lesson_2 : Creating our own dataset from Google images [Airplane vs Rockets]"
      ]
    },
    {
      "cell_type": "code",
      "metadata": {
        "id": "zbzXsypkeWUO",
        "colab_type": "code",
        "colab": {}
      },
      "source": [
        "#Any changes to the libraries are reloaded here automatically #Add these 3 lines in all the code\n",
        "%reload_ext autoreload\n",
        "%autoreload 2\n",
        "%matplotlib inline"
      ],
      "execution_count": 0,
      "outputs": []
    },
    {
      "cell_type": "code",
      "metadata": {
        "id": "x0HLp11heSgM",
        "colab_type": "code",
        "colab": {}
      },
      "source": [
        "from fastai.vision import *\n",
        "from fastai.basics import *\n",
        "from fastai.metrics import error_rate"
      ],
      "execution_count": 0,
      "outputs": []
    },
    {
      "cell_type": "code",
      "metadata": {
        "id": "e22Kk9WMeWXB",
        "colab_type": "code",
        "colab": {
          "base_uri": "https://localhost:8080/",
          "height": 122
        },
        "outputId": "223af888-1a82-47e5-9090-d71c66af1e4e"
      },
      "source": [
        "from google.colab import drive\n",
        "drive.mount('/content/gdrive')"
      ],
      "execution_count": 6,
      "outputs": [
        {
          "output_type": "stream",
          "text": [
            "Go to this URL in a browser: https://accounts.google.com/o/oauth2/auth?client_id=947318989803-6bn6qk8qdgf4n4g3pfee6491hc0brc4i.apps.googleusercontent.com&redirect_uri=urn%3aietf%3awg%3aoauth%3a2.0%3aoob&response_type=code&scope=email%20https%3a%2f%2fwww.googleapis.com%2fauth%2fdocs.test%20https%3a%2f%2fwww.googleapis.com%2fauth%2fdrive%20https%3a%2f%2fwww.googleapis.com%2fauth%2fdrive.photos.readonly%20https%3a%2f%2fwww.googleapis.com%2fauth%2fpeopleapi.readonly\n",
            "\n",
            "Enter your authorization code:\n",
            "··········\n",
            "Mounted at /content/gdrive\n"
          ],
          "name": "stdout"
        }
      ]
    },
    {
      "cell_type": "code",
      "metadata": {
        "id": "GAHJDSjcK5lG",
        "colab_type": "code",
        "colab": {}
      },
      "source": [
        "folder = 'airplane'\n",
        "file = 'airplane_dataset.csv'"
      ],
      "execution_count": 0,
      "outputs": []
    },
    {
      "cell_type": "code",
      "metadata": {
        "id": "o0InJhRaQvI1",
        "colab_type": "code",
        "colab": {}
      },
      "source": [
        "path = Path('/content/gdrive/My Drive/Datasets')\n",
        "dest = path/folder\n",
        "dest.mkdir(parents=True, exist_ok=True)"
      ],
      "execution_count": 0,
      "outputs": []
    },
    {
      "cell_type": "code",
      "metadata": {
        "id": "Dfp0lv3xK5jq",
        "colab_type": "code",
        "colab": {}
      },
      "source": [
        "folder = 'rocket'\n",
        "file = 'rockets_dataset.csv'"
      ],
      "execution_count": 0,
      "outputs": []
    },
    {
      "cell_type": "code",
      "metadata": {
        "id": "kAeChPa4K5h-",
        "colab_type": "code",
        "colab": {}
      },
      "source": [
        "\n",
        "path = Path('/content/gdrive/My Drive/Datasets')\n",
        "dest = path/folder\n",
        "dest.mkdir(parents=True, exist_ok=True)"
      ],
      "execution_count": 0,
      "outputs": []
    },
    {
      "cell_type": "code",
      "metadata": {
        "id": "jRzqgmM1MZBN",
        "colab_type": "code",
        "colab": {}
      },
      "source": [
        "# path = Path('/content/gdrive/My Drive/Datasets/rocket')\n",
        "# dest = path/folder\n",
        "# dest.mkdir(parents=True, exist_ok=True)"
      ],
      "execution_count": 0,
      "outputs": []
    },
    {
      "cell_type": "code",
      "metadata": {
        "id": "o3mChmSfK5gD",
        "colab_type": "code",
        "colab": {
          "base_uri": "https://localhost:8080/",
          "height": 85
        },
        "outputId": "837563b7-95e5-41e0-f290-f2bf63467063"
      },
      "source": [
        "path.ls()"
      ],
      "execution_count": 101,
      "outputs": [
        {
          "output_type": "execute_result",
          "data": {
            "text/plain": [
              "[PosixPath('/content/gdrive/My Drive/Datasets/rocket'),\n",
              " PosixPath('/content/gdrive/My Drive/Datasets/airplane'),\n",
              " PosixPath('/content/gdrive/My Drive/Datasets/rockets_dataset.csv'),\n",
              " PosixPath('/content/gdrive/My Drive/Datasets/airplane_dataset.csv')]"
            ]
          },
          "metadata": {
            "tags": []
          },
          "execution_count": 101
        }
      ]
    },
    {
      "cell_type": "code",
      "metadata": {
        "id": "7LHCMF9Yqoac",
        "colab_type": "code",
        "colab": {}
      },
      "source": [
        "classes = ['airplane','rocket']"
      ],
      "execution_count": 0,
      "outputs": []
    },
    {
      "cell_type": "code",
      "metadata": {
        "id": "VtXcuQfMqtzs",
        "colab_type": "code",
        "colab": {
          "base_uri": "https://localhost:8080/",
          "height": 357
        },
        "outputId": "6593ef16-e976-460d-b720-b07da32a893c"
      },
      "source": [
        "download_images(path/file, dest, max_pics=200,max_workers=0)"
      ],
      "execution_count": 111,
      "outputs": [
        {
          "output_type": "display_data",
          "data": {
            "text/html": [
              ""
            ],
            "text/plain": [
              "<IPython.core.display.HTML object>"
            ]
          },
          "metadata": {
            "tags": []
          }
        },
        {
          "output_type": "stream",
          "text": [
            "Error  Invalid URL '': No schema supplied. Perhaps you meant http://?\n",
            "Error  Invalid URL '': No schema supplied. Perhaps you meant http://?\n",
            "Error  Invalid URL '': No schema supplied. Perhaps you meant http://?\n",
            "Error  Invalid URL '': No schema supplied. Perhaps you meant http://?\n",
            "Error  Invalid URL '': No schema supplied. Perhaps you meant http://?\n",
            "Error  Invalid URL '': No schema supplied. Perhaps you meant http://?\n",
            "Error  Invalid URL '': No schema supplied. Perhaps you meant http://?\n",
            "Error  Invalid URL '': No schema supplied. Perhaps you meant http://?\n",
            "Error  Invalid URL '': No schema supplied. Perhaps you meant http://?\n",
            "Error  Invalid URL '': No schema supplied. Perhaps you meant http://?\n",
            "Error  Invalid URL '': No schema supplied. Perhaps you meant http://?\n",
            "Error  Invalid URL '': No schema supplied. Perhaps you meant http://?\n",
            "Error  Invalid URL '': No schema supplied. Perhaps you meant http://?\n",
            "Error  Invalid URL '': No schema supplied. Perhaps you meant http://?\n",
            "Error  Invalid URL '': No schema supplied. Perhaps you meant http://?\n",
            "Error  Invalid URL '': No schema supplied. Perhaps you meant http://?\n",
            "Error  Invalid URL '': No schema supplied. Perhaps you meant http://?\n",
            "Error  Invalid URL '': No schema supplied. Perhaps you meant http://?\n",
            "Error  Invalid URL '': No schema supplied. Perhaps you meant http://?\n",
            "Error  Invalid URL '': No schema supplied. Perhaps you meant http://?\n"
          ],
          "name": "stdout"
        }
      ]
    },
    {
      "cell_type": "code",
      "metadata": {
        "id": "pxxPtkJFeWl3",
        "colab_type": "code",
        "colab": {
          "base_uri": "https://localhost:8080/",
          "height": 51
        },
        "outputId": "92ca1f22-76d6-4df2-f61b-2a63c5f13101"
      },
      "source": [
        "for c in classes:\n",
        "    print(c)\n",
        "    verify_images(path/c, delete=True, max_size=500)"
      ],
      "execution_count": 109,
      "outputs": [
        {
          "output_type": "stream",
          "text": [
            "airplane\n"
          ],
          "name": "stdout"
        },
        {
          "output_type": "display_data",
          "data": {
            "text/html": [
              ""
            ],
            "text/plain": [
              "<IPython.core.display.HTML object>"
            ]
          },
          "metadata": {
            "tags": []
          }
        },
        {
          "output_type": "stream",
          "text": [
            "rocket\n"
          ],
          "name": "stdout"
        }
      ]
    },
    {
      "cell_type": "code",
      "metadata": {
        "id": "Uyb7vcG2S33t",
        "colab_type": "code",
        "colab": {}
      },
      "source": [
        "np.random.seed(42)\n",
        "data = ImageDataBunch.from_folder(path, train=\".\", valid_pct=0.2,\n",
        "        ds_tfms=get_transforms(), size=224, num_workers=4).normalize(imagenet_stats)"
      ],
      "execution_count": 0,
      "outputs": []
    },
    {
      "cell_type": "code",
      "metadata": {
        "id": "VJ4tgjO-S36G",
        "colab_type": "code",
        "colab": {}
      },
      "source": [
        "data.classes"
      ],
      "execution_count": 0,
      "outputs": []
    },
    {
      "cell_type": "code",
      "metadata": {
        "id": "v3I7Eo2iTMZu",
        "colab_type": "code",
        "colab": {}
      },
      "source": [
        "data.show_batch(rows=3, figsize=(7,8))"
      ],
      "execution_count": 0,
      "outputs": []
    },
    {
      "cell_type": "code",
      "metadata": {
        "id": "MaUmReIfTMbu",
        "colab_type": "code",
        "colab": {}
      },
      "source": [
        "data.classes, data.c, len(data.train_ds), len(data.valid_ds)"
      ],
      "execution_count": 0,
      "outputs": []
    },
    {
      "cell_type": "code",
      "metadata": {
        "id": "_z25T20rTMdw",
        "colab_type": "code",
        "colab": {}
      },
      "source": [
        "learn = cnn_learner(data, models.resnet34, metrics=error_rate)"
      ],
      "execution_count": 0,
      "outputs": []
    },
    {
      "cell_type": "code",
      "metadata": {
        "id": "YhnRjWwRTUS9",
        "colab_type": "code",
        "colab": {}
      },
      "source": [
        "learn.fit_one_cycle(4)"
      ],
      "execution_count": 0,
      "outputs": []
    },
    {
      "cell_type": "code",
      "metadata": {
        "id": "ygu_b6ItTUVC",
        "colab_type": "code",
        "colab": {}
      },
      "source": [
        "learn.save('stage-1')"
      ],
      "execution_count": 0,
      "outputs": []
    },
    {
      "cell_type": "code",
      "metadata": {
        "id": "HKDW3eB3TUYb",
        "colab_type": "code",
        "colab": {}
      },
      "source": [
        "learn.unfreeze()"
      ],
      "execution_count": 0,
      "outputs": []
    },
    {
      "cell_type": "code",
      "metadata": {
        "id": "R19AcYn8TUb2",
        "colab_type": "code",
        "colab": {}
      },
      "source": [
        "learn.lr_find()"
      ],
      "execution_count": 0,
      "outputs": []
    },
    {
      "cell_type": "code",
      "metadata": {
        "id": "xljF1XsUTUd3",
        "colab_type": "code",
        "colab": {}
      },
      "source": [
        "# If the plot is not showing try to give a start and end learning rate\n",
        "# learn.lr_find(start_lr=1e-5, end_lr=1e-1)\n",
        "learn.recorder.plot()"
      ],
      "execution_count": 0,
      "outputs": []
    },
    {
      "cell_type": "code",
      "metadata": {
        "id": "CFTjjEd2Thb3",
        "colab_type": "code",
        "colab": {}
      },
      "source": [
        "learn.fit_one_cycle(2, max_lr=slice(3e-5,3e-4))"
      ],
      "execution_count": 0,
      "outputs": []
    },
    {
      "cell_type": "code",
      "metadata": {
        "id": "d3sQhJRrThdv",
        "colab_type": "code",
        "colab": {}
      },
      "source": [
        "learn.save('stage-2')"
      ],
      "execution_count": 0,
      "outputs": []
    },
    {
      "cell_type": "code",
      "metadata": {
        "id": "oQMaqMl-Thfz",
        "colab_type": "code",
        "colab": {}
      },
      "source": [
        "learn.load('stage-2');"
      ],
      "execution_count": 0,
      "outputs": []
    },
    {
      "cell_type": "code",
      "metadata": {
        "id": "CUiN_zgwThjx",
        "colab_type": "code",
        "colab": {}
      },
      "source": [
        "interp = ClassificationInterpretation.from_learner(learn)"
      ],
      "execution_count": 0,
      "outputs": []
    },
    {
      "cell_type": "code",
      "metadata": {
        "id": "CEI7jmckTqTU",
        "colab_type": "code",
        "colab": {}
      },
      "source": [
        "interp.plot_confusion_matrix()"
      ],
      "execution_count": 0,
      "outputs": []
    },
    {
      "cell_type": "code",
      "metadata": {
        "id": "OvTFevahTqVQ",
        "colab_type": "code",
        "colab": {}
      },
      "source": [
        ""
      ],
      "execution_count": 0,
      "outputs": []
    }
  ]
}