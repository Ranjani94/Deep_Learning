{
  "nbformat": 4,
  "nbformat_minor": 0,
  "metadata": {
    "colab": {
      "name": "Exercise3.ipynb",
      "provenance": [],
      "collapsed_sections": [],
      "authorship_tag": "ABX9TyO20f6v3r3xNCWmx0b1zCoQ",
      "include_colab_link": true
    },
    "kernelspec": {
      "name": "python3",
      "display_name": "Python 3"
    }
  },
  "cells": [
    {
      "cell_type": "markdown",
      "metadata": {
        "id": "view-in-github",
        "colab_type": "text"
      },
      "source": [
        "<a href=\"https://colab.research.google.com/github/Ranjani94/Deep_Learning/blob/master/Ungraded_Assignment_3/Exercise3.ipynb\" target=\"_parent\"><img src=\"https://colab.research.google.com/assets/colab-badge.svg\" alt=\"Open In Colab\"/></a>"
      ]
    },
    {
      "cell_type": "markdown",
      "metadata": {
        "id": "5OLeqrR4oqTZ",
        "colab_type": "text"
      },
      "source": [
        "##Building your Deep Neural Network: Step by Step"
      ]
    },
    {
      "cell_type": "markdown",
      "metadata": {
        "id": "ovv2M50240J8",
        "colab_type": "text"
      },
      "source": [
        "Building your Deep Neural Network: Step by Step\n",
        "Welcome to your third programming exercise of the deep learning specialization. You will implement all the building blocks of a neural network and use these building blocks in the next assignment to build a neural network of any architecture you want. By completing this assignment you will:\n",
        "\n",
        "- Develop an intuition of the over all structure of a neural network.\n",
        "\n",
        "- Write functions (e.g. forward propagation, backward propagation, logistic loss, etc...) that would help you decompose your code and ease the process of building a neural network.\n",
        "\n",
        "- Initialize/update parameters according to your desired structure.\n",
        "\n",
        "This assignment prepares you well for the upcoming assignment. Take your time to complete it and make sure you get the expected outputs when working through the different exercises. In some code blocks, you will find a \"#GRADED FUNCTION: functionName\" comment. Please do not modify it. After you are done, submit your work and check your results. You need to score 70% to pass. Good luck :) !"
      ]
    },
    {
      "cell_type": "code",
      "metadata": {
        "id": "6qnMmCrhootZ",
        "colab_type": "code",
        "colab": {
          "base_uri": "https://localhost:8080/",
          "height": 34
        },
        "outputId": "fdabcbc1-17ed-4cf1-df18-a68a7dec56e7"
      },
      "source": [
        "from google.colab import drive\n",
        "drive.mount('/content/gdrive', force_remount=True)\n",
        "root_dir = \"/content/gdrive/My Drive/\"\n",
        "base_dir = root_dir + 'Deep_Learning'"
      ],
      "execution_count": 39,
      "outputs": [
        {
          "output_type": "stream",
          "text": [
            "Mounted at /content/gdrive\n"
          ],
          "name": "stdout"
        }
      ]
    },
    {
      "cell_type": "code",
      "metadata": {
        "id": "Zzp1G1rlousT",
        "colab_type": "code",
        "colab": {
          "base_uri": "https://localhost:8080/",
          "height": 51
        },
        "outputId": "b602f07f-ffcd-4683-efa1-3fe36f207cb3"
      },
      "source": [
        "import numpy as np\n",
        "import h5py\n",
        "import matplotlib.pyplot as plt\n",
        "# from testCases import *\n",
        "# from dnn_utils import sigmoid, sigmoid_backward, relu, relu_backward\n",
        "\n",
        "%matplotlib inline\n",
        "plt.rcParams['figure.figsize'] = (5.0, 4.0) # set default size of plots\n",
        "plt.rcParams['image.interpolation'] = 'nearest'\n",
        "plt.rcParams['image.cmap'] = 'gray'\n",
        "\n",
        "%load_ext autoreload\n",
        "%autoreload 2\n",
        "\n",
        "np.random.seed(1)"
      ],
      "execution_count": 40,
      "outputs": [
        {
          "output_type": "stream",
          "text": [
            "The autoreload extension is already loaded. To reload it, use:\n",
            "  %reload_ext autoreload\n"
          ],
          "name": "stdout"
        }
      ]
    },
    {
      "cell_type": "code",
      "metadata": {
        "id": "7iXV2XvaovM0",
        "colab_type": "code",
        "colab": {}
      },
      "source": [
        "import numpy as np\n",
        "\n",
        "def sigmoid(Z):\n",
        "    A = 1/(1+np.exp(-Z))\n",
        "    cache = Z\n",
        "    \n",
        "    return A, cache\n",
        "\n",
        "def relu(Z):\n",
        "    A = np.maximum(0,Z)\n",
        "    \n",
        "    assert(A.shape == Z.shape)\n",
        "    \n",
        "    cache = Z \n",
        "    return A, cache\n",
        "\n",
        "\n",
        "def relu_backward(dA, cache):\n",
        "    Z = cache\n",
        "    dZ = np.array(dA, copy=True) # just converting dz to a correct object.\n",
        "    \n",
        "    # When z <= 0, you should set dz to 0 as well. \n",
        "    dZ[Z <= 0] = 0\n",
        "    \n",
        "    assert (dZ.shape == Z.shape)\n",
        "    \n",
        "    return dZ\n",
        "\n",
        "def sigmoid_backward(dA, cache):\n",
        "    \n",
        "    Z = cache\n",
        "    \n",
        "    s = 1/(1+np.exp(-Z))\n",
        "    dZ = dA * s * (1-s)\n",
        "    \n",
        "    assert (dZ.shape == Z.shape)\n",
        "    \n",
        "    return dZ"
      ],
      "execution_count": 0,
      "outputs": []
    },
    {
      "cell_type": "code",
      "metadata": {
        "id": "Xu7x2sQdovPk",
        "colab_type": "code",
        "colab": {}
      },
      "source": [
        "import numpy as np\n",
        "\n",
        "def linear_forward_test_case():\n",
        "    np.random.seed(1)\n",
        "    A = np.random.randn(3,2)\n",
        "    W = np.random.randn(1,3)\n",
        "    b = np.random.randn(1,1)\n",
        "    \n",
        "    return A, W, b\n",
        "\n",
        "def linear_activation_forward_test_case():\n",
        "    np.random.seed(2)\n",
        "    A_prev = np.random.randn(3,2)\n",
        "    W = np.random.randn(1,3)\n",
        "    b = np.random.randn(1,1)\n",
        "    return A_prev, W, b"
      ],
      "execution_count": 0,
      "outputs": []
    },
    {
      "cell_type": "code",
      "metadata": {
        "id": "HlWcbgLLovR9",
        "colab_type": "code",
        "colab": {}
      },
      "source": [
        "def L_model_forward_test_case():\n",
        "\n",
        "    np.random.seed(1)\n",
        "    X = np.random.randn(4,2)\n",
        "    W1 = np.random.randn(3,4)\n",
        "    b1 = np.random.randn(3,1)\n",
        "    W2 = np.random.randn(1,3)\n",
        "    b2 = np.random.randn(1,1)\n",
        "    parameters = {\"W1\": W1,\n",
        "                  \"b1\": b1,\n",
        "                  \"W2\": W2,\n",
        "                  \"b2\": b2}\n",
        "    \n",
        "    return X, parameters\n"
      ],
      "execution_count": 0,
      "outputs": []
    },
    {
      "cell_type": "code",
      "metadata": {
        "id": "Gm4Z8OM4ovT_",
        "colab_type": "code",
        "colab": {}
      },
      "source": [
        "def compute_cost_test_case():\n",
        "    Y = np.asarray([[1, 1, 1]])\n",
        "    aL = np.array([[.8,.9,0.4]])\n",
        "    \n",
        "    return Y, aL\n",
        "\n",
        "def linear_backward_test_case():\n",
        "  \n",
        "    np.random.seed(1)\n",
        "    dZ = np.random.randn(1,2)\n",
        "    A = np.random.randn(3,2)\n",
        "    W = np.random.randn(1,3)\n",
        "    b = np.random.randn(1,1)\n",
        "    linear_cache = (A, W, b)\n",
        "    return dZ, linear_cache\n",
        "\n",
        "def linear_activation_backward_test_case():\n",
        "  \n",
        "    np.random.seed(2)\n",
        "    dA = np.random.randn(1,2)\n",
        "    A = np.random.randn(3,2)\n",
        "    W = np.random.randn(1,3)\n",
        "    b = np.random.randn(1,1)\n",
        "    Z = np.random.randn(1,2)\n",
        "    linear_cache = (A, W, b)\n",
        "    activation_cache = Z\n",
        "    linear_activation_cache = (linear_cache, activation_cache)\n",
        "    \n",
        "    return dA, linear_activation_cache\n"
      ],
      "execution_count": 0,
      "outputs": []
    },
    {
      "cell_type": "code",
      "metadata": {
        "id": "__yyoxxzovWE",
        "colab_type": "code",
        "colab": {}
      },
      "source": [
        "def L_model_backward_test_case():\n",
        "    np.random.seed(3)\n",
        "    AL = np.random.randn(1, 2)\n",
        "    Y = np.array([[1, 0]])\n",
        "\n",
        "    A1 = np.random.randn(4,2)\n",
        "    W1 = np.random.randn(3,4)\n",
        "    b1 = np.random.randn(3,1)\n",
        "    Z1 = np.random.randn(3,2)\n",
        "    linear_cache_activation_1 = ((A1, W1, b1), Z1)\n",
        "\n",
        "    A2 = np.random.randn(3,2)\n",
        "    W2 = np.random.randn(1,3)\n",
        "    b2 = np.random.randn(1,1)\n",
        "    Z2 = np.random.randn(1,2)\n",
        "    linear_cache_activation_2 = ( (A2, W2, b2), Z2)\n",
        "\n",
        "    caches = (linear_cache_activation_1, linear_cache_activation_2)\n",
        "\n",
        "    return AL, Y, caches"
      ],
      "execution_count": 0,
      "outputs": []
    },
    {
      "cell_type": "code",
      "metadata": {
        "id": "f60-CQ45ovYG",
        "colab_type": "code",
        "colab": {}
      },
      "source": [
        "def update_parameters_test_case():\n",
        "\n",
        "    np.random.seed(2)\n",
        "    W1 = np.random.randn(3,4)\n",
        "    b1 = np.random.randn(3,1)\n",
        "    W2 = np.random.randn(1,3)\n",
        "    b2 = np.random.randn(1,1)\n",
        "    parameters = {\"W1\": W1,\n",
        "                  \"b1\": b1,\n",
        "                  \"W2\": W2,\n",
        "                  \"b2\": b2}\n",
        "    np.random.seed(3)\n",
        "    dW1 = np.random.randn(3,4)\n",
        "    db1 = np.random.randn(3,1)\n",
        "    dW2 = np.random.randn(1,3)\n",
        "    db2 = np.random.randn(1,1)\n",
        "    grads = {\"dW1\": dW1,\n",
        "             \"db1\": db1,\n",
        "             \"dW2\": dW2,\n",
        "             \"db2\": db2}\n",
        "    \n",
        "    return parameters, grads"
      ],
      "execution_count": 0,
      "outputs": []
    },
    {
      "cell_type": "code",
      "metadata": {
        "id": "TLFBTLWGovaZ",
        "colab_type": "code",
        "colab": {}
      },
      "source": [
        "def initialize_parameters(n_x, n_h, n_y):  \n",
        "    np.random.seed(1)\n",
        "    W1 = np.random.randn(n_h, n_x) * 0.01\n",
        "    b1 = np.zeros(shape=(n_h, 1))\n",
        "    W2 = np.random.randn(n_y, n_h) * 0.01\n",
        "    b2 = np.zeros(shape=(n_y, 1))\n",
        "    assert(W1.shape == (n_h, n_x))\n",
        "    assert(b1.shape == (n_h, 1))\n",
        "    assert(W2.shape == (n_y, n_h))\n",
        "    assert(b2.shape == (n_y, 1))\n",
        "    parameters = {\"W1\": W1,\n",
        "                  \"b1\": b1,\n",
        "                  \"W2\": W2,\n",
        "                  \"b2\": b2}\n",
        "    return parameters"
      ],
      "execution_count": 0,
      "outputs": []
    },
    {
      "cell_type": "code",
      "metadata": {
        "id": "6wZ5ZIapovca",
        "colab_type": "code",
        "colab": {
          "base_uri": "https://localhost:8080/",
          "height": 119
        },
        "outputId": "85bf1786-0783-4f73-ad88-f7a21cb85ecd"
      },
      "source": [
        "\n",
        "parameters = initialize_parameters(2,2,1)\n",
        "print(\"W1 = \" + str(parameters[\"W1\"]))\n",
        "print(\"b1 = \" + str(parameters[\"b1\"]))\n",
        "print(\"W2 = \" + str(parameters[\"W2\"]))\n",
        "print(\"b2 = \" + str(parameters[\"b2\"]))"
      ],
      "execution_count": 48,
      "outputs": [
        {
          "output_type": "stream",
          "text": [
            "W1 = [[ 0.01624345 -0.00611756]\n",
            " [-0.00528172 -0.01072969]]\n",
            "b1 = [[0.]\n",
            " [0.]]\n",
            "W2 = [[ 0.00865408 -0.02301539]]\n",
            "b2 = [[0.]]\n"
          ],
          "name": "stdout"
        }
      ]
    },
    {
      "cell_type": "code",
      "metadata": {
        "id": "e5j5imtxovel",
        "colab_type": "code",
        "colab": {}
      },
      "source": [
        "def initialize_parameters_deep(layer_dims):\n",
        "    np.random.seed(3)\n",
        "    parameters = {}\n",
        "    L = len(layer_dims)            \n",
        "    for l in range(1, L):\n",
        "        parameters['W' + str(l)] = np.random.randn(layer_dims[l], layer_dims[l - 1]) * 0.01\n",
        "        parameters['b' + str(l)] = np.zeros((layer_dims[l], 1))\n",
        "        assert(parameters['W' + str(l)].shape == (layer_dims[l], layer_dims[l - 1]))\n",
        "        assert(parameters['b' + str(l)].shape == (layer_dims[l], 1))   \n",
        "    return parameters"
      ],
      "execution_count": 0,
      "outputs": []
    },
    {
      "cell_type": "code",
      "metadata": {
        "id": "rtOvE-E_ovkF",
        "colab_type": "code",
        "colab": {
          "base_uri": "https://localhost:8080/",
          "height": 255
        },
        "outputId": "1a12fc7d-ad24-4994-9f76-2cc1e53b02b3"
      },
      "source": [
        "parameters = initialize_parameters_deep([5,4,3])\n",
        "print(\"W1 = \" + str(parameters[\"W1\"]))\n",
        "print(\"b1 = \" + str(parameters[\"b1\"]))\n",
        "print(\"W2 = \" + str(parameters[\"W2\"]))\n",
        "print(\"b2 = \" + str(parameters[\"b2\"]))"
      ],
      "execution_count": 50,
      "outputs": [
        {
          "output_type": "stream",
          "text": [
            "W1 = [[ 0.01788628  0.0043651   0.00096497 -0.01863493 -0.00277388]\n",
            " [-0.00354759 -0.00082741 -0.00627001 -0.00043818 -0.00477218]\n",
            " [-0.01313865  0.00884622  0.00881318  0.01709573  0.00050034]\n",
            " [-0.00404677 -0.0054536  -0.01546477  0.00982367 -0.01101068]]\n",
            "b1 = [[0.]\n",
            " [0.]\n",
            " [0.]\n",
            " [0.]]\n",
            "W2 = [[-0.01185047 -0.0020565   0.01486148  0.00236716]\n",
            " [-0.01023785 -0.00712993  0.00625245 -0.00160513]\n",
            " [-0.00768836 -0.00230031  0.00745056  0.01976111]]\n",
            "b2 = [[0.]\n",
            " [0.]\n",
            " [0.]]\n"
          ],
          "name": "stdout"
        }
      ]
    },
    {
      "cell_type": "code",
      "metadata": {
        "id": "6oUF5DWfovmn",
        "colab_type": "code",
        "colab": {}
      },
      "source": [
        "def linear_forward(A, W, b):\n",
        "    Z = np.dot(W, A) + b\n",
        "    assert(Z.shape == (W.shape[0], A.shape[1]))\n",
        "    cache = (A, W, b)\n",
        "    return Z, cache"
      ],
      "execution_count": 0,
      "outputs": []
    },
    {
      "cell_type": "code",
      "metadata": {
        "id": "PQcoFrkBrNZQ",
        "colab_type": "code",
        "colab": {
          "base_uri": "https://localhost:8080/",
          "height": 34
        },
        "outputId": "86ff4a39-016d-4933-ce9a-23babd8917da"
      },
      "source": [
        "\n",
        "A, W, b = linear_forward_test_case()\n",
        "\n",
        "Z, linear_cache = linear_forward(A, W, b)\n",
        "print(\"Z = \" + str(Z))"
      ],
      "execution_count": 52,
      "outputs": [
        {
          "output_type": "stream",
          "text": [
            "Z = [[ 3.26295337 -1.23429987]]\n"
          ],
          "name": "stdout"
        }
      ]
    },
    {
      "cell_type": "markdown",
      "metadata": {
        "id": "MiYm4NPh8d-V",
        "colab_type": "text"
      },
      "source": [
        "##Linear activation forward"
      ]
    },
    {
      "cell_type": "code",
      "metadata": {
        "id": "wUjoDFLormAY",
        "colab_type": "code",
        "colab": {}
      },
      "source": [
        "def linear_activation_forward(A_prev, W, b, activation):\n",
        "    if activation == \"sigmoid\":\n",
        "        Z, linear_cache = linear_forward(A_prev, W, b)\n",
        "        A, activation_cache = sigmoid(Z)\n",
        "    elif activation == \"relu\":\n",
        "        Z, linear_cache = linear_forward(A_prev, W, b)\n",
        "        A, activation_cache = relu(Z)\n",
        "    assert (A.shape == (W.shape[0], A_prev.shape[1]))\n",
        "    cache = (linear_cache, activation_cache)\n",
        "    return A, cache"
      ],
      "execution_count": 0,
      "outputs": []
    },
    {
      "cell_type": "code",
      "metadata": {
        "id": "Eo89txguryiU",
        "colab_type": "code",
        "colab": {
          "base_uri": "https://localhost:8080/",
          "height": 51
        },
        "outputId": "18c5d9d3-daab-4dcc-9061-60e8bb0f9852"
      },
      "source": [
        "A_prev, W, b = linear_activation_forward_test_case()\n",
        "\n",
        "A, linear_activation_cache = linear_activation_forward(A_prev, W, b, activation = \"sigmoid\")\n",
        "print(\"With sigmoid: A = \" + str(A))\n",
        "\n",
        "A, linear_activation_cache = linear_activation_forward(A_prev, W, b, activation = \"relu\")\n",
        "print(\"With ReLU: A = \" + str(A))"
      ],
      "execution_count": 54,
      "outputs": [
        {
          "output_type": "stream",
          "text": [
            "With sigmoid: A = [[0.96890023 0.11013289]]\n",
            "With ReLU: A = [[3.43896131 0.        ]]\n"
          ],
          "name": "stdout"
        }
      ]
    },
    {
      "cell_type": "markdown",
      "metadata": {
        "id": "jRiDnGoE8agV",
        "colab_type": "text"
      },
      "source": [
        "##Layer Model"
      ]
    },
    {
      "cell_type": "code",
      "metadata": {
        "id": "BAPMt_C6r1k5",
        "colab_type": "code",
        "colab": {}
      },
      "source": [
        "def L_model_forward(X, parameters):\n",
        "    caches = []\n",
        "    A = X\n",
        "    L = len(parameters) // 2                 \n",
        "    for l in range(1, L):\n",
        "        A_prev = A \n",
        "        A, cache = linear_activation_forward(A_prev, \n",
        "                                             parameters['W' + str(l)], \n",
        "                                             parameters['b' + str(l)], \n",
        "                                             activation='relu')\n",
        "        caches.append(cache)\n",
        "    AL, cache = linear_activation_forward(A, \n",
        "                                          parameters['W' + str(L)], \n",
        "                                          parameters['b' + str(L)], \n",
        "                                          activation='sigmoid')\n",
        "    caches.append(cache)\n",
        "    assert(AL.shape == (1, X.shape[1]))\n",
        "    return AL, caches"
      ],
      "execution_count": 0,
      "outputs": []
    },
    {
      "cell_type": "code",
      "metadata": {
        "id": "gD3eAxN7sQXG",
        "colab_type": "code",
        "colab": {
          "base_uri": "https://localhost:8080/",
          "height": 51
        },
        "outputId": "17864deb-795b-4b57-a66b-c3f83d5bbb83"
      },
      "source": [
        "X, parameters = L_model_forward_test_case()\n",
        "AL, caches = L_model_forward(X, parameters)\n",
        "print(\"AL = \" + str(AL))\n",
        "print(\"Length of caches list = \" + str(len(caches)))"
      ],
      "execution_count": 56,
      "outputs": [
        {
          "output_type": "stream",
          "text": [
            "AL = [[0.17007265 0.2524272 ]]\n",
            "Length of caches list = 2\n"
          ],
          "name": "stdout"
        }
      ]
    },
    {
      "cell_type": "markdown",
      "metadata": {
        "id": "i6lXZNx_8Xvh",
        "colab_type": "text"
      },
      "source": [
        "##Cost Function"
      ]
    },
    {
      "cell_type": "code",
      "metadata": {
        "id": "eX3k1cU_sUN2",
        "colab_type": "code",
        "colab": {}
      },
      "source": [
        "def compute_cost(AL, Y):\n",
        "    m = Y.shape[1]\n",
        "    cost = (-1 / m) * np.sum(np.multiply(Y, np.log(AL)) + np.multiply(1 - Y, np.log(1 - AL)))\n",
        "    cost = np.squeeze(cost)      \n",
        "    assert(cost.shape == ()) \n",
        "    return cost"
      ],
      "execution_count": 0,
      "outputs": []
    },
    {
      "cell_type": "code",
      "metadata": {
        "id": "DL8vbbOtsgxv",
        "colab_type": "code",
        "colab": {
          "base_uri": "https://localhost:8080/",
          "height": 34
        },
        "outputId": "cf90643a-6e35-4af8-d670-8ea4504875dd"
      },
      "source": [
        "\n",
        "Y, AL = compute_cost_test_case()\n",
        "\n",
        "print(\"cost = \" + str(compute_cost(AL, Y)))"
      ],
      "execution_count": 58,
      "outputs": [
        {
          "output_type": "stream",
          "text": [
            "cost = 0.41493159961539694\n"
          ],
          "name": "stdout"
        }
      ]
    },
    {
      "cell_type": "code",
      "metadata": {
        "id": "MFSOuBeosi0I",
        "colab_type": "code",
        "colab": {}
      },
      "source": [
        "def linear_backward(dZ, cache):\n",
        "    A_prev, W, b = cache\n",
        "    m = A_prev.shape[1]\n",
        "    dW = np.dot(dZ, cache[0].T) / m\n",
        "    db = np.squeeze(np.sum(dZ, axis=1, keepdims=True)) / m\n",
        "    dA_prev = np.dot(cache[1].T, dZ)\n",
        "    assert (dA_prev.shape == A_prev.shape)\n",
        "    assert (dW.shape == W.shape)\n",
        "    assert (isinstance(db, float))\n",
        "    return dA_prev, dW, db"
      ],
      "execution_count": 0,
      "outputs": []
    },
    {
      "cell_type": "code",
      "metadata": {
        "id": "pINuGqSssq5T",
        "colab_type": "code",
        "colab": {
          "base_uri": "https://localhost:8080/",
          "height": 102
        },
        "outputId": "d5b2a37d-d7cd-4b46-fdfc-b28e28f62106"
      },
      "source": [
        "dZ, linear_cache = linear_backward_test_case()\n",
        "\n",
        "dA_prev, dW, db = linear_backward(dZ, linear_cache)\n",
        "print (\"dA_prev = \"+ str(dA_prev))\n",
        "print (\"dW = \" + str(dW))\n",
        "print (\"db = \" + str(db))"
      ],
      "execution_count": 60,
      "outputs": [
        {
          "output_type": "stream",
          "text": [
            "dA_prev = [[ 0.51822968 -0.19517421]\n",
            " [-0.40506361  0.15255393]\n",
            " [ 2.37496825 -0.89445391]]\n",
            "dW = [[-0.10076895  1.40685096  1.64992505]]\n",
            "db = 0.5062944750065832\n"
          ],
          "name": "stdout"
        }
      ]
    },
    {
      "cell_type": "markdown",
      "metadata": {
        "id": "Nq0cZ6N08UoU",
        "colab_type": "text"
      },
      "source": [
        "##Linear-Activation backward"
      ]
    },
    {
      "cell_type": "code",
      "metadata": {
        "id": "BCXm2tdjswYf",
        "colab_type": "code",
        "colab": {}
      },
      "source": [
        "def linear_activation_backward(dA, cache, activation):\n",
        "    linear_cache, activation_cache = cache\n",
        "    if activation == \"relu\":\n",
        "        dZ = relu_backward(dA, activation_cache)\n",
        "    elif activation == \"sigmoid\":\n",
        "        dZ = sigmoid_backward(dA, activation_cache)\n",
        "    dA_prev, dW, db = linear_backward(dZ, linear_cache)\n",
        "    return dA_prev, dW, db"
      ],
      "execution_count": 0,
      "outputs": []
    },
    {
      "cell_type": "code",
      "metadata": {
        "id": "e_EN3YO9s6y0",
        "colab_type": "code",
        "colab": {
          "base_uri": "https://localhost:8080/",
          "height": 238
        },
        "outputId": "9cbdbd70-3c97-4f41-df5e-d0869ecc4b9f"
      },
      "source": [
        "\n",
        "AL, linear_activation_cache = linear_activation_backward_test_case()\n",
        "\n",
        "dA_prev, dW, db = linear_activation_backward(AL, linear_activation_cache, activation = \"sigmoid\")\n",
        "print (\"sigmoid:\")\n",
        "print (\"dA_prev = \"+ str(dA_prev))\n",
        "print (\"dW = \" + str(dW))\n",
        "print (\"db = \" + str(db) + \"\\n\")\n",
        "\n",
        "dA_prev, dW, db = linear_activation_backward(AL, linear_activation_cache, activation = \"relu\")\n",
        "print (\"relu:\")\n",
        "print (\"dA_prev = \"+ str(dA_prev))\n",
        "print (\"dW = \" + str(dW))\n",
        "print (\"db = \" + str(db))"
      ],
      "execution_count": 62,
      "outputs": [
        {
          "output_type": "stream",
          "text": [
            "sigmoid:\n",
            "dA_prev = [[ 0.11017994  0.01105339]\n",
            " [ 0.09466817  0.00949723]\n",
            " [-0.05743092 -0.00576154]]\n",
            "dW = [[ 0.10266786  0.09778551 -0.01968084]]\n",
            "db = -0.057296222176291135\n",
            "\n",
            "relu:\n",
            "dA_prev = [[ 0.44090989  0.        ]\n",
            " [ 0.37883606  0.        ]\n",
            " [-0.2298228   0.        ]]\n",
            "dW = [[ 0.44513824  0.37371418 -0.10478989]]\n",
            "db = -0.2083789237027353\n"
          ],
          "name": "stdout"
        }
      ]
    },
    {
      "cell_type": "markdown",
      "metadata": {
        "id": "nWSCsCcH8PRn",
        "colab_type": "text"
      },
      "source": [
        "##L-model Backward"
      ]
    },
    {
      "cell_type": "code",
      "metadata": {
        "id": "4fitVd3as9aO",
        "colab_type": "code",
        "colab": {}
      },
      "source": [
        "def L_model_backward(AL, Y, caches):\n",
        "\n",
        "    grads = {}\n",
        "    L = len(caches) # the number of layers\n",
        "    m = AL.shape[1]\n",
        "    Y = Y.reshape(AL.shape) # after this line, Y is the same shape as AL\n",
        "\n",
        "    dAL = dAL = - (np.divide(Y, AL) - np.divide(1 - Y, 1 - AL))\n",
        "  \n",
        "    current_cache = caches[-1]\n",
        "    grads[\"dA\" + str(L)], grads[\"dW\" + str(L)], grads[\"db\" + str(L)] = linear_backward(sigmoid_backward(dAL, \n",
        "                                                                                                        current_cache[1]), \n",
        "                                                                                       current_cache[0])\n",
        "  \n",
        "    for l in reversed(range(L-1)):\n",
        "        current_cache = caches[l]\n",
        "        dA_prev_temp, dW_temp, db_temp = linear_backward(sigmoid_backward(dAL, current_cache[1]), current_cache[0])\n",
        "        grads[\"dA\" + str(l + 1)] = dA_prev_temp\n",
        "        grads[\"dW\" + str(l + 1)] = dW_temp\n",
        "        grads[\"db\" + str(l + 1)] = db_temp\n",
        "    return grads"
      ],
      "execution_count": 0,
      "outputs": []
    },
    {
      "cell_type": "code",
      "metadata": {
        "id": "l8NcRE-yt8Rm",
        "colab_type": "code",
        "colab": {
          "base_uri": "https://localhost:8080/",
          "height": 119
        },
        "outputId": "e85eb509-6570-4d4e-8703-b65a048bcbfa"
      },
      "source": [
        "# X_assess, Y_assess, AL, caches = L_model_backward_test_case()\n",
        "# grads = L_model_backward(AL, Y_assess, caches)\n",
        "print (\"dW1 = \"+ str(grads[\"dW1\"]))\n",
        "print (\"db1 = \"+ str(grads[\"db1\"]))\n",
        "# print (\"dA1 = \"+ str(grads[\"dA1\"]))"
      ],
      "execution_count": 70,
      "outputs": [
        {
          "output_type": "stream",
          "text": [
            "dW1 = [[ 1.78862847  0.43650985  0.09649747 -1.8634927 ]\n",
            " [-0.2773882  -0.35475898 -0.08274148 -0.62700068]\n",
            " [-0.04381817 -0.47721803 -1.31386475  0.88462238]]\n",
            "db1 = [[0.88131804]\n",
            " [1.70957306]\n",
            " [0.05003364]]\n"
          ],
          "name": "stdout"
        }
      ]
    },
    {
      "cell_type": "markdown",
      "metadata": {
        "id": "Ne-jYqRo8FBF",
        "colab_type": "text"
      },
      "source": [
        "##Update parameter"
      ]
    },
    {
      "cell_type": "code",
      "metadata": {
        "id": "Ldj0tynet_Bb",
        "colab_type": "code",
        "colab": {}
      },
      "source": [
        "def update_parameters(parameters, grads, learning_rate):\n",
        "    \"\"\"\n",
        "    Update parameters using gradient descent\n",
        "    \n",
        "    Arguments:\n",
        "    parameters -- python dictionary containing your parameters \n",
        "    grads -- python dictionary containing your gradients, output of L_model_backward\n",
        "    \n",
        "    Returns:\n",
        "    parameters -- python dictionary containing your updated parameters \n",
        "                  parameters[\"W\" + str(l)] = ... \n",
        "                  parameters[\"b\" + str(l)] = ...\n",
        "    \"\"\"\n",
        "    \n",
        "    L = len(parameters) \n",
        "    for l in range(L):\n",
        "        parameters[\"W\" + str(l + 1)] = parameters[\"W\" + str(l + 1)] - learning_rate * grads[\"dW\" + str(l + 1)]\n",
        "        parameters[\"b\" + str(l + 1)] = parameters[\"b\" + str(l + 1)] - learning_rate * grads[\"db\" + str(l + 1)]\n",
        "        \n",
        "    return parameters"
      ],
      "execution_count": 0,
      "outputs": []
    },
    {
      "cell_type": "code",
      "metadata": {
        "id": "9K8BwBm572BO",
        "colab_type": "code",
        "colab": {
          "base_uri": "https://localhost:8080/",
          "height": 153
        },
        "outputId": "39366e5f-5174-42d6-a50f-1b8795bd439b"
      },
      "source": [
        "\n",
        "parameters, grads = update_parameters_test_case()\n",
        "parameters = update_parameters(parameters, grads, 0.1)\n",
        "\n",
        "print (\"W1 = \" + str(parameters[\"W1\"]))\n",
        "print (\"b1 = \" + str(parameters[\"b1\"]))\n",
        "print (\"W2 = \" + str(parameters[\"W2\"]))\n",
        "print (\"b2 = \" + str(parameters[\"b2\"]))\n",
        "# print (\"W3 = \" + str(parameters[\"W3\"]))\n",
        "# print (\"b3 = \" + str(parameters[\"b3\"]))"
      ],
      "execution_count": 67,
      "outputs": [
        {
          "output_type": "stream",
          "text": [
            "W1 = [[-0.59562069 -0.09991781 -2.14584584  1.82662008]\n",
            " [-1.76569676 -0.80627147  0.51115557 -1.18258802]\n",
            " [-1.0535704  -0.86128581  0.68284052  2.20374577]]\n",
            "b1 = [[-0.04659241]\n",
            " [-1.28888275]\n",
            " [ 0.53405496]]\n",
            "W2 = [[-0.55569196  0.0354055   1.32964895]]\n",
            "b2 = [[-0.84610769]]\n"
          ],
          "name": "stdout"
        }
      ]
    },
    {
      "cell_type": "code",
      "metadata": {
        "id": "T57mOQCn74em",
        "colab_type": "code",
        "colab": {}
      },
      "source": [
        ""
      ],
      "execution_count": 0,
      "outputs": []
    }
  ]
}