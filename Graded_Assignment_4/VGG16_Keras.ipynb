{
  "nbformat": 4,
  "nbformat_minor": 0,
  "metadata": {
    "colab": {
      "name": "VGG16_Keras.ipynb",
      "provenance": [],
      "authorship_tag": "ABX9TyPlMgSh/PSqj+r194RmGpdz",
      "include_colab_link": true
    },
    "kernelspec": {
      "name": "python3",
      "display_name": "Python 3"
    },
    "accelerator": "GPU"
  },
  "cells": [
    {
      "cell_type": "markdown",
      "metadata": {
        "id": "view-in-github",
        "colab_type": "text"
      },
      "source": [
        "<a href=\"https://colab.research.google.com/github/Ranjani94/Deep_Learning/blob/master/Graded_Assignment_4/VGG16_Keras.ipynb\" target=\"_parent\"><img src=\"https://colab.research.google.com/assets/colab-badge.svg\" alt=\"Open In Colab\"/></a>"
      ]
    },
    {
      "cell_type": "markdown",
      "metadata": {
        "id": "3E8L0N1nGyMX",
        "colab_type": "text"
      },
      "source": [
        "##Cifar - 100 Classifier using VGG-16 Model"
      ]
    },
    {
      "cell_type": "code",
      "metadata": {
        "id": "Eafbz4PoGs-9",
        "colab_type": "code",
        "colab": {}
      },
      "source": [
        "from __future__ import print_function\n",
        "import keras\n",
        "from keras.datasets import cifar100\n",
        "from keras.models import Sequential\n",
        "from keras.layers import Dense, Dropout, Activation, Flatten\n",
        "from keras.layers import Conv2D, MaxPooling2D, ZeroPadding2D\n",
        "from keras.optimizers import SGD\n",
        "from keras.regularizers import l2\n",
        "from keras.callbacks import Callback, LearningRateScheduler, TensorBoard, ModelCheckpoint\n",
        "from keras.preprocessing.image import ImageDataGenerator\n",
        "from keras.utils import print_summary, to_categorical\n",
        "from keras import backend as K\n",
        "import sys\n",
        "import os\n",
        "import numpy as np"
      ],
      "execution_count": 0,
      "outputs": []
    },
    {
      "cell_type": "code",
      "metadata": {
        "id": "bnu62YxhNvXF",
        "colab_type": "code",
        "colab": {}
      },
      "source": [
        "BATCH_SIZE = 100\n",
        "NUM_CLASSES = 100\n",
        "EPOCHS = 10\n",
        "INIT_DROPOUT_RATE = 0.5\n",
        "MOMENTUM_RATE = 0.9\n",
        "INIT_LEARNING_RATE = 0.01\n",
        "L2_DECAY_RATE = 0.0005\n",
        "CROP_SIZE = 32\n",
        "LOG_DIR = './logs'\n",
        "MODEL_PATH = './models/keras_cifar100_model.h5'"
      ],
      "execution_count": 0,
      "outputs": []
    },
    {
      "cell_type": "code",
      "metadata": {
        "id": "cRed6JZsN7wy",
        "colab_type": "code",
        "colab": {}
      },
      "source": [
        "(x_train, y_train), (x_test, y_test) = cifar100.load_data()"
      ],
      "execution_count": 0,
      "outputs": []
    },
    {
      "cell_type": "code",
      "metadata": {
        "id": "Jxs5n2dDN9RD",
        "colab_type": "code",
        "colab": {}
      },
      "source": [
        "y_train = to_categorical(y_train, NUM_CLASSES)\n",
        "y_test = to_categorical(y_test, NUM_CLASSES)"
      ],
      "execution_count": 0,
      "outputs": []
    },
    {
      "cell_type": "code",
      "metadata": {
        "id": "7cUMkyfPN-7C",
        "colab_type": "code",
        "colab": {}
      },
      "source": [
        "x_train = x_train.astype('float32')\n",
        "x_test = x_test.astype('float32')\n",
        "x_train /= 255.0\n",
        "x_test /= 255.0"
      ],
      "execution_count": 0,
      "outputs": []
    },
    {
      "cell_type": "code",
      "metadata": {
        "id": "JbFHint2OBKg",
        "colab_type": "code",
        "colab": {}
      },
      "source": [
        "model = Sequential()\n",
        "model.add(ZeroPadding2D(4, input_shape=x_train.shape[1:]))\n",
        "# Stack 1:\n",
        "model.add(Conv2D(384, (3, 3), padding='same', kernel_regularizer=l2(0.01)))\n",
        "model.add(Activation('elu'))\n",
        "model.add(MaxPooling2D(pool_size=(2, 2), padding='same'))\n",
        "model.add(Dropout(INIT_DROPOUT_RATE))\n",
        "# Stack 2:\n",
        "model.add(Conv2D(384, (1, 1), padding='same', kernel_regularizer=l2(L2_DECAY_RATE)))\n",
        "model.add(Conv2D(384, (2, 2), padding='same', kernel_regularizer=l2(L2_DECAY_RATE)))\n",
        "model.add(Conv2D(640, (2, 2), padding='same', kernel_regularizer=l2(L2_DECAY_RATE)))\n",
        "model.add(Conv2D(640, (2, 2), padding='same', kernel_regularizer=l2(L2_DECAY_RATE)))\n",
        "model.add(Activation('elu'))\n",
        "model.add(MaxPooling2D(pool_size=(2, 2), padding='same'))\n",
        "model.add(Dropout(INIT_DROPOUT_RATE))\n",
        "# Stack 3:\n",
        "model.add(Conv2D(640, (3, 3), padding='same', kernel_regularizer=l2(L2_DECAY_RATE)))\n",
        "model.add(Conv2D(768, (2, 2), padding='same', kernel_regularizer=l2(L2_DECAY_RATE)))\n",
        "model.add(Conv2D(768, (2, 2), padding='same', kernel_regularizer=l2(L2_DECAY_RATE)))\n",
        "model.add(Conv2D(768, (2, 2), padding='same', kernel_regularizer=l2(L2_DECAY_RATE)))\n",
        "model.add(Activation('elu'))\n",
        "model.add(MaxPooling2D(pool_size=(2, 2), padding='same'))\n",
        "model.add(Dropout(INIT_DROPOUT_RATE))\n",
        "# Stack 4:\n",
        "model.add(Conv2D(768, (1, 1), padding='same', kernel_regularizer=l2(L2_DECAY_RATE)))\n",
        "model.add(Conv2D(896, (2, 2), padding='same', kernel_regularizer=l2(L2_DECAY_RATE)))\n",
        "model.add(Conv2D(896, (2, 2), padding='same', kernel_regularizer=l2(L2_DECAY_RATE)))\n",
        "model.add(Activation('elu'))\n",
        "model.add(MaxPooling2D(pool_size=(2, 2), padding='same'))\n",
        "model.add(Dropout(INIT_DROPOUT_RATE))\n",
        "# Stack 5:\n",
        "model.add(Conv2D(896, (3, 3), padding='same', kernel_regularizer=l2(L2_DECAY_RATE)))\n",
        "model.add(Conv2D(1024, (2, 2), padding='same', kernel_regularizer=l2(L2_DECAY_RATE)))\n",
        "model.add(Conv2D(1024, (2, 2), padding='same', kernel_regularizer=l2(L2_DECAY_RATE)))\n",
        "model.add(Activation('elu'))\n",
        "model.add(MaxPooling2D(pool_size=(2, 2), padding='same'))\n",
        "model.add(Dropout(INIT_DROPOUT_RATE))\n",
        "# Stack 6:\n",
        "model.add(Conv2D(1024, (1, 1), padding='same', kernel_regularizer=l2(L2_DECAY_RATE)))\n",
        "model.add(Conv2D(1152, (2, 2), padding='same', kernel_regularizer=l2(L2_DECAY_RATE)))\n",
        "model.add(Activation('elu'))\n",
        "model.add(MaxPooling2D(pool_size=(2, 2), padding='same'))\n",
        "model.add(Dropout(INIT_DROPOUT_RATE))\n",
        "# Stack 7:\n",
        "model.add(Conv2D(1152, (1, 1), padding='same', kernel_regularizer=l2(L2_DECAY_RATE)))\n",
        "model.add(Activation('elu'))\n",
        "model.add(MaxPooling2D(pool_size=(2, 2), padding='same'))\n",
        "model.add(Dropout(INIT_DROPOUT_RATE))\n",
        "model.add(Flatten())\n",
        "model.add(Dense(NUM_CLASSES))\n",
        "model.add(Activation('softmax'))"
      ],
      "execution_count": 0,
      "outputs": []
    },
    {
      "cell_type": "code",
      "metadata": {
        "id": "ttS4Doc1OHfQ",
        "colab_type": "code",
        "colab": {
          "base_uri": "https://localhost:8080/",
          "height": 1000
        },
        "outputId": "f53e836c-120a-41aa-c8e0-d3f9f2c0a90e"
      },
      "source": [
        "model.summary()"
      ],
      "execution_count": 37,
      "outputs": [
        {
          "output_type": "stream",
          "text": [
            "Model: \"sequential_2\"\n",
            "_________________________________________________________________\n",
            "Layer (type)                 Output Shape              Param #   \n",
            "=================================================================\n",
            "zero_padding2d_2 (ZeroPaddin (None, 40, 40, 3)         0         \n",
            "_________________________________________________________________\n",
            "conv2d_19 (Conv2D)           (None, 40, 40, 384)       10752     \n",
            "_________________________________________________________________\n",
            "activation_9 (Activation)    (None, 40, 40, 384)       0         \n",
            "_________________________________________________________________\n",
            "max_pooling2d_8 (MaxPooling2 (None, 20, 20, 384)       0         \n",
            "_________________________________________________________________\n",
            "dropout_8 (Dropout)          (None, 20, 20, 384)       0         \n",
            "_________________________________________________________________\n",
            "conv2d_20 (Conv2D)           (None, 20, 20, 384)       147840    \n",
            "_________________________________________________________________\n",
            "conv2d_21 (Conv2D)           (None, 20, 20, 384)       590208    \n",
            "_________________________________________________________________\n",
            "conv2d_22 (Conv2D)           (None, 20, 20, 640)       983680    \n",
            "_________________________________________________________________\n",
            "conv2d_23 (Conv2D)           (None, 20, 20, 640)       1639040   \n",
            "_________________________________________________________________\n",
            "activation_10 (Activation)   (None, 20, 20, 640)       0         \n",
            "_________________________________________________________________\n",
            "max_pooling2d_9 (MaxPooling2 (None, 10, 10, 640)       0         \n",
            "_________________________________________________________________\n",
            "dropout_9 (Dropout)          (None, 10, 10, 640)       0         \n",
            "_________________________________________________________________\n",
            "conv2d_24 (Conv2D)           (None, 10, 10, 640)       3687040   \n",
            "_________________________________________________________________\n",
            "conv2d_25 (Conv2D)           (None, 10, 10, 768)       1966848   \n",
            "_________________________________________________________________\n",
            "conv2d_26 (Conv2D)           (None, 10, 10, 768)       2360064   \n",
            "_________________________________________________________________\n",
            "conv2d_27 (Conv2D)           (None, 10, 10, 768)       2360064   \n",
            "_________________________________________________________________\n",
            "activation_11 (Activation)   (None, 10, 10, 768)       0         \n",
            "_________________________________________________________________\n",
            "max_pooling2d_10 (MaxPooling (None, 5, 5, 768)         0         \n",
            "_________________________________________________________________\n",
            "dropout_10 (Dropout)         (None, 5, 5, 768)         0         \n",
            "_________________________________________________________________\n",
            "conv2d_28 (Conv2D)           (None, 5, 5, 768)         590592    \n",
            "_________________________________________________________________\n",
            "conv2d_29 (Conv2D)           (None, 5, 5, 896)         2753408   \n",
            "_________________________________________________________________\n",
            "conv2d_30 (Conv2D)           (None, 5, 5, 896)         3212160   \n",
            "_________________________________________________________________\n",
            "activation_12 (Activation)   (None, 5, 5, 896)         0         \n",
            "_________________________________________________________________\n",
            "max_pooling2d_11 (MaxPooling (None, 3, 3, 896)         0         \n",
            "_________________________________________________________________\n",
            "dropout_11 (Dropout)         (None, 3, 3, 896)         0         \n",
            "_________________________________________________________________\n",
            "conv2d_31 (Conv2D)           (None, 3, 3, 896)         7226240   \n",
            "_________________________________________________________________\n",
            "conv2d_32 (Conv2D)           (None, 3, 3, 1024)        3671040   \n",
            "_________________________________________________________________\n",
            "conv2d_33 (Conv2D)           (None, 3, 3, 1024)        4195328   \n",
            "_________________________________________________________________\n",
            "activation_13 (Activation)   (None, 3, 3, 1024)        0         \n",
            "_________________________________________________________________\n",
            "max_pooling2d_12 (MaxPooling (None, 2, 2, 1024)        0         \n",
            "_________________________________________________________________\n",
            "dropout_12 (Dropout)         (None, 2, 2, 1024)        0         \n",
            "_________________________________________________________________\n",
            "conv2d_34 (Conv2D)           (None, 2, 2, 1024)        1049600   \n",
            "_________________________________________________________________\n",
            "conv2d_35 (Conv2D)           (None, 2, 2, 1152)        4719744   \n",
            "_________________________________________________________________\n",
            "activation_14 (Activation)   (None, 2, 2, 1152)        0         \n",
            "_________________________________________________________________\n",
            "max_pooling2d_13 (MaxPooling (None, 1, 1, 1152)        0         \n",
            "_________________________________________________________________\n",
            "dropout_13 (Dropout)         (None, 1, 1, 1152)        0         \n",
            "_________________________________________________________________\n",
            "conv2d_36 (Conv2D)           (None, 1, 1, 1152)        1328256   \n",
            "_________________________________________________________________\n",
            "activation_15 (Activation)   (None, 1, 1, 1152)        0         \n",
            "_________________________________________________________________\n",
            "max_pooling2d_14 (MaxPooling (None, 1, 1, 1152)        0         \n",
            "_________________________________________________________________\n",
            "dropout_14 (Dropout)         (None, 1, 1, 1152)        0         \n",
            "_________________________________________________________________\n",
            "flatten_2 (Flatten)          (None, 1152)              0         \n",
            "_________________________________________________________________\n",
            "dense_2 (Dense)              (None, 100)               115300    \n",
            "_________________________________________________________________\n",
            "activation_16 (Activation)   (None, 100)               0         \n",
            "=================================================================\n",
            "Total params: 42,607,204\n",
            "Trainable params: 42,607,204\n",
            "Non-trainable params: 0\n",
            "_________________________________________________________________\n"
          ],
          "name": "stdout"
        }
      ]
    },
    {
      "cell_type": "code",
      "metadata": {
        "id": "xEUatyd_OMgF",
        "colab_type": "code",
        "colab": {}
      },
      "source": [
        "def lr_scheduler(epoch, lr, step_decay = 0.1):\n",
        "    return float(lr * step_decay) if epoch == 35.000 else lr"
      ],
      "execution_count": 0,
      "outputs": []
    },
    {
      "cell_type": "code",
      "metadata": {
        "id": "YlJyQciWONBX",
        "colab_type": "code",
        "colab": {}
      },
      "source": [
        "def dr_scheduler(epoch, layers, rate_list = [0.0, .1, .2, .3, .4, .5, 0.0], rate_factor = 1.5):\n",
        "    if epoch == 85000:\n",
        "        for i, layer in enumerate([l for l in layers if \"dropout\" in np.str.lower(l.name)]):\n",
        "            layer.rate = layer.rate + rate_list[i]\n",
        "    elif epoch == 135000:\n",
        "        for i, layer in enumerate([l for l in layers if \"dropout\" in np.str.lower(l.name)]):\n",
        "            layer.rate = layer.rate + layer.rate * rate_factor if layer.rate <= 0.66 else 1\n",
        "    return layers"
      ],
      "execution_count": 0,
      "outputs": []
    },
    {
      "cell_type": "code",
      "metadata": {
        "id": "5TvrPiRIOOwp",
        "colab_type": "code",
        "colab": {}
      },
      "source": [
        "class StepLearningRateSchedulerAt(LearningRateScheduler):\n",
        "    def __init__(self, schedule, verbose = 0): \n",
        "        super(LearningRateScheduler, self).__init__()\n",
        "        self.schedule = schedule\n",
        "        self.verbose = verbose\n",
        "    \n",
        "    def on_epoch_begin(self, epoch, logs=None): \n",
        "        if not hasattr(self.model.optimizer, 'lr'):\n",
        "            raise ValueError('Optimizer must have a \"lr\" attribute.')\n",
        "            \n",
        "        lr = float(K.get_value(self.model.optimizer.lr))\n",
        "        lr = self.schedule(epoch, lr)\n",
        "       \n",
        "        if not isinstance(lr, (float, np.float32, np.float64)):\n",
        "            raise ValueError('The output of the \"schedule\" function ' 'should be float.')\n",
        "        \n",
        "        K.set_value(self.model.optimizer.lr, lr)\n",
        "        if self.verbose > 0: \n",
        "            print('\\nEpoch %05d: LearningRateScheduler reducing learning ' 'rate to %s.' % (epoch + 1, lr))"
      ],
      "execution_count": 0,
      "outputs": []
    },
    {
      "cell_type": "code",
      "metadata": {
        "id": "hzRWSecBOSaf",
        "colab_type": "code",
        "colab": {}
      },
      "source": [
        "class DropoutRateScheduler(Callback):\n",
        "    def __init__(self, schedule, verbose = 0):\n",
        "        super(Callback, self).__init__()\n",
        "        self.schedule = schedule\n",
        "        self.verbose = verbose\n",
        "        \n",
        "    def on_epoch_begin(self, epoch, logs=None):\n",
        "        if not hasattr(self.model, 'layers'):\n",
        "            raise ValueError('Model must have a \"layers\" attribute.')\n",
        "            \n",
        "        layers = self.model.layers\n",
        "        layers = self.schedule(epoch, layers)\n",
        "        \n",
        "        if not isinstance(layers, list):\n",
        "            raise ValueError('The output of the \"schedule\" function should be list.')\n",
        "        \n",
        "        self.model.layers = layers\n",
        "        \n",
        "        if self.verbose > 0:\n",
        "            for layer in [l for l in self.model.layers if \"dropout\" in np.str.lower(l.name)]:\n",
        "                print('\\nEpoch %05d: Dropout rate for layer %s: %s.' % (epoch + 1, layer.name, layer.rate))"
      ],
      "execution_count": 0,
      "outputs": []
    },
    {
      "cell_type": "code",
      "metadata": {
        "id": "4j_EqFArOVKs",
        "colab_type": "code",
        "colab": {}
      },
      "source": [
        "def random_crop(img, random_crop_size):\n",
        "    height, width = img.shape[0], img.shape[1]\n",
        "    dy, dx = random_crop_size\n",
        "    x = np.random.randint(0, width - dx + 1)\n",
        "    y = np.random.randint(0, height - dy + 1)\n",
        "    return img[y:(y+dy), x:(x+dx), :]"
      ],
      "execution_count": 0,
      "outputs": []
    },
    {
      "cell_type": "code",
      "metadata": {
        "id": "HzfR3MgROYTd",
        "colab_type": "code",
        "colab": {}
      },
      "source": [
        "def crop_generator(batches, crop_length, num_channel = 3):\n",
        "    while True:\n",
        "        batch_x, batch_y = next(batches)\n",
        "        batch_crops = np.zeros((batch_x.shape[0], crop_length, crop_length, num_channel))\n",
        "        for i in range(batch_x.shape[0]):\n",
        "            batch_crops[i] = random_crop(batch_x[i], (crop_length, crop_length))\n",
        "        yield (batch_crops, batch_y)"
      ],
      "execution_count": 0,
      "outputs": []
    },
    {
      "cell_type": "code",
      "metadata": {
        "id": "p6CbKx_LObsJ",
        "colab_type": "code",
        "colab": {}
      },
      "source": [
        "opt = SGD(lr=INIT_LEARNING_RATE, momentum=MOMENTUM_RATE)"
      ],
      "execution_count": 0,
      "outputs": []
    },
    {
      "cell_type": "code",
      "metadata": {
        "id": "L6JJFOCYOdbV",
        "colab_type": "code",
        "colab": {
          "base_uri": "https://localhost:8080/",
          "height": 71
        },
        "outputId": "8bf63d49-f63d-4e88-f501-6828054b0aea"
      },
      "source": [
        "\n",
        "lr_rate_scheduler = StepLearningRateSchedulerAt(lr_scheduler)\n",
        "dropout_scheduler = DropoutRateScheduler(dr_scheduler)\n",
        "tensorboard = TensorBoard(log_dir=LOG_DIR, batch_size=BATCH_SIZE)\n",
        "checkpointer = ModelCheckpoint(MODEL_PATH, monitor='val_loss', verbose=1, save_best_only=True)"
      ],
      "execution_count": 45,
      "outputs": [
        {
          "output_type": "stream",
          "text": [
            "/usr/local/lib/python3.6/dist-packages/keras/callbacks/tensorboard_v2.py:92: UserWarning: The TensorBoard callback `batch_size` argument (for histogram computation) is deprecated with TensorFlow 2.0. It will be ignored.\n",
            "  warnings.warn('The TensorBoard callback `batch_size` argument '\n"
          ],
          "name": "stderr"
        }
      ]
    },
    {
      "cell_type": "code",
      "metadata": {
        "id": "PnjEeSMsOfEi",
        "colab_type": "code",
        "colab": {}
      },
      "source": [
        "model.compile(optimizer=opt,\n",
        "              loss='categorical_crossentropy',\n",
        "              metrics=['accuracy', 'top_k_categorical_accuracy'])"
      ],
      "execution_count": 0,
      "outputs": []
    },
    {
      "cell_type": "code",
      "metadata": {
        "id": "NntrN-YVOzFK",
        "colab_type": "code",
        "colab": {
          "base_uri": "https://localhost:8080/",
          "height": 71
        },
        "outputId": "f8c8dc98-d4e4-4f05-e7c9-1fc997507509"
      },
      "source": [
        "datagen = ImageDataGenerator(samplewise_center=True,\n",
        "                             zca_whitening=True,\n",
        "                             horizontal_flip=True,\n",
        "                             validation_split=0.2)"
      ],
      "execution_count": 47,
      "outputs": [
        {
          "output_type": "stream",
          "text": [
            "/usr/local/lib/python3.6/dist-packages/keras_preprocessing/image/image_data_generator.py:336: UserWarning: This ImageDataGenerator specifies `zca_whitening`, which overrides setting of `featurewise_center`.\n",
            "  warnings.warn('This ImageDataGenerator specifies '\n"
          ],
          "name": "stderr"
        }
      ]
    },
    {
      "cell_type": "code",
      "metadata": {
        "id": "rkdPr5YfO0d_",
        "colab_type": "code",
        "colab": {}
      },
      "source": [
        "datagen.fit(x_train)"
      ],
      "execution_count": 0,
      "outputs": []
    },
    {
      "cell_type": "code",
      "metadata": {
        "id": "nSjNIcLIO2NE",
        "colab_type": "code",
        "colab": {}
      },
      "source": [
        "train_flow = datagen.flow(x_train, y_train, batch_size=BATCH_SIZE, subset=\"training\")\n",
        "train_flow_w_crops = crop_generator(train_flow, CROP_SIZE)\n",
        "valid_flow = datagen.flow(x_train, y_train, batch_size=BATCH_SIZE, subset=\"validation\")"
      ],
      "execution_count": 0,
      "outputs": []
    },
    {
      "cell_type": "code",
      "metadata": {
        "id": "6RG64Q_YO683",
        "colab_type": "code",
        "colab": {
          "base_uri": "https://localhost:8080/",
          "height": 394
        },
        "outputId": "b8d54feb-a97a-4bd5-a6bd-8e0eedf19759"
      },
      "source": [
        "model.fit_generator(train_flow_w_crops,\n",
        "                    epochs=EPOCHS,\n",
        "                    steps_per_epoch=len(x_train) / BATCH_SIZE,\n",
        "                    validation_data=valid_flow,\n",
        "                    validation_steps=len(x_train) / BATCH_SIZE)"
      ],
      "execution_count": 52,
      "outputs": [
        {
          "output_type": "stream",
          "text": [
            "Epoch 1/10\n",
            "500/500 [==============================] - 255s 511ms/step - loss: 10.9153 - accuracy: 0.0201 - top_k_categorical_accuracy: 0.0881 - val_loss: 10.4724 - val_accuracy: 0.0256 - val_top_k_categorical_accuracy: 0.1283\n",
            "Epoch 2/10\n",
            "500/500 [==============================] - 244s 489ms/step - loss: 9.9723 - accuracy: 0.0546 - top_k_categorical_accuracy: 0.2025 - val_loss: 9.5603 - val_accuracy: 0.0888 - val_top_k_categorical_accuracy: 0.2890\n",
            "Epoch 3/10\n",
            "500/500 [==============================] - 242s 484ms/step - loss: 9.0788 - accuracy: 0.1010 - top_k_categorical_accuracy: 0.3174 - val_loss: 8.7573 - val_accuracy: 0.1380 - val_top_k_categorical_accuracy: 0.3852\n",
            "Epoch 4/10\n",
            "500/500 [==============================] - 246s 491ms/step - loss: 8.3158 - accuracy: 0.1484 - top_k_categorical_accuracy: 0.4097 - val_loss: 7.9277 - val_accuracy: 0.1983 - val_top_k_categorical_accuracy: 0.4925\n",
            "Epoch 5/10\n",
            "500/500 [==============================] - 243s 485ms/step - loss: 7.6511 - accuracy: 0.1921 - top_k_categorical_accuracy: 0.4865 - val_loss: 6.9707 - val_accuracy: 0.2418 - val_top_k_categorical_accuracy: 0.5484\n",
            "Epoch 6/10\n",
            "500/500 [==============================] - 241s 482ms/step - loss: 7.0830 - accuracy: 0.2335 - top_k_categorical_accuracy: 0.5414 - val_loss: 6.5943 - val_accuracy: 0.2930 - val_top_k_categorical_accuracy: 0.6148\n",
            "Epoch 7/10\n",
            "500/500 [==============================] - 240s 481ms/step - loss: 6.6030 - accuracy: 0.2614 - top_k_categorical_accuracy: 0.5824 - val_loss: 6.3361 - val_accuracy: 0.3156 - val_top_k_categorical_accuracy: 0.6420\n",
            "Epoch 8/10\n",
            "500/500 [==============================] - 241s 482ms/step - loss: 6.1805 - accuracy: 0.2916 - top_k_categorical_accuracy: 0.6159 - val_loss: 5.8298 - val_accuracy: 0.3589 - val_top_k_categorical_accuracy: 0.6791\n",
            "Epoch 9/10\n",
            "500/500 [==============================] - 242s 484ms/step - loss: 5.8206 - accuracy: 0.3129 - top_k_categorical_accuracy: 0.6355 - val_loss: 5.6752 - val_accuracy: 0.3544 - val_top_k_categorical_accuracy: 0.6761\n",
            "Epoch 10/10\n",
            "500/500 [==============================] - 250s 499ms/step - loss: 5.5058 - accuracy: 0.3299 - top_k_categorical_accuracy: 0.6565 - val_loss: 5.4405 - val_accuracy: 0.3698 - val_top_k_categorical_accuracy: 0.6822\n"
          ],
          "name": "stdout"
        },
        {
          "output_type": "execute_result",
          "data": {
            "text/plain": [
              "<keras.callbacks.callbacks.History at 0x7f763c70f898>"
            ]
          },
          "metadata": {
            "tags": []
          },
          "execution_count": 52
        }
      ]
    },
    {
      "cell_type": "code",
      "metadata": {
        "id": "abb7-aP5O77P",
        "colab_type": "code",
        "colab": {}
      },
      "source": [
        ""
      ],
      "execution_count": 0,
      "outputs": []
    }
  ]
}