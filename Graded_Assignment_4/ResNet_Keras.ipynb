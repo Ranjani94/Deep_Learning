{
  "nbformat": 4,
  "nbformat_minor": 0,
  "metadata": {
    "colab": {
      "name": "ResNet_Keras.ipynb",
      "provenance": [],
      "authorship_tag": "ABX9TyNZui17/gh4ogMxDKUeqVp6",
      "include_colab_link": true
    },
    "kernelspec": {
      "name": "python3",
      "display_name": "Python 3"
    },
    "accelerator": "GPU"
  },
  "cells": [
    {
      "cell_type": "markdown",
      "metadata": {
        "id": "view-in-github",
        "colab_type": "text"
      },
      "source": [
        "<a href=\"https://colab.research.google.com/github/Ranjani94/Deep_Learning/blob/master/Graded_Assignment_4/ResNet_Keras.ipynb\" target=\"_parent\"><img src=\"https://colab.research.google.com/assets/colab-badge.svg\" alt=\"Open In Colab\"/></a>"
      ]
    },
    {
      "cell_type": "markdown",
      "metadata": {
        "id": "VTUYuDVyRi6M",
        "colab_type": "text"
      },
      "source": [
        "##Mnist classifier using Keras [ResNet]"
      ]
    },
    {
      "cell_type": "code",
      "metadata": {
        "id": "TFnM_KLIRgU-",
        "colab_type": "code",
        "colab": {
          "base_uri": "https://localhost:8080/",
          "height": 34
        },
        "outputId": "f32e1476-fbd0-41f8-f759-bbc293a5b608"
      },
      "source": [
        "import numpy as np \n",
        "import pandas as pd\n",
        "import matplotlib.pyplot as plt\n",
        "import keras\n",
        "from sklearn.model_selection import train_test_split\n",
        "from tensorflow.python.keras.preprocessing.image import ImageDataGenerator\n",
        "\n",
        "import os"
      ],
      "execution_count": 4,
      "outputs": [
        {
          "output_type": "stream",
          "text": [
            "Using TensorFlow backend.\n"
          ],
          "name": "stderr"
        }
      ]
    },
    {
      "cell_type": "code",
      "metadata": {
        "id": "-mmx0EllaXJE",
        "colab_type": "code",
        "colab": {
          "base_uri": "https://localhost:8080/",
          "height": 34
        },
        "outputId": "212f02ca-9c19-4fe2-f6dd-84345a77e534"
      },
      "source": [
        "from google.colab import drive\n",
        "drive.mount('/content/gdrive', force_remount=True)\n",
        "root_dir = \"/content/gdrive/My Drive/\"\n",
        "base_dir = root_dir + 'Deep_Learning'"
      ],
      "execution_count": 5,
      "outputs": [
        {
          "output_type": "stream",
          "text": [
            "Mounted at /content/gdrive\n"
          ],
          "name": "stdout"
        }
      ]
    },
    {
      "cell_type": "code",
      "metadata": {
        "id": "_5cYN6dBSYrw",
        "colab_type": "code",
        "colab": {}
      },
      "source": [
        "nbr_of_clases = 10\n",
        "validation_percentage = 0.2\n",
        "resnet_path = '/content/gdrive/My Drive/Deep_Learning/mnist/resnet50_weights_tf_dim_ordering_tf_kernels_notop.h5'\n",
        "\n",
        "training_data = pd.read_csv('/content/gdrive/My Drive/Deep_Learning/mnist/train_mnist.csv')"
      ],
      "execution_count": 0,
      "outputs": []
    },
    {
      "cell_type": "code",
      "metadata": {
        "id": "ROhcUk4AakCa",
        "colab_type": "code",
        "colab": {}
      },
      "source": [
        "def prepare_data_for_resnet50(data_to_transform):\n",
        "    data = data_to_transform.copy().values\n",
        "    data = data.reshape(-1, 28, 28) / 255\n",
        "    data = X_rgb = np.stack([data, data, data], axis=-1)\n",
        "    return data"
      ],
      "execution_count": 0,
      "outputs": []
    },
    {
      "cell_type": "code",
      "metadata": {
        "id": "2qGbR4nGam0S",
        "colab_type": "code",
        "colab": {}
      },
      "source": [
        "y = training_data.pop('label').values\n",
        "X = training_data\n",
        "\n",
        "y = keras.utils.to_categorical(y, nbr_of_clases)\n",
        "X_rgb = prepare_data_for_resnet50(X)\n",
        "\n",
        "X_train, X_val, y_train, y_val = train_test_split(X_rgb, y, test_size=validation_percentage)"
      ],
      "execution_count": 0,
      "outputs": []
    },
    {
      "cell_type": "code",
      "metadata": {
        "id": "qmS1UCnUaoad",
        "colab_type": "code",
        "colab": {}
      },
      "source": [
        "from keras.models import Sequential\n",
        "from keras.layers import Dense, Dropout, Flatten\n",
        "from keras.applications.resnet50 import ResNet50\n",
        "\n",
        "model = Sequential()\n",
        "model.add(ResNet50(include_top=False, pooling='avg', weights=resnet_path))\n",
        "\n",
        "# model.add(Dense(256, activation='relu'))\n",
        "# model.add(Dropout(0.25))\n",
        "# model.add(Dense(124, activation='relu'))\n",
        "model.add(Dropout(0.50))\n",
        "model.add(Dense(nbr_of_clases, activation='softmax'))\n",
        "\n",
        "# model.layers[0].trainable = False\n",
        "\n",
        "model.compile(optimizer='adam', loss='categorical_crossentropy', metrics=['accuracy'])"
      ],
      "execution_count": 0,
      "outputs": []
    },
    {
      "cell_type": "code",
      "metadata": {
        "id": "w0D7HhpLaqzV",
        "colab_type": "code",
        "colab": {}
      },
      "source": [
        "def fit_model(model, epochs=1, train_test_split=0.0):\n",
        "    model.fit(X_rgb, y, epochs=epochs, validation_split=train_test_split)\n",
        "    \n",
        "def get_fitted_data_generator(data):\n",
        "    data_generator = ImageDataGenerator(rotation_range=10, width_shift_range=0.1,\n",
        "                                   height_shift_range=0.1, zoom_range=0.1)\n",
        "    data_generator.fit(data)\n",
        "    return data_generator\n",
        "    \n",
        "def fit_model_generator(model, X_train, y_train, epochs=1, batch=32, validation_data=False, X_val=None, y_val=None):\n",
        "    image_nbr = np.size(X_train, 0)\n",
        "    training_data_generator = get_fitted_data_generator(X_train)\n",
        "    \n",
        "    if validation_data:\n",
        "        return model.fit_generator(training_data_generator.flow(X_train, y_train, batch_size=batch), steps_per_epoch=(image_nbr//batch),\n",
        "                        epochs=epochs, validation_data=(X_val, y_val), verbose=1)\n",
        "    else:\n",
        "        return model.fit_generator(training_data_generator.flow(X_train, y_train, batch_size=batch), steps_per_epoch=(image_nbr//batch),\n",
        "                        epochs=epochs, verbose=1)"
      ],
      "execution_count": 0,
      "outputs": []
    },
    {
      "cell_type": "code",
      "metadata": {
        "id": "Nm_wvTBhas6m",
        "colab_type": "code",
        "colab": {
          "base_uri": "https://localhost:8080/",
          "height": 71
        },
        "outputId": "d2f5f6c7-67de-4acc-a464-c134e98ecc54"
      },
      "source": [
        "model_history = fit_model_generator(model, X_train, y_train, epochs=1, \n",
        "                                    validation_data=True, X_val=X_val, y_val=y_val)"
      ],
      "execution_count": 11,
      "outputs": [
        {
          "output_type": "stream",
          "text": [
            "Epoch 1/1\n",
            "1050/1050 [==============================] - 140s 133ms/step - loss: 0.7406 - accuracy: 0.8485 - val_loss: 0.7714 - val_accuracy: 0.7807\n"
          ],
          "name": "stdout"
        }
      ]
    },
    {
      "cell_type": "code",
      "metadata": {
        "id": "vG96CMhCax0u",
        "colab_type": "code",
        "colab": {}
      },
      "source": [
        "def get_predictions(model, data):\n",
        "    return np.array([np.argmax(prediction) for prediction in model.predict(data)])"
      ],
      "execution_count": 0,
      "outputs": []
    },
    {
      "cell_type": "code",
      "metadata": {
        "id": "YxVLjWFvazk0",
        "colab_type": "code",
        "colab": {
          "base_uri": "https://localhost:8080/",
          "height": 204
        },
        "outputId": "1782adbe-15e1-4d95-fa24-7e3daa03f14d"
      },
      "source": [
        "predicted = get_predictions(model, X_val)\n",
        "pd.Series(predicted).value_counts()"
      ],
      "execution_count": 13,
      "outputs": [
        {
          "output_type": "execute_result",
          "data": {
            "text/plain": [
              "8    1840\n",
              "2    1157\n",
              "6     972\n",
              "3     941\n",
              "9     742\n",
              "0     702\n",
              "4     648\n",
              "5     554\n",
              "1     532\n",
              "7     312\n",
              "dtype: int64"
            ]
          },
          "metadata": {
            "tags": []
          },
          "execution_count": 13
        }
      ]
    },
    {
      "cell_type": "code",
      "metadata": {
        "id": "Y6ZDqTfya3DS",
        "colab_type": "code",
        "colab": {
          "base_uri": "https://localhost:8080/",
          "height": 204
        },
        "outputId": "cf1ee550-7474-45f1-ea3e-4e55102ee2dd"
      },
      "source": [
        "pd.Series([np.argmax(i) for i in y_val]).value_counts()"
      ],
      "execution_count": 14,
      "outputs": [
        {
          "output_type": "execute_result",
          "data": {
            "text/plain": [
              "1    955\n",
              "3    894\n",
              "7    875\n",
              "6    860\n",
              "4    846\n",
              "2    827\n",
              "9    826\n",
              "0    796\n",
              "8    790\n",
              "5    731\n",
              "dtype: int64"
            ]
          },
          "metadata": {
            "tags": []
          },
          "execution_count": 14
        }
      ]
    },
    {
      "cell_type": "code",
      "metadata": {
        "id": "VRL39hYCa3FV",
        "colab_type": "code",
        "colab": {
          "base_uri": "https://localhost:8080/",
          "height": 198
        },
        "outputId": "947de744-a5a2-4e6d-8df1-0ed69cb301fb"
      },
      "source": [
        "show_images = 10\n",
        "\n",
        "for i in range(show_images):\n",
        "    plt.subplot(show_images // 5 + 1, 5, i + 1)\n",
        "    plt.title(str(predicted[i]))\n",
        "    plt.imshow(X_val[i, :, :, 1].reshape(28, 28))"
      ],
      "execution_count": 15,
      "outputs": [
        {
          "output_type": "display_data",
          "data": {
            "image/png": "[encoded data removed]",
            "text/plain": [
              "<Figure size 432x288 with 10 Axes>"
            ]
          },
          "metadata": {
            "tags": [],
            "needs_background": "light"
          }
        }
      ]
    },
    {
      "cell_type": "code",
      "metadata": {
        "id": "XyJd6pl3a7aE",
        "colab_type": "code",
        "colab": {}
      },
      "source": [
        "# Hyper params\n",
        "final_epochs = 5"
      ],
      "execution_count": 0,
      "outputs": []
    },
    {
      "cell_type": "code",
      "metadata": {
        "id": "0sReX1LBa9cn",
        "colab_type": "code",
        "colab": {
          "base_uri": "https://localhost:8080/",
          "height": 187
        },
        "outputId": "ad8931b6-097e-47f4-e185-92ff5e45439a"
      },
      "source": [
        "# Fit on all data\n",
        "full_data_model = fit_model_generator(model, X_rgb, y, epochs=final_epochs, validation_data=False)"
      ],
      "execution_count": 17,
      "outputs": [
        {
          "output_type": "stream",
          "text": [
            "Epoch 1/5\n",
            "1312/1312 [==============================] - 148s 113ms/step - loss: 0.6629 - accuracy: 0.8691\n",
            "Epoch 2/5\n",
            "1312/1312 [==============================] - 153s 117ms/step - loss: 0.4254 - accuracy: 0.9064\n",
            "Epoch 3/5\n",
            "1312/1312 [==============================] - 154s 118ms/step - loss: 0.3986 - accuracy: 0.9168\n",
            "Epoch 4/5\n",
            "1312/1312 [==============================] - 154s 118ms/step - loss: 0.3102 - accuracy: 0.9326\n",
            "Epoch 5/5\n",
            "1312/1312 [==============================] - 155s 118ms/step - loss: 0.3167 - accuracy: 0.9323\n"
          ],
          "name": "stdout"
        }
      ]
    },
    {
      "cell_type": "code",
      "metadata": {
        "id": "dMNscGyGa9nC",
        "colab_type": "code",
        "colab": {}
      },
      "source": [
        ""
      ],
      "execution_count": 0,
      "outputs": []
    }
  ]
}