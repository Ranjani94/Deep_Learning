{
  "nbformat": 4,
  "nbformat_minor": 0,
  "metadata": {
    "colab": {
      "name": "Transfer_Learning.ipynb",
      "provenance": [],
      "authorship_tag": "ABX9TyPkYrmLF0TyGF4KqKqBRe5k",
      "include_colab_link": true
    },
    "kernelspec": {
      "name": "python3",
      "display_name": "Python 3"
    },
    "accelerator": "GPU"
  },
  "cells": [
    {
      "cell_type": "markdown",
      "metadata": {
        "id": "view-in-github",
        "colab_type": "text"
      },
      "source": [
        "<a href=\"https://colab.research.google.com/github/Ranjani94/Deep_Learning/blob/master/Graded_Assignment_4/Transfer_Learning.ipynb\" target=\"_parent\"><img src=\"https://colab.research.google.com/assets/colab-badge.svg\" alt=\"Open In Colab\"/></a>"
      ]
    },
    {
      "cell_type": "markdown",
      "metadata": {
        "id": "oxkwL3n_uNWF",
        "colab_type": "text"
      },
      "source": [
        "###Dog Breed Classification.."
      ]
    },
    {
      "cell_type": "code",
      "metadata": {
        "id": "gghJaiU0sJqO",
        "colab_type": "code",
        "colab": {}
      },
      "source": [
        "from google.colab import drive\n",
        "drive.mount('/content/gdrive', force_remount=True)\n",
        "root_dir = \"/content/gdrive/My Drive/\"\n",
        "base_dir = root_dir + 'Deep_Learning'"
      ],
      "execution_count": 0,
      "outputs": []
    },
    {
      "cell_type": "code",
      "metadata": {
        "id": "7K5JWjoNqZo3",
        "colab_type": "code",
        "colab": {}
      },
      "source": [
        "%matplotlib inline\n",
        "import matplotlib.pyplot as plt\n",
        "\n",
        "import tensorflow as tf\n",
        "import numpy as np\n",
        "import pandas as pd\n",
        "\n",
        "import time\n",
        "from datetime import timedelta\n",
        "\n",
        "import math\n",
        "import os\n",
        "\n",
        "import scipy.misc\n",
        "from scipy.stats import itemfreq\n",
        "from random import sample\n",
        "import pickle\n",
        "\n",
        "from sklearn.metrics import confusion_matrix\n",
        "from sklearn.model_selection import train_test_split\n",
        "\n",
        "# Image manipulation\n",
        "import PIL.Image\n",
        "from IPython.display import display\n",
        "\n",
        "# Open a Zip File\n",
        "from zipfile import ZipFile\n",
        "from io import BytesIO"
      ],
      "execution_count": 0,
      "outputs": []
    },
    {
      "cell_type": "code",
      "metadata": {
        "id": "dvktKkzjsqcL",
        "colab_type": "code",
        "colab": {}
      },
      "source": [
        "# We unzip the train and test zip file\n",
        "archive_train = ZipFile(\"Data/train.zip\", 'r')\n",
        "archive_test = ZipFile(\"Data/test.zip\", 'r')\n",
        "# This line shows the 5 first image name of the train database\n",
        "archive_train.namelist()[0:5]\n",
        "# This line shows the number of images in the train database, noted that we must remove the 1st value (column header)\n",
        "len(archive_train.namelist()[:]) - 1"
      ],
      "execution_count": 0,
      "outputs": []
    },
    {
      "cell_type": "code",
      "metadata": {
        "id": "wZFW0ZFosqeA",
        "colab_type": "code",
        "colab": {}
      },
      "source": [
        "def DataBase_creator(archivezip, nwidth, nheight, save_name):\n",
        "    # We choose the archive (zip file) + the new width and height for all the image which will be reshaped\n",
        "    \n",
        "    # Start-time used for printing time-usage below.\n",
        "    start_time = time.time()\n",
        "    \n",
        "    # nwidth x nheight = number of features because images have nwidth x nheight pixels\n",
        "    s = (len(archivezip.namelist()[:])-1, nwidth, nheight,3)\n",
        "    allImage = np.zeros(s)\n",
        "    for i in range(1,len(archivezip.namelist()[:])):\n",
        "        filename = BytesIO(archivezip.read(archivezip.namelist()[i]))\n",
        "        image = PIL.Image.open(filename) # open colour image\n",
        "        image = image.resize((nwidth, nheight))\n",
        "        image = np.array(image)\n",
        "        image = np.clip(image/255.0, 0.0, 1.0) # 255 = max of the value of a pixel\n",
        "        allImage[i-1]=image\n",
        "    \n",
        "    # we save the newly created data base\n",
        "    pickle.dump(allImage, open( save_name + '.p', \"wb\" ) )\n",
        "    \n",
        "    # Ending time.\n",
        "    end_time = time.time()\n",
        "    # Difference between start and end-times.\n",
        "    time_dif = end_time - start_time\n",
        "    # Print the time-usage.\n",
        "    print(\"Time usage: \" + str(timedelta(seconds=int(round(time_dif)))))"
      ],
      "execution_count": 0,
      "outputs": []
    },
    {
      "cell_type": "code",
      "metadata": {
        "id": "9OL5LaMLsqfq",
        "colab_type": "code",
        "colab": {}
      },
      "source": [
        "image_resize = 60\n",
        "DataBase_creator(archivezip = archive_train, nwidth = image_resize, nheight = image_resize , save_name = “train\")\n",
        "DataBase_creator(archivezip = archive_test, nwidth = image_resize, nheight = image_resize , save_name = \"test\")"
      ],
      "execution_count": 0,
      "outputs": []
    },
    {
      "cell_type": "code",
      "metadata": {
        "id": "8qsFL6GDsqhb",
        "colab_type": "code",
        "colab": {}
      },
      "source": [
        "# load TRAIN\n",
        "train = pickle.load( open( \"train.p\", \"rb\" ) )\n",
        "train.shape"
      ],
      "execution_count": 0,
      "outputs": []
    },
    {
      "cell_type": "code",
      "metadata": {
        "id": "5qCRkF9ZsqjW",
        "colab_type": "code",
        "colab": {}
      },
      "source": [
        "# load TEST\n",
        "test = pickle.load( open( \"test.p\", \"rb\" ) )\n",
        "test.shape"
      ],
      "execution_count": 0,
      "outputs": []
    },
    {
      "cell_type": "code",
      "metadata": {
        "id": "Xsy-UKo1sqlH",
        "colab_type": "code",
        "colab": {}
      },
      "source": [
        "image_resize = 60\n",
        "nwidth = image_resize\n",
        "nheight = image_resize\n",
        "\n",
        "# nwidth x nheight = number of features because images are nwidth x nheight pixels\n",
        "s = (len(df_train[‘breed’]), nwidth, nheight,3) \n",
        "allImage = np.zeros(s)\n",
        "\n",
        "i = 0\n",
        "for f, breed in df_train.values:\n",
        "    image = PIL.Image.open('../input/train/{}.jpg'.format(f))\n",
        "    image = image.resize((nwidth, nheight))\n",
        "    image = np.array(image)\n",
        "    image = np.clip(image/255.0, 0.0, 1.0) # 255 = max of the value of a pixel\n",
        "    i += 1\n",
        "    allImage[i-1]=image\n",
        "\n",
        "    train = allImage"
      ],
      "execution_count": 0,
      "outputs": []
    },
    {
      "cell_type": "code",
      "metadata": {
        "id": "6oGOJLDwsqoV",
        "colab_type": "code",
        "colab": {}
      },
      "source": [
        "lum_img = train[100,:,:,:]\n",
        "plt.imshow(lum_img)\n",
        "plt.show()"
      ],
      "execution_count": 0,
      "outputs": []
    },
    {
      "cell_type": "code",
      "metadata": {
        "id": "ctSSE9GqtVSV",
        "colab_type": "code",
        "colab": {}
      },
      "source": [
        "labels_raw = pd.read_csv(\"Data/labels.csv.zip\", compression='zip', header=0, sep=',', quotechar='\"')\n",
        "labels_raw.sample(5)"
      ],
      "execution_count": 0,
      "outputs": []
    },
    {
      "cell_type": "code",
      "metadata": {
        "id": "10N9sToatVQW",
        "colab_type": "code",
        "colab": {}
      },
      "source": [
        "Nber_of_breeds = 8\n",
        "\n",
        "# Get the N most represented breeds\n",
        "def main_breeds(labels_raw, Nber_breeds , all_breeds='TRUE'):\n",
        "    labels_freq_pd = itemfreq(labels_raw[\"breed\"])\n",
        "    labels_freq_pd = labels_freq_pd[labels_freq_pd[:, 1].argsort()[::-1]]\n",
        "    \n",
        "    if all_breeds == 'FALSE':\n",
        "        main_labels = labels_freq_pd[:,0][0:Nber_breeds]\n",
        "    else: \n",
        "        main_labels = labels_freq_pd[:,0][:]\n",
        "        \n",
        "    labels_raw_np = labels_raw[\"breed\"].as_matrix()\n",
        "    labels_raw_np = labels_raw_np.reshape(labels_raw_np.shape[0],1)\n",
        "    labels_filtered_index = np.where(labels_raw_np == main_labels)\n",
        "    return labels_filtered_index\n",
        "\n",
        "labels_filtered_index = main_breeds(labels_raw = labels_raw, Nber_breeds = Nber_of_breeds, all_breeds='FALSE')\n",
        "labels_filtered = labels_raw.iloc[labels_filtered_index[0],:]\n",
        "train_filtered = train[labels_filtered_index[0],:,:,:]\n",
        "print('- Number of images remaining after selecting the {0} main breeds : {1}'.format(Nber_of_breeds, labels_filtered_index[0].shape))\n",
        "print('- The shape of train_filtered dataset is : {0}'.format(train_filtered.shape))"
      ],
      "execution_count": 0,
      "outputs": []
    },
    {
      "cell_type": "code",
      "metadata": {
        "id": "NNN7Jl3ZtVOT",
        "colab_type": "code",
        "colab": {}
      },
      "source": [
        "lum_img = train_filtered[1,:,:,:]\n",
        "plt.imshow(lum_img)\n",
        "plt.show()"
      ],
      "execution_count": 0,
      "outputs": []
    },
    {
      "cell_type": "code",
      "metadata": {
        "id": "ZEdULscItVHk",
        "colab_type": "code",
        "colab": {}
      },
      "source": [
        "# We select the labels from the N main breeds\n",
        "labels = labels_filtered[\"breed\"].as_matrix()\n",
        "labels = labels.reshape(labels.shape[0],1) #labels.shape[0] looks faster than using len(labels)\n",
        "labels.shape"
      ],
      "execution_count": 0,
      "outputs": []
    },
    {
      "cell_type": "code",
      "metadata": {
        "id": "3NRCYVectVFU",
        "colab_type": "code",
        "colab": {}
      },
      "source": [
        "# Function to create one-hot labels\n",
        "def matrix_Bin(labels):\n",
        "    labels_bin=np.array([])\n",
        "\n",
        "    labels_name, labels0 = np.unique(labels, return_inverse=True)\n",
        "    labels0\n",
        "    \n",
        "    for _, i in enumerate(itemfreq(labels0)[:,0].astype(int)):\n",
        "        labels_bin0 = np.where(labels0 == itemfreq(labels0)[:,0][i], 1., 0.)\n",
        "        labels_bin0 = labels_bin0.reshape(1,labels_bin0.shape[0])\n",
        "\n",
        "        if (labels_bin.shape[0] == 0):\n",
        "            labels_bin = labels_bin0\n",
        "        else:\n",
        "            labels_bin = np.concatenate((labels_bin,labels_bin0 ),axis=0)\n",
        "\n",
        "    print(\"Nber SubVariables {0}\".format(itemfreq(labels0)[:,0].shape[0]))\n",
        "    labels_bin = labels_bin.transpose()\n",
        "    print(\"Shape : {0}\".format(labels_bin.shape))\n",
        "    \n",
        "    return labels_name, labels_bin"
      ],
      "execution_count": 0,
      "outputs": []
    },
    {
      "cell_type": "code",
      "metadata": {
        "id": "6LgseFThtg7S",
        "colab_type": "code",
        "colab": {}
      },
      "source": [
        "labels_name, labels_bin = matrix_Bin(labels = labels)\n",
        "labels_bin[0:9]\n"
      ],
      "execution_count": 0,
      "outputs": []
    },
    {
      "cell_type": "code",
      "metadata": {
        "id": "aPL7k-gRtg5T",
        "colab_type": "code",
        "colab": {}
      },
      "source": [
        "for breed in range(len(labels_name)):\n",
        "   print('Breed {0} : {1}'.format(breed,labels_name[breed]))"
      ],
      "execution_count": 0,
      "outputs": []
    },
    {
      "cell_type": "code",
      "metadata": {
        "id": "rVw6K2B5tg2s",
        "colab_type": "code",
        "colab": {}
      },
      "source": [
        "labels_cls = np.argmax(labels_bin, axis=1)\n",
        "labels[0:9]"
      ],
      "execution_count": 0,
      "outputs": []
    },
    {
      "cell_type": "code",
      "metadata": {
        "id": "yxGaIatCtgyI",
        "colab_type": "code",
        "colab": {}
      },
      "source": [
        "num_validation = 0.30\n",
        "X_train, X_validation, y_train, y_validation = train_test_split(train_filtered, labels_bin, test_size=num_validation, random_state=6)"
      ],
      "execution_count": 0,
      "outputs": []
    },
    {
      "cell_type": "code",
      "metadata": {
        "id": "DeGhuxhgtuS7",
        "colab_type": "code",
        "colab": {}
      },
      "source": [
        "\n",
        "def train_test_creation(x, data, toPred): \n",
        "  indices = sample(range(data.shape[0]),int(x * data.shape[0])) \n",
        "  indices = np.sort(indices, axis=None) \n",
        "  \n",
        "  index = np.arange(data.shape[0]) \n",
        "  reverse_index = np.delete(index, indices,0)\n",
        "  \n",
        "  train_toUse = data[indices]\n",
        "  train_toPred = toPred[indices]\n",
        "  test_toUse = data[reverse_index]\n",
        "  test_toPred = toPred[reverse_index]\n",
        "\n",
        "  return train_toUse, train_toPred, test_toUse, test_toPred\n",
        "\n",
        "df_train_toUse, df_train_toPred, df_test_toUse, df_test_toPred = train_test_creation(0.7, train_filtered, labels_bin)\n",
        "\n",
        "df_validation_toPred_cls = np.argmax(y_validation, axis=1)\n",
        "df_validation_toPred_cls[0:9]"
      ],
      "execution_count": 0,
      "outputs": []
    },
    {
      "cell_type": "code",
      "metadata": {
        "id": "SyT3oGm5tuQU",
        "colab_type": "code",
        "colab": {}
      },
      "source": [
        "# Our images are 100 pixels in each dimension.\n",
        "img_size = image_resize\n",
        "\n",
        "# Number of colour channels for the images: 3\n",
        "num_channels = 3\n",
        "\n",
        "# Images are stored in one-dimensional arrays of this length.\n",
        "img_size_flat = img_size * img_size\n",
        "\n",
        "# Image Shape\n",
        "img_shape = (img_size, img_size, num_channels)\n",
        "\n",
        "# Number of classes : 5 breeds\n",
        "num_classes = Nber_of_breeds\n",
        "\n",
        "def new_weights(shape):\n",
        "    return tf.Variable(tf.truncated_normal(shape, stddev=0.05))\n",
        "    #outputs random value from a truncated normal distribution\n",
        "\n",
        "def new_biases(length):\n",
        "    return tf.Variable(tf.constant(0.05, shape=[length]))\n",
        "    #outputs the constant value 0.05"
      ],
      "execution_count": 0,
      "outputs": []
    },
    {
      "cell_type": "code",
      "metadata": {
        "id": "Hxy1wHGPtuMz",
        "colab_type": "code",
        "colab": {}
      },
      "source": [
        "def new_conv_layer(input,              # The previous layer.\n",
        "                   num_input_channels, # Num. channels in prev. layer.\n",
        "                   filter_size,        # Width and height of each filter.\n",
        "                   num_filters,        # Number of filters.\n",
        "                   use_pooling=True,\n",
        "                   use_dropout=True):  # Use 2x2 max-pooling.\n",
        "\n",
        "    # Shape of the filter-weights for the convolution.\n",
        "    # This format is determined by the TensorFlow API.\n",
        "    shape = [filter_size, filter_size, num_input_channels, num_filters]\n",
        "\n",
        "    # Create new weights aka. filters with the given shape.\n",
        "    weights = new_weights(shape=shape)\n",
        "\n",
        "    # Create new biases, one for each filter.\n",
        "    biases = new_biases(length=num_filters)\n",
        "\n",
        "    # Create the TensorFlow operation for convolution.\n",
        "    # Note the strides are set to 1 in all dimensions.\n",
        "    # The first and last stride must always be 1,\n",
        "    # because the first is for the image-number and\n",
        "    # the last is for the input-channel.\n",
        "    # But e.g. strides=[1, 2, 2, 1] would mean that the filter\n",
        "    # is moved 2 pixels across the x- and y-axis of the image.\n",
        "    # The padding is set to 'SAME' which means the input image\n",
        "    # is padded with zeroes so the size of the output is the same.\n",
        "    layer = tf.nn.conv2d(input=input,\n",
        "                         filter=weights,\n",
        "                         strides=[1, 1, 1, 1],\n",
        "                         padding='SAME')\n",
        "\n",
        "    # Add the biases to the results of the convolution.\n",
        "    # A bias-value is added to each filter-channel.\n",
        "    layer += biases\n",
        "\n",
        "    # Use pooling to down-sample the image resolution?\n",
        "    if use_pooling:\n",
        "        # This is 2x2 max-pooling, which means that we\n",
        "        # consider 2x2 windows and select the largest value\n",
        "        # in each window. Then we move 2 pixels to the next window.\n",
        "        layer = tf.nn.max_pool(value=layer,\n",
        "                               ksize=[1, 2, 2, 1],\n",
        "                               strides=[1, 2, 2, 1],\n",
        "                               padding='SAME')\n",
        "\n",
        "    # Rectified Linear Unit (ReLU).\n",
        "    # It calculates max(x, 0) for each input pixel x.\n",
        "    # This adds some non-linearity to the formula and allows us\n",
        "    # to learn more complicated functions.\n",
        "    layer = tf.nn.relu(layer)\n",
        "    \n",
        "    if use_dropout:\n",
        "        layer = tf.nn.dropout(layer,keep_prob_conv)\n",
        "\n",
        "    # Note that ReLU is normally executed before the pooling,\n",
        "    # but since relu(max_pool(x)) == max_pool(relu(x)) we can\n",
        "    # save 75% of the relu-operations by max-pooling first.\n",
        "\n",
        "    # We return both the resulting layer and the filter-weights\n",
        "    # because we will plot the weights later.\n",
        "    return layer, weights"
      ],
      "execution_count": 0,
      "outputs": []
    },
    {
      "cell_type": "code",
      "metadata": {
        "id": "85gTILIft335",
        "colab_type": "code",
        "colab": {}
      },
      "source": [
        "def flatten_layer(layer):\n",
        "    # Get the shape of the input layer.\n",
        "    layer_shape = layer.get_shape()\n",
        "\n",
        "    # The shape of the input layer is assumed to be:\n",
        "    # layer_shape == [num_images, img_height, img_width, num_channels]\n",
        "\n",
        "    # The number of features is: img_height * img_width * num_channels\n",
        "    # We can use a function from TensorFlow to calculate this.\n",
        "    num_features = layer_shape[1:4].num_elements()\n",
        "    \n",
        "    # Reshape the layer to [num_images, num_features].\n",
        "    # Note that we just set the size of the second dimension\n",
        "    # to num_features and the size of the first dimension to -1\n",
        "    # which means the size in that dimension is calculated\n",
        "    # so the total size of the tensor is unchanged from the reshaping.\n",
        "    layer_flat = tf.reshape(layer, [-1, num_features])\n",
        "\n",
        "    # The shape of the flattened layer is now:\n",
        "    # [num_images, img_height * img_width * num_channels]\n",
        "\n",
        "    # Return both the flattened layer and the number of features.\n",
        "    return layer_flat, num_features"
      ],
      "execution_count": 0,
      "outputs": []
    },
    {
      "cell_type": "code",
      "metadata": {
        "id": "8ybp803gt6VE",
        "colab_type": "code",
        "colab": {}
      },
      "source": [
        "def new_fc_layer(input,          # The previous layer.\n",
        "                 num_inputs,     # Num. inputs from prev. layer.\n",
        "                 num_outputs,    # Num. outputs.\n",
        "                 use_relu=True,\n",
        "                 use_dropout=True): # Use Rectified Linear Unit (ReLU)?\n",
        "\n",
        "    # Create new weights and biases.\n",
        "    weights = new_weights(shape=[num_inputs, num_outputs])\n",
        "    biases = new_biases(length=num_outputs)\n",
        "\n",
        "    # Calculate the layer as the matrix multiplication of\n",
        "    # the input and weights, and then add the bias-values.\n",
        "    layer = tf.matmul(input, weights) + biases\n",
        "\n",
        "    # Use ReLU?\n",
        "    if use_relu:\n",
        "        layer = tf.nn.relu(layer)\n",
        "    \n",
        "    if use_dropout:\n",
        "        layer = tf.nn.dropout(layer,keep_prob_fc)\n",
        "        \n",
        "    return layer"
      ],
      "execution_count": 0,
      "outputs": []
    },
    {
      "cell_type": "code",
      "metadata": {
        "id": "_dXp9lhGt9LX",
        "colab_type": "code",
        "colab": {}
      },
      "source": [
        "x = tf.placeholder(tf.float32, shape=[None, img_size, img_size, num_channels], name='x')\n",
        "x_image = tf.reshape(x, [-1, img_size, img_size, num_channels]) #-1 put everything as 1 array\n",
        "y_true = tf.placeholder(tf.float32, shape=[None, num_classes], name='y_true')\n",
        "y_true_cls = tf.argmax(y_true, axis=1)\n",
        "keep_prob_fc=tf.placeholder(tf.float32)\n",
        "keep_prob_conv=tf.placeholder(tf.float32)"
      ],
      "execution_count": 0,
      "outputs": []
    },
    {
      "cell_type": "code",
      "metadata": {
        "id": "CxF_W9QVt-Ik",
        "colab_type": "code",
        "colab": {}
      },
      "source": [
        "# Convolutional Layer 1.\n",
        "filter_size1 = 5          # Convolution filters are 5 x 5 pixels.\n",
        "num_filters1 = 32         # There are 32 of these filters.\n",
        "\n",
        "\n",
        "# Convolutional Layer 2.\n",
        "filter_size2 = 4          # Convolution filters are 4 x 4 pixels.\n",
        "num_filters2 = 64      # There are 64 of these filters.\n",
        "\n",
        "\n",
        "# Convolutional Layer 3.\n",
        "filter_size3 = 3          # Convolution filters are 3 x 3 pixels.\n",
        "num_filters3 = 128      # There are 128 of these filters.\n",
        "\n",
        "\n",
        "# Fully-connected layer.\n",
        "fc_size = 500 \n",
        "\n",
        "layer_conv1, weights_conv1 = \\\n",
        "    new_conv_layer(input=x_image,\n",
        "                   num_input_channels=num_channels,\n",
        "                   filter_size=filter_size1,\n",
        "                   num_filters=num_filters1,\n",
        "                   use_pooling=True,\n",
        "                   use_dropout=False)\n",
        "    \n",
        "layer_conv2, weights_conv2 = \\\n",
        "    new_conv_layer(input=layer_conv1,\n",
        "                   num_input_channels=num_filters1,\n",
        "                   filter_size=filter_size2,\n",
        "                   num_filters=num_filters2,\n",
        "                   use_pooling=True,\n",
        "                   use_dropout=False)\n",
        "    \n",
        "layer_conv3, weights_conv3 = \\\n",
        "    new_conv_layer(input=layer_conv2,\n",
        "                   num_input_channels=num_filters2,\n",
        "                   filter_size=filter_size3,\n",
        "                   num_filters=num_filters3,\n",
        "                   use_pooling=True,\n",
        "                   use_dropout=True)\n",
        "\n",
        "layer_flat, num_features = flatten_layer(layer_conv3)\n",
        "\n",
        "#Train\n",
        "layer_fc1 = new_fc_layer(input=layer_flat,\n",
        "                         num_inputs=num_features,\n",
        "                         num_outputs=fc_size,\n",
        "                         use_relu=True,\n",
        "                         use_dropout=True)\n",
        "\n",
        "layer_fc2 = new_fc_layer(input=layer_fc1,\n",
        "                         num_inputs=fc_size,\n",
        "                         num_outputs=num_classes,\n",
        "                         use_relu=False,\n",
        "                         use_dropout=False)\n",
        "\n",
        "#Prediction\n",
        "y_pred = tf.nn.softmax(layer_fc2)\n",
        "y_pred_cls = tf.argmax(y_pred, axis=1)"
      ],
      "execution_count": 0,
      "outputs": []
    },
    {
      "cell_type": "code",
      "metadata": {
        "id": "bhMEKaEet-GM",
        "colab_type": "code",
        "colab": {}
      },
      "source": [
        "cross_entropy = tf.nn.softmax_cross_entropy_with_logits(logits=layer_fc2, labels=y_true)\n",
        "cost = tf.reduce_mean(cross_entropy)\n",
        "optimizer = tf.train.AdamOptimizer(learning_rate=1e-4).minimize(cost)\n",
        "correct_prediction = tf.equal(y_pred_cls, y_true_cls)\n",
        "accuracy = tf.reduce_mean(tf.cast(correct_prediction, tf.float32))"
      ],
      "execution_count": 0,
      "outputs": []
    },
    {
      "cell_type": "code",
      "metadata": {
        "id": "2kwrbh9juEDe",
        "colab_type": "code",
        "colab": {}
      },
      "source": [
        "session = tf.Session()\n",
        "def init_variables():\n",
        "   session.run(tf.global_variables_initializer())"
      ],
      "execution_count": 0,
      "outputs": []
    },
    {
      "cell_type": "code",
      "metadata": {
        "id": "VUbfjDYjuD_x",
        "colab_type": "code",
        "colab": {}
      },
      "source": [
        "\n",
        "batch_size = 50\n",
        "\n",
        "#function next_batch\n",
        "def next_batch(num, data, labels):\n",
        "    '''\n",
        "    Return a total of `num` random samples and labels. \n",
        "    '''\n",
        "    idx = np.arange(0 , len(data))\n",
        "    np.random.shuffle(idx)\n",
        "    idx = idx[:num]\n",
        "    data_shuffle = [data[i] for i in idx]\n",
        "    labels_shuffle = [labels[i] for i in idx]\n",
        "\n",
        "\n",
        "    return np.asarray(data_shuffle), np.asarray(labels_shuffle)"
      ],
      "execution_count": 0,
      "outputs": []
    },
    {
      "cell_type": "code",
      "metadata": {
        "id": "wp9UzlBMuD7Q",
        "colab_type": "code",
        "colab": {}
      },
      "source": [
        "def optimize(num_iterations, X):\n",
        "    global total_iterations\n",
        "    \n",
        "    start_time = time.time()\n",
        "    \n",
        "    #array to plot\n",
        "    losses = {'train':[], 'validation':[]}\n",
        "    \n",
        "    for i in range(num_iterations):\n",
        "            total_iterations += 1\n",
        "            # Get a batch of training examples.\n",
        "            # x_batch now holds a batch of images and\n",
        "            # y_true_batch are the true labels for those images.\n",
        "            x_batch, y_true_batch = next_batch(batch_size, X_train, y_train)\n",
        "\n",
        "\n",
        "            # Put the batch into a dict with the proper names\n",
        "            # for placeholder variables in the TensorFlow graph.\n",
        "            feed_dict_train = {x: x_batch,\n",
        "                               y_true: y_true_batch,\n",
        "                               keep_prob_conv : 0.3,\n",
        "                               keep_prob_fc : 0.4}\n",
        "            feed_dict_validation = {x: X_validation,\n",
        "                               y_true: y_validation,\n",
        "                               keep_prob_conv : 1,\n",
        "                               keep_prob_fc : 1}\n",
        "            \n",
        "            # Run the optimizer using this batch of training data.\n",
        "            # TensorFlow assigns the variables in feed_dict_train\n",
        "            # to the placeholder variables and then runs the optimizer.\n",
        "            session.run(optimizer, feed_dict=feed_dict_train)\n",
        "            \n",
        "            acc_train = session.run(accuracy, feed_dict=feed_dict_train)\n",
        "            acc_validation = session.run(accuracy, feed_dict=feed_dict_validation)\n",
        "            losses['train'].append(acc_train)\n",
        "            losses['validation'].append(acc_validation)\n",
        "            \n",
        "            # Print status every X iterations.\n",
        "            if (total_iterations % X == 0) or (i ==(num_iterations -1)):\n",
        "            # Calculate the accuracy on the training-set.\n",
        "                                \n",
        "                msg = \"Iteration: {0:>6}, Training Accuracy: {1:>6.1%}, Validation Accuracy: {2:>6.1%}\"\n",
        "                print(msg.format(total_iterations, acc_train, acc_validation))\n",
        "                \n",
        "    \n",
        "    # Ending time.\n",
        "    end_time = time.time()\n",
        "\n",
        "\n",
        "    # Difference between start and end-times.\n",
        "    time_dif = end_time - start_time\n",
        "\n",
        "\n",
        "    # Print the time-usage.\n",
        "    print(\"Time usage: \" + str(timedelta(seconds=int(round(time_dif)))))\n",
        "    \n",
        "    plt.plot(losses['train'], label='Training loss')\n",
        "    plt.plot(losses['validation'], label='Validation loss')\n",
        "    plt.legend()\n",
        "    _ = plt.ylim()"
      ],
      "execution_count": 0,
      "outputs": []
    }
  ]
}