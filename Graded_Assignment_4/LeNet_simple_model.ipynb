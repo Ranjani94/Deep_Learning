{
  "nbformat": 4,
  "nbformat_minor": 0,
  "metadata": {
    "colab": {
      "name": "LeNet_simple_model.ipynb",
      "provenance": [],
      "authorship_tag": "ABX9TyNFx4s8WeTQMVvFsdQKjl6v",
      "include_colab_link": true
    },
    "kernelspec": {
      "name": "python3",
      "display_name": "Python 3"
    },
    "accelerator": "GPU"
  },
  "cells": [
    {
      "cell_type": "markdown",
      "metadata": {
        "id": "view-in-github",
        "colab_type": "text"
      },
      "source": [
        "<a href=\"https://colab.research.google.com/github/Ranjani94/Deep_Learning/blob/master/Graded_Assignment_4/LeNet_simple_model.ipynb\" target=\"_parent\"><img src=\"https://colab.research.google.com/assets/colab-badge.svg\" alt=\"Open In Colab\"/></a>"
      ]
    },
    {
      "cell_type": "markdown",
      "metadata": {
        "id": "QBnCw3cUGZZl",
        "colab_type": "text"
      },
      "source": [
        "##Mnist classifier using LeNet Simple Model"
      ]
    },
    {
      "cell_type": "code",
      "metadata": {
        "id": "AQXrNjaoEY_n",
        "colab_type": "code",
        "colab": {
          "base_uri": "https://localhost:8080/",
          "height": 1000
        },
        "outputId": "69f1459a-55be-4086-e5bd-d0d1944be9dc"
      },
      "source": [
        "import os \n",
        "import numpy as np\n",
        "import keras\n",
        "from keras.datasets import mnist\n",
        "from keras.utils import np_utils\n",
        "from keras.models import Sequential, load_model\n",
        "from keras.layers import Dense, Activation, Conv2D, MaxPooling2D, Flatten\n",
        "from keras.optimizers import Adam\n",
        "from keras.callbacks import ReduceLROnPlateau\n",
        "from keras.preprocessing.image import ImageDataGenerator\n",
        "print(os.listdir('/'))\n",
        "(X_train, y_train), (X_test, y_test) = mnist.load_data()\n",
        "X_train = X_train.reshape(-1, 28, 28, 1)  \n",
        "X_test = X_test.reshape(-1, 28, 28, 1)      \n",
        "X_train = X_train / 255\n",
        "X_test = X_test / 255\n",
        "y_train = np_utils.to_categorical(y_train, num_classes=10)\n",
        "y_test = np_utils.to_categorical(y_test, num_classes=10)\n",
        "model = Sequential()\n",
        "\n",
        "model.add(Conv2D(filters=32, kernel_size=(5,5), padding='same', activation='relu', input_shape=(28, 28, 1)))\n",
        "model.add(MaxPooling2D(pool_size=(2,2), strides=2, padding='same'))\n",
        "model.add(Conv2D(filters=48, kernel_size=(5,5), padding='valid', activation='relu'))\n",
        "model.add(MaxPooling2D(pool_size=(2,2), strides=2, padding='same'))\n",
        "model.add(Flatten())\n",
        "model.add(Dense(256, activation='relu'))\n",
        "model.add(Dense(84, activation='relu'))\n",
        "model.add(Dense(10, activation='softmax'))\n",
        "model.summary()\n",
        "\n",
        "model.compile(loss='categorical_crossentropy', metrics=['accuracy'], optimizer=Adam(lr=5e-4))\n",
        "reduce_lr = ReduceLROnPlateau(monitor='val_acc', \n",
        "                                patience=3, \n",
        "                                verbose=1, \n",
        "                                factor=0.2, \n",
        "                                min_lr=1e-6)\n",
        "\n",
        "os.makedirs('./log',exist_ok=True)\n",
        "log = keras.callbacks.TensorBoard(log_dir='./log',\n",
        "                                         histogram_freq=1,\n",
        "                                         embeddings_freq=0,\n",
        "                                         embeddings_layer_names=None)\n",
        "\n",
        "datagen = ImageDataGenerator(\n",
        "            rotation_range=10, \n",
        "            width_shift_range=0.1, \n",
        "            height_shift_range=0.1, \n",
        "            shear_range=0.1,\n",
        "            zoom_range=0.2)\n",
        "datagen.fit(X_train)                                         \n",
        "\n",
        "model.fit_generator(datagen.flow(X_train, y_train, batch_size=100), steps_per_epoch=len(X_train)/100, \n",
        "                    epochs=30, validation_data=(X_test, y_test), callbacks=[reduce_lr,log])\n",
        "\n",
        "score = model.evaluate(X_test, y_test, batch_size=32)\n",
        "print('score: ',score)\n",
        "model.save('my_model.h5') "
      ],
      "execution_count": 1,
      "outputs": [
        {
          "output_type": "stream",
          "text": [
            "Using TensorFlow backend.\n"
          ],
          "name": "stderr"
        },
        {
          "output_type": "stream",
          "text": [
            "['home', 'sys', 'bin', 'srv', 'proc', 'tmp', 'boot', 'lib', 'media', 'opt', 'var', 'sbin', 'etc', 'usr', 'run', 'lib64', 'mnt', 'dev', 'root', '.dockerenv', 'datalab', 'tools', 'swift', 'dlib-19.18.0-cp36-cp36m-linux_x86_64.whl', 'dlib-19.18.0-cp27-cp27mu-linux_x86_64.whl', 'content', 'tensorflow-1.15.2', 'lib32']\n",
            "Downloading data from https://s3.amazonaws.com/img-datasets/mnist.npz\n",
            "11493376/11490434 [==============================] - 1s 0us/step\n",
            "Model: \"sequential_1\"\n",
            "_________________________________________________________________\n",
            "Layer (type)                 Output Shape              Param #   \n",
            "=================================================================\n",
            "conv2d_1 (Conv2D)            (None, 28, 28, 32)        832       \n",
            "_________________________________________________________________\n",
            "max_pooling2d_1 (MaxPooling2 (None, 14, 14, 32)        0         \n",
            "_________________________________________________________________\n",
            "conv2d_2 (Conv2D)            (None, 10, 10, 48)        38448     \n",
            "_________________________________________________________________\n",
            "max_pooling2d_2 (MaxPooling2 (None, 5, 5, 48)          0         \n",
            "_________________________________________________________________\n",
            "flatten_1 (Flatten)          (None, 1200)              0         \n",
            "_________________________________________________________________\n",
            "dense_1 (Dense)              (None, 256)               307456    \n",
            "_________________________________________________________________\n",
            "dense_2 (Dense)              (None, 84)                21588     \n",
            "_________________________________________________________________\n",
            "dense_3 (Dense)              (None, 10)                850       \n",
            "=================================================================\n",
            "Total params: 369,174\n",
            "Trainable params: 369,174\n",
            "Non-trainable params: 0\n",
            "_________________________________________________________________\n",
            "Epoch 1/30\n",
            "600/600 [==============================] - 23s 38ms/step - loss: 0.4000 - accuracy: 0.8758 - val_loss: 0.0556 - val_accuracy: 0.9820\n",
            "Epoch 2/30\n",
            " 12/600 [..............................] - ETA: 5s - loss: 0.1732 - accuracy: 0.9492"
          ],
          "name": "stdout"
        },
        {
          "output_type": "stream",
          "text": [
            "/usr/local/lib/python3.6/dist-packages/keras/callbacks/callbacks.py:1042: RuntimeWarning: Reduce LR on plateau conditioned on metric `val_acc` which is not available. Available metrics are: val_loss,val_accuracy,loss,accuracy,lr\n",
            "  (self.monitor, ','.join(list(logs.keys()))), RuntimeWarning\n"
          ],
          "name": "stderr"
        },
        {
          "output_type": "stream",
          "text": [
            "600/600 [==============================] - 15s 26ms/step - loss: 0.1228 - accuracy: 0.9623 - val_loss: 0.0421 - val_accuracy: 0.9866\n",
            "Epoch 3/30\n",
            "600/600 [==============================] - 16s 27ms/step - loss: 0.0898 - accuracy: 0.9731 - val_loss: 0.0447 - val_accuracy: 0.9852\n",
            "Epoch 4/30\n",
            "600/600 [==============================] - 16s 26ms/step - loss: 0.0726 - accuracy: 0.9775 - val_loss: 0.0308 - val_accuracy: 0.9897\n",
            "Epoch 5/30\n",
            "600/600 [==============================] - 16s 27ms/step - loss: 0.0600 - accuracy: 0.9813 - val_loss: 0.0301 - val_accuracy: 0.9900\n",
            "Epoch 6/30\n",
            "600/600 [==============================] - 16s 27ms/step - loss: 0.0548 - accuracy: 0.9834 - val_loss: 0.0221 - val_accuracy: 0.9919\n",
            "Epoch 7/30\n",
            "600/600 [==============================] - 16s 27ms/step - loss: 0.0491 - accuracy: 0.9847 - val_loss: 0.0286 - val_accuracy: 0.9905\n",
            "Epoch 8/30\n",
            "600/600 [==============================] - 16s 26ms/step - loss: 0.0443 - accuracy: 0.9864 - val_loss: 0.0224 - val_accuracy: 0.9923\n",
            "Epoch 9/30\n",
            "600/600 [==============================] - 16s 26ms/step - loss: 0.0424 - accuracy: 0.9870 - val_loss: 0.0186 - val_accuracy: 0.9939\n",
            "Epoch 10/30\n",
            "600/600 [==============================] - 16s 27ms/step - loss: 0.0384 - accuracy: 0.9879 - val_loss: 0.0194 - val_accuracy: 0.9935\n",
            "Epoch 11/30\n",
            "600/600 [==============================] - 16s 27ms/step - loss: 0.0386 - accuracy: 0.9876 - val_loss: 0.0213 - val_accuracy: 0.9929\n",
            "Epoch 12/30\n",
            "600/600 [==============================] - 16s 26ms/step - loss: 0.0349 - accuracy: 0.9890 - val_loss: 0.0177 - val_accuracy: 0.9949\n",
            "Epoch 13/30\n",
            "600/600 [==============================] - 16s 26ms/step - loss: 0.0337 - accuracy: 0.9892 - val_loss: 0.0180 - val_accuracy: 0.9933\n",
            "Epoch 14/30\n",
            "600/600 [==============================] - 16s 26ms/step - loss: 0.0306 - accuracy: 0.9904 - val_loss: 0.0174 - val_accuracy: 0.9943\n",
            "Epoch 15/30\n",
            "600/600 [==============================] - 16s 26ms/step - loss: 0.0303 - accuracy: 0.9903 - val_loss: 0.0163 - val_accuracy: 0.9946\n",
            "Epoch 16/30\n",
            "600/600 [==============================] - 16s 26ms/step - loss: 0.0291 - accuracy: 0.9906 - val_loss: 0.0193 - val_accuracy: 0.9944\n",
            "Epoch 17/30\n",
            "600/600 [==============================] - 16s 27ms/step - loss: 0.0282 - accuracy: 0.9914 - val_loss: 0.0149 - val_accuracy: 0.9946\n",
            "Epoch 18/30\n",
            "600/600 [==============================] - 16s 26ms/step - loss: 0.0264 - accuracy: 0.9916 - val_loss: 0.0202 - val_accuracy: 0.9933\n",
            "Epoch 19/30\n",
            "600/600 [==============================] - 16s 26ms/step - loss: 0.0251 - accuracy: 0.9924 - val_loss: 0.0165 - val_accuracy: 0.9948\n",
            "Epoch 20/30\n",
            "600/600 [==============================] - 16s 27ms/step - loss: 0.0252 - accuracy: 0.9919 - val_loss: 0.0217 - val_accuracy: 0.9931\n",
            "Epoch 21/30\n",
            "600/600 [==============================] - 16s 27ms/step - loss: 0.0240 - accuracy: 0.9926 - val_loss: 0.0170 - val_accuracy: 0.9942\n",
            "Epoch 22/30\n",
            "600/600 [==============================] - 16s 26ms/step - loss: 0.0246 - accuracy: 0.9925 - val_loss: 0.0213 - val_accuracy: 0.9930\n",
            "Epoch 23/30\n",
            "600/600 [==============================] - 16s 26ms/step - loss: 0.0226 - accuracy: 0.9932 - val_loss: 0.0181 - val_accuracy: 0.9937\n",
            "Epoch 24/30\n",
            "600/600 [==============================] - 16s 26ms/step - loss: 0.0205 - accuracy: 0.9937 - val_loss: 0.0157 - val_accuracy: 0.9949\n",
            "Epoch 25/30\n",
            "600/600 [==============================] - 15s 26ms/step - loss: 0.0202 - accuracy: 0.9938 - val_loss: 0.0184 - val_accuracy: 0.9940\n",
            "Epoch 26/30\n",
            "600/600 [==============================] - 16s 27ms/step - loss: 0.0211 - accuracy: 0.9931 - val_loss: 0.0189 - val_accuracy: 0.9937\n",
            "Epoch 27/30\n",
            "600/600 [==============================] - 16s 26ms/step - loss: 0.0195 - accuracy: 0.9937 - val_loss: 0.0207 - val_accuracy: 0.9935\n",
            "Epoch 28/30\n",
            "600/600 [==============================] - 16s 26ms/step - loss: 0.0201 - accuracy: 0.9935 - val_loss: 0.0198 - val_accuracy: 0.9928\n",
            "Epoch 29/30\n",
            "600/600 [==============================] - 16s 26ms/step - loss: 0.0192 - accuracy: 0.9940 - val_loss: 0.0161 - val_accuracy: 0.9943\n",
            "Epoch 30/30\n",
            "600/600 [==============================] - 16s 27ms/step - loss: 0.0184 - accuracy: 0.9940 - val_loss: 0.0197 - val_accuracy: 0.9932\n",
            "10000/10000 [==============================] - 1s 72us/step\n",
            "score:  [0.01966608525509655, 0.9932000041007996]\n"
          ],
          "name": "stdout"
        }
      ]
    }
  ]
}