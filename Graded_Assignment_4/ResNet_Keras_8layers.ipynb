{
  "nbformat": 4,
  "nbformat_minor": 0,
  "metadata": {
    "colab": {
      "name": "ResNet_Keras_8layers.ipynb",
      "provenance": [],
      "authorship_tag": "ABX9TyNw7e8rYbpmQd1rmTnakxPv",
      "include_colab_link": true
    },
    "kernelspec": {
      "name": "python3",
      "display_name": "Python 3"
    },
    "accelerator": "GPU"
  },
  "cells": [
    {
      "cell_type": "markdown",
      "metadata": {
        "id": "view-in-github",
        "colab_type": "text"
      },
      "source": [
        "<a href=\"https://colab.research.google.com/github/Ranjani94/Deep_Learning/blob/master/Graded_Assignment_4/ResNet_Keras_8layers.ipynb\" target=\"_parent\"><img src=\"https://colab.research.google.com/assets/colab-badge.svg\" alt=\"Open In Colab\"/></a>"
      ]
    },
    {
      "cell_type": "markdown",
      "metadata": {
        "id": "VTUYuDVyRi6M",
        "colab_type": "text"
      },
      "source": [
        "##Mnist classifier using Keras [ResNet - 8 layers]"
      ]
    },
    {
      "cell_type": "code",
      "metadata": {
        "id": "TFnM_KLIRgU-",
        "colab_type": "code",
        "colab": {}
      },
      "source": [
        "\n",
        "from __future__ import print_function\n",
        "import keras\n",
        "from keras.datasets import mnist\n",
        "from keras.models import Sequential\n",
        "from keras.layers import Dense, Dropout, Flatten\n",
        "from keras.layers import Conv2D, MaxPooling2D\n",
        "from keras import backend as K"
      ],
      "execution_count": 0,
      "outputs": []
    },
    {
      "cell_type": "code",
      "metadata": {
        "id": "dMNscGyGa9nC",
        "colab_type": "code",
        "colab": {}
      },
      "source": [
        "batch_size = 128\n",
        "num_classes = 10\n",
        "epochs = 12"
      ],
      "execution_count": 0,
      "outputs": []
    },
    {
      "cell_type": "code",
      "metadata": {
        "id": "eZ-mk9FMvcTd",
        "colab_type": "code",
        "colab": {}
      },
      "source": [
        "# input image dimensions\n",
        "img_rows, img_cols = 28, 28"
      ],
      "execution_count": 0,
      "outputs": []
    },
    {
      "cell_type": "code",
      "metadata": {
        "id": "vDwYLSdAvewn",
        "colab_type": "code",
        "colab": {
          "base_uri": "https://localhost:8080/",
          "height": 51
        },
        "outputId": "685584c4-a51a-4659-b1ac-05f1d3173fc8"
      },
      "source": [
        "# the data, split between train and test sets\n",
        "(x_train, y_train), (x_test, y_test) = mnist.load_data()"
      ],
      "execution_count": 16,
      "outputs": [
        {
          "output_type": "stream",
          "text": [
            "Downloading data from https://s3.amazonaws.com/img-datasets/mnist.npz\n",
            "11493376/11490434 [==============================] - 2s 0us/step\n"
          ],
          "name": "stdout"
        }
      ]
    },
    {
      "cell_type": "code",
      "metadata": {
        "id": "H8LcyrOyvgIH",
        "colab_type": "code",
        "colab": {}
      },
      "source": [
        "if K.image_data_format() == 'channels_first':\n",
        "    x_train = x_train.reshape(x_train.shape[0], 1, img_rows, img_cols)\n",
        "    x_test = x_test.reshape(x_test.shape[0], 1, img_rows, img_cols)\n",
        "    input_shape = (1, img_rows, img_cols)\n",
        "else:\n",
        "    x_train = x_train.reshape(x_train.shape[0], img_rows, img_cols, 1)\n",
        "    x_test = x_test.reshape(x_test.shape[0], img_rows, img_cols, 1)\n",
        "    input_shape = (img_rows, img_cols, 1)"
      ],
      "execution_count": 0,
      "outputs": []
    },
    {
      "cell_type": "code",
      "metadata": {
        "id": "FNidO-73vhrE",
        "colab_type": "code",
        "colab": {
          "base_uri": "https://localhost:8080/",
          "height": 68
        },
        "outputId": "48aab866-137e-4a1b-a64f-162611caa4db"
      },
      "source": [
        "x_train = x_train.astype('float32')\n",
        "x_test = x_test.astype('float32')\n",
        "x_train /= 255\n",
        "x_test /= 255\n",
        "print('x_train shape:', x_train.shape)\n",
        "print(x_train.shape[0], 'train samples')\n",
        "print(x_test.shape[0], 'test samples')\n"
      ],
      "execution_count": 18,
      "outputs": [
        {
          "output_type": "stream",
          "text": [
            "x_train shape: (60000, 28, 28, 1)\n",
            "60000 train samples\n",
            "10000 test samples\n"
          ],
          "name": "stdout"
        }
      ]
    },
    {
      "cell_type": "code",
      "metadata": {
        "id": "xy8w9MPNvjH4",
        "colab_type": "code",
        "colab": {}
      },
      "source": [
        "# convert class vectors to binary class matrices\n",
        "y_train = keras.utils.to_categorical(y_train, num_classes)\n",
        "y_test = keras.utils.to_categorical(y_test, num_classes)"
      ],
      "execution_count": 0,
      "outputs": []
    },
    {
      "cell_type": "code",
      "metadata": {
        "id": "rfC_lVj1vlK_",
        "colab_type": "code",
        "colab": {}
      },
      "source": [
        "#Resnet architecture qwith only 8 layers\n",
        "\n",
        "model = Sequential()\n",
        "model.add(Conv2D(32, kernel_size=(3, 3),\n",
        "                 activation='relu',\n",
        "                 input_shape=input_shape))\n",
        "model.add(Conv2D(64, (3, 3), activation='relu'))\n",
        "model.add(MaxPooling2D(pool_size=(2, 2)))\n",
        "model.add(Conv2D(64, (3, 3), activation='relu'))\n",
        "model.add(Conv2D(128, (3, 3), activation='relu'))\n",
        "model.add(Conv2D(128, (3, 3), activation='relu'))\n",
        "model.add(Conv2D(256, (3, 3), activation='relu'))\n",
        "model.add(Dropout(0.25))\n",
        "model.add(Flatten())\n",
        "model.add(Dense(128, activation='relu'))\n",
        "model.add(Dropout(0.5))\n",
        "model.add(Dense(num_classes, activation='softmax'))"
      ],
      "execution_count": 0,
      "outputs": []
    },
    {
      "cell_type": "code",
      "metadata": {
        "id": "p8WIr806vncA",
        "colab_type": "code",
        "colab": {}
      },
      "source": [
        "model.compile(loss=keras.losses.categorical_crossentropy,\n",
        "              optimizer=keras.optimizers.Adadelta(),\n",
        "              metrics=['accuracy'])"
      ],
      "execution_count": 0,
      "outputs": []
    },
    {
      "cell_type": "code",
      "metadata": {
        "id": "sS8VbL1WvqTo",
        "colab_type": "code",
        "colab": {
          "base_uri": "https://localhost:8080/",
          "height": 479
        },
        "outputId": "3ce8e4fd-a213-4c28-a5ae-0843d77fbc80"
      },
      "source": [
        "model.fit(x_train, y_train,\n",
        "          batch_size=batch_size,\n",
        "          epochs=epochs,\n",
        "          verbose=1,\n",
        "          validation_data=(x_test, y_test))"
      ],
      "execution_count": 25,
      "outputs": [
        {
          "output_type": "stream",
          "text": [
            "Train on 60000 samples, validate on 10000 samples\n",
            "Epoch 1/12\n",
            "60000/60000 [==============================] - 16s 266us/step - loss: 0.3284 - accuracy: 0.8956 - val_loss: 0.0494 - val_accuracy: 0.9847\n",
            "Epoch 2/12\n",
            "60000/60000 [==============================] - 15s 250us/step - loss: 0.0653 - accuracy: 0.9812 - val_loss: 0.0364 - val_accuracy: 0.9887\n",
            "Epoch 3/12\n",
            "60000/60000 [==============================] - 15s 249us/step - loss: 0.0455 - accuracy: 0.9869 - val_loss: 0.0348 - val_accuracy: 0.9900\n",
            "Epoch 4/12\n",
            "60000/60000 [==============================] - 15s 249us/step - loss: 0.0342 - accuracy: 0.9899 - val_loss: 0.0292 - val_accuracy: 0.9911\n",
            "Epoch 5/12\n",
            "60000/60000 [==============================] - 15s 250us/step - loss: 0.0278 - accuracy: 0.9923 - val_loss: 0.0268 - val_accuracy: 0.9933\n",
            "Epoch 6/12\n",
            "60000/60000 [==============================] - 15s 250us/step - loss: 0.0224 - accuracy: 0.9934 - val_loss: 0.0187 - val_accuracy: 0.9950\n",
            "Epoch 7/12\n",
            "60000/60000 [==============================] - 15s 250us/step - loss: 0.0190 - accuracy: 0.9945 - val_loss: 0.0266 - val_accuracy: 0.9921\n",
            "Epoch 8/12\n",
            "60000/60000 [==============================] - 15s 248us/step - loss: 0.0154 - accuracy: 0.9952 - val_loss: 0.0190 - val_accuracy: 0.9943\n",
            "Epoch 9/12\n",
            "60000/60000 [==============================] - 15s 250us/step - loss: 0.0143 - accuracy: 0.9960 - val_loss: 0.0191 - val_accuracy: 0.9944\n",
            "Epoch 10/12\n",
            "60000/60000 [==============================] - 15s 249us/step - loss: 0.0112 - accuracy: 0.9966 - val_loss: 0.0196 - val_accuracy: 0.9943\n",
            "Epoch 11/12\n",
            "60000/60000 [==============================] - 15s 249us/step - loss: 0.0095 - accuracy: 0.9973 - val_loss: 0.0210 - val_accuracy: 0.9942\n",
            "Epoch 12/12\n",
            "60000/60000 [==============================] - 15s 250us/step - loss: 0.0083 - accuracy: 0.9975 - val_loss: 0.0201 - val_accuracy: 0.9948\n"
          ],
          "name": "stdout"
        },
        {
          "output_type": "execute_result",
          "data": {
            "text/plain": [
              "<keras.callbacks.callbacks.History at 0x7fd51bfc0eb8>"
            ]
          },
          "metadata": {
            "tags": []
          },
          "execution_count": 25
        }
      ]
    },
    {
      "cell_type": "code",
      "metadata": {
        "id": "wihOlsIPvsVY",
        "colab_type": "code",
        "colab": {
          "base_uri": "https://localhost:8080/",
          "height": 51
        },
        "outputId": "8ad24626-a060-4438-fbc5-1801018942ff"
      },
      "source": [
        "score = model.evaluate(x_test, y_test, verbose=0)\n",
        "print('Test loss:', score[0])\n",
        "print('Test accuracy:', score[1])"
      ],
      "execution_count": 26,
      "outputs": [
        {
          "output_type": "stream",
          "text": [
            "Test loss: 0.020133873951287764\n",
            "Test accuracy: 0.9947999715805054\n"
          ],
          "name": "stdout"
        }
      ]
    }
  ]
}