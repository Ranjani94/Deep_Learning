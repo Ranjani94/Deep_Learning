{
  "nbformat": 4,
  "nbformat_minor": 0,
  "metadata": {
    "colab": {
      "name": "endtoend_ml.ipynb",
      "provenance": [],
      "authorship_tag": "ABX9TyNQ9/AaEk4NI2ZzWbBr6W4E",
      "include_colab_link": true
    },
    "kernelspec": {
      "name": "python3",
      "display_name": "Python 3"
    }
  },
  "cells": [
    {
      "cell_type": "markdown",
      "metadata": {
        "id": "view-in-github",
        "colab_type": "text"
      },
      "source": [
        "<a href=\"https://colab.research.google.com/github/Ranjani94/Deep_Learning/blob/master/homework0/endtoend_ml.ipynb\" target=\"_parent\"><img src=\"https://colab.research.google.com/assets/colab-badge.svg\" alt=\"Open In Colab\"/></a>"
      ]
    },
    {
      "cell_type": "code",
      "metadata": {
        "id": "5DGxwZx0fYse",
        "colab_type": "code",
        "outputId": "65f075c5-77b0-4491-ad09-6264ea36906e",
        "colab": {
          "base_uri": "https://localhost:8080/",
          "height": 122
        }
      },
      "source": [
        "from google.colab import drive\n",
        "drive.mount('/content/gdrive', force_remount=True)\n",
        "root_dir = \"/content/gdrive/My Drive/\"\n",
        "base_dir = root_dir + 'Deep_Learning/'\n"
      ],
      "execution_count": 0,
      "outputs": [
        {
          "output_type": "stream",
          "text": [
            "Go to this URL in a browser: https://accounts.google.com/o/oauth2/auth?client_id=947318989803-6bn6qk8qdgf4n4g3pfee6491hc0brc4i.apps.googleusercontent.com&redirect_uri=urn%3aietf%3awg%3aoauth%3a2.0%3aoob&response_type=code&scope=email%20https%3a%2f%2fwww.googleapis.com%2fauth%2fdocs.test%20https%3a%2f%2fwww.googleapis.com%2fauth%2fdrive%20https%3a%2f%2fwww.googleapis.com%2fauth%2fdrive.photos.readonly%20https%3a%2f%2fwww.googleapis.com%2fauth%2fpeopleapi.readonly\n",
            "\n",
            "Enter your authorization code:\n",
            "··········\n",
            "Mounted at /content/gdrive\n"
          ],
          "name": "stdout"
        }
      ]
    },
    {
      "cell_type": "code",
      "metadata": {
        "id": "vk52EkyIfpbe",
        "colab_type": "code",
        "colab": {}
      },
      "source": [
        "import sys\n",
        "assert sys.version_info >= (3, 5)\n",
        "\n",
        "# Scikit-Learn ≥0.20 is required\n",
        "import sklearn\n",
        "assert sklearn.__version__ >= \"0.20\"\n",
        "\n",
        "# Common imports\n",
        "import numpy as np\n",
        "import os\n",
        "import pandas as pd\n",
        "\n",
        "# To plot pretty figures\n",
        "%matplotlib inline\n",
        "import matplotlib as mpl\n",
        "import matplotlib.pyplot as plt\n",
        "mpl.rc('axes', labelsize=14)\n",
        "mpl.rc('xtick', labelsize=12)\n",
        "mpl.rc('ytick', labelsize=12)\n",
        "\n",
        "# Where to save the figures\n",
        "PROJECT_ROOT_DIR = \".\"\n",
        "CHAPTER_ID = \"end_to_end_project\"\n",
        "IMAGES_PATH = os.path.join(PROJECT_ROOT_DIR, \"images\", CHAPTER_ID)\n",
        "os.makedirs(IMAGES_PATH, exist_ok=True)\n",
        "\n",
        "def save_fig(fig_id, tight_layout=True, fig_extension=\"png\", resolution=300):\n",
        "    path = os.path.join(IMAGES_PATH, fig_id + \".\" + fig_extension)\n",
        "    print(\"Saving figure\", fig_id)\n",
        "    if tight_layout:\n",
        "        plt.tight_layout()\n",
        "    plt.savefig(path, format=fig_extension, dpi=resolution)\n",
        "\n",
        "# Ignore useless warnings (see SciPy issue #5998)\n",
        "import warnings\n",
        "warnings.filterwarnings(action=\"ignore\", message=\"^internal gelsd\")"
      ],
      "execution_count": 0,
      "outputs": []
    },
    {
      "cell_type": "code",
      "metadata": {
        "id": "bENhpKI1fpdv",
        "colab_type": "code",
        "colab": {}
      },
      "source": [
        "#Getting the data\n",
        "import os\n",
        "import tarfile\n",
        "import urllib\n",
        "\n",
        "DOWNLOAD_ROOT = \"https://github.com/Ranjani94/Deep_Learning/blob/master/\"\n",
        "HOUSING_PATH = os.path.join(\"datasets\", \"data\")\n",
        "HOUSING_URL = DOWNLOAD_ROOT + \"Datasets\"\n",
        "\n",
        "# def fetch_housing_data(housing_url=HOUSING_URL, housing_path=HOUSING_PATH):\n",
        "#     if not os.path.isdir(housing_path):\n",
        "#         os.makedirs(housing_path)\n",
        "#     tgz_path = os.path.join(housing_path, \"housing.tgz\")\n",
        "#     urllib.request.urlretrieve(housing_url, tgz_path)\n",
        "#     housing_tgz = tarfile.open(tgz_path)\n",
        "#     housing_tgz.extractall(path=housing_path)\n",
        "#     housing_tgz.close()"
      ],
      "execution_count": 0,
      "outputs": []
    },
    {
      "cell_type": "code",
      "metadata": {
        "id": "TR0kSYvl375J",
        "colab_type": "code",
        "outputId": "e686c84f-189a-443d-b678-b025ee72ecf4",
        "colab": {
          "resources": {
            "http://localhost:8080/nbextensions/google.colab/files.js": {
              "data": "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",
              "ok": true,
              "headers": [
                [
                  "content-type",
                  "application/javascript"
                ]
              ],
              "status": 200,
              "status_text": ""
            }
          },
          "base_uri": "https://localhost:8080/",
          "height": 71
        }
      },
      "source": [
        "from google.colab import files\n",
        "from io import BytesIO\n",
        "upload = files.upload()"
      ],
      "execution_count": 0,
      "outputs": [
        {
          "output_type": "display_data",
          "data": {
            "text/html": [
              "\n",
              "     <input type=\"file\" id=\"files-3883494d-b879-496b-b231-4fd962d9f13d\" name=\"files[]\" multiple disabled />\n",
              "     <output id=\"result-3883494d-b879-496b-b231-4fd962d9f13d\">\n",
              "      Upload widget is only available when the cell has been executed in the\n",
              "      current browser session. Please rerun this cell to enable.\n",
              "      </output>\n",
              "      <script src=\"/nbextensions/google.colab/files.js\"></script> "
            ],
            "text/plain": [
              "<IPython.core.display.HTML object>"
            ]
          },
          "metadata": {
            "tags": []
          }
        },
        {
          "output_type": "stream",
          "text": [
            "Saving data.csv to data (1).csv\n"
          ],
          "name": "stdout"
        }
      ]
    },
    {
      "cell_type": "code",
      "metadata": {
        "id": "AcmxOXVxfpgD",
        "colab_type": "code",
        "outputId": "f807591f-0a2b-4730-afd7-345b35ce5659",
        "colab": {
          "base_uri": "https://localhost:8080/",
          "height": 204
        }
      },
      "source": [
        "data = pd.read_csv(\"data.csv\", header=0)\n",
        "data.head()\n"
      ],
      "execution_count": 0,
      "outputs": [
        {
          "output_type": "execute_result",
          "data": {
            "text/html": [
              "<div>\n",
              "<style scoped>\n",
              "    .dataframe tbody tr th:only-of-type {\n",
              "        vertical-align: middle;\n",
              "    }\n",
              "\n",
              "    .dataframe tbody tr th {\n",
              "        vertical-align: top;\n",
              "    }\n",
              "\n",
              "    .dataframe thead th {\n",
              "        text-align: right;\n",
              "    }\n",
              "</style>\n",
              "<table border=\"1\" class=\"dataframe\">\n",
              "  <thead>\n",
              "    <tr style=\"text-align: right;\">\n",
              "      <th></th>\n",
              "      <th>Unnamed: 0</th>\n",
              "      <th>Id</th>\n",
              "      <th>Cl.thickness</th>\n",
              "      <th>Cell.size</th>\n",
              "      <th>Cell.shape</th>\n",
              "      <th>Marg.adhesion</th>\n",
              "      <th>Epith.c.size</th>\n",
              "      <th>Bare.nuclei</th>\n",
              "      <th>Bl.cromatin</th>\n",
              "      <th>Normal.nucleoli</th>\n",
              "      <th>Mitoses</th>\n",
              "      <th>Class</th>\n",
              "    </tr>\n",
              "  </thead>\n",
              "  <tbody>\n",
              "    <tr>\n",
              "      <th>0</th>\n",
              "      <td>1</td>\n",
              "      <td>1000025</td>\n",
              "      <td>5</td>\n",
              "      <td>1</td>\n",
              "      <td>1</td>\n",
              "      <td>1</td>\n",
              "      <td>2</td>\n",
              "      <td>1</td>\n",
              "      <td>3</td>\n",
              "      <td>1</td>\n",
              "      <td>1</td>\n",
              "      <td>benign</td>\n",
              "    </tr>\n",
              "    <tr>\n",
              "      <th>1</th>\n",
              "      <td>2</td>\n",
              "      <td>1002945</td>\n",
              "      <td>5</td>\n",
              "      <td>4</td>\n",
              "      <td>4</td>\n",
              "      <td>5</td>\n",
              "      <td>7</td>\n",
              "      <td>10</td>\n",
              "      <td>3</td>\n",
              "      <td>2</td>\n",
              "      <td>1</td>\n",
              "      <td>benign</td>\n",
              "    </tr>\n",
              "    <tr>\n",
              "      <th>2</th>\n",
              "      <td>3</td>\n",
              "      <td>1015425</td>\n",
              "      <td>3</td>\n",
              "      <td>1</td>\n",
              "      <td>1</td>\n",
              "      <td>1</td>\n",
              "      <td>2</td>\n",
              "      <td>2</td>\n",
              "      <td>3</td>\n",
              "      <td>1</td>\n",
              "      <td>1</td>\n",
              "      <td>benign</td>\n",
              "    </tr>\n",
              "    <tr>\n",
              "      <th>3</th>\n",
              "      <td>4</td>\n",
              "      <td>1016277</td>\n",
              "      <td>6</td>\n",
              "      <td>8</td>\n",
              "      <td>8</td>\n",
              "      <td>1</td>\n",
              "      <td>3</td>\n",
              "      <td>4</td>\n",
              "      <td>3</td>\n",
              "      <td>7</td>\n",
              "      <td>1</td>\n",
              "      <td>benign</td>\n",
              "    </tr>\n",
              "    <tr>\n",
              "      <th>4</th>\n",
              "      <td>5</td>\n",
              "      <td>1017023</td>\n",
              "      <td>4</td>\n",
              "      <td>1</td>\n",
              "      <td>1</td>\n",
              "      <td>3</td>\n",
              "      <td>2</td>\n",
              "      <td>1</td>\n",
              "      <td>3</td>\n",
              "      <td>1</td>\n",
              "      <td>1</td>\n",
              "      <td>benign</td>\n",
              "    </tr>\n",
              "  </tbody>\n",
              "</table>\n",
              "</div>"
            ],
            "text/plain": [
              "   Unnamed: 0       Id  Cl.thickness  ...  Normal.nucleoli  Mitoses   Class\n",
              "0           1  1000025             5  ...                1        1  benign\n",
              "1           2  1002945             5  ...                2        1  benign\n",
              "2           3  1015425             3  ...                1        1  benign\n",
              "3           4  1016277             6  ...                7        1  benign\n",
              "4           5  1017023             4  ...                1        1  benign\n",
              "\n",
              "[5 rows x 12 columns]"
            ]
          },
          "metadata": {
            "tags": []
          },
          "execution_count": 10
        }
      ]
    },
    {
      "cell_type": "code",
      "metadata": {
        "id": "jl85d32lfpie",
        "colab_type": "code",
        "outputId": "0b381dac-b9d9-41b4-c2b4-e732439d8e79",
        "colab": {
          "base_uri": "https://localhost:8080/",
          "height": 306
        }
      },
      "source": [
        "data.info()"
      ],
      "execution_count": 0,
      "outputs": [
        {
          "output_type": "stream",
          "text": [
            "<class 'pandas.core.frame.DataFrame'>\n",
            "RangeIndex: 683 entries, 0 to 682\n",
            "Data columns (total 12 columns):\n",
            "Unnamed: 0         683 non-null int64\n",
            "Id                 683 non-null int64\n",
            "Cl.thickness       683 non-null int64\n",
            "Cell.size          683 non-null int64\n",
            "Cell.shape         683 non-null int64\n",
            "Marg.adhesion      683 non-null int64\n",
            "Epith.c.size       683 non-null int64\n",
            "Bare.nuclei        683 non-null int64\n",
            "Bl.cromatin        683 non-null int64\n",
            "Normal.nucleoli    683 non-null int64\n",
            "Mitoses            683 non-null int64\n",
            "Class              683 non-null object\n",
            "dtypes: int64(11), object(1)\n",
            "memory usage: 64.2+ KB\n"
          ],
          "name": "stdout"
        }
      ]
    },
    {
      "cell_type": "code",
      "metadata": {
        "id": "F7oyikuo5Cup",
        "colab_type": "code",
        "outputId": "1b0ef283-51ff-4b88-aaaa-9a0934d3c6ee",
        "colab": {
          "base_uri": "https://localhost:8080/",
          "height": 419
        }
      },
      "source": [
        "data.isnull()"
      ],
      "execution_count": 0,
      "outputs": [
        {
          "output_type": "execute_result",
          "data": {
            "text/html": [
              "<div>\n",
              "<style scoped>\n",
              "    .dataframe tbody tr th:only-of-type {\n",
              "        vertical-align: middle;\n",
              "    }\n",
              "\n",
              "    .dataframe tbody tr th {\n",
              "        vertical-align: top;\n",
              "    }\n",
              "\n",
              "    .dataframe thead th {\n",
              "        text-align: right;\n",
              "    }\n",
              "</style>\n",
              "<table border=\"1\" class=\"dataframe\">\n",
              "  <thead>\n",
              "    <tr style=\"text-align: right;\">\n",
              "      <th></th>\n",
              "      <th>Unnamed: 0</th>\n",
              "      <th>Id</th>\n",
              "      <th>Cl.thickness</th>\n",
              "      <th>Cell.size</th>\n",
              "      <th>Cell.shape</th>\n",
              "      <th>Marg.adhesion</th>\n",
              "      <th>Epith.c.size</th>\n",
              "      <th>Bare.nuclei</th>\n",
              "      <th>Bl.cromatin</th>\n",
              "      <th>Normal.nucleoli</th>\n",
              "      <th>Mitoses</th>\n",
              "      <th>Class</th>\n",
              "    </tr>\n",
              "  </thead>\n",
              "  <tbody>\n",
              "    <tr>\n",
              "      <th>0</th>\n",
              "      <td>False</td>\n",
              "      <td>False</td>\n",
              "      <td>False</td>\n",
              "      <td>False</td>\n",
              "      <td>False</td>\n",
              "      <td>False</td>\n",
              "      <td>False</td>\n",
              "      <td>False</td>\n",
              "      <td>False</td>\n",
              "      <td>False</td>\n",
              "      <td>False</td>\n",
              "      <td>False</td>\n",
              "    </tr>\n",
              "    <tr>\n",
              "      <th>1</th>\n",
              "      <td>False</td>\n",
              "      <td>False</td>\n",
              "      <td>False</td>\n",
              "      <td>False</td>\n",
              "      <td>False</td>\n",
              "      <td>False</td>\n",
              "      <td>False</td>\n",
              "      <td>False</td>\n",
              "      <td>False</td>\n",
              "      <td>False</td>\n",
              "      <td>False</td>\n",
              "      <td>False</td>\n",
              "    </tr>\n",
              "    <tr>\n",
              "      <th>2</th>\n",
              "      <td>False</td>\n",
              "      <td>False</td>\n",
              "      <td>False</td>\n",
              "      <td>False</td>\n",
              "      <td>False</td>\n",
              "      <td>False</td>\n",
              "      <td>False</td>\n",
              "      <td>False</td>\n",
              "      <td>False</td>\n",
              "      <td>False</td>\n",
              "      <td>False</td>\n",
              "      <td>False</td>\n",
              "    </tr>\n",
              "    <tr>\n",
              "      <th>3</th>\n",
              "      <td>False</td>\n",
              "      <td>False</td>\n",
              "      <td>False</td>\n",
              "      <td>False</td>\n",
              "      <td>False</td>\n",
              "      <td>False</td>\n",
              "      <td>False</td>\n",
              "      <td>False</td>\n",
              "      <td>False</td>\n",
              "      <td>False</td>\n",
              "      <td>False</td>\n",
              "      <td>False</td>\n",
              "    </tr>\n",
              "    <tr>\n",
              "      <th>4</th>\n",
              "      <td>False</td>\n",
              "      <td>False</td>\n",
              "      <td>False</td>\n",
              "      <td>False</td>\n",
              "      <td>False</td>\n",
              "      <td>False</td>\n",
              "      <td>False</td>\n",
              "      <td>False</td>\n",
              "      <td>False</td>\n",
              "      <td>False</td>\n",
              "      <td>False</td>\n",
              "      <td>False</td>\n",
              "    </tr>\n",
              "    <tr>\n",
              "      <th>...</th>\n",
              "      <td>...</td>\n",
              "      <td>...</td>\n",
              "      <td>...</td>\n",
              "      <td>...</td>\n",
              "      <td>...</td>\n",
              "      <td>...</td>\n",
              "      <td>...</td>\n",
              "      <td>...</td>\n",
              "      <td>...</td>\n",
              "      <td>...</td>\n",
              "      <td>...</td>\n",
              "      <td>...</td>\n",
              "    </tr>\n",
              "    <tr>\n",
              "      <th>678</th>\n",
              "      <td>False</td>\n",
              "      <td>False</td>\n",
              "      <td>False</td>\n",
              "      <td>False</td>\n",
              "      <td>False</td>\n",
              "      <td>False</td>\n",
              "      <td>False</td>\n",
              "      <td>False</td>\n",
              "      <td>False</td>\n",
              "      <td>False</td>\n",
              "      <td>False</td>\n",
              "      <td>False</td>\n",
              "    </tr>\n",
              "    <tr>\n",
              "      <th>679</th>\n",
              "      <td>False</td>\n",
              "      <td>False</td>\n",
              "      <td>False</td>\n",
              "      <td>False</td>\n",
              "      <td>False</td>\n",
              "      <td>False</td>\n",
              "      <td>False</td>\n",
              "      <td>False</td>\n",
              "      <td>False</td>\n",
              "      <td>False</td>\n",
              "      <td>False</td>\n",
              "      <td>False</td>\n",
              "    </tr>\n",
              "    <tr>\n",
              "      <th>680</th>\n",
              "      <td>False</td>\n",
              "      <td>False</td>\n",
              "      <td>False</td>\n",
              "      <td>False</td>\n",
              "      <td>False</td>\n",
              "      <td>False</td>\n",
              "      <td>False</td>\n",
              "      <td>False</td>\n",
              "      <td>False</td>\n",
              "      <td>False</td>\n",
              "      <td>False</td>\n",
              "      <td>False</td>\n",
              "    </tr>\n",
              "    <tr>\n",
              "      <th>681</th>\n",
              "      <td>False</td>\n",
              "      <td>False</td>\n",
              "      <td>False</td>\n",
              "      <td>False</td>\n",
              "      <td>False</td>\n",
              "      <td>False</td>\n",
              "      <td>False</td>\n",
              "      <td>False</td>\n",
              "      <td>False</td>\n",
              "      <td>False</td>\n",
              "      <td>False</td>\n",
              "      <td>False</td>\n",
              "    </tr>\n",
              "    <tr>\n",
              "      <th>682</th>\n",
              "      <td>False</td>\n",
              "      <td>False</td>\n",
              "      <td>False</td>\n",
              "      <td>False</td>\n",
              "      <td>False</td>\n",
              "      <td>False</td>\n",
              "      <td>False</td>\n",
              "      <td>False</td>\n",
              "      <td>False</td>\n",
              "      <td>False</td>\n",
              "      <td>False</td>\n",
              "      <td>False</td>\n",
              "    </tr>\n",
              "  </tbody>\n",
              "</table>\n",
              "<p>683 rows × 12 columns</p>\n",
              "</div>"
            ],
            "text/plain": [
              "     Unnamed: 0     Id  Cl.thickness  ...  Normal.nucleoli  Mitoses  Class\n",
              "0         False  False         False  ...            False    False  False\n",
              "1         False  False         False  ...            False    False  False\n",
              "2         False  False         False  ...            False    False  False\n",
              "3         False  False         False  ...            False    False  False\n",
              "4         False  False         False  ...            False    False  False\n",
              "..          ...    ...           ...  ...              ...      ...    ...\n",
              "678       False  False         False  ...            False    False  False\n",
              "679       False  False         False  ...            False    False  False\n",
              "680       False  False         False  ...            False    False  False\n",
              "681       False  False         False  ...            False    False  False\n",
              "682       False  False         False  ...            False    False  False\n",
              "\n",
              "[683 rows x 12 columns]"
            ]
          },
          "metadata": {
            "tags": []
          },
          "execution_count": 12
        }
      ]
    },
    {
      "cell_type": "code",
      "metadata": {
        "id": "BnsX1zXDfpll",
        "colab_type": "code",
        "outputId": "996a2234-110d-4a93-860c-6f764e6d0863",
        "colab": {
          "base_uri": "https://localhost:8080/",
          "height": 68
        }
      },
      "source": [
        "data[\"Class\"].value_counts()"
      ],
      "execution_count": 0,
      "outputs": [
        {
          "output_type": "execute_result",
          "data": {
            "text/plain": [
              "benign       444\n",
              "malignant    239\n",
              "Name: Class, dtype: int64"
            ]
          },
          "metadata": {
            "tags": []
          },
          "execution_count": 13
        }
      ]
    },
    {
      "cell_type": "code",
      "metadata": {
        "id": "Cy1drtemfpna",
        "colab_type": "code",
        "outputId": "6b81b6b7-5c1b-4a06-c07b-4b0fe0300d39",
        "colab": {
          "base_uri": "https://localhost:8080/",
          "height": 297
        }
      },
      "source": [
        "data.describe()\n"
      ],
      "execution_count": 0,
      "outputs": [
        {
          "output_type": "execute_result",
          "data": {
            "text/html": [
              "<div>\n",
              "<style scoped>\n",
              "    .dataframe tbody tr th:only-of-type {\n",
              "        vertical-align: middle;\n",
              "    }\n",
              "\n",
              "    .dataframe tbody tr th {\n",
              "        vertical-align: top;\n",
              "    }\n",
              "\n",
              "    .dataframe thead th {\n",
              "        text-align: right;\n",
              "    }\n",
              "</style>\n",
              "<table border=\"1\" class=\"dataframe\">\n",
              "  <thead>\n",
              "    <tr style=\"text-align: right;\">\n",
              "      <th></th>\n",
              "      <th>Unnamed: 0</th>\n",
              "      <th>Id</th>\n",
              "      <th>Cl.thickness</th>\n",
              "      <th>Cell.size</th>\n",
              "      <th>Cell.shape</th>\n",
              "      <th>Marg.adhesion</th>\n",
              "      <th>Epith.c.size</th>\n",
              "      <th>Bare.nuclei</th>\n",
              "      <th>Bl.cromatin</th>\n",
              "      <th>Normal.nucleoli</th>\n",
              "      <th>Mitoses</th>\n",
              "    </tr>\n",
              "  </thead>\n",
              "  <tbody>\n",
              "    <tr>\n",
              "      <th>count</th>\n",
              "      <td>683.000000</td>\n",
              "      <td>6.830000e+02</td>\n",
              "      <td>683.000000</td>\n",
              "      <td>683.000000</td>\n",
              "      <td>683.000000</td>\n",
              "      <td>683.000000</td>\n",
              "      <td>683.000000</td>\n",
              "      <td>683.000000</td>\n",
              "      <td>683.000000</td>\n",
              "      <td>683.000000</td>\n",
              "      <td>683.000000</td>\n",
              "    </tr>\n",
              "    <tr>\n",
              "      <th>mean</th>\n",
              "      <td>352.355783</td>\n",
              "      <td>1.076720e+06</td>\n",
              "      <td>4.442167</td>\n",
              "      <td>3.150805</td>\n",
              "      <td>3.215227</td>\n",
              "      <td>2.830161</td>\n",
              "      <td>3.234261</td>\n",
              "      <td>3.544656</td>\n",
              "      <td>3.445095</td>\n",
              "      <td>2.869693</td>\n",
              "      <td>1.603221</td>\n",
              "    </tr>\n",
              "    <tr>\n",
              "      <th>std</th>\n",
              "      <td>202.563927</td>\n",
              "      <td>6.206440e+05</td>\n",
              "      <td>2.820761</td>\n",
              "      <td>3.065145</td>\n",
              "      <td>2.988581</td>\n",
              "      <td>2.864562</td>\n",
              "      <td>2.223085</td>\n",
              "      <td>3.643857</td>\n",
              "      <td>2.449697</td>\n",
              "      <td>3.052666</td>\n",
              "      <td>1.732674</td>\n",
              "    </tr>\n",
              "    <tr>\n",
              "      <th>min</th>\n",
              "      <td>1.000000</td>\n",
              "      <td>6.337500e+04</td>\n",
              "      <td>1.000000</td>\n",
              "      <td>1.000000</td>\n",
              "      <td>1.000000</td>\n",
              "      <td>1.000000</td>\n",
              "      <td>1.000000</td>\n",
              "      <td>1.000000</td>\n",
              "      <td>1.000000</td>\n",
              "      <td>1.000000</td>\n",
              "      <td>1.000000</td>\n",
              "    </tr>\n",
              "    <tr>\n",
              "      <th>25%</th>\n",
              "      <td>177.500000</td>\n",
              "      <td>8.776170e+05</td>\n",
              "      <td>2.000000</td>\n",
              "      <td>1.000000</td>\n",
              "      <td>1.000000</td>\n",
              "      <td>1.000000</td>\n",
              "      <td>2.000000</td>\n",
              "      <td>1.000000</td>\n",
              "      <td>2.000000</td>\n",
              "      <td>1.000000</td>\n",
              "      <td>1.000000</td>\n",
              "    </tr>\n",
              "    <tr>\n",
              "      <th>50%</th>\n",
              "      <td>356.000000</td>\n",
              "      <td>1.171795e+06</td>\n",
              "      <td>4.000000</td>\n",
              "      <td>1.000000</td>\n",
              "      <td>1.000000</td>\n",
              "      <td>1.000000</td>\n",
              "      <td>2.000000</td>\n",
              "      <td>1.000000</td>\n",
              "      <td>3.000000</td>\n",
              "      <td>1.000000</td>\n",
              "      <td>1.000000</td>\n",
              "    </tr>\n",
              "    <tr>\n",
              "      <th>75%</th>\n",
              "      <td>527.500000</td>\n",
              "      <td>1.238705e+06</td>\n",
              "      <td>6.000000</td>\n",
              "      <td>5.000000</td>\n",
              "      <td>5.000000</td>\n",
              "      <td>4.000000</td>\n",
              "      <td>4.000000</td>\n",
              "      <td>6.000000</td>\n",
              "      <td>5.000000</td>\n",
              "      <td>4.000000</td>\n",
              "      <td>1.000000</td>\n",
              "    </tr>\n",
              "    <tr>\n",
              "      <th>max</th>\n",
              "      <td>699.000000</td>\n",
              "      <td>1.345435e+07</td>\n",
              "      <td>10.000000</td>\n",
              "      <td>10.000000</td>\n",
              "      <td>10.000000</td>\n",
              "      <td>10.000000</td>\n",
              "      <td>10.000000</td>\n",
              "      <td>10.000000</td>\n",
              "      <td>10.000000</td>\n",
              "      <td>10.000000</td>\n",
              "      <td>10.000000</td>\n",
              "    </tr>\n",
              "  </tbody>\n",
              "</table>\n",
              "</div>"
            ],
            "text/plain": [
              "       Unnamed: 0            Id  ...  Normal.nucleoli     Mitoses\n",
              "count  683.000000  6.830000e+02  ...       683.000000  683.000000\n",
              "mean   352.355783  1.076720e+06  ...         2.869693    1.603221\n",
              "std    202.563927  6.206440e+05  ...         3.052666    1.732674\n",
              "min      1.000000  6.337500e+04  ...         1.000000    1.000000\n",
              "25%    177.500000  8.776170e+05  ...         1.000000    1.000000\n",
              "50%    356.000000  1.171795e+06  ...         1.000000    1.000000\n",
              "75%    527.500000  1.238705e+06  ...         4.000000    1.000000\n",
              "max    699.000000  1.345435e+07  ...        10.000000   10.000000\n",
              "\n",
              "[8 rows x 11 columns]"
            ]
          },
          "metadata": {
            "tags": []
          },
          "execution_count": 14
        }
      ]
    },
    {
      "cell_type": "code",
      "metadata": {
        "id": "mPuNa1B6fppc",
        "colab_type": "code",
        "outputId": "9f43933e-2e44-4aee-9b28-03a0d62be1f2",
        "colab": {
          "base_uri": "https://localhost:8080/",
          "height": 1000
        }
      },
      "source": [
        "%matplotlib inline\n",
        "import matplotlib.pyplot as plt\n",
        "data.hist(bins=50, figsize=(20,15))\n",
        "save_fig(\"attribute_histogram_plots\")\n",
        "plt.show()"
      ],
      "execution_count": 0,
      "outputs": [
        {
          "output_type": "stream",
          "text": [
            "Saving figure attribute_histogram_plots\n"
          ],
          "name": "stdout"
        },
        {
          "output_type": "display_data",
          "data": {
            "image/png": "[encoded data removed]",
            "text/plain": [
              "<Figure size 1440x1080 with 12 Axes>"
            ]
          },
          "metadata": {
            "tags": []
          }
        }
      ]
    },
    {
      "cell_type": "code",
      "metadata": {
        "id": "4LoLhkkSfpqr",
        "colab_type": "code",
        "colab": {}
      },
      "source": [
        "\n",
        "# to make this notebook's output identical at every run\n",
        "np.random.seed(42)"
      ],
      "execution_count": 0,
      "outputs": []
    },
    {
      "cell_type": "code",
      "metadata": {
        "id": "VbRNT-wBfps1",
        "colab_type": "code",
        "colab": {}
      },
      "source": [
        "import numpy as np\n",
        "\n",
        "# For illustration only. Sklearn has train_test_split()\n",
        "def split_train_test(data, test_ratio):\n",
        "    shuffled_indices = np.random.permutation(len(data))\n",
        "    test_set_size = int(len(data) * test_ratio)\n",
        "    test_indices = shuffled_indices[:test_set_size]\n",
        "    train_indices = shuffled_indices[test_set_size:]\n",
        "    return data.iloc[train_indices], data.iloc[test_indices]"
      ],
      "execution_count": 0,
      "outputs": []
    },
    {
      "cell_type": "code",
      "metadata": {
        "id": "XIAv0Owjfpug",
        "colab_type": "code",
        "outputId": "ccdc0728-54d4-4121-f75f-0d998f94b28a",
        "colab": {
          "base_uri": "https://localhost:8080/",
          "height": 34
        }
      },
      "source": [
        "train_set, test_set = split_train_test(data, 0.2)\n",
        "len(train_set)\n"
      ],
      "execution_count": 0,
      "outputs": [
        {
          "output_type": "execute_result",
          "data": {
            "text/plain": [
              "547"
            ]
          },
          "metadata": {
            "tags": []
          },
          "execution_count": 20
        }
      ]
    },
    {
      "cell_type": "code",
      "metadata": {
        "id": "FxPBKVch5gJI",
        "colab_type": "code",
        "outputId": "95d80e25-8043-4f6a-c125-b76c7e18f9c3",
        "colab": {
          "base_uri": "https://localhost:8080/",
          "height": 34
        }
      },
      "source": [
        "len(test_set)"
      ],
      "execution_count": 0,
      "outputs": [
        {
          "output_type": "execute_result",
          "data": {
            "text/plain": [
              "136"
            ]
          },
          "metadata": {
            "tags": []
          },
          "execution_count": 21
        }
      ]
    },
    {
      "cell_type": "code",
      "metadata": {
        "id": "51Ld6H6_5jbm",
        "colab_type": "code",
        "colab": {}
      },
      "source": [
        "\n",
        "from zlib import crc32\n",
        "\n",
        "def test_set_check(identifier, test_ratio):\n",
        "    return crc32(np.int64(identifier)) & 0xffffffff < test_ratio * 2**32\n",
        "\n",
        "def split_train_test_by_id(data, test_ratio, id_column):\n",
        "    ids = data[id_column]\n",
        "    in_test_set = ids.apply(lambda id_: test_set_check(id_, test_ratio))\n",
        "    return data.loc[~in_test_set], data.loc[in_test_set]"
      ],
      "execution_count": 0,
      "outputs": []
    },
    {
      "cell_type": "code",
      "metadata": {
        "id": "pDq2Gg-k5nfj",
        "colab_type": "code",
        "colab": {}
      },
      "source": [
        "import hashlib\n",
        "\n",
        "def test_set_check(identifier, test_ratio, hash=hashlib.md5):\n",
        "    return hash(np.int64(identifier)).digest()[-1] < 256 * test_ratio"
      ],
      "execution_count": 0,
      "outputs": []
    },
    {
      "cell_type": "code",
      "metadata": {
        "id": "FT2uqMGv5uT7",
        "colab_type": "code",
        "colab": {}
      },
      "source": [
        "def test_set_check(identifier, test_ratio, hash=hashlib.md5):\n",
        "    return bytearray(hash(np.int64(identifier)).digest())[-1] < 256 * test_ratio"
      ],
      "execution_count": 0,
      "outputs": []
    },
    {
      "cell_type": "code",
      "metadata": {
        "id": "EIFfa9NL5uXp",
        "colab_type": "code",
        "colab": {}
      },
      "source": [
        "data_with_id = data.reset_index()   # adds an `index` column\n",
        "train_set, test_set = split_train_test_by_id(data_with_id, 0.2, \"index\")"
      ],
      "execution_count": 0,
      "outputs": []
    },
    {
      "cell_type": "code",
      "metadata": {
        "id": "VMpZQScK5uZa",
        "colab_type": "code",
        "colab": {}
      },
      "source": [
        "from sklearn.model_selection import train_test_split\n",
        "\n",
        "train_set, test_set = train_test_split(data, test_size=0.2, random_state=42)"
      ],
      "execution_count": 0,
      "outputs": []
    },
    {
      "cell_type": "code",
      "metadata": {
        "id": "oOUo_DZ95uWS",
        "colab_type": "code",
        "outputId": "798f197f-1ffd-4f11-a24d-9083660ab3a0",
        "colab": {
          "base_uri": "https://localhost:8080/",
          "height": 204
        }
      },
      "source": [
        "test_set.head()"
      ],
      "execution_count": 0,
      "outputs": [
        {
          "output_type": "execute_result",
          "data": {
            "text/html": [
              "<div>\n",
              "<style scoped>\n",
              "    .dataframe tbody tr th:only-of-type {\n",
              "        vertical-align: middle;\n",
              "    }\n",
              "\n",
              "    .dataframe tbody tr th {\n",
              "        vertical-align: top;\n",
              "    }\n",
              "\n",
              "    .dataframe thead th {\n",
              "        text-align: right;\n",
              "    }\n",
              "</style>\n",
              "<table border=\"1\" class=\"dataframe\">\n",
              "  <thead>\n",
              "    <tr style=\"text-align: right;\">\n",
              "      <th></th>\n",
              "      <th>Unnamed: 0</th>\n",
              "      <th>Id</th>\n",
              "      <th>Cl.thickness</th>\n",
              "      <th>Cell.size</th>\n",
              "      <th>Cell.shape</th>\n",
              "      <th>Marg.adhesion</th>\n",
              "      <th>Epith.c.size</th>\n",
              "      <th>Bare.nuclei</th>\n",
              "      <th>Bl.cromatin</th>\n",
              "      <th>Normal.nucleoli</th>\n",
              "      <th>Mitoses</th>\n",
              "      <th>Class</th>\n",
              "    </tr>\n",
              "  </thead>\n",
              "  <tbody>\n",
              "    <tr>\n",
              "      <th>292</th>\n",
              "      <td>305</td>\n",
              "      <td>653777</td>\n",
              "      <td>8</td>\n",
              "      <td>3</td>\n",
              "      <td>4</td>\n",
              "      <td>9</td>\n",
              "      <td>3</td>\n",
              "      <td>10</td>\n",
              "      <td>3</td>\n",
              "      <td>3</td>\n",
              "      <td>1</td>\n",
              "      <td>malignant</td>\n",
              "    </tr>\n",
              "    <tr>\n",
              "      <th>145</th>\n",
              "      <td>150</td>\n",
              "      <td>1187805</td>\n",
              "      <td>8</td>\n",
              "      <td>8</td>\n",
              "      <td>7</td>\n",
              "      <td>4</td>\n",
              "      <td>10</td>\n",
              "      <td>10</td>\n",
              "      <td>7</td>\n",
              "      <td>8</td>\n",
              "      <td>7</td>\n",
              "      <td>malignant</td>\n",
              "    </tr>\n",
              "    <tr>\n",
              "      <th>211</th>\n",
              "      <td>218</td>\n",
              "      <td>1223426</td>\n",
              "      <td>1</td>\n",
              "      <td>1</td>\n",
              "      <td>1</td>\n",
              "      <td>1</td>\n",
              "      <td>2</td>\n",
              "      <td>1</td>\n",
              "      <td>3</td>\n",
              "      <td>1</td>\n",
              "      <td>1</td>\n",
              "      <td>benign</td>\n",
              "    </tr>\n",
              "    <tr>\n",
              "      <th>118</th>\n",
              "      <td>121</td>\n",
              "      <td>1174057</td>\n",
              "      <td>1</td>\n",
              "      <td>1</td>\n",
              "      <td>2</td>\n",
              "      <td>2</td>\n",
              "      <td>2</td>\n",
              "      <td>1</td>\n",
              "      <td>3</td>\n",
              "      <td>1</td>\n",
              "      <td>1</td>\n",
              "      <td>benign</td>\n",
              "    </tr>\n",
              "    <tr>\n",
              "      <th>302</th>\n",
              "      <td>315</td>\n",
              "      <td>704097</td>\n",
              "      <td>1</td>\n",
              "      <td>1</td>\n",
              "      <td>1</td>\n",
              "      <td>1</td>\n",
              "      <td>1</td>\n",
              "      <td>1</td>\n",
              "      <td>2</td>\n",
              "      <td>1</td>\n",
              "      <td>1</td>\n",
              "      <td>benign</td>\n",
              "    </tr>\n",
              "  </tbody>\n",
              "</table>\n",
              "</div>"
            ],
            "text/plain": [
              "     Unnamed: 0       Id  Cl.thickness  ...  Normal.nucleoli  Mitoses      Class\n",
              "292         305   653777             8  ...                3        1  malignant\n",
              "145         150  1187805             8  ...                8        7  malignant\n",
              "211         218  1223426             1  ...                1        1     benign\n",
              "118         121  1174057             1  ...                1        1     benign\n",
              "302         315   704097             1  ...                1        1     benign\n",
              "\n",
              "[5 rows x 12 columns]"
            ]
          },
          "metadata": {
            "tags": []
          },
          "execution_count": 29
        }
      ]
    },
    {
      "cell_type": "code",
      "metadata": {
        "id": "tAgIEMHn7QY_",
        "colab_type": "code",
        "outputId": "206108f3-3c34-46ef-a93d-a68b06c099ce",
        "colab": {
          "base_uri": "https://localhost:8080/",
          "height": 285
        }
      },
      "source": [
        "data[\"Class\"].hist()"
      ],
      "execution_count": 0,
      "outputs": [
        {
          "output_type": "execute_result",
          "data": {
            "text/plain": [
              "<matplotlib.axes._subplots.AxesSubplot at 0x7f20fc79ccc0>"
            ]
          },
          "metadata": {
            "tags": []
          },
          "execution_count": 31
        },
        {
          "output_type": "display_data",
          "data": {
            "image/png": "[encoded data removed]",
            "text/plain": [
              "<Figure size 432x288 with 1 Axes>"
            ]
          },
          "metadata": {
            "tags": []
          }
        }
      ]
    },
    {
      "cell_type": "code",
      "metadata": {
        "id": "hsyEjUHc7QcL",
        "colab_type": "code",
        "outputId": "02edf576-7747-4a4e-a114-f1923785e510",
        "colab": {
          "base_uri": "https://localhost:8080/",
          "height": 68
        }
      },
      "source": [
        "data[\"Class\"].value_counts()"
      ],
      "execution_count": 0,
      "outputs": [
        {
          "output_type": "execute_result",
          "data": {
            "text/plain": [
              "benign       444\n",
              "malignant    239\n",
              "Name: Class, dtype: int64"
            ]
          },
          "metadata": {
            "tags": []
          },
          "execution_count": 32
        }
      ]
    },
    {
      "cell_type": "code",
      "metadata": {
        "id": "HQTWxRTK7QhK",
        "colab_type": "code",
        "outputId": "db689161-19b2-4545-d055-d5fd9857dbcf",
        "colab": {
          "base_uri": "https://localhost:8080/",
          "height": 285
        }
      },
      "source": [
        "data[\"Cl.thickness\"].hist()"
      ],
      "execution_count": 0,
      "outputs": [
        {
          "output_type": "execute_result",
          "data": {
            "text/plain": [
              "<matplotlib.axes._subplots.AxesSubplot at 0x7f20fc79cd68>"
            ]
          },
          "metadata": {
            "tags": []
          },
          "execution_count": 33
        },
        {
          "output_type": "display_data",
          "data": {
            "image/png": "[encoded data removed]",
            "text/plain": [
              "<Figure size 432x288 with 1 Axes>"
            ]
          },
          "metadata": {
            "tags": []
          }
        }
      ]
    },
    {
      "cell_type": "code",
      "metadata": {
        "id": "IgALx1DE7QjR",
        "colab_type": "code",
        "outputId": "53e7625b-6c1f-4725-e1af-97ac66957c02",
        "colab": {
          "base_uri": "https://localhost:8080/",
          "height": 285
        }
      },
      "source": [
        "data[\"Mitoses\"].hist()"
      ],
      "execution_count": 0,
      "outputs": [
        {
          "output_type": "execute_result",
          "data": {
            "text/plain": [
              "<matplotlib.axes._subplots.AxesSubplot at 0x7f20ffb0dbe0>"
            ]
          },
          "metadata": {
            "tags": []
          },
          "execution_count": 34
        },
        {
          "output_type": "display_data",
          "data": {
            "image/png": "[encoded data removed]",
            "text/plain": [
              "<Figure size 432x288 with 1 Axes>"
            ]
          },
          "metadata": {
            "tags": []
          }
        }
      ]
    },
    {
      "cell_type": "code",
      "metadata": {
        "id": "WNhnnOug7Qk8",
        "colab_type": "code",
        "colab": {}
      },
      "source": [
        "from sklearn.model_selection import StratifiedShuffleSplit\n",
        "\n",
        "split = StratifiedShuffleSplit(n_splits=1, test_size=0.2, random_state=42)\n",
        "for train_index, test_index in split.split(data, data[\"Class\"]):\n",
        "    strat_train_set = data.loc[train_index]\n",
        "    strat_test_set = data.loc[test_index]"
      ],
      "execution_count": 0,
      "outputs": []
    },
    {
      "cell_type": "code",
      "metadata": {
        "id": "PSlu0qQD7Qer",
        "colab_type": "code",
        "outputId": "4798a87c-36aa-466f-c362-ea61a5de0470",
        "colab": {
          "base_uri": "https://localhost:8080/",
          "height": 68
        }
      },
      "source": [
        "strat_test_set[\"Class\"].value_counts() / len(strat_test_set)"
      ],
      "execution_count": 0,
      "outputs": [
        {
          "output_type": "execute_result",
          "data": {
            "text/plain": [
              "benign       0.649635\n",
              "malignant    0.350365\n",
              "Name: Class, dtype: float64"
            ]
          },
          "metadata": {
            "tags": []
          },
          "execution_count": 37
        }
      ]
    },
    {
      "cell_type": "code",
      "metadata": {
        "id": "BpF0fDVg72Pr",
        "colab_type": "code",
        "outputId": "bef1c958-385a-4b5f-d87d-fefdf0c30b01",
        "colab": {
          "base_uri": "https://localhost:8080/",
          "height": 68
        }
      },
      "source": [
        "data[\"Class\"].value_counts() / len(data)"
      ],
      "execution_count": 0,
      "outputs": [
        {
          "output_type": "execute_result",
          "data": {
            "text/plain": [
              "benign       0.650073\n",
              "malignant    0.349927\n",
              "Name: Class, dtype: float64"
            ]
          },
          "metadata": {
            "tags": []
          },
          "execution_count": 38
        }
      ]
    },
    {
      "cell_type": "code",
      "metadata": {
        "id": "kyVm_nwt72R-",
        "colab_type": "code",
        "colab": {}
      },
      "source": [
        "def income_cat_proportions(data):\n",
        "    return data[\"Class\"].value_counts() / len(data)\n",
        "\n",
        "train_set, test_set = train_test_split(data, test_size=0.2, random_state=42)\n",
        "\n",
        "compare_props = pd.DataFrame({\n",
        "    \"Overall\": income_cat_proportions(data),\n",
        "    \"Stratified\": income_cat_proportions(strat_test_set),\n",
        "    \"Random\": income_cat_proportions(test_set),\n",
        "}).sort_index()\n",
        "compare_props[\"Rand. %error\"] = 100 * compare_props[\"Random\"] / compare_props[\"Overall\"] - 100\n",
        "compare_props[\"Strat. %error\"] = 100 * compare_props[\"Stratified\"] / compare_props[\"Overall\"] - 100"
      ],
      "execution_count": 0,
      "outputs": []
    },
    {
      "cell_type": "code",
      "metadata": {
        "id": "xgd7gkAI72Va",
        "colab_type": "code",
        "outputId": "5b096eb4-c760-4968-cc5c-43d5356fb97d",
        "colab": {
          "base_uri": "https://localhost:8080/",
          "height": 111
        }
      },
      "source": [
        "compare_props"
      ],
      "execution_count": 0,
      "outputs": [
        {
          "output_type": "execute_result",
          "data": {
            "text/html": [
              "<div>\n",
              "<style scoped>\n",
              "    .dataframe tbody tr th:only-of-type {\n",
              "        vertical-align: middle;\n",
              "    }\n",
              "\n",
              "    .dataframe tbody tr th {\n",
              "        vertical-align: top;\n",
              "    }\n",
              "\n",
              "    .dataframe thead th {\n",
              "        text-align: right;\n",
              "    }\n",
              "</style>\n",
              "<table border=\"1\" class=\"dataframe\">\n",
              "  <thead>\n",
              "    <tr style=\"text-align: right;\">\n",
              "      <th></th>\n",
              "      <th>Overall</th>\n",
              "      <th>Stratified</th>\n",
              "      <th>Random</th>\n",
              "      <th>Rand. %error</th>\n",
              "      <th>Strat. %error</th>\n",
              "    </tr>\n",
              "  </thead>\n",
              "  <tbody>\n",
              "    <tr>\n",
              "      <th>benign</th>\n",
              "      <td>0.650073</td>\n",
              "      <td>0.649635</td>\n",
              "      <td>0.576642</td>\n",
              "      <td>-11.295785</td>\n",
              "      <td>-0.067403</td>\n",
              "    </tr>\n",
              "    <tr>\n",
              "      <th>malignant</th>\n",
              "      <td>0.349927</td>\n",
              "      <td>0.350365</td>\n",
              "      <td>0.423358</td>\n",
              "      <td>20.984638</td>\n",
              "      <td>0.125218</td>\n",
              "    </tr>\n",
              "  </tbody>\n",
              "</table>\n",
              "</div>"
            ],
            "text/plain": [
              "            Overall  Stratified    Random  Rand. %error  Strat. %error\n",
              "benign     0.650073    0.649635  0.576642    -11.295785      -0.067403\n",
              "malignant  0.349927    0.350365  0.423358     20.984638       0.125218"
            ]
          },
          "metadata": {
            "tags": []
          },
          "execution_count": 41
        }
      ]
    },
    {
      "cell_type": "code",
      "metadata": {
        "id": "Of6LEL0172au",
        "colab_type": "code",
        "colab": {}
      },
      "source": [
        "for set_ in (strat_train_set, strat_test_set):\n",
        "    set_.drop(\"Class\", axis=1, inplace=True)"
      ],
      "execution_count": 0,
      "outputs": []
    },
    {
      "cell_type": "code",
      "metadata": {
        "id": "kK0HMccV8TMX",
        "colab_type": "code",
        "colab": {}
      },
      "source": [
        "data = strat_train_set.copy()"
      ],
      "execution_count": 0,
      "outputs": []
    },
    {
      "cell_type": "code",
      "metadata": {
        "id": "Oevrb-is8TQI",
        "colab_type": "code",
        "outputId": "71d5cac0-9575-449b-8489-a2e4ab85cc7d",
        "colab": {
          "base_uri": "https://localhost:8080/",
          "height": 314
        }
      },
      "source": [
        "data.plot(kind=\"scatter\", x=\"Cl.thickness\", y=\"Mitoses\")\n",
        "save_fig(\"bad_visualization_plot\")"
      ],
      "execution_count": 0,
      "outputs": [
        {
          "output_type": "stream",
          "text": [
            "Saving figure bad_visualization_plot\n"
          ],
          "name": "stdout"
        },
        {
          "output_type": "display_data",
          "data": {
            "image/png": "[encoded data removed]",
            "text/plain": [
              "<Figure size 432x288 with 1 Axes>"
            ]
          },
          "metadata": {
            "tags": []
          }
        }
      ]
    },
    {
      "cell_type": "code",
      "metadata": {
        "id": "cfhkJgGk8TTN",
        "colab_type": "code",
        "outputId": "7a018971-a0bc-4f32-f8ab-a182fdd52067",
        "colab": {
          "base_uri": "https://localhost:8080/",
          "height": 314
        }
      },
      "source": [
        "\n",
        "data.plot(kind=\"scatter\", x=\"Cl.thickness\", y=\"Mitoses\", alpha=0.1)\n",
        "save_fig(\"better_visualization_plot\")\n"
      ],
      "execution_count": 0,
      "outputs": [
        {
          "output_type": "stream",
          "text": [
            "Saving figure better_visualization_plot\n"
          ],
          "name": "stdout"
        },
        {
          "output_type": "display_data",
          "data": {
            "image/png": "[encoded data removed]",
            "text/plain": [
              "<Figure size 432x288 with 1 Axes>"
            ]
          },
          "metadata": {
            "tags": []
          }
        }
      ]
    },
    {
      "cell_type": "code",
      "metadata": {
        "id": "xK1YKYgb8TSF",
        "colab_type": "code",
        "colab": {}
      },
      "source": [
        "corr_matrix = data.corr()"
      ],
      "execution_count": 0,
      "outputs": []
    },
    {
      "cell_type": "code",
      "metadata": {
        "id": "wjoWNxoz8TOp",
        "colab_type": "code",
        "outputId": "3e3e5588-87df-42fd-c829-0fbe02a63a35",
        "colab": {
          "base_uri": "https://localhost:8080/",
          "height": 221
        }
      },
      "source": [
        "corr_matrix[\"Cl.thickness\"].sort_values(ascending=False)"
      ],
      "execution_count": 0,
      "outputs": [
        {
          "output_type": "execute_result",
          "data": {
            "text/plain": [
              "Cl.thickness       1.000000\n",
              "Cell.shape         0.649109\n",
              "Cell.size          0.631022\n",
              "Bare.nuclei        0.576951\n",
              "Normal.nucleoli    0.520533\n",
              "Bl.cromatin        0.506422\n",
              "Epith.c.size       0.495184\n",
              "Marg.adhesion      0.466546\n",
              "Mitoses            0.363623\n",
              "Id                -0.082321\n",
              "Unnamed: 0        -0.117362\n",
              "Name: Cl.thickness, dtype: float64"
            ]
          },
          "metadata": {
            "tags": []
          },
          "execution_count": 52
        }
      ]
    },
    {
      "cell_type": "code",
      "metadata": {
        "id": "oM9LxZg_9ttM",
        "colab_type": "code",
        "outputId": "a703a450-2055-44bb-b52c-d5e557be6274",
        "colab": {
          "base_uri": "https://localhost:8080/",
          "height": 595
        }
      },
      "source": [
        "# from pandas.tools.plotting import scatter_matrix # For older versions of Pandas\n",
        "from pandas.plotting import scatter_matrix\n",
        "\n",
        "attributes = [\"Cl.thickness\", \"Cell.size\", \"Bare.nuclei\",\n",
        "              \"Mitoses\"]\n",
        "scatter_matrix(data[attributes], figsize=(12, 8))\n",
        "save_fig(\"scatter_matrix_plot\")"
      ],
      "execution_count": 0,
      "outputs": [
        {
          "output_type": "stream",
          "text": [
            "Saving figure scatter_matrix_plot\n"
          ],
          "name": "stdout"
        },
        {
          "output_type": "display_data",
          "data": {
            "image/png": "[encoded data removed]",
            "text/plain": [
              "<Figure size 864x576 with 16 Axes>"
            ]
          },
          "metadata": {
            "tags": []
          }
        }
      ]
    },
    {
      "cell_type": "code",
      "metadata": {
        "id": "nK0ePycb9tvr",
        "colab_type": "code",
        "outputId": "607c90a5-18ae-4b38-b4e2-7bfb3f30667c",
        "colab": {
          "base_uri": "https://localhost:8080/",
          "height": 314
        }
      },
      "source": [
        "\n",
        "data.plot(kind=\"scatter\", x=\"Cl.thickness\", y=\"Cell.size\",\n",
        "             alpha=0.1)\n",
        "plt.axis([0, 16, 0, 50])\n",
        "save_fig(\"scatterplot\")"
      ],
      "execution_count": 0,
      "outputs": [
        {
          "output_type": "stream",
          "text": [
            "Saving figure scatterplot\n"
          ],
          "name": "stdout"
        },
        {
          "output_type": "display_data",
          "data": {
            "image/png": "[encoded data removed]",
            "text/plain": [
              "<Figure size 432x288 with 1 Axes>"
            ]
          },
          "metadata": {
            "tags": []
          }
        }
      ]
    },
    {
      "cell_type": "code",
      "metadata": {
        "id": "q-P2JO-E9trW",
        "colab_type": "code",
        "outputId": "a0ec6de5-cb8f-4164-a271-4bd7eaa48564",
        "colab": {
          "base_uri": "https://localhost:8080/",
          "height": 286
        }
      },
      "source": [
        "data.plot(kind=\"scatter\", x=\"Cl.thickness\", y=\"Cell.size\",\n",
        "             alpha=0.2)\n",
        "plt.axis([0, 5, 0, 52])\n",
        "plt.show()"
      ],
      "execution_count": 0,
      "outputs": [
        {
          "output_type": "display_data",
          "data": {
            "image/png": "[encoded data removed]",
            "text/plain": [
              "<Figure size 432x288 with 1 Axes>"
            ]
          },
          "metadata": {
            "tags": []
          }
        }
      ]
    },
    {
      "cell_type": "code",
      "metadata": {
        "id": "p9Zj-Mx0-9pq",
        "colab_type": "code",
        "colab": {}
      },
      "source": [
        "data = strat_train_set.drop(\"Cl.thickness\", axis=1) # drop labels for training set\n",
        "data_labels = strat_train_set[\"Cl.thickness\"].copy()"
      ],
      "execution_count": 0,
      "outputs": []
    },
    {
      "cell_type": "code",
      "metadata": {
        "id": "oF_6HT3i-9u1",
        "colab_type": "code",
        "outputId": "937d56f9-e8cd-494f-a63d-0d7fefae0e42",
        "colab": {
          "base_uri": "https://localhost:8080/",
          "height": 49
        }
      },
      "source": [
        "\n",
        "sample_incomplete_rows = data[data.isnull().any(axis=1)].head()\n",
        "sample_incomplete_rows"
      ],
      "execution_count": 0,
      "outputs": [
        {
          "output_type": "execute_result",
          "data": {
            "text/html": [
              "<div>\n",
              "<style scoped>\n",
              "    .dataframe tbody tr th:only-of-type {\n",
              "        vertical-align: middle;\n",
              "    }\n",
              "\n",
              "    .dataframe tbody tr th {\n",
              "        vertical-align: top;\n",
              "    }\n",
              "\n",
              "    .dataframe thead th {\n",
              "        text-align: right;\n",
              "    }\n",
              "</style>\n",
              "<table border=\"1\" class=\"dataframe\">\n",
              "  <thead>\n",
              "    <tr style=\"text-align: right;\">\n",
              "      <th></th>\n",
              "      <th>Unnamed: 0</th>\n",
              "      <th>Id</th>\n",
              "      <th>Cell.size</th>\n",
              "      <th>Cell.shape</th>\n",
              "      <th>Marg.adhesion</th>\n",
              "      <th>Epith.c.size</th>\n",
              "      <th>Bare.nuclei</th>\n",
              "      <th>Bl.cromatin</th>\n",
              "      <th>Normal.nucleoli</th>\n",
              "      <th>Mitoses</th>\n",
              "    </tr>\n",
              "  </thead>\n",
              "  <tbody>\n",
              "  </tbody>\n",
              "</table>\n",
              "</div>"
            ],
            "text/plain": [
              "Empty DataFrame\n",
              "Columns: [Unnamed: 0, Id, Cell.size, Cell.shape, Marg.adhesion, Epith.c.size, Bare.nuclei, Bl.cromatin, Normal.nucleoli, Mitoses]\n",
              "Index: []"
            ]
          },
          "metadata": {
            "tags": []
          },
          "execution_count": 62
        }
      ]
    },
    {
      "cell_type": "code",
      "metadata": {
        "id": "XN_TwHG_-9td",
        "colab_type": "code",
        "outputId": "c4014782-0feb-4973-fc05-5a1aa2ee5c10",
        "colab": {
          "base_uri": "https://localhost:8080/",
          "height": 49
        }
      },
      "source": [
        "sample_incomplete_rows.dropna(subset=[\"Cell.size\"])"
      ],
      "execution_count": 0,
      "outputs": [
        {
          "output_type": "execute_result",
          "data": {
            "text/html": [
              "<div>\n",
              "<style scoped>\n",
              "    .dataframe tbody tr th:only-of-type {\n",
              "        vertical-align: middle;\n",
              "    }\n",
              "\n",
              "    .dataframe tbody tr th {\n",
              "        vertical-align: top;\n",
              "    }\n",
              "\n",
              "    .dataframe thead th {\n",
              "        text-align: right;\n",
              "    }\n",
              "</style>\n",
              "<table border=\"1\" class=\"dataframe\">\n",
              "  <thead>\n",
              "    <tr style=\"text-align: right;\">\n",
              "      <th></th>\n",
              "      <th>Unnamed: 0</th>\n",
              "      <th>Id</th>\n",
              "      <th>Cell.size</th>\n",
              "      <th>Cell.shape</th>\n",
              "      <th>Marg.adhesion</th>\n",
              "      <th>Epith.c.size</th>\n",
              "      <th>Bare.nuclei</th>\n",
              "      <th>Bl.cromatin</th>\n",
              "      <th>Normal.nucleoli</th>\n",
              "      <th>Mitoses</th>\n",
              "    </tr>\n",
              "  </thead>\n",
              "  <tbody>\n",
              "  </tbody>\n",
              "</table>\n",
              "</div>"
            ],
            "text/plain": [
              "Empty DataFrame\n",
              "Columns: [Unnamed: 0, Id, Cell.size, Cell.shape, Marg.adhesion, Epith.c.size, Bare.nuclei, Bl.cromatin, Normal.nucleoli, Mitoses]\n",
              "Index: []"
            ]
          },
          "metadata": {
            "tags": []
          },
          "execution_count": 64
        }
      ]
    },
    {
      "cell_type": "code",
      "metadata": {
        "id": "2FqdkibN-9sC",
        "colab_type": "code",
        "outputId": "0b8a3401-180f-4a58-b966-20ec1e2fb4bf",
        "colab": {
          "base_uri": "https://localhost:8080/",
          "height": 34
        }
      },
      "source": [
        "median = data[\"Cell.size\"].median()\n",
        "sample_incomplete_rows[\"Cell.size\"].fillna(median, inplace=True)"
      ],
      "execution_count": 0,
      "outputs": [
        {
          "output_type": "execute_result",
          "data": {
            "text/plain": [
              "Series([], Name: Cell.size, dtype: int64)"
            ]
          },
          "metadata": {
            "tags": []
          },
          "execution_count": 65
        }
      ]
    },
    {
      "cell_type": "code",
      "metadata": {
        "id": "LJvYsdOC_dZw",
        "colab_type": "code",
        "outputId": "ca4b05f1-e7a4-481b-f08d-c8e5016a6503",
        "colab": {
          "base_uri": "https://localhost:8080/",
          "height": 49
        }
      },
      "source": [
        "sample_incomplete_rows"
      ],
      "execution_count": 0,
      "outputs": [
        {
          "output_type": "execute_result",
          "data": {
            "text/html": [
              "<div>\n",
              "<style scoped>\n",
              "    .dataframe tbody tr th:only-of-type {\n",
              "        vertical-align: middle;\n",
              "    }\n",
              "\n",
              "    .dataframe tbody tr th {\n",
              "        vertical-align: top;\n",
              "    }\n",
              "\n",
              "    .dataframe thead th {\n",
              "        text-align: right;\n",
              "    }\n",
              "</style>\n",
              "<table border=\"1\" class=\"dataframe\">\n",
              "  <thead>\n",
              "    <tr style=\"text-align: right;\">\n",
              "      <th></th>\n",
              "      <th>Unnamed: 0</th>\n",
              "      <th>Id</th>\n",
              "      <th>Cell.size</th>\n",
              "      <th>Cell.shape</th>\n",
              "      <th>Marg.adhesion</th>\n",
              "      <th>Epith.c.size</th>\n",
              "      <th>Bare.nuclei</th>\n",
              "      <th>Bl.cromatin</th>\n",
              "      <th>Normal.nucleoli</th>\n",
              "      <th>Mitoses</th>\n",
              "    </tr>\n",
              "  </thead>\n",
              "  <tbody>\n",
              "  </tbody>\n",
              "</table>\n",
              "</div>"
            ],
            "text/plain": [
              "Empty DataFrame\n",
              "Columns: [Unnamed: 0, Id, Cell.size, Cell.shape, Marg.adhesion, Epith.c.size, Bare.nuclei, Bl.cromatin, Normal.nucleoli, Mitoses]\n",
              "Index: []"
            ]
          },
          "metadata": {
            "tags": []
          },
          "execution_count": 66
        }
      ]
    },
    {
      "cell_type": "code",
      "metadata": {
        "id": "bWa0qf0R_dgm",
        "colab_type": "code",
        "colab": {}
      },
      "source": [
        "from sklearn.impute import SimpleImputer\n",
        "imputer = SimpleImputer(strategy=\"median\")"
      ],
      "execution_count": 0,
      "outputs": []
    },
    {
      "cell_type": "code",
      "metadata": {
        "id": "S_r5bYzg_dfF",
        "colab_type": "code",
        "outputId": "dbf86cf5-700b-4cea-ec3a-f7c2cdbbb505",
        "colab": {
          "base_uri": "https://localhost:8080/",
          "height": 51
        }
      },
      "source": [
        "imputer.fit(data)\n"
      ],
      "execution_count": 0,
      "outputs": [
        {
          "output_type": "execute_result",
          "data": {
            "text/plain": [
              "SimpleImputer(add_indicator=False, copy=True, fill_value=None,\n",
              "              missing_values=nan, strategy='median', verbose=0)"
            ]
          },
          "metadata": {
            "tags": []
          },
          "execution_count": 70
        }
      ]
    },
    {
      "cell_type": "code",
      "metadata": {
        "id": "36YLEGOS_dc1",
        "colab_type": "code",
        "outputId": "f12437ca-b6f2-44ae-dee2-3d5b5b9b23d4",
        "colab": {
          "base_uri": "https://localhost:8080/",
          "height": 68
        }
      },
      "source": [
        "imputer.statistics_"
      ],
      "execution_count": 0,
      "outputs": [
        {
          "output_type": "execute_result",
          "data": {
            "text/plain": [
              "array([3.475000e+02, 1.172684e+06, 1.000000e+00, 1.000000e+00,\n",
              "       1.000000e+00, 2.000000e+00, 1.000000e+00, 3.000000e+00,\n",
              "       1.000000e+00, 1.000000e+00])"
            ]
          },
          "metadata": {
            "tags": []
          },
          "execution_count": 71
        }
      ]
    },
    {
      "cell_type": "code",
      "metadata": {
        "id": "2EIugtRj_31D",
        "colab_type": "code",
        "outputId": "aca6b5ed-d0e0-4e3c-9de0-6b7b809861d4",
        "colab": {
          "base_uri": "https://localhost:8080/",
          "height": 68
        }
      },
      "source": [
        "data.median().values"
      ],
      "execution_count": 0,
      "outputs": [
        {
          "output_type": "execute_result",
          "data": {
            "text/plain": [
              "array([3.475000e+02, 1.172684e+06, 1.000000e+00, 1.000000e+00,\n",
              "       1.000000e+00, 2.000000e+00, 1.000000e+00, 3.000000e+00,\n",
              "       1.000000e+00, 1.000000e+00])"
            ]
          },
          "metadata": {
            "tags": []
          },
          "execution_count": 72
        }
      ]
    },
    {
      "cell_type": "code",
      "metadata": {
        "id": "eZAZRUYD_35P",
        "colab_type": "code",
        "colab": {}
      },
      "source": [
        "\n",
        "X = imputer.transform(data)"
      ],
      "execution_count": 0,
      "outputs": []
    },
    {
      "cell_type": "code",
      "metadata": {
        "id": "m10yjH6I_33f",
        "colab_type": "code",
        "colab": {}
      },
      "source": [
        "\n",
        "data_tr = pd.DataFrame(X, columns=data.columns,\n",
        "                          index=data.index)"
      ],
      "execution_count": 0,
      "outputs": []
    },
    {
      "cell_type": "code",
      "metadata": {
        "id": "WkFdIUIhAGXg",
        "colab_type": "code",
        "outputId": "79c46376-7165-4d10-d4d3-2fef859f08e2",
        "colab": {
          "base_uri": "https://localhost:8080/",
          "height": 49
        }
      },
      "source": [
        "data_tr.loc[sample_incomplete_rows.index.values]"
      ],
      "execution_count": 0,
      "outputs": [
        {
          "output_type": "execute_result",
          "data": {
            "text/html": [
              "<div>\n",
              "<style scoped>\n",
              "    .dataframe tbody tr th:only-of-type {\n",
              "        vertical-align: middle;\n",
              "    }\n",
              "\n",
              "    .dataframe tbody tr th {\n",
              "        vertical-align: top;\n",
              "    }\n",
              "\n",
              "    .dataframe thead th {\n",
              "        text-align: right;\n",
              "    }\n",
              "</style>\n",
              "<table border=\"1\" class=\"dataframe\">\n",
              "  <thead>\n",
              "    <tr style=\"text-align: right;\">\n",
              "      <th></th>\n",
              "      <th>Unnamed: 0</th>\n",
              "      <th>Id</th>\n",
              "      <th>Cell.size</th>\n",
              "      <th>Cell.shape</th>\n",
              "      <th>Marg.adhesion</th>\n",
              "      <th>Epith.c.size</th>\n",
              "      <th>Bare.nuclei</th>\n",
              "      <th>Bl.cromatin</th>\n",
              "      <th>Normal.nucleoli</th>\n",
              "      <th>Mitoses</th>\n",
              "    </tr>\n",
              "  </thead>\n",
              "  <tbody>\n",
              "  </tbody>\n",
              "</table>\n",
              "</div>"
            ],
            "text/plain": [
              "Empty DataFrame\n",
              "Columns: [Unnamed: 0, Id, Cell.size, Cell.shape, Marg.adhesion, Epith.c.size, Bare.nuclei, Bl.cromatin, Normal.nucleoli, Mitoses]\n",
              "Index: []"
            ]
          },
          "metadata": {
            "tags": []
          },
          "execution_count": 76
        }
      ]
    },
    {
      "cell_type": "code",
      "metadata": {
        "id": "J-L80T5cAGVI",
        "colab_type": "code",
        "outputId": "254bcf7a-0d2f-45d7-efc5-b1b62df7e2c5",
        "colab": {
          "base_uri": "https://localhost:8080/",
          "height": 34
        }
      },
      "source": [
        "imputer.strategy"
      ],
      "execution_count": 0,
      "outputs": [
        {
          "output_type": "execute_result",
          "data": {
            "text/plain": [
              "'median'"
            ]
          },
          "metadata": {
            "tags": []
          },
          "execution_count": 77
        }
      ]
    },
    {
      "cell_type": "code",
      "metadata": {
        "id": "30ueF7y5AGSs",
        "colab_type": "code",
        "outputId": "307f9bec-e2ec-460a-c56f-fcddc0e870ad",
        "colab": {
          "base_uri": "https://localhost:8080/",
          "height": 204
        }
      },
      "source": [
        "data_tr.head()"
      ],
      "execution_count": 0,
      "outputs": [
        {
          "output_type": "execute_result",
          "data": {
            "text/html": [
              "<div>\n",
              "<style scoped>\n",
              "    .dataframe tbody tr th:only-of-type {\n",
              "        vertical-align: middle;\n",
              "    }\n",
              "\n",
              "    .dataframe tbody tr th {\n",
              "        vertical-align: top;\n",
              "    }\n",
              "\n",
              "    .dataframe thead th {\n",
              "        text-align: right;\n",
              "    }\n",
              "</style>\n",
              "<table border=\"1\" class=\"dataframe\">\n",
              "  <thead>\n",
              "    <tr style=\"text-align: right;\">\n",
              "      <th></th>\n",
              "      <th>Unnamed: 0</th>\n",
              "      <th>Id</th>\n",
              "      <th>Cell.size</th>\n",
              "      <th>Cell.shape</th>\n",
              "      <th>Marg.adhesion</th>\n",
              "      <th>Epith.c.size</th>\n",
              "      <th>Bare.nuclei</th>\n",
              "      <th>Bl.cromatin</th>\n",
              "      <th>Normal.nucleoli</th>\n",
              "      <th>Mitoses</th>\n",
              "    </tr>\n",
              "  </thead>\n",
              "  <tbody>\n",
              "    <tr>\n",
              "      <th>198</th>\n",
              "      <td>205.0</td>\n",
              "      <td>1217264.0</td>\n",
              "      <td>1.0</td>\n",
              "      <td>1.0</td>\n",
              "      <td>1.0</td>\n",
              "      <td>2.0</td>\n",
              "      <td>1.0</td>\n",
              "      <td>3.0</td>\n",
              "      <td>1.0</td>\n",
              "      <td>1.0</td>\n",
              "    </tr>\n",
              "    <tr>\n",
              "      <th>359</th>\n",
              "      <td>374.0</td>\n",
              "      <td>521441.0</td>\n",
              "      <td>1.0</td>\n",
              "      <td>1.0</td>\n",
              "      <td>2.0</td>\n",
              "      <td>2.0</td>\n",
              "      <td>1.0</td>\n",
              "      <td>2.0</td>\n",
              "      <td>1.0</td>\n",
              "      <td>1.0</td>\n",
              "    </tr>\n",
              "    <tr>\n",
              "      <th>481</th>\n",
              "      <td>497.0</td>\n",
              "      <td>1181567.0</td>\n",
              "      <td>1.0</td>\n",
              "      <td>1.0</td>\n",
              "      <td>1.0</td>\n",
              "      <td>1.0</td>\n",
              "      <td>1.0</td>\n",
              "      <td>1.0</td>\n",
              "      <td>1.0</td>\n",
              "      <td>1.0</td>\n",
              "    </tr>\n",
              "    <tr>\n",
              "      <th>125</th>\n",
              "      <td>128.0</td>\n",
              "      <td>1177027.0</td>\n",
              "      <td>1.0</td>\n",
              "      <td>1.0</td>\n",
              "      <td>1.0</td>\n",
              "      <td>2.0</td>\n",
              "      <td>1.0</td>\n",
              "      <td>3.0</td>\n",
              "      <td>1.0</td>\n",
              "      <td>1.0</td>\n",
              "    </tr>\n",
              "    <tr>\n",
              "      <th>598</th>\n",
              "      <td>614.0</td>\n",
              "      <td>1016634.0</td>\n",
              "      <td>3.0</td>\n",
              "      <td>1.0</td>\n",
              "      <td>1.0</td>\n",
              "      <td>2.0</td>\n",
              "      <td>1.0</td>\n",
              "      <td>2.0</td>\n",
              "      <td>1.0</td>\n",
              "      <td>1.0</td>\n",
              "    </tr>\n",
              "  </tbody>\n",
              "</table>\n",
              "</div>"
            ],
            "text/plain": [
              "     Unnamed: 0         Id  Cell.size  ...  Bl.cromatin  Normal.nucleoli  Mitoses\n",
              "198       205.0  1217264.0        1.0  ...          3.0              1.0      1.0\n",
              "359       374.0   521441.0        1.0  ...          2.0              1.0      1.0\n",
              "481       497.0  1181567.0        1.0  ...          1.0              1.0      1.0\n",
              "125       128.0  1177027.0        1.0  ...          3.0              1.0      1.0\n",
              "598       614.0  1016634.0        3.0  ...          2.0              1.0      1.0\n",
              "\n",
              "[5 rows x 10 columns]"
            ]
          },
          "metadata": {
            "tags": []
          },
          "execution_count": 78
        }
      ]
    },
    {
      "cell_type": "code",
      "metadata": {
        "id": "kFrP_ghTATTY",
        "colab_type": "code",
        "outputId": "e2cf5437-8bd9-453c-ca9f-6dc6e0370b64",
        "colab": {
          "base_uri": "https://localhost:8080/",
          "height": 187
        }
      },
      "source": [
        "\n",
        "from sklearn.preprocessing import OrdinalEncoder\n",
        "\n",
        "ordinal_encoder = OrdinalEncoder()\n",
        "data_encoded = ordinal_encoder.fit_transform(data)\n",
        "data_encoded[:10]"
      ],
      "execution_count": 0,
      "outputs": [
        {
          "output_type": "execute_result",
          "data": {
            "text/plain": [
              "array([[159., 346.,   0.,   0.,   0.,   1.,   0.,   2.,   0.,   0.],\n",
              "       [293.,  40.,   0.,   0.,   1.,   1.,   0.,   1.,   0.,   0.],\n",
              "       [387., 279.,   0.,   0.,   0.,   0.,   0.,   0.,   0.,   0.],\n",
              "       [ 99., 271.,   0.,   0.,   0.,   1.,   0.,   2.,   0.,   0.],\n",
              "       [476., 140.,   2.,   0.,   0.,   1.,   0.,   1.,   0.,   0.],\n",
              "       [ 43., 197.,   1.,   3.,   0.,   4.,   0.,   4.,   3.,   3.],\n",
              "       [238.,  58.,   0.,   0.,   0.,   1.,   0.,   2.,   0.,   0.],\n",
              "       [297.,  63.,   0.,   0.,   0.,   0.,   0.,   1.,   0.,   0.],\n",
              "       [362., 415.,   0.,   2.,   0.,   1.,   0.,   0.,   0.,   0.],\n",
              "       [435., 473.,   0.,   0.,   2.,   1.,   0.,   0.,   0.,   0.]])"
            ]
          },
          "metadata": {
            "tags": []
          },
          "execution_count": 81
        }
      ]
    },
    {
      "cell_type": "code",
      "metadata": {
        "id": "SgiRzAqIATY2",
        "colab_type": "code",
        "outputId": "97c74315-8dca-4b3f-b979-a15648e485bb",
        "colab": {
          "base_uri": "https://localhost:8080/",
          "height": 1000
        }
      },
      "source": [
        "ordinal_encoder.categories_"
      ],
      "execution_count": 0,
      "outputs": [
        {
          "output_type": "execute_result",
          "data": {
            "text/plain": [
              "[array([  1,   3,   4,   5,   7,   8,   9,  10,  11,  12,  14,  15,  17,\n",
              "         19,  20,  21,  22,  23,  25,  26,  27,  28,  29,  32,  33,  34,\n",
              "         35,  36,  38,  39,  40,  42,  43,  44,  46,  47,  48,  49,  50,\n",
              "         51,  52,  53,  57,  58,  59,  60,  62,  63,  64,  65,  66,  67,\n",
              "         70,  72,  73,  74,  75,  76,  77,  78,  79,  80,  81,  82,  84,\n",
              "         85,  87,  88,  89,  90,  91,  95,  99, 100, 101, 102, 103, 104,\n",
              "        106, 107, 108, 109, 110, 111, 112, 113, 114, 116, 117, 118, 119,\n",
              "        120, 121, 122, 123, 124, 125, 126, 127, 128, 129, 130, 131, 132,\n",
              "        133, 134, 136, 137, 138, 139, 141, 142, 143, 144, 145, 147, 149,\n",
              "        150, 151, 152, 153, 154, 155, 156, 157, 158, 160, 164, 166, 167,\n",
              "        168, 170, 171, 172, 173, 174, 175, 176, 177, 178, 179, 181, 183,\n",
              "        184, 185, 186, 187, 189, 191, 192, 193, 194, 197, 198, 199, 200,\n",
              "        201, 203, 204, 205, 207, 208, 209, 210, 211, 212, 213, 214, 215,\n",
              "        216, 217, 218, 220, 223, 225, 226, 227, 228, 229, 232, 233, 234,\n",
              "        235, 237, 238, 239, 240, 241, 242, 243, 244, 246, 247, 248, 249,\n",
              "        251, 252, 254, 255, 256, 257, 258, 259, 260, 261, 262, 263, 264,\n",
              "        265, 266, 267, 268, 269, 270, 271, 272, 273, 274, 275, 277, 278,\n",
              "        279, 280, 281, 282, 283, 284, 286, 287, 288, 289, 290, 292, 294,\n",
              "        296, 299, 300, 301, 302, 303, 304, 306, 307, 308, 309, 310, 311,\n",
              "        312, 313, 317, 318, 319, 320, 323, 324, 325, 327, 328, 330, 331,\n",
              "        332, 334, 335, 336, 337, 338, 339, 340, 342, 344, 345, 346, 347,\n",
              "        348, 349, 350, 351, 352, 353, 354, 355, 356, 357, 359, 360, 361,\n",
              "        362, 363, 364, 365, 367, 368, 373, 374, 375, 376, 377, 378, 379,\n",
              "        380, 381, 382, 384, 385, 386, 387, 389, 391, 392, 393, 394, 395,\n",
              "        397, 399, 400, 401, 403, 404, 405, 406, 407, 408, 409, 410, 411,\n",
              "        413, 414, 415, 416, 417, 418, 419, 420, 421, 422, 423, 424, 426,\n",
              "        427, 429, 430, 431, 432, 434, 436, 437, 438, 439, 440, 442, 443,\n",
              "        444, 445, 448, 449, 451, 452, 454, 455, 456, 457, 458, 460, 461,\n",
              "        462, 465, 468, 469, 470, 471, 474, 475, 477, 478, 480, 481, 482,\n",
              "        483, 485, 486, 487, 490, 491, 492, 493, 495, 496, 497, 498, 499,\n",
              "        500, 501, 502, 503, 505, 507, 508, 509, 510, 511, 512, 513, 514,\n",
              "        516, 518, 519, 520, 522, 523, 524, 527, 528, 529, 531, 532, 534,\n",
              "        535, 536, 538, 539, 540, 541, 542, 543, 544, 545, 547, 548, 551,\n",
              "        552, 553, 554, 555, 556, 557, 558, 560, 561, 562, 566, 567, 568,\n",
              "        570, 572, 574, 575, 577, 578, 579, 580, 581, 582, 583, 584, 585,\n",
              "        586, 589, 590, 591, 592, 593, 594, 595, 596, 598, 599, 601, 602,\n",
              "        603, 604, 606, 607, 608, 609, 612, 613, 614, 615, 616, 617, 619,\n",
              "        620, 621, 622, 623, 624, 625, 626, 627, 629, 631, 632, 633, 634,\n",
              "        635, 636, 637, 638, 639, 640, 641, 642, 643, 644, 645, 646, 647,\n",
              "        648, 650, 653, 654, 655, 656, 657, 658, 659, 661, 662, 663, 664,\n",
              "        665, 666, 667, 668, 670, 671, 672, 673, 674, 675, 677, 679, 680,\n",
              "        681, 682, 683, 684, 686, 689, 690, 691, 692, 694, 695, 698, 699]),\n",
              " array([   63375,    76389,    95719,   128059,   142932,   144888,\n",
              "          145447,   160296,   167528,   183913,   191250,   242970,\n",
              "          255644,   263538,   274137,   303213,   314428,   320675,\n",
              "          324382,   324427,   352431,   353098,   369565,   378275,\n",
              "          385103,   390840,   411453,   412300,   428903,   431495,\n",
              "          434518,   452264,   456282,   466906,   476903,   486283,\n",
              "          486662,   488173,   492268,   493452,   521441,   527337,\n",
              "          527363,   529329,   534555,   535331,   543558,   555977,\n",
              "          557583,   558538,   560680,   561477,   566509,   601265,\n",
              "          603148,   606722,   625201,   635844,   636130,   636437,\n",
              "          640712,   640744,   646904,   654244,   654546,   657753,\n",
              "          659642,   666090,   666942,   667204,   672113,   673637,\n",
              "          677910,   684955,   685977,   688033,   690557,   691628,\n",
              "          695091,   695219,   704097,   706426,   709287,   718641,\n",
              "          721482,   733639,   733823,   734111,   740492,   752904,\n",
              "          756136,   760239,   763235,   764974,   769612,   776715,\n",
              "          780555,   785208,   785615,   787451,   792744,   797327,\n",
              "          798429,   803531,   805448,   806423,   807657,   810104,\n",
              "          814911,   822829,   824249,   826923,   830690,   831268,\n",
              "          832226,   832567,   836433,   837082,   837480,   846423,\n",
              "          846832,   850831,   855524,   857774,   859164,   866325,\n",
              "          867392,   871549,   873549,   877291,   877943,   878358,\n",
              "          888169,   888523,   896404,   897471,  1000025,  1002025,\n",
              "         1015425,  1016277,  1016634,  1017023,  1018099,  1018561,\n",
              "         1022257,  1026122,  1031608,  1033078,  1035283,  1036172,\n",
              "         1041043,  1042252,  1043068,  1043999,  1044572,  1048672,\n",
              "         1050670,  1050718,  1054590,  1054593,  1056171,  1056784,\n",
              "         1058849,  1059552,  1061990,  1065726,  1066373,  1066979,\n",
              "         1067444,  1070522,  1071084,  1071760,  1072179,  1073836,\n",
              "         1074610,  1075123,  1079304,  1080233,  1081791,  1083817,\n",
              "         1084139,  1084584,  1091262,  1096352,  1099510,  1100524,\n",
              "         1102573,  1103722,  1105257,  1105524,  1106095,  1106829,\n",
              "         1107684,  1108370,  1108449,  1110102,  1112209,  1113038,\n",
              "         1113483,  1113906,  1114570,  1115293,  1115762,  1116116,\n",
              "         1116132,  1116192,  1116998,  1117152,  1119189,  1121732,\n",
              "         1123061,  1124651,  1125035,  1126417,  1131294,  1131411,\n",
              "         1132347,  1133041,  1133136,  1133991,  1135090,  1136142,\n",
              "         1137156,  1140597,  1143978,  1145420,  1147044,  1147699,\n",
              "         1148278,  1148873,  1149548,  1151734,  1152331,  1155546,\n",
              "         1155967,  1156017,  1156272,  1158157,  1158247,  1158405,\n",
              "         1160476,  1165926,  1166630,  1166654,  1167439,  1167471,\n",
              "         1168359,  1168736,  1169049,  1170419,  1170420,  1170945,\n",
              "         1171578,  1171710,  1171795,  1171845,  1172152,  1173216,\n",
              "         1173347,  1173509,  1173514,  1173681,  1174009,  1174057,\n",
              "         1174131,  1174428,  1174841,  1175937,  1176187,  1176406,\n",
              "         1176881,  1177027,  1177399,  1177512,  1178580,  1179818,\n",
              "         1180194,  1180523,  1181356,  1181567,  1181685,  1182404,\n",
              "         1182410,  1183240,  1183516,  1183596,  1183911,  1183983,\n",
              "         1184184,  1184241,  1184586,  1185609,  1186936,  1187457,\n",
              "         1187805,  1188472,  1189266,  1189286,  1190386,  1190394,\n",
              "         1190485,  1192325,  1193091,  1193210,  1196295,  1196475,\n",
              "         1197440,  1197979,  1197993,  1198128,  1198641,  1199219,\n",
              "         1199731,  1199983,  1200772,  1200847,  1200892,  1200952,\n",
              "         1201834,  1201870,  1201936,  1202125,  1202253,  1203096,\n",
              "         1204558,  1204898,  1205138,  1205579,  1206089,  1206314,\n",
              "         1206695,  1207986,  1210963,  1211202,  1211265,  1211594,\n",
              "         1212232,  1212251,  1213273,  1213375,  1213383,  1214092,\n",
              "         1214556,  1214966,  1216947,  1217051,  1217264,  1217717,\n",
              "         1217952,  1218741,  1218860,  1219406,  1219525,  1219859,\n",
              "         1220330,  1221863,  1222047,  1222464,  1222936,  1223003,\n",
              "         1223282,  1223306,  1223426,  1223543,  1223967,  1224565,\n",
              "         1225382,  1226012,  1227210,  1227244,  1227481,  1228152,\n",
              "         1228311,  1229929,  1230994,  1231387,  1231706,  1231853,\n",
              "         1232225,  1234554,  1235807,  1236043,  1236837,  1237674,\n",
              "         1238021,  1238186,  1238410,  1238633,  1238777,  1238915,\n",
              "         1238948,  1239232,  1239347,  1239420,  1239967,  1240337,\n",
              "         1240603,  1241559,  1241679,  1242364,  1243256,  1246562,\n",
              "         1253505,  1253917,  1253955,  1255384,  1257200,  1257366,\n",
              "         1257470,  1257648,  1257815,  1258549,  1258556,  1259008,\n",
              "         1260659,  1267898,  1268275,  1268313,  1268766,  1268804,\n",
              "         1268952,  1269574,  1270479,  1272039,  1272166,  1275807,\n",
              "         1276091,  1277018,  1277145,  1277792,  1285722,  1286943,\n",
              "         1287775,  1287971,  1288608,  1289391,  1290203,  1293439,\n",
              "         1293966,  1294261,  1294413,  1294562,  1295186,  1295508,\n",
              "         1295529,  1296025,  1296263,  1297327,  1297522,  1298360,\n",
              "         1298484,  1299161,  1299596,  1299924,  1299994,  1301945,\n",
              "         1302428,  1303489,  1304595,  1306339,  1311033,  1311108,\n",
              "         1311875,  1313325,  1313658,  1313982,  1315506,  1318169,\n",
              "         1318671,  1320077,  1320141,  1320304,  1321264,  1321321,\n",
              "         1321931,  1321942,  1324572,  1324681,  1325159,  1326892,\n",
              "         1330361,  1330439,  1331412,  1333063,  1333104,  1333495,\n",
              "         1333877,  1334015,  1334071,  1336798,  1339781,  1343374,\n",
              "         1344449,  1345452,  1345593,  1347749,  1347943,  1348851,\n",
              "         1350423,  1350568,  1352663,  1352848,  1353092,  1354840,\n",
              "         1355260,  1365328,  1368273,  1368882,  1369821,  1371026,\n",
              "         1371920, 13454352]),\n",
              " array([ 1,  2,  3,  4,  5,  6,  7,  8,  9, 10]),\n",
              " array([ 1,  2,  3,  4,  5,  6,  7,  8,  9, 10]),\n",
              " array([ 1,  2,  3,  4,  5,  6,  7,  8,  9, 10]),\n",
              " array([ 1,  2,  3,  4,  5,  6,  7,  8,  9, 10]),\n",
              " array([ 1,  2,  3,  4,  5,  6,  7,  8,  9, 10]),\n",
              " array([ 1,  2,  3,  4,  5,  6,  7,  8,  9, 10]),\n",
              " array([ 1,  2,  3,  4,  5,  6,  7,  8,  9, 10]),\n",
              " array([ 1,  2,  3,  4,  5,  6,  7,  8, 10])]"
            ]
          },
          "metadata": {
            "tags": []
          },
          "execution_count": 82
        }
      ]
    },
    {
      "cell_type": "code",
      "metadata": {
        "id": "DhkdWaKTATbO",
        "colab_type": "code",
        "outputId": "9ae45dfe-e209-419e-cf68-217c47eaef17",
        "colab": {
          "base_uri": "https://localhost:8080/",
          "height": 51
        }
      },
      "source": [
        "from sklearn.preprocessing import OneHotEncoder\n",
        "\n",
        "cat_encoder = OneHotEncoder()\n",
        "housing_cat_1hot = cat_encoder.fit_transform(data)\n",
        "housing_cat_1hot"
      ],
      "execution_count": 0,
      "outputs": [
        {
          "output_type": "execute_result",
          "data": {
            "text/plain": [
              "<546x1137 sparse matrix of type '<class 'numpy.float64'>'\n",
              "\twith 5460 stored elements in Compressed Sparse Row format>"
            ]
          },
          "metadata": {
            "tags": []
          },
          "execution_count": 83
        }
      ]
    },
    {
      "cell_type": "code",
      "metadata": {
        "id": "cfLTMywVATXn",
        "colab_type": "code",
        "outputId": "9f886229-e2b6-4b92-d432-dbef1ede8860",
        "colab": {
          "base_uri": "https://localhost:8080/",
          "height": 136
        }
      },
      "source": [
        "housing_cat_1hot.toarray()"
      ],
      "execution_count": 0,
      "outputs": [
        {
          "output_type": "execute_result",
          "data": {
            "text/plain": [
              "array([[0., 0., 0., ..., 0., 0., 0.],\n",
              "       [0., 0., 0., ..., 0., 0., 0.],\n",
              "       [0., 0., 0., ..., 0., 0., 0.],\n",
              "       ...,\n",
              "       [0., 0., 0., ..., 0., 0., 0.],\n",
              "       [0., 0., 0., ..., 0., 0., 0.],\n",
              "       [0., 0., 0., ..., 0., 0., 0.]])"
            ]
          },
          "metadata": {
            "tags": []
          },
          "execution_count": 84
        }
      ]
    },
    {
      "cell_type": "code",
      "metadata": {
        "id": "GKBm59vsATV1",
        "colab_type": "code",
        "outputId": "f468dc55-40a2-4d15-b716-140ee5168b56",
        "colab": {
          "base_uri": "https://localhost:8080/",
          "height": 136
        }
      },
      "source": [
        "cat_encoder = OneHotEncoder(sparse=False)\n",
        "housing_cat_1hot = cat_encoder.fit_transform(data)\n",
        "housing_cat_1hot"
      ],
      "execution_count": 0,
      "outputs": [
        {
          "output_type": "execute_result",
          "data": {
            "text/plain": [
              "array([[0., 0., 0., ..., 0., 0., 0.],\n",
              "       [0., 0., 0., ..., 0., 0., 0.],\n",
              "       [0., 0., 0., ..., 0., 0., 0.],\n",
              "       ...,\n",
              "       [0., 0., 0., ..., 0., 0., 0.],\n",
              "       [0., 0., 0., ..., 0., 0., 0.],\n",
              "       [0., 0., 0., ..., 0., 0., 0.]])"
            ]
          },
          "metadata": {
            "tags": []
          },
          "execution_count": 85
        }
      ]
    },
    {
      "cell_type": "code",
      "metadata": {
        "id": "4o7xFj4XAuEJ",
        "colab_type": "code",
        "outputId": "5d936eb6-0131-40ba-9403-73221cc528fd",
        "colab": {
          "base_uri": "https://localhost:8080/",
          "height": 1000
        }
      },
      "source": [
        "cat_encoder.categories_"
      ],
      "execution_count": 0,
      "outputs": [
        {
          "output_type": "execute_result",
          "data": {
            "text/plain": [
              "[array([  1,   3,   4,   5,   7,   8,   9,  10,  11,  12,  14,  15,  17,\n",
              "         19,  20,  21,  22,  23,  25,  26,  27,  28,  29,  32,  33,  34,\n",
              "         35,  36,  38,  39,  40,  42,  43,  44,  46,  47,  48,  49,  50,\n",
              "         51,  52,  53,  57,  58,  59,  60,  62,  63,  64,  65,  66,  67,\n",
              "         70,  72,  73,  74,  75,  76,  77,  78,  79,  80,  81,  82,  84,\n",
              "         85,  87,  88,  89,  90,  91,  95,  99, 100, 101, 102, 103, 104,\n",
              "        106, 107, 108, 109, 110, 111, 112, 113, 114, 116, 117, 118, 119,\n",
              "        120, 121, 122, 123, 124, 125, 126, 127, 128, 129, 130, 131, 132,\n",
              "        133, 134, 136, 137, 138, 139, 141, 142, 143, 144, 145, 147, 149,\n",
              "        150, 151, 152, 153, 154, 155, 156, 157, 158, 160, 164, 166, 167,\n",
              "        168, 170, 171, 172, 173, 174, 175, 176, 177, 178, 179, 181, 183,\n",
              "        184, 185, 186, 187, 189, 191, 192, 193, 194, 197, 198, 199, 200,\n",
              "        201, 203, 204, 205, 207, 208, 209, 210, 211, 212, 213, 214, 215,\n",
              "        216, 217, 218, 220, 223, 225, 226, 227, 228, 229, 232, 233, 234,\n",
              "        235, 237, 238, 239, 240, 241, 242, 243, 244, 246, 247, 248, 249,\n",
              "        251, 252, 254, 255, 256, 257, 258, 259, 260, 261, 262, 263, 264,\n",
              "        265, 266, 267, 268, 269, 270, 271, 272, 273, 274, 275, 277, 278,\n",
              "        279, 280, 281, 282, 283, 284, 286, 287, 288, 289, 290, 292, 294,\n",
              "        296, 299, 300, 301, 302, 303, 304, 306, 307, 308, 309, 310, 311,\n",
              "        312, 313, 317, 318, 319, 320, 323, 324, 325, 327, 328, 330, 331,\n",
              "        332, 334, 335, 336, 337, 338, 339, 340, 342, 344, 345, 346, 347,\n",
              "        348, 349, 350, 351, 352, 353, 354, 355, 356, 357, 359, 360, 361,\n",
              "        362, 363, 364, 365, 367, 368, 373, 374, 375, 376, 377, 378, 379,\n",
              "        380, 381, 382, 384, 385, 386, 387, 389, 391, 392, 393, 394, 395,\n",
              "        397, 399, 400, 401, 403, 404, 405, 406, 407, 408, 409, 410, 411,\n",
              "        413, 414, 415, 416, 417, 418, 419, 420, 421, 422, 423, 424, 426,\n",
              "        427, 429, 430, 431, 432, 434, 436, 437, 438, 439, 440, 442, 443,\n",
              "        444, 445, 448, 449, 451, 452, 454, 455, 456, 457, 458, 460, 461,\n",
              "        462, 465, 468, 469, 470, 471, 474, 475, 477, 478, 480, 481, 482,\n",
              "        483, 485, 486, 487, 490, 491, 492, 493, 495, 496, 497, 498, 499,\n",
              "        500, 501, 502, 503, 505, 507, 508, 509, 510, 511, 512, 513, 514,\n",
              "        516, 518, 519, 520, 522, 523, 524, 527, 528, 529, 531, 532, 534,\n",
              "        535, 536, 538, 539, 540, 541, 542, 543, 544, 545, 547, 548, 551,\n",
              "        552, 553, 554, 555, 556, 557, 558, 560, 561, 562, 566, 567, 568,\n",
              "        570, 572, 574, 575, 577, 578, 579, 580, 581, 582, 583, 584, 585,\n",
              "        586, 589, 590, 591, 592, 593, 594, 595, 596, 598, 599, 601, 602,\n",
              "        603, 604, 606, 607, 608, 609, 612, 613, 614, 615, 616, 617, 619,\n",
              "        620, 621, 622, 623, 624, 625, 626, 627, 629, 631, 632, 633, 634,\n",
              "        635, 636, 637, 638, 639, 640, 641, 642, 643, 644, 645, 646, 647,\n",
              "        648, 650, 653, 654, 655, 656, 657, 658, 659, 661, 662, 663, 664,\n",
              "        665, 666, 667, 668, 670, 671, 672, 673, 674, 675, 677, 679, 680,\n",
              "        681, 682, 683, 684, 686, 689, 690, 691, 692, 694, 695, 698, 699]),\n",
              " array([   63375,    76389,    95719,   128059,   142932,   144888,\n",
              "          145447,   160296,   167528,   183913,   191250,   242970,\n",
              "          255644,   263538,   274137,   303213,   314428,   320675,\n",
              "          324382,   324427,   352431,   353098,   369565,   378275,\n",
              "          385103,   390840,   411453,   412300,   428903,   431495,\n",
              "          434518,   452264,   456282,   466906,   476903,   486283,\n",
              "          486662,   488173,   492268,   493452,   521441,   527337,\n",
              "          527363,   529329,   534555,   535331,   543558,   555977,\n",
              "          557583,   558538,   560680,   561477,   566509,   601265,\n",
              "          603148,   606722,   625201,   635844,   636130,   636437,\n",
              "          640712,   640744,   646904,   654244,   654546,   657753,\n",
              "          659642,   666090,   666942,   667204,   672113,   673637,\n",
              "          677910,   684955,   685977,   688033,   690557,   691628,\n",
              "          695091,   695219,   704097,   706426,   709287,   718641,\n",
              "          721482,   733639,   733823,   734111,   740492,   752904,\n",
              "          756136,   760239,   763235,   764974,   769612,   776715,\n",
              "          780555,   785208,   785615,   787451,   792744,   797327,\n",
              "          798429,   803531,   805448,   806423,   807657,   810104,\n",
              "          814911,   822829,   824249,   826923,   830690,   831268,\n",
              "          832226,   832567,   836433,   837082,   837480,   846423,\n",
              "          846832,   850831,   855524,   857774,   859164,   866325,\n",
              "          867392,   871549,   873549,   877291,   877943,   878358,\n",
              "          888169,   888523,   896404,   897471,  1000025,  1002025,\n",
              "         1015425,  1016277,  1016634,  1017023,  1018099,  1018561,\n",
              "         1022257,  1026122,  1031608,  1033078,  1035283,  1036172,\n",
              "         1041043,  1042252,  1043068,  1043999,  1044572,  1048672,\n",
              "         1050670,  1050718,  1054590,  1054593,  1056171,  1056784,\n",
              "         1058849,  1059552,  1061990,  1065726,  1066373,  1066979,\n",
              "         1067444,  1070522,  1071084,  1071760,  1072179,  1073836,\n",
              "         1074610,  1075123,  1079304,  1080233,  1081791,  1083817,\n",
              "         1084139,  1084584,  1091262,  1096352,  1099510,  1100524,\n",
              "         1102573,  1103722,  1105257,  1105524,  1106095,  1106829,\n",
              "         1107684,  1108370,  1108449,  1110102,  1112209,  1113038,\n",
              "         1113483,  1113906,  1114570,  1115293,  1115762,  1116116,\n",
              "         1116132,  1116192,  1116998,  1117152,  1119189,  1121732,\n",
              "         1123061,  1124651,  1125035,  1126417,  1131294,  1131411,\n",
              "         1132347,  1133041,  1133136,  1133991,  1135090,  1136142,\n",
              "         1137156,  1140597,  1143978,  1145420,  1147044,  1147699,\n",
              "         1148278,  1148873,  1149548,  1151734,  1152331,  1155546,\n",
              "         1155967,  1156017,  1156272,  1158157,  1158247,  1158405,\n",
              "         1160476,  1165926,  1166630,  1166654,  1167439,  1167471,\n",
              "         1168359,  1168736,  1169049,  1170419,  1170420,  1170945,\n",
              "         1171578,  1171710,  1171795,  1171845,  1172152,  1173216,\n",
              "         1173347,  1173509,  1173514,  1173681,  1174009,  1174057,\n",
              "         1174131,  1174428,  1174841,  1175937,  1176187,  1176406,\n",
              "         1176881,  1177027,  1177399,  1177512,  1178580,  1179818,\n",
              "         1180194,  1180523,  1181356,  1181567,  1181685,  1182404,\n",
              "         1182410,  1183240,  1183516,  1183596,  1183911,  1183983,\n",
              "         1184184,  1184241,  1184586,  1185609,  1186936,  1187457,\n",
              "         1187805,  1188472,  1189266,  1189286,  1190386,  1190394,\n",
              "         1190485,  1192325,  1193091,  1193210,  1196295,  1196475,\n",
              "         1197440,  1197979,  1197993,  1198128,  1198641,  1199219,\n",
              "         1199731,  1199983,  1200772,  1200847,  1200892,  1200952,\n",
              "         1201834,  1201870,  1201936,  1202125,  1202253,  1203096,\n",
              "         1204558,  1204898,  1205138,  1205579,  1206089,  1206314,\n",
              "         1206695,  1207986,  1210963,  1211202,  1211265,  1211594,\n",
              "         1212232,  1212251,  1213273,  1213375,  1213383,  1214092,\n",
              "         1214556,  1214966,  1216947,  1217051,  1217264,  1217717,\n",
              "         1217952,  1218741,  1218860,  1219406,  1219525,  1219859,\n",
              "         1220330,  1221863,  1222047,  1222464,  1222936,  1223003,\n",
              "         1223282,  1223306,  1223426,  1223543,  1223967,  1224565,\n",
              "         1225382,  1226012,  1227210,  1227244,  1227481,  1228152,\n",
              "         1228311,  1229929,  1230994,  1231387,  1231706,  1231853,\n",
              "         1232225,  1234554,  1235807,  1236043,  1236837,  1237674,\n",
              "         1238021,  1238186,  1238410,  1238633,  1238777,  1238915,\n",
              "         1238948,  1239232,  1239347,  1239420,  1239967,  1240337,\n",
              "         1240603,  1241559,  1241679,  1242364,  1243256,  1246562,\n",
              "         1253505,  1253917,  1253955,  1255384,  1257200,  1257366,\n",
              "         1257470,  1257648,  1257815,  1258549,  1258556,  1259008,\n",
              "         1260659,  1267898,  1268275,  1268313,  1268766,  1268804,\n",
              "         1268952,  1269574,  1270479,  1272039,  1272166,  1275807,\n",
              "         1276091,  1277018,  1277145,  1277792,  1285722,  1286943,\n",
              "         1287775,  1287971,  1288608,  1289391,  1290203,  1293439,\n",
              "         1293966,  1294261,  1294413,  1294562,  1295186,  1295508,\n",
              "         1295529,  1296025,  1296263,  1297327,  1297522,  1298360,\n",
              "         1298484,  1299161,  1299596,  1299924,  1299994,  1301945,\n",
              "         1302428,  1303489,  1304595,  1306339,  1311033,  1311108,\n",
              "         1311875,  1313325,  1313658,  1313982,  1315506,  1318169,\n",
              "         1318671,  1320077,  1320141,  1320304,  1321264,  1321321,\n",
              "         1321931,  1321942,  1324572,  1324681,  1325159,  1326892,\n",
              "         1330361,  1330439,  1331412,  1333063,  1333104,  1333495,\n",
              "         1333877,  1334015,  1334071,  1336798,  1339781,  1343374,\n",
              "         1344449,  1345452,  1345593,  1347749,  1347943,  1348851,\n",
              "         1350423,  1350568,  1352663,  1352848,  1353092,  1354840,\n",
              "         1355260,  1365328,  1368273,  1368882,  1369821,  1371026,\n",
              "         1371920, 13454352]),\n",
              " array([ 1,  2,  3,  4,  5,  6,  7,  8,  9, 10]),\n",
              " array([ 1,  2,  3,  4,  5,  6,  7,  8,  9, 10]),\n",
              " array([ 1,  2,  3,  4,  5,  6,  7,  8,  9, 10]),\n",
              " array([ 1,  2,  3,  4,  5,  6,  7,  8,  9, 10]),\n",
              " array([ 1,  2,  3,  4,  5,  6,  7,  8,  9, 10]),\n",
              " array([ 1,  2,  3,  4,  5,  6,  7,  8,  9, 10]),\n",
              " array([ 1,  2,  3,  4,  5,  6,  7,  8,  9, 10]),\n",
              " array([ 1,  2,  3,  4,  5,  6,  7,  8, 10])]"
            ]
          },
          "metadata": {
            "tags": []
          },
          "execution_count": 86
        }
      ]
    },
    {
      "cell_type": "code",
      "metadata": {
        "id": "GfsWwyEPAuHx",
        "colab_type": "code",
        "colab": {}
      },
      "source": [
        ""
      ],
      "execution_count": 0,
      "outputs": []
    },
    {
      "cell_type": "code",
      "metadata": {
        "id": "221434zBAuCb",
        "colab_type": "code",
        "colab": {}
      },
      "source": [
        ""
      ],
      "execution_count": 0,
      "outputs": []
    }
  ]
}