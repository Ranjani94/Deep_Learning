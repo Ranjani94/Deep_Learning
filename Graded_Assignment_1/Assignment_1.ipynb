{
  "nbformat": 4,
  "nbformat_minor": 0,
  "metadata": {
    "colab": {
      "name": "Assignment_1.ipynb",
      "provenance": [],
      "collapsed_sections": [],
      "include_colab_link": true
    },
    "kernelspec": {
      "name": "python3",
      "display_name": "Python 3"
    },
    "accelerator": "GPU"
  },
  "cells": [
    {
      "cell_type": "markdown",
      "metadata": {
        "id": "view-in-github",
        "colab_type": "text"
      },
      "source": [
        "<a href=\"https://colab.research.google.com/github/Ranjani94/Deep_Learning/blob/master/Graded_Assignment_1/Assignment_1.ipynb\" target=\"_parent\"><img src=\"https://colab.research.google.com/assets/colab-badge.svg\" alt=\"Open In Colab\"/></a>"
      ]
    },
    {
      "cell_type": "markdown",
      "metadata": {
        "id": "7sGbckRaSP7e",
        "colab_type": "text"
      },
      "source": [
        "#MNIST Classifier"
      ]
    },
    {
      "cell_type": "markdown",
      "metadata": {
        "id": "vyF0FAUdW61V",
        "colab_type": "text"
      },
      "source": [
        "#Importing all the required libraries"
      ]
    },
    {
      "cell_type": "code",
      "metadata": {
        "id": "38hrNAF7STOp",
        "colab_type": "code",
        "outputId": "2dda0ca8-c222-4c93-f879-7816712263de",
        "colab": {
          "base_uri": "https://localhost:8080/",
          "height": 80
        }
      },
      "source": [
        "import sklearn\n",
        "assert sklearn.__version__ >= \"0.20\"\n",
        "\n",
        "# Common imports\n",
        "import numpy as np\n",
        "import pandas as pd\n",
        "\n",
        "# To plot pretty figures\n",
        "%matplotlib inline\n",
        "import matplotlib as mpl\n",
        "import matplotlib.pyplot as plt\n",
        "mpl.rc('axes', labelsize=14)\n",
        "mpl.rc('xtick', labelsize=12)\n",
        "mpl.rc('ytick', labelsize=12)\n",
        "\n",
        "# TensorFlow and tf.keras\n",
        "import tensorflow as tf\n",
        "from tensorflow import keras\n",
        "from keras.datasets import mnist\n",
        "from keras.utils import np_utils\n",
        "from keras.preprocessing.image import ImageDataGenerator"
      ],
      "execution_count": 1,
      "outputs": [
        {
          "output_type": "display_data",
          "data": {
            "text/html": [
              "<p style=\"color: red;\">\n",
              "The default version of TensorFlow in Colab will switch to TensorFlow 2.x on the 27th of March, 2020.<br>\n",
              "We recommend you <a href=\"https://www.tensorflow.org/guide/migrate\" target=\"_blank\">upgrade</a> now\n",
              "or ensure your notebook will continue to use TensorFlow 1.x via the <code>%tensorflow_version 1.x</code> magic:\n",
              "<a href=\"https://colab.research.google.com/notebooks/tensorflow_version.ipynb\" target=\"_blank\">more info</a>.</p>\n"
            ],
            "text/plain": [
              "<IPython.core.display.HTML object>"
            ]
          },
          "metadata": {
            "tags": []
          }
        },
        {
          "output_type": "stream",
          "text": [
            "Using TensorFlow backend.\n"
          ],
          "name": "stderr"
        }
      ]
    },
    {
      "cell_type": "markdown",
      "metadata": {
        "id": "2KRg9AU2W1_y",
        "colab_type": "text"
      },
      "source": [
        "#Downloading the dataset"
      ]
    },
    {
      "cell_type": "code",
      "metadata": {
        "id": "WsbCEpaRSTQK",
        "colab_type": "code",
        "colab": {}
      },
      "source": [
        "Digit_recognizer_mnist = keras.datasets.mnist\n",
        "(x_train, y_train), (x_test, y_test) = Digit_recognizer_mnist.load_data()\n"
      ],
      "execution_count": 0,
      "outputs": []
    },
    {
      "cell_type": "markdown",
      "metadata": {
        "id": "v2RIZ5S_XaJi",
        "colab_type": "text"
      },
      "source": [
        "#Exploring the data"
      ]
    },
    {
      "cell_type": "code",
      "metadata": {
        "id": "PxN7153kXcfd",
        "colab_type": "code",
        "outputId": "bbe48f75-f027-43d0-ff73-07894f4d0bd5",
        "colab": {
          "base_uri": "https://localhost:8080/",
          "height": 34
        }
      },
      "source": [
        "x_train.shape"
      ],
      "execution_count": 3,
      "outputs": [
        {
          "output_type": "execute_result",
          "data": {
            "text/plain": [
              "(60000, 28, 28)"
            ]
          },
          "metadata": {
            "tags": []
          },
          "execution_count": 3
        }
      ]
    },
    {
      "cell_type": "code",
      "metadata": {
        "id": "2ONLOWIDXcm2",
        "colab_type": "code",
        "outputId": "0c251c8e-a87d-4372-c176-b9b2fe2059b6",
        "colab": {
          "base_uri": "https://localhost:8080/",
          "height": 34
        }
      },
      "source": [
        "y_train.shape"
      ],
      "execution_count": 4,
      "outputs": [
        {
          "output_type": "execute_result",
          "data": {
            "text/plain": [
              "(60000,)"
            ]
          },
          "metadata": {
            "tags": []
          },
          "execution_count": 4
        }
      ]
    },
    {
      "cell_type": "code",
      "metadata": {
        "id": "rmh67OWOd7rY",
        "colab_type": "code",
        "outputId": "f0f954a8-06aa-421a-dcb7-cb8bc7998d4e",
        "colab": {
          "base_uri": "https://localhost:8080/",
          "height": 850
        }
      },
      "source": [
        "x_test[:10]"
      ],
      "execution_count": 5,
      "outputs": [
        {
          "output_type": "execute_result",
          "data": {
            "text/plain": [
              "array([[[0, 0, 0, ..., 0, 0, 0],\n",
              "        [0, 0, 0, ..., 0, 0, 0],\n",
              "        [0, 0, 0, ..., 0, 0, 0],\n",
              "        ...,\n",
              "        [0, 0, 0, ..., 0, 0, 0],\n",
              "        [0, 0, 0, ..., 0, 0, 0],\n",
              "        [0, 0, 0, ..., 0, 0, 0]],\n",
              "\n",
              "       [[0, 0, 0, ..., 0, 0, 0],\n",
              "        [0, 0, 0, ..., 0, 0, 0],\n",
              "        [0, 0, 0, ..., 0, 0, 0],\n",
              "        ...,\n",
              "        [0, 0, 0, ..., 0, 0, 0],\n",
              "        [0, 0, 0, ..., 0, 0, 0],\n",
              "        [0, 0, 0, ..., 0, 0, 0]],\n",
              "\n",
              "       [[0, 0, 0, ..., 0, 0, 0],\n",
              "        [0, 0, 0, ..., 0, 0, 0],\n",
              "        [0, 0, 0, ..., 0, 0, 0],\n",
              "        ...,\n",
              "        [0, 0, 0, ..., 0, 0, 0],\n",
              "        [0, 0, 0, ..., 0, 0, 0],\n",
              "        [0, 0, 0, ..., 0, 0, 0]],\n",
              "\n",
              "       ...,\n",
              "\n",
              "       [[0, 0, 0, ..., 0, 0, 0],\n",
              "        [0, 0, 0, ..., 0, 0, 0],\n",
              "        [0, 0, 0, ..., 0, 0, 0],\n",
              "        ...,\n",
              "        [0, 0, 0, ..., 0, 0, 0],\n",
              "        [0, 0, 0, ..., 0, 0, 0],\n",
              "        [0, 0, 0, ..., 0, 0, 0]],\n",
              "\n",
              "       [[0, 0, 0, ..., 0, 0, 0],\n",
              "        [0, 0, 0, ..., 0, 0, 0],\n",
              "        [0, 0, 0, ..., 0, 0, 0],\n",
              "        ...,\n",
              "        [0, 0, 0, ..., 0, 0, 0],\n",
              "        [0, 0, 0, ..., 0, 0, 0],\n",
              "        [0, 0, 0, ..., 0, 0, 0]],\n",
              "\n",
              "       [[0, 0, 0, ..., 0, 0, 0],\n",
              "        [0, 0, 0, ..., 0, 0, 0],\n",
              "        [0, 0, 0, ..., 0, 0, 0],\n",
              "        ...,\n",
              "        [0, 0, 0, ..., 0, 0, 0],\n",
              "        [0, 0, 0, ..., 0, 0, 0],\n",
              "        [0, 0, 0, ..., 0, 0, 0]]], dtype=uint8)"
            ]
          },
          "metadata": {
            "tags": []
          },
          "execution_count": 5
        }
      ]
    },
    {
      "cell_type": "code",
      "metadata": {
        "id": "8ur7gePMXcsL",
        "colab_type": "code",
        "outputId": "cda87a8c-e3ec-49ea-eaea-4e04e3ad2ba8",
        "colab": {
          "base_uri": "https://localhost:8080/",
          "height": 34
        }
      },
      "source": [
        "x_test.shape"
      ],
      "execution_count": 6,
      "outputs": [
        {
          "output_type": "execute_result",
          "data": {
            "text/plain": [
              "(10000, 28, 28)"
            ]
          },
          "metadata": {
            "tags": []
          },
          "execution_count": 6
        }
      ]
    },
    {
      "cell_type": "code",
      "metadata": {
        "id": "KorDeH04Xcyw",
        "colab_type": "code",
        "outputId": "fc8b1e73-f666-44b6-d40c-61ad3e23b7de",
        "colab": {
          "base_uri": "https://localhost:8080/",
          "height": 34
        }
      },
      "source": [
        "y_test.shape"
      ],
      "execution_count": 7,
      "outputs": [
        {
          "output_type": "execute_result",
          "data": {
            "text/plain": [
              "(10000,)"
            ]
          },
          "metadata": {
            "tags": []
          },
          "execution_count": 7
        }
      ]
    },
    {
      "cell_type": "markdown",
      "metadata": {
        "id": "iQ_Fr6oMkZ1p",
        "colab_type": "text"
      },
      "source": [
        "#Visualization"
      ]
    },
    {
      "cell_type": "code",
      "metadata": {
        "id": "AOpxFFCgXo5S",
        "colab_type": "code",
        "outputId": "cd9accfa-5b6c-492b-d232-c75f34c7262a",
        "colab": {
          "base_uri": "https://localhost:8080/",
          "height": 269
        }
      },
      "source": [
        "plt.figure()\n",
        "plt.imshow(x_train[6779])\n",
        "plt.colorbar()\n",
        "plt.grid(False)\n",
        "plt.show()"
      ],
      "execution_count": 8,
      "outputs": [
        {
          "output_type": "display_data",
          "data": {
            "image/png": "[encoded data removed]",
            "text/plain": [
              "<Figure size 432x288 with 2 Axes>"
            ]
          },
          "metadata": {
            "tags": []
          }
        }
      ]
    },
    {
      "cell_type": "code",
      "metadata": {
        "id": "atApfareXuMW",
        "colab_type": "code",
        "outputId": "2702d46a-d54e-4c71-caa8-1dc9f996c07d",
        "colab": {
          "base_uri": "https://localhost:8080/",
          "height": 119
        }
      },
      "source": [
        "plt.subplot(341)\n",
        "plt.imshow(x_train[0], cmap=plt.get_cmap('gray'))\n",
        "plt.subplot(342)\n",
        "plt.imshow(x_train[1], cmap=plt.get_cmap('gray'))\n",
        "plt.subplot(343)\n",
        "plt.imshow(x_train[2], cmap=plt.get_cmap('gray'))\n",
        "plt.subplot(344)\n",
        "plt.imshow(x_train[3], cmap=plt.get_cmap('gray'))\n",
        "plt.show()"
      ],
      "execution_count": 9,
      "outputs": [
        {
          "output_type": "display_data",
          "data": {
            "image/png": "[encoded data removed]",
            "text/plain": [
              "<Figure size 432x288 with 4 Axes>"
            ]
          },
          "metadata": {
            "tags": []
          }
        }
      ]
    },
    {
      "cell_type": "markdown",
      "metadata": {
        "id": "dsu3CGZIpTgR",
        "colab_type": "text"
      },
      "source": [
        "#Data augmentation"
      ]
    },
    {
      "cell_type": "code",
      "metadata": {
        "id": "6LcM7WLLp9Nq",
        "colab_type": "code",
        "outputId": "ce74eb53-5008-4e5a-fbfc-ad7d24ea1e6d",
        "colab": {
          "base_uri": "https://localhost:8080/",
          "height": 71
        }
      },
      "source": [
        "datagen = ImageDataGenerator( \n",
        "        rotation_range = 40, \n",
        "        shear_range = 0.2, \n",
        "        zoom_range = 0.2, \n",
        "        horizontal_flip = True, \n",
        "        brightness_range = (0.5, 1.5))\n",
        "datagen.fit(x_train[None])"
      ],
      "execution_count": 10,
      "outputs": [
        {
          "output_type": "stream",
          "text": [
            "/usr/local/lib/python3.6/dist-packages/keras_preprocessing/image/image_data_generator.py:940: UserWarning: Expected input to be images (as Numpy array) following the data format convention \"channels_last\" (channels on axis 3), i.e. expected either 1, 3 or 4 channels on axis 3. However, it was passed an array with shape (1, 60000, 28, 28) (28 channels).\n",
            "  ' channels).')\n"
          ],
          "name": "stderr"
        }
      ]
    },
    {
      "cell_type": "markdown",
      "metadata": {
        "id": "w3RfscvdksYp",
        "colab_type": "text"
      },
      "source": [
        "###To apply simple neural network using multi layer perceptron, we need to reduce the images from 3-D to vector of pixels using the reshape() function..."
      ]
    },
    {
      "cell_type": "markdown",
      "metadata": {
        "id": "l_Sl3OnMl_4-",
        "colab_type": "text"
      },
      "source": [
        "###Converting 28 * 28 pixel image to 784 vectors for each image"
      ]
    },
    {
      "cell_type": "code",
      "metadata": {
        "id": "0stGKDUhkX1w",
        "colab_type": "code",
        "colab": {}
      },
      "source": [
        "pixels = x_train.shape[1] * x_train.shape[2]\n",
        "x_train = x_train.reshape((x_train.shape[0],-1)).astype('float32')\n",
        "x_test = x_test.reshape((x_test.shape[0],-1)).astype(\"float32\")\n"
      ],
      "execution_count": 0,
      "outputs": []
    },
    {
      "cell_type": "markdown",
      "metadata": {
        "id": "b0hfQEPknBAV",
        "colab_type": "text"
      },
      "source": [
        "##Normalizing the input values"
      ]
    },
    {
      "cell_type": "code",
      "metadata": {
        "id": "9gVEt4FcmOFw",
        "colab_type": "code",
        "colab": {}
      },
      "source": [
        "x_train = x_train / 255.0\n",
        "x_test = x_test / 255.0"
      ],
      "execution_count": 0,
      "outputs": []
    },
    {
      "cell_type": "code",
      "metadata": {
        "id": "9UL_Izb0ob9x",
        "colab_type": "code",
        "outputId": "86cd67ca-305d-4a63-ae41-54f8983285b0",
        "colab": {
          "base_uri": "https://localhost:8080/",
          "height": 34
        }
      },
      "source": [
        "x_test.shape"
      ],
      "execution_count": 13,
      "outputs": [
        {
          "output_type": "execute_result",
          "data": {
            "text/plain": [
              "(10000, 784)"
            ]
          },
          "metadata": {
            "tags": []
          },
          "execution_count": 13
        }
      ]
    },
    {
      "cell_type": "code",
      "metadata": {
        "id": "3_hnw6LwqtNY",
        "colab_type": "code",
        "outputId": "c551e02d-f72d-4565-e72c-f218f2e32858",
        "colab": {
          "base_uri": "https://localhost:8080/",
          "height": 34
        }
      },
      "source": [
        "x_train.shape"
      ],
      "execution_count": 14,
      "outputs": [
        {
          "output_type": "execute_result",
          "data": {
            "text/plain": [
              "(60000, 784)"
            ]
          },
          "metadata": {
            "tags": []
          },
          "execution_count": 14
        }
      ]
    },
    {
      "cell_type": "code",
      "metadata": {
        "id": "2_iNLZQM7hu8",
        "colab_type": "code",
        "colab": {}
      },
      "source": [
        "# one hot encode outputs\n",
        "# y_train = np_utils.to_categorical(y_train)\n",
        "# y_test = np_utils.to_categorical(y_test)\n",
        "# num_classes = y_test.shape[1]"
      ],
      "execution_count": 0,
      "outputs": []
    },
    {
      "cell_type": "code",
      "metadata": {
        "id": "pKVHAwCU9GGe",
        "colab_type": "code",
        "outputId": "db48f4ef-0567-48b4-8c2f-c675a7a3fd99",
        "colab": {
          "base_uri": "https://localhost:8080/",
          "height": 34
        }
      },
      "source": [
        "y_train.shape"
      ],
      "execution_count": 16,
      "outputs": [
        {
          "output_type": "execute_result",
          "data": {
            "text/plain": [
              "(60000,)"
            ]
          },
          "metadata": {
            "tags": []
          },
          "execution_count": 16
        }
      ]
    },
    {
      "cell_type": "code",
      "metadata": {
        "id": "nligEylE9J2h",
        "colab_type": "code",
        "outputId": "5477100a-1662-4914-f319-8e526cd93947",
        "colab": {
          "base_uri": "https://localhost:8080/",
          "height": 34
        }
      },
      "source": [
        "y_test.shape"
      ],
      "execution_count": 17,
      "outputs": [
        {
          "output_type": "execute_result",
          "data": {
            "text/plain": [
              "(10000,)"
            ]
          },
          "metadata": {
            "tags": []
          },
          "execution_count": 17
        }
      ]
    },
    {
      "cell_type": "markdown",
      "metadata": {
        "id": "GYHdwN_nyrOo",
        "colab_type": "text"
      },
      "source": [
        "##FeedForward Neural Network"
      ]
    },
    {
      "cell_type": "markdown",
      "metadata": {
        "id": "gwli2v0KpDkY",
        "colab_type": "text"
      },
      "source": [
        "###Activation Functions"
      ]
    },
    {
      "cell_type": "code",
      "metadata": {
        "id": "eamgeDDrxPzU",
        "colab_type": "code",
        "colab": {}
      },
      "source": [
        "# def sigmoid(x):\n",
        "#   s = 1/(1+np.exp(-x))\n",
        "#   return s\n",
        "\n",
        "# def relu(x):\n",
        "#   r =  np.maximum(0, x)\n",
        "#   return r\n",
        "\n",
        "# def relu_derivative(x):\n",
        "#   return x>=0\n",
        "\n",
        "# def softmax(x):\n",
        "#   exps = np.exp(x - np.max(x))\n",
        "#   return exps / exps.sum(axis=1)"
      ],
      "execution_count": 0,
      "outputs": []
    },
    {
      "cell_type": "markdown",
      "metadata": {
        "id": "7vzXXWMepI_1",
        "colab_type": "text"
      },
      "source": [
        "###Defining a simple neural network model"
      ]
    },
    {
      "cell_type": "code",
      "metadata": {
        "id": "gh2d-_PYz6ah",
        "colab_type": "code",
        "colab": {}
      },
      "source": [
        "class NN:\n",
        "  def __init__(self, numof_input_nodes, numof_output_nodes):\n",
        "    self.numof_input_nodes = numof_input_nodes\n",
        "    self.numof_output_nodes = numof_output_nodes\n",
        "    self.learn_rate = 1\n",
        "    self.dropout = 0.1\n",
        "    self.hidden_node_1 = 1000 #Hidden layer one\n",
        "    self.hidden_node_2 = 500 #Hidden layer two\n",
        "    self.input_neuron = 784 #Total number of input neurons\n",
        "    self.output_neuron = 10 #Total number of output neurons\n",
        "    self.create_wt_matrices()\n",
        "\n",
        "  \n",
        "  def relu(self, x): #Relu activation function\n",
        "    r =  np.maximum(0, x)\n",
        "    return r\n",
        "  \n",
        "  def sigmoid(self, x): #Sigmoid activation function\n",
        "    s = 1/(1+np.exp(-x))\n",
        "    return s\n",
        "  \n",
        "  def softmax(self, x): #Softmax activation function \n",
        "    e = np.exp(x - np.max(x, axis=1, keepdims=True))\n",
        "    return e/np.sum(e, axis=1, keepdims=True)\n",
        "\n",
        "  def lr():\n",
        "    self.learn_rate *= 0.1 #Learning rate\n",
        "\n",
        "  #Creating weight and bias matrices\n",
        "  def create_wt_matrices(self):\n",
        "    self.w1 = 0.2 * np.random.randn(self.input_neuron, self.hidden_node_1) - 0.1\n",
        "    self.bias1 = np.zeros((1, self.hidden_node_1))\n",
        "    self.w2 = 0.2 * np.random.randn(self.hidden_node_1, self.hidden_node_2) - 0.1\n",
        "    self.bias2 = np.zeros((1, self.hidden_node_2))\n",
        "    self.w3 = 0.2 * np.random.randn(self.hidden_node_2, self.output_neuron) - 0.1\n",
        "    self.bias3 = np.zeros((1, self.output_neuron))\n",
        " \n",
        "  #Training our model\n",
        "  def train(self):\n",
        "    z1 = np.dot(self.numof_input_nodes, self.w1) + self.bias1\n",
        "    self.A1 = self.sigmoid(z1)\n",
        "    z2 = np.dot(self.A1, self.w2) + self.bias2\n",
        "    self.A2 = self.relu(z2)\n",
        "    z3 = np.dot(self.A2, self.w3) + self.bias3\n",
        "    self.A3 = self.softmax(z3)\n",
        "    \n",
        "  #Predicting our model\n",
        "  def predict(self, x):\n",
        "    self.input = x\n",
        "    self.train()\n",
        "    return self.A3.argmax()\n",
        "\n",
        "  #Dropout rates\n",
        "# def dropout(self):\n",
        "#   K = 1 - self.dropout\n",
        "#   s1 = np.random.rand(self.A1.shape[0], self.A1.shape[1])\n",
        "#   #print(D1)\n",
        "#   s1 = s1 < K\n",
        "#   self.A1 = np.multiply(self.A1, s1) \n",
        "#   self.A1 = self.A1/K\n",
        "\n",
        " "
      ],
      "execution_count": 0,
      "outputs": []
    },
    {
      "cell_type": "markdown",
      "metadata": {
        "id": "OoSlAXy2lBvV",
        "colab_type": "text"
      },
      "source": [
        "###Applying Mini-batch gradient descent"
      ]
    },
    {
      "cell_type": "code",
      "metadata": {
        "id": "vhxV_QelMgn8",
        "colab_type": "code",
        "colab": {}
      },
      "source": [
        "def mini_batch(inp, out, batch_size, shuffle=False):\n",
        "  assert len(inp) == len(out)\n",
        "  if shuffle:\n",
        "    idx = np.random.permutation(len(inp))\n",
        "  for first_idx in range(0, len(inp) - batch_size + 1, batch_size):\n",
        "    if shuffle:\n",
        "      e = idx[first_idx:first_idx + batch_size]\n",
        "    else:\n",
        "      e = slice(first_idx, first_idx + batch_size)\n",
        "    yield inp[e], out[e]"
      ],
      "execution_count": 0,
      "outputs": []
    },
    {
      "cell_type": "markdown",
      "metadata": {
        "id": "OsRQdHqYlYum",
        "colab_type": "text"
      },
      "source": [
        "###Getting the accuracy of the model"
      ]
    },
    {
      "cell_type": "code",
      "metadata": {
        "id": "7sIzk_1t2Lq5",
        "colab_type": "code",
        "colab": {}
      },
      "source": [
        "def get_accuracy_value(x, y):\n",
        "  model = NN(x, y)\n",
        "  accuracy = 0\n",
        "  for a,b in zip(x, y):\n",
        "    pred = model.predict(a)\n",
        "    if pred == np.argmax(b):\n",
        "      accuracy += 1\n",
        "  return accuracy/len(x)*100"
      ],
      "execution_count": 0,
      "outputs": []
    },
    {
      "cell_type": "markdown",
      "metadata": {
        "id": "TWb0cpBhlhGt",
        "colab_type": "text"
      },
      "source": [
        "###Epochs, training and test accuracy of the model"
      ]
    },
    {
      "cell_type": "code",
      "metadata": {
        "id": "g745Xjisb5FS",
        "colab_type": "code",
        "colab": {}
      },
      "source": [
        "\n",
        "epochs = 4\n",
        "train = []\n",
        "test = []\n",
        "for epoch in range(1, epochs):\n",
        "  for x_b, y_b in mini_batch(x_train, y_train, batch_size=64, shuffle=True):\n",
        "    model = NN(x_b, y_b)\n",
        "    model.train()\n",
        "  # print(\"Epochs: \", epoch)\n",
        "  # print(accuracy_score(y_test, model.predict(X_test))\n",
        "  train_accuracy = get_accuracy_value(x_train, y_train)\n",
        "  test_accuracy = get_accuracy_value(x_test, y_test)\n",
        "  print(\"Epochs: \", epoch)\n",
        "  print(\"Training_Accuracy:\",train_accuracy)\n",
        "  print(\"Test_Accuracy:\",test_accuracy)\n",
        "  train.append(np.mean(train_accuracy/100))\n",
        "  test.append(np.mean(test_accuracy/100))"
      ],
      "execution_count": 0,
      "outputs": []
    },
    {
      "cell_type": "markdown",
      "metadata": {
        "id": "9r2cQa3M-03f",
        "colab_type": "text"
      },
      "source": [
        "when I try to run the code either it keeps on running for a while or gets disconnected. I have tried several times and still not able to get output, I am not sure about what went wrong here.."
      ]
    }
  ]
}