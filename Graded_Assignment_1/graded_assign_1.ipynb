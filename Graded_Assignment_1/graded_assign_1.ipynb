{
  "nbformat": 4,
  "nbformat_minor": 0,
  "metadata": {
    "colab": {
      "name": "graded_assign_1.ipynb",
      "provenance": [],
      "authorship_tag": "ABX9TyObuI660R0wNJ4BDubGGiN8",
      "include_colab_link": true
    },
    "kernelspec": {
      "name": "python3",
      "display_name": "Python 3"
    },
    "accelerator": "GPU"
  },
  "cells": [
    {
      "cell_type": "markdown",
      "metadata": {
        "id": "view-in-github",
        "colab_type": "text"
      },
      "source": [
        "<a href=\"https://colab.research.google.com/github/Ranjani94/Deep_Learning/blob/master/Graded_Assignment_1/graded_assign_1.ipynb\" target=\"_parent\"><img src=\"https://colab.research.google.com/assets/colab-badge.svg\" alt=\"Open In Colab\"/></a>"
      ]
    },
    {
      "cell_type": "code",
      "metadata": {
        "id": "JM0ScIBQc6_T",
        "colab_type": "code",
        "colab": {
          "base_uri": "https://localhost:8080/",
          "height": 122
        },
        "outputId": "ad7ac862-2558-4005-868c-79f35352aae4"
      },
      "source": [
        "from google.colab import drive\n",
        "drive.mount('/content/gdrive', force_remount=True)\n",
        "root_dir = \"/content/gdrive/My Drive/\"\n",
        "base_dir = root_dir + 'Deep_Learning/'"
      ],
      "execution_count": 2,
      "outputs": [
        {
          "output_type": "stream",
          "text": [
            "Go to this URL in a browser: https://accounts.google.com/o/oauth2/auth?client_id=947318989803-6bn6qk8qdgf4n4g3pfee6491hc0brc4i.apps.googleusercontent.com&redirect_uri=urn%3aietf%3awg%3aoauth%3a2.0%3aoob&response_type=code&scope=email%20https%3a%2f%2fwww.googleapis.com%2fauth%2fdocs.test%20https%3a%2f%2fwww.googleapis.com%2fauth%2fdrive%20https%3a%2f%2fwww.googleapis.com%2fauth%2fdrive.photos.readonly%20https%3a%2f%2fwww.googleapis.com%2fauth%2fpeopleapi.readonly\n",
            "\n",
            "Enter your authorization code:\n",
            "··········\n",
            "Mounted at /content/gdrive\n"
          ],
          "name": "stdout"
        }
      ]
    },
    {
      "cell_type": "code",
      "metadata": {
        "id": "9C6M26HZdFIE",
        "colab_type": "code",
        "colab": {
          "base_uri": "https://localhost:8080/",
          "height": 80
        },
        "outputId": "f10a0608-8cb8-43a3-eeff-d223ccee0535"
      },
      "source": [
        "import sys\n",
        "assert sys.version_info >= (3, 5)\n",
        "\n",
        "# Scikit-Learn ≥0.20 is required\n",
        "import sklearn\n",
        "assert sklearn.__version__ >= \"0.20\"\n",
        "\n",
        "# Common imports\n",
        "import numpy as np\n",
        "import os\n",
        "import pandas as pd\n",
        "import pickle\n",
        "\n",
        "# To plot pretty figures\n",
        "%matplotlib inline\n",
        "import matplotlib as mpl\n",
        "import matplotlib.pyplot as plt\n",
        "\n",
        "mpl.rc('axes', labelsize=14)\n",
        "mpl.rc('xtick', labelsize=12)\n",
        "mpl.rc('ytick', labelsize=12)\n",
        "\n",
        "# TensorFlow and tf.keras\n",
        "import tensorflow as tf\n",
        "from tensorflow import keras\n",
        "from keras.utils import np_utils\n",
        "from sklearn.metrics import classification_report, confusion_matrix"
      ],
      "execution_count": 3,
      "outputs": [
        {
          "output_type": "display_data",
          "data": {
            "text/html": [
              "<p style=\"color: red;\">\n",
              "The default version of TensorFlow in Colab will soon switch to TensorFlow 2.x.<br>\n",
              "We recommend you <a href=\"https://www.tensorflow.org/guide/migrate\" target=\"_blank\">upgrade</a> now \n",
              "or ensure your notebook will continue to use TensorFlow 1.x via the <code>%tensorflow_version 1.x</code> magic:\n",
              "<a href=\"https://colab.research.google.com/notebooks/tensorflow_version.ipynb\" target=\"_blank\">more info</a>.</p>\n"
            ],
            "text/plain": [
              "<IPython.core.display.HTML object>"
            ]
          },
          "metadata": {
            "tags": []
          }
        },
        {
          "output_type": "stream",
          "text": [
            "Using TensorFlow backend.\n"
          ],
          "name": "stderr"
        }
      ]
    },
    {
      "cell_type": "markdown",
      "metadata": {
        "id": "gr3PXuJud39R",
        "colab_type": "text"
      },
      "source": [
        "#Importing dataset using SKLEARN library"
      ]
    },
    {
      "cell_type": "code",
      "metadata": {
        "id": "sQ3YoJBBcdgW",
        "colab_type": "code",
        "colab": {}
      },
      "source": [
        "from sklearn.datasets import fetch_openml\n",
        "mnist = fetch_openml('mnist_784', version=1, cache=True)\n",
        "train_x, train_y = mnist[\"data\"], mnist[\"target\"]"
      ],
      "execution_count": 0,
      "outputs": []
    },
    {
      "cell_type": "code",
      "metadata": {
        "id": "5d26PfrDAT-G",
        "colab_type": "code",
        "colab": {
          "base_uri": "https://localhost:8080/",
          "height": 34
        },
        "outputId": "7b07d365-9b2e-466c-ae35-c45f84435c7b"
      },
      "source": [
        "train_x.shape"
      ],
      "execution_count": 5,
      "outputs": [
        {
          "output_type": "execute_result",
          "data": {
            "text/plain": [
              "(70000, 784)"
            ]
          },
          "metadata": {
            "tags": []
          },
          "execution_count": 5
        }
      ]
    },
    {
      "cell_type": "code",
      "metadata": {
        "id": "uG4wJlzDAUHs",
        "colab_type": "code",
        "colab": {
          "base_uri": "https://localhost:8080/",
          "height": 34
        },
        "outputId": "16ce8970-7efc-43d3-a1fd-e7a28beb3dd3"
      },
      "source": [
        "train_y.shape"
      ],
      "execution_count": 6,
      "outputs": [
        {
          "output_type": "execute_result",
          "data": {
            "text/plain": [
              "(70000,)"
            ]
          },
          "metadata": {
            "tags": []
          },
          "execution_count": 6
        }
      ]
    },
    {
      "cell_type": "markdown",
      "metadata": {
        "id": "kM7O9I-yd99r",
        "colab_type": "text"
      },
      "source": [
        "#Normalizing the dataset"
      ]
    },
    {
      "cell_type": "code",
      "metadata": {
        "id": "qdW08dp1eEUd",
        "colab_type": "code",
        "colab": {}
      },
      "source": [
        "train_x = train_x / 255"
      ],
      "execution_count": 0,
      "outputs": []
    },
    {
      "cell_type": "markdown",
      "metadata": {
        "id": "ErnwQsxpexC0",
        "colab_type": "text"
      },
      "source": [
        "#Mnist classifier can predict the labels, to build a zero classifier we have to overwrite the labels"
      ]
    },
    {
      "cell_type": "code",
      "metadata": {
        "id": "xCZ5urTLeaWY",
        "colab_type": "code",
        "colab": {}
      },
      "source": [
        "y= np.zeros(train_y.shape)\n",
        "y[np.where(train_y == 0.0)[0]] = 1\n",
        "train_y = y"
      ],
      "execution_count": 0,
      "outputs": []
    },
    {
      "cell_type": "markdown",
      "metadata": {
        "id": "oQ8OiH-Rfeow",
        "colab_type": "text"
      },
      "source": [
        "#Splitting the dataset into train and test data"
      ]
    },
    {
      "cell_type": "code",
      "metadata": {
        "id": "HJOVo5I0fjo2",
        "colab_type": "code",
        "colab": {}
      },
      "source": [
        "data = 60000\n",
        "data_test = train_x.shape[0] - data\n",
        "\n",
        "X_train, X_test = train_x[:data].T, train_x[data:].T\n",
        "y_train, y_test = train_y[:data].reshape(1,data), train_y[data:].reshape(1,data_test)"
      ],
      "execution_count": 0,
      "outputs": []
    },
    {
      "cell_type": "code",
      "metadata": {
        "id": "zmHQRdTf_W0J",
        "colab_type": "code",
        "colab": {
          "base_uri": "https://localhost:8080/",
          "height": 34
        },
        "outputId": "72e0def5-9d7d-4b3e-85b3-7effe93a4746"
      },
      "source": [
        "X_train.shape"
      ],
      "execution_count": 10,
      "outputs": [
        {
          "output_type": "execute_result",
          "data": {
            "text/plain": [
              "(784, 60000)"
            ]
          },
          "metadata": {
            "tags": []
          },
          "execution_count": 10
        }
      ]
    },
    {
      "cell_type": "code",
      "metadata": {
        "id": "N2HU5JaG_ixT",
        "colab_type": "code",
        "colab": {
          "base_uri": "https://localhost:8080/",
          "height": 34
        },
        "outputId": "89cbfa9a-2c8a-47d7-dcdb-dde5ac24dcbc"
      },
      "source": [
        "X_test.shape"
      ],
      "execution_count": 11,
      "outputs": [
        {
          "output_type": "execute_result",
          "data": {
            "text/plain": [
              "(784, 10000)"
            ]
          },
          "metadata": {
            "tags": []
          },
          "execution_count": 11
        }
      ]
    },
    {
      "cell_type": "code",
      "metadata": {
        "id": "uvjAWXqI_lcI",
        "colab_type": "code",
        "colab": {
          "base_uri": "https://localhost:8080/",
          "height": 34
        },
        "outputId": "d53bbc7c-7df3-4e48-ba1f-87a98ed53eeb"
      },
      "source": [
        "y_train.shape"
      ],
      "execution_count": 12,
      "outputs": [
        {
          "output_type": "execute_result",
          "data": {
            "text/plain": [
              "(1, 60000)"
            ]
          },
          "metadata": {
            "tags": []
          },
          "execution_count": 12
        }
      ]
    },
    {
      "cell_type": "code",
      "metadata": {
        "id": "5FdlHFQh_ltk",
        "colab_type": "code",
        "colab": {
          "base_uri": "https://localhost:8080/",
          "height": 34
        },
        "outputId": "67702d82-e848-4575-e6ad-5eaad90dd9d5"
      },
      "source": [
        "y_test.shape"
      ],
      "execution_count": 13,
      "outputs": [
        {
          "output_type": "execute_result",
          "data": {
            "text/plain": [
              "(1, 10000)"
            ]
          },
          "metadata": {
            "tags": []
          },
          "execution_count": 13
        }
      ]
    },
    {
      "cell_type": "markdown",
      "metadata": {
        "id": "WIoqkqPVgI6v",
        "colab_type": "text"
      },
      "source": [
        "#Shuffling the training dataset to get a good accuracy"
      ]
    },
    {
      "cell_type": "code",
      "metadata": {
        "id": "_KjLduSFgOLh",
        "colab_type": "code",
        "colab": {}
      },
      "source": [
        "np.random.seed(138)\n",
        "s_idx = np.random.permutation(data)\n",
        "X_train, y_train = X_train[:,s_idx], y_train[:,s_idx]"
      ],
      "execution_count": 0,
      "outputs": []
    },
    {
      "cell_type": "code",
      "metadata": {
        "id": "JATQe7KIgkSG",
        "colab_type": "code",
        "colab": {
          "base_uri": "https://localhost:8080/",
          "height": 290
        },
        "outputId": "fb40e403-6fdf-4c11-87cb-09f84e5f1b85"
      },
      "source": [
        "%matplotlib inline\n",
        "import matplotlib\n",
        "import matplotlib.pyplot as plt\n",
        "\n",
        "i=3\n",
        "plt.figure()\n",
        "plt.imshow(X_train[:,i].reshape(28,28), cmap = matplotlib.cm.binary)\n",
        "plt.colorbar()\n",
        "plt.grid(False)\n",
        "plt.show()\n",
        "print(y_train[:,i])"
      ],
      "execution_count": 15,
      "outputs": [
        {
          "output_type": "display_data",
          "data": {
            "image/png": "[encoded data removed]",
            "text/plain": [
              "<Figure size 432x288 with 2 Axes>"
            ]
          },
          "metadata": {
            "tags": []
          }
        },
        {
          "output_type": "stream",
          "text": [
            "[0.]\n"
          ],
          "name": "stdout"
        }
      ]
    },
    {
      "cell_type": "markdown",
      "metadata": {
        "id": "GEyBmgVsh2Q4",
        "colab_type": "text"
      },
      "source": [
        "#Applying sigmoid function"
      ]
    },
    {
      "cell_type": "code",
      "metadata": {
        "id": "lhtN38H7hPDu",
        "colab_type": "code",
        "colab": {}
      },
      "source": [
        "def sigmoid(x):\n",
        "    s = 1 / (1 + np.exp(-x))\n",
        "    return s"
      ],
      "execution_count": 0,
      "outputs": []
    },
    {
      "cell_type": "code",
      "metadata": {
        "id": "7mY4rI7eizEQ",
        "colab_type": "code",
        "colab": {}
      },
      "source": [
        "def compute_loss(Y, Y_hat):\n",
        "\n",
        "    m = Y.shape[1]\n",
        "    L = -(1./m) * ( np.sum( np.multiply(np.log(Y_hat),Y) ) + np.sum( np.multiply(np.log(1-Y_hat),(1-Y)) ) )\n",
        "\n",
        "    return L"
      ],
      "execution_count": 0,
      "outputs": []
    },
    {
      "cell_type": "code",
      "metadata": {
        "id": "QS4-dLhe-IUb",
        "colab_type": "code",
        "colab": {
          "base_uri": "https://localhost:8080/",
          "height": 374
        },
        "outputId": "be1159ff-ac3a-4166-b68d-827e0df795a9"
      },
      "source": [
        "X = X_train\n",
        "Y = y_train\n",
        "\n",
        "n_x = X.shape[0]\n",
        "n_h = 64\n",
        "learning_rate = 1\n",
        "\n",
        "W1 = np.random.randn(n_h, n_x)\n",
        "b1 = np.zeros((n_h, 1))\n",
        "W2 = np.random.randn(1, n_h)\n",
        "b2 = np.zeros((1, 1))\n",
        "\n",
        "for i in range(2000):\n",
        "\n",
        "    Z1 = np.matmul(W1, X) + b1\n",
        "    A1 = sigmoid(Z1)\n",
        "    Z2 = np.matmul(W2, A1) + b2\n",
        "    A2 = sigmoid(Z2)\n",
        "\n",
        "    cost = compute_loss(Y, A2)\n",
        "\n",
        "    dZ2 = A2-Y\n",
        "    dW2 = (1./data) * np.matmul(dZ2, A1.T)\n",
        "    db2 = (1./data) * np.sum(dZ2, axis=1, keepdims=True)\n",
        "\n",
        "    dA1 = np.matmul(W2.T, dZ2)\n",
        "    dZ1 = dA1 * sigmoid(Z1) * (1 - sigmoid(Z1))\n",
        "    dW1 = (1./data) * np.matmul(dZ1, X.T)\n",
        "    db1 = (1./data) * np.sum(dZ1, axis=1, keepdims=True)\n",
        "\n",
        "    W2 = W2 - learning_rate * dW2\n",
        "    b2 = b2 - learning_rate * db2\n",
        "    W1 = W1 - learning_rate * dW1\n",
        "    b1 = b1 - learning_rate * db1\n",
        "\n",
        "    if i % 100 == 0:\n",
        "        print(\"Epoch\", i, \"cost: \", cost)\n",
        "\n",
        "print(\"Final cost:\", cost)"
      ],
      "execution_count": 19,
      "outputs": [
        {
          "output_type": "stream",
          "text": [
            "Epoch 0 cost:  0.047308198509765156\n",
            "Epoch 100 cost:  0.00045293982756061896\n",
            "Epoch 200 cost:  0.00022610307392980757\n",
            "Epoch 300 cost:  0.0001509332922705586\n",
            "Epoch 400 cost:  0.0001133945444593101\n",
            "Epoch 500 cost:  9.08692714295115e-05\n",
            "Epoch 600 cost:  7.584382052885973e-05\n",
            "Epoch 700 cost:  6.510314289091009e-05\n",
            "Epoch 800 cost:  5.704088621319394e-05\n",
            "Epoch 900 cost:  5.076487613418235e-05\n",
            "Epoch 1000 cost:  4.573981254647755e-05\n",
            "Epoch 1100 cost:  4.162499785817973e-05\n",
            "Epoch 1200 cost:  3.819324257250906e-05\n",
            "Epoch 1300 cost:  3.5287211432217155e-05\n",
            "Epoch 1400 cost:  3.279448153916168e-05\n",
            "Epoch 1500 cost:  3.0632577491112806e-05\n",
            "Epoch 1600 cost:  2.873961776925574e-05\n",
            "Epoch 1700 cost:  2.7068261680497992e-05\n",
            "Epoch 1800 cost:  2.558167333327507e-05\n",
            "Epoch 1900 cost:  2.4250759613098957e-05\n",
            "Final cost: 2.3063631284215528e-05\n"
          ],
          "name": "stdout"
        }
      ]
    },
    {
      "cell_type": "code",
      "metadata": {
        "id": "_LrnUqXr-IW2",
        "colab_type": "code",
        "colab": {
          "base_uri": "https://localhost:8080/",
          "height": 170
        },
        "outputId": "127a84e6-e16d-4a9c-fd19-b61505df1cc4"
      },
      "source": [
        "Z1 = np.matmul(W1, X_test) + b1\n",
        "A1 = sigmoid(Z1)\n",
        "Z2 = np.matmul(W2, A1) + b2\n",
        "A2 = sigmoid(Z2)\n",
        "\n",
        "predictions = (A2>.5)[0,:]\n",
        "labels = (y_test == 1)[0,:]\n",
        "\n",
        "print(confusion_matrix(predictions, labels))\n",
        "print(classification_report(predictions, labels))"
      ],
      "execution_count": 20,
      "outputs": [
        {
          "output_type": "stream",
          "text": [
            "[[10000]]\n",
            "              precision    recall  f1-score   support\n",
            "\n",
            "       False       1.00      1.00      1.00     10000\n",
            "\n",
            "    accuracy                           1.00     10000\n",
            "   macro avg       1.00      1.00      1.00     10000\n",
            "weighted avg       1.00      1.00      1.00     10000\n",
            "\n"
          ],
          "name": "stdout"
        }
      ]
    },
    {
      "cell_type": "code",
      "metadata": {
        "id": "0So6oiFy_3xi",
        "colab_type": "code",
        "colab": {}
      },
      "source": [
        ""
      ],
      "execution_count": 0,
      "outputs": []
    }
  ]
}