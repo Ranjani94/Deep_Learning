{
  "nbformat": 4,
  "nbformat_minor": 0,
  "metadata": {
    "colab": {
      "name": "Graded_Assign_1.ipynb",
      "provenance": [],
      "authorship_tag": "ABX9TyNKmHSYjK/sPyYQjKSoXZt+",
      "include_colab_link": true
    },
    "kernelspec": {
      "name": "python3",
      "display_name": "Python 3"
    },
    "accelerator": "GPU"
  },
  "cells": [
    {
      "cell_type": "markdown",
      "metadata": {
        "id": "view-in-github",
        "colab_type": "text"
      },
      "source": [
        "<a href=\"https://colab.research.google.com/github/Ranjani94/Deep_Learning/blob/master/Graded_Assignment_1/Graded_Assign_1.ipynb\" target=\"_parent\"><img src=\"https://colab.research.google.com/assets/colab-badge.svg\" alt=\"Open In Colab\"/></a>"
      ]
    },
    {
      "cell_type": "markdown",
      "metadata": {
        "id": "7sGbckRaSP7e",
        "colab_type": "text"
      },
      "source": [
        "#MNIST Classifier"
      ]
    },
    {
      "cell_type": "code",
      "metadata": {
        "id": "dH3z2F9ASTM0",
        "colab_type": "code",
        "outputId": "5b8d0bed-3933-41c4-ee77-5dda00dcf72b",
        "colab": {
          "base_uri": "https://localhost:8080/",
          "height": 34
        }
      },
      "source": [
        "from google.colab import drive\n",
        "drive.mount('/content/gdrive', force_remount=True)\n",
        "root_dir = \"/content/gdrive/My Drive/\"\n",
        "base_dir = root_dir + 'Deep_Learning/'\n"
      ],
      "execution_count": 1,
      "outputs": [
        {
          "output_type": "stream",
          "text": [
            "Mounted at /content/gdrive\n"
          ],
          "name": "stdout"
        }
      ]
    },
    {
      "cell_type": "code",
      "metadata": {
        "id": "ve0qco5lWnwd",
        "colab_type": "code",
        "colab": {}
      },
      "source": [
        "# try:\n",
        "#   # %tensorflow_version only exists in Colab.\n",
        "#   %tensorflow_version 2.x\n",
        "# except Exception:\n",
        "#   pass"
      ],
      "execution_count": 0,
      "outputs": []
    },
    {
      "cell_type": "markdown",
      "metadata": {
        "id": "vyF0FAUdW61V",
        "colab_type": "text"
      },
      "source": [
        "#Importing all the required libraries"
      ]
    },
    {
      "cell_type": "code",
      "metadata": {
        "id": "38hrNAF7STOp",
        "colab_type": "code",
        "colab": {}
      },
      "source": [
        "import sys\n",
        "assert sys.version_info >= (3, 5)\n",
        "\n",
        "# Scikit-Learn ≥0.20 is required\n",
        "import sklearn\n",
        "assert sklearn.__version__ >= \"0.20\"\n",
        "\n",
        "# Common imports\n",
        "import numpy as np\n",
        "import os\n",
        "import pandas as pd\n",
        "import pickle\n",
        "\n",
        "# To plot pretty figures\n",
        "%matplotlib inline\n",
        "import matplotlib as mpl\n",
        "import matplotlib.pyplot as plt\n",
        "mpl.rc('axes', labelsize=14)\n",
        "mpl.rc('xtick', labelsize=12)\n",
        "mpl.rc('ytick', labelsize=12)\n",
        "\n",
        "# TensorFlow and tf.keras\n",
        "import tensorflow as tf\n",
        "from tensorflow import keras\n",
        "from keras.utils import np_utils"
      ],
      "execution_count": 0,
      "outputs": []
    },
    {
      "cell_type": "markdown",
      "metadata": {
        "id": "2KRg9AU2W1_y",
        "colab_type": "text"
      },
      "source": [
        "#Downloading the dataset"
      ]
    },
    {
      "cell_type": "code",
      "metadata": {
        "id": "WsbCEpaRSTQK",
        "colab_type": "code",
        "colab": {}
      },
      "source": [
        "Digit_recognizer_mnist = keras.datasets.mnist\n",
        "(x_train, y_train), (x_test, y_test) = Digit_recognizer_mnist.load_data()\n"
      ],
      "execution_count": 0,
      "outputs": []
    },
    {
      "cell_type": "code",
      "metadata": {
        "id": "eqY-q2ahWz4x",
        "colab_type": "code",
        "colab": {}
      },
      "source": [
        "class_names =['0','1','2','3','4','5','6','7','8','9']"
      ],
      "execution_count": 0,
      "outputs": []
    },
    {
      "cell_type": "markdown",
      "metadata": {
        "id": "v2RIZ5S_XaJi",
        "colab_type": "text"
      },
      "source": [
        "#Exploring the data"
      ]
    },
    {
      "cell_type": "code",
      "metadata": {
        "id": "PxN7153kXcfd",
        "colab_type": "code",
        "outputId": "4779a85a-9593-4917-cf90-aae12a58cf88",
        "colab": {
          "base_uri": "https://localhost:8080/",
          "height": 34
        }
      },
      "source": [
        "x_train.shape"
      ],
      "execution_count": 53,
      "outputs": [
        {
          "output_type": "execute_result",
          "data": {
            "text/plain": [
              "(60000, 28, 28)"
            ]
          },
          "metadata": {
            "tags": []
          },
          "execution_count": 53
        }
      ]
    },
    {
      "cell_type": "code",
      "metadata": {
        "id": "2ONLOWIDXcm2",
        "colab_type": "code",
        "outputId": "c06a8a4b-a6c6-47ba-bf44-1ab9fbfcf6ac",
        "colab": {
          "base_uri": "https://localhost:8080/",
          "height": 34
        }
      },
      "source": [
        "len(x_test)"
      ],
      "execution_count": 54,
      "outputs": [
        {
          "output_type": "execute_result",
          "data": {
            "text/plain": [
              "10000"
            ]
          },
          "metadata": {
            "tags": []
          },
          "execution_count": 54
        }
      ]
    },
    {
      "cell_type": "code",
      "metadata": {
        "id": "rmh67OWOd7rY",
        "colab_type": "code",
        "outputId": "26305738-1232-44ef-e2a8-b518656da7d8",
        "colab": {
          "base_uri": "https://localhost:8080/",
          "height": 850
        }
      },
      "source": [
        "x_test[:10]"
      ],
      "execution_count": 55,
      "outputs": [
        {
          "output_type": "execute_result",
          "data": {
            "text/plain": [
              "array([[[0, 0, 0, ..., 0, 0, 0],\n",
              "        [0, 0, 0, ..., 0, 0, 0],\n",
              "        [0, 0, 0, ..., 0, 0, 0],\n",
              "        ...,\n",
              "        [0, 0, 0, ..., 0, 0, 0],\n",
              "        [0, 0, 0, ..., 0, 0, 0],\n",
              "        [0, 0, 0, ..., 0, 0, 0]],\n",
              "\n",
              "       [[0, 0, 0, ..., 0, 0, 0],\n",
              "        [0, 0, 0, ..., 0, 0, 0],\n",
              "        [0, 0, 0, ..., 0, 0, 0],\n",
              "        ...,\n",
              "        [0, 0, 0, ..., 0, 0, 0],\n",
              "        [0, 0, 0, ..., 0, 0, 0],\n",
              "        [0, 0, 0, ..., 0, 0, 0]],\n",
              "\n",
              "       [[0, 0, 0, ..., 0, 0, 0],\n",
              "        [0, 0, 0, ..., 0, 0, 0],\n",
              "        [0, 0, 0, ..., 0, 0, 0],\n",
              "        ...,\n",
              "        [0, 0, 0, ..., 0, 0, 0],\n",
              "        [0, 0, 0, ..., 0, 0, 0],\n",
              "        [0, 0, 0, ..., 0, 0, 0]],\n",
              "\n",
              "       ...,\n",
              "\n",
              "       [[0, 0, 0, ..., 0, 0, 0],\n",
              "        [0, 0, 0, ..., 0, 0, 0],\n",
              "        [0, 0, 0, ..., 0, 0, 0],\n",
              "        ...,\n",
              "        [0, 0, 0, ..., 0, 0, 0],\n",
              "        [0, 0, 0, ..., 0, 0, 0],\n",
              "        [0, 0, 0, ..., 0, 0, 0]],\n",
              "\n",
              "       [[0, 0, 0, ..., 0, 0, 0],\n",
              "        [0, 0, 0, ..., 0, 0, 0],\n",
              "        [0, 0, 0, ..., 0, 0, 0],\n",
              "        ...,\n",
              "        [0, 0, 0, ..., 0, 0, 0],\n",
              "        [0, 0, 0, ..., 0, 0, 0],\n",
              "        [0, 0, 0, ..., 0, 0, 0]],\n",
              "\n",
              "       [[0, 0, 0, ..., 0, 0, 0],\n",
              "        [0, 0, 0, ..., 0, 0, 0],\n",
              "        [0, 0, 0, ..., 0, 0, 0],\n",
              "        ...,\n",
              "        [0, 0, 0, ..., 0, 0, 0],\n",
              "        [0, 0, 0, ..., 0, 0, 0],\n",
              "        [0, 0, 0, ..., 0, 0, 0]]], dtype=uint8)"
            ]
          },
          "metadata": {
            "tags": []
          },
          "execution_count": 55
        }
      ]
    },
    {
      "cell_type": "code",
      "metadata": {
        "id": "8ur7gePMXcsL",
        "colab_type": "code",
        "outputId": "8cf0acd0-cb51-44a2-96f5-492f62555a78",
        "colab": {
          "base_uri": "https://localhost:8080/",
          "height": 34
        }
      },
      "source": [
        "x_test.shape"
      ],
      "execution_count": 56,
      "outputs": [
        {
          "output_type": "execute_result",
          "data": {
            "text/plain": [
              "(10000, 28, 28)"
            ]
          },
          "metadata": {
            "tags": []
          },
          "execution_count": 56
        }
      ]
    },
    {
      "cell_type": "code",
      "metadata": {
        "id": "KorDeH04Xcyw",
        "colab_type": "code",
        "outputId": "171611f1-c454-4893-ecb8-c12be618a894",
        "colab": {
          "base_uri": "https://localhost:8080/",
          "height": 34
        }
      },
      "source": [
        "len(y_test)"
      ],
      "execution_count": 57,
      "outputs": [
        {
          "output_type": "execute_result",
          "data": {
            "text/plain": [
              "10000"
            ]
          },
          "metadata": {
            "tags": []
          },
          "execution_count": 57
        }
      ]
    },
    {
      "cell_type": "code",
      "metadata": {
        "id": "Iv7QKCPlekJ3",
        "colab_type": "code",
        "colab": {}
      },
      "source": [
        "# x_test[x_test==255]\n",
        "# x_test.shape"
      ],
      "execution_count": 0,
      "outputs": []
    },
    {
      "cell_type": "code",
      "metadata": {
        "id": "AOpxFFCgXo5S",
        "colab_type": "code",
        "outputId": "826da76c-8831-4cc9-831b-a9459e47f5a7",
        "colab": {
          "base_uri": "https://localhost:8080/",
          "height": 269
        }
      },
      "source": [
        "plt.figure()\n",
        "plt.imshow(x_train[6779])\n",
        "plt.colorbar()\n",
        "plt.grid(False)\n",
        "plt.show()"
      ],
      "execution_count": 58,
      "outputs": [
        {
          "output_type": "display_data",
          "data": {
            "image/png": "[encoded data removed]",
            "text/plain": [
              "<Figure size 432x288 with 2 Axes>"
            ]
          },
          "metadata": {
            "tags": []
          }
        }
      ]
    },
    {
      "cell_type": "code",
      "metadata": {
        "id": "atApfareXuMW",
        "colab_type": "code",
        "outputId": "260d3bee-8f6a-4c84-c6ac-fa79a0a286b1",
        "colab": {
          "base_uri": "https://localhost:8080/",
          "height": 119
        }
      },
      "source": [
        "plt.subplot(341)\n",
        "plt.imshow(x_train[0], cmap=plt.get_cmap('gray'))\n",
        "plt.subplot(342)\n",
        "plt.imshow(x_train[1], cmap=plt.get_cmap('gray'))\n",
        "plt.subplot(343)\n",
        "plt.imshow(x_train[2], cmap=plt.get_cmap('gray'))\n",
        "plt.subplot(344)\n",
        "plt.imshow(x_train[3], cmap=plt.get_cmap('gray'))\n",
        "plt.show()"
      ],
      "execution_count": 59,
      "outputs": [
        {
          "output_type": "display_data",
          "data": {
            "image/png": "[encoded data removed]",
            "text/plain": [
              "<Figure size 432x288 with 4 Axes>"
            ]
          },
          "metadata": {
            "tags": []
          }
        }
      ]
    },
    {
      "cell_type": "markdown",
      "metadata": {
        "id": "w3RfscvdksYp",
        "colab_type": "text"
      },
      "source": [
        "##To apply simple neural network using multi layer perceptron, we need to reduce the images from 3-D to vector of pixels using the reshape() function..."
      ]
    },
    {
      "cell_type": "markdown",
      "metadata": {
        "id": "l_Sl3OnMl_4-",
        "colab_type": "text"
      },
      "source": [
        "###Converting 28 * 28 images to 784 vectors for each image"
      ]
    },
    {
      "cell_type": "code",
      "metadata": {
        "id": "0stGKDUhkX1w",
        "colab_type": "code",
        "colab": {}
      },
      "source": [
        "pixels = x_train.shape[1] * x_train.shape[2]\n",
        "x_train = x_train.reshape((x_train.shape[0],pixels)).astype('float32')\n",
        "x_test = x_test.reshape((x_test.shape[0],pixels)).astype(\"float32\")\n"
      ],
      "execution_count": 0,
      "outputs": []
    },
    {
      "cell_type": "markdown",
      "metadata": {
        "id": "b0hfQEPknBAV",
        "colab_type": "text"
      },
      "source": [
        "##Normalizing the input values"
      ]
    },
    {
      "cell_type": "code",
      "metadata": {
        "id": "9gVEt4FcmOFw",
        "colab_type": "code",
        "colab": {}
      },
      "source": [
        "x_train = x_train / 255.0\n",
        "x_test = x_test / 255.0"
      ],
      "execution_count": 0,
      "outputs": []
    },
    {
      "cell_type": "code",
      "metadata": {
        "id": "9UL_Izb0ob9x",
        "colab_type": "code",
        "outputId": "6c8e9199-9bac-400b-a94f-ff4af534b708",
        "colab": {
          "base_uri": "https://localhost:8080/",
          "height": 34
        }
      },
      "source": [
        "x_test.shape"
      ],
      "execution_count": 62,
      "outputs": [
        {
          "output_type": "execute_result",
          "data": {
            "text/plain": [
              "(10000, 784)"
            ]
          },
          "metadata": {
            "tags": []
          },
          "execution_count": 62
        }
      ]
    },
    {
      "cell_type": "code",
      "metadata": {
        "id": "3_hnw6LwqtNY",
        "colab_type": "code",
        "outputId": "51f345b6-c929-4db8-8859-01774894bd63",
        "colab": {
          "base_uri": "https://localhost:8080/",
          "height": 34
        }
      },
      "source": [
        "x_train.shape"
      ],
      "execution_count": 63,
      "outputs": [
        {
          "output_type": "execute_result",
          "data": {
            "text/plain": [
              "(60000, 784)"
            ]
          },
          "metadata": {
            "tags": []
          },
          "execution_count": 63
        }
      ]
    },
    {
      "cell_type": "code",
      "metadata": {
        "id": "2_iNLZQM7hu8",
        "colab_type": "code",
        "colab": {}
      },
      "source": [
        "# one hot encode outputs\n",
        "y_train = np_utils.to_categorical(y_train)\n",
        "y_test = np_utils.to_categorical(y_test)\n",
        "num_classes = y_test.shape[1]"
      ],
      "execution_count": 0,
      "outputs": []
    },
    {
      "cell_type": "code",
      "metadata": {
        "id": "pKVHAwCU9GGe",
        "colab_type": "code",
        "colab": {
          "base_uri": "https://localhost:8080/",
          "height": 34
        },
        "outputId": "6f4fb580-3ef9-4d6c-85eb-d81094adede9"
      },
      "source": [
        "y_train.shape"
      ],
      "execution_count": 69,
      "outputs": [
        {
          "output_type": "execute_result",
          "data": {
            "text/plain": [
              "(60000, 10)"
            ]
          },
          "metadata": {
            "tags": []
          },
          "execution_count": 69
        }
      ]
    },
    {
      "cell_type": "code",
      "metadata": {
        "id": "nligEylE9J2h",
        "colab_type": "code",
        "colab": {
          "base_uri": "https://localhost:8080/",
          "height": 34
        },
        "outputId": "c917aa57-29ae-47e0-84e6-c0a5dec6c506"
      },
      "source": [
        "y_test.shape"
      ],
      "execution_count": 70,
      "outputs": [
        {
          "output_type": "execute_result",
          "data": {
            "text/plain": [
              "(10000, 10)"
            ]
          },
          "metadata": {
            "tags": []
          },
          "execution_count": 70
        }
      ]
    },
    {
      "cell_type": "code",
      "metadata": {
        "id": "B-RZn34aFyTv",
        "colab_type": "code",
        "colab": {}
      },
      "source": [
        "# y_train = np_utils.to_categorical(y_train)\n",
        "# y_test = np_utils.to_categorical(y_test)\n",
        "# num_classes = y_test.shape[1]"
      ],
      "execution_count": 0,
      "outputs": []
    },
    {
      "cell_type": "markdown",
      "metadata": {
        "id": "PeDllKxeAm9a",
        "colab_type": "text"
      },
      "source": [
        "##Pixels range between 0 and 255, we will need to map those values from 0.01 and 1 by multiplying ht epixels and adding 0.01 to every results."
      ]
    },
    {
      "cell_type": "code",
      "metadata": {
        "id": "osaUpX_cAdgq",
        "colab_type": "code",
        "colab": {}
      },
      "source": [
        "# f = 0.99/255\n",
        "# train_x = np.asfarray(x_train[:, 0:]) * f +0.01\n",
        "# test_x = np.asfarray(x_test[:, 1:]) * f + 0.01\n",
        "# train_y = np.asfarray(y_train[:, :1])\n",
        "# test_y = np.asfarray(y_test[:, :1])"
      ],
      "execution_count": 0,
      "outputs": []
    },
    {
      "cell_type": "markdown",
      "metadata": {
        "id": "D-AOZBVUCIXc",
        "colab_type": "text"
      },
      "source": [
        "Label to one hot encoding"
      ]
    },
    {
      "cell_type": "code",
      "metadata": {
        "id": "9wZFyiuDAdi6",
        "colab_type": "code",
        "colab": {}
      },
      "source": [
        "# l = np.arange(10)\n",
        "# for lb in range(10):\n",
        "#   cat = (l==lb).astype(np.int)\n",
        "#   print('One-hot-encoding', cat)"
      ],
      "execution_count": 0,
      "outputs": []
    },
    {
      "cell_type": "markdown",
      "metadata": {
        "id": "W4wgrf_dT9G8",
        "colab_type": "text"
      },
      "source": [
        "##Instead of using 0's and 1's, we will assign 0.01 and 0.99 for better calculations\n"
      ]
    },
    {
      "cell_type": "code",
      "metadata": {
        "id": "SF2f8hlYVj9j",
        "colab_type": "code",
        "colab": {}
      },
      "source": [
        "img_size = 28\n",
        "dif_lbs = 10\n",
        "img_pixel = img_size * img_size"
      ],
      "execution_count": 0,
      "outputs": []
    },
    {
      "cell_type": "code",
      "metadata": {
        "id": "CnsTIfzOUG0S",
        "colab_type": "code",
        "colab": {}
      },
      "source": [
        "# l = np.arange(dif_lbs)\n",
        "# train_lbl = (l==train_y).astype(np.float)\n",
        "# test_lbl = (l==test_y).astype(np.float)\n",
        "\n",
        "# train_lbl[train_lbl==0] = 0.01\n",
        "# train_lbl[train_lbl==1] = 0.99\n",
        "# test_lbl[test_lbl==0] = 0.01\n",
        "# test_lbl[test_lbl==1] = 0.99"
      ],
      "execution_count": 0,
      "outputs": []
    },
    {
      "cell_type": "code",
      "metadata": {
        "id": "wZYgD2l6Ye2N",
        "colab_type": "code",
        "colab": {}
      },
      "source": [
        "# train_lbl.shape"
      ],
      "execution_count": 0,
      "outputs": []
    },
    {
      "cell_type": "code",
      "metadata": {
        "id": "r1tYmTDAYlPc",
        "colab_type": "code",
        "colab": {}
      },
      "source": [
        "# test_lbl.shape"
      ],
      "execution_count": 0,
      "outputs": []
    },
    {
      "cell_type": "code",
      "metadata": {
        "id": "xuVXjHfqjoEP",
        "colab_type": "code",
        "colab": {}
      },
      "source": [
        "# train_y.shape"
      ],
      "execution_count": 0,
      "outputs": []
    },
    {
      "cell_type": "code",
      "metadata": {
        "id": "8Y1QbW2IjuNy",
        "colab_type": "code",
        "colab": {}
      },
      "source": [
        "# train_x.shape"
      ],
      "execution_count": 0,
      "outputs": []
    },
    {
      "cell_type": "markdown",
      "metadata": {
        "id": "GYHdwN_nyrOo",
        "colab_type": "text"
      },
      "source": [
        "##Classifying the data.."
      ]
    },
    {
      "cell_type": "code",
      "metadata": {
        "id": "eamgeDDrxPzU",
        "colab_type": "code",
        "colab": {}
      },
      "source": [
        "@np.vectorize\n",
        "def sigmoid(x):\n",
        "  return 1/(1+np.e ** -x)\n",
        "active_func = sigmoid"
      ],
      "execution_count": 0,
      "outputs": []
    },
    {
      "cell_type": "code",
      "metadata": {
        "id": "UzOmBjiAzTbx",
        "colab_type": "code",
        "colab": {}
      },
      "source": [
        "from scipy.stats import truncnorm\n",
        "\n",
        "def trunc_norm(mean=0, std=1, lo=0, up=10):\n",
        "  return truncnorm((lo-mean) / std, (up-mean) / std, loc=mean, scale=std)"
      ],
      "execution_count": 0,
      "outputs": []
    },
    {
      "cell_type": "code",
      "metadata": {
        "id": "gh2d-_PYz6ah",
        "colab_type": "code",
        "colab": {}
      },
      "source": [
        "class NN:\n",
        "  def __init__(self, numof_input_nodes, numof_output_nodes, numof_hidden_nodes, learn_rate):\n",
        "    self.numof_input_nodes = numof_input_nodes\n",
        "    self.numof_output_nodes = numof_output_nodes\n",
        "    self.numof_hidden_nodes = numof_hidden_nodes\n",
        "    self.learn_rate = learn_rate\n",
        "    self.create_wt_matrices()\n",
        "\n",
        "  def create_wt_matrices(self):\n",
        "    r = 1 / np.sqrt(self.numof_input_nodes)\n",
        "    x = trunc_norm(mean=0, std=1,lo=-r, up=r)\n",
        "    self.w = x.rvs((self.numof_hidden_nodes, self.numof_input_nodes))\n",
        "    r= 1 / np.sqrt(self.numof_hidden_nodes)\n",
        "    x = trunc_norm(mean =0, std=1,lo=-r, up=r)\n",
        "    self.ho = x.rvs(self.numof_output_nodes, self.numof_hidden_nodes)\n",
        "\n",
        "  def dropout_wt_matrices(self,in_percent=0.70,hid_percent=0.70):\n",
        "        # restore wih array, if it had been used for dropout\n",
        "        self.w_origin = self.w.copy()\n",
        "        self.nodes_origin = self.numof_input_nodes\n",
        "        self.hid_node_origin = self.numof_hidden_nodes\n",
        "        self.ho_origin = self.ho.copy()\n",
        "        \n",
        "\n",
        "        in_node = int(self.numof_input_nodes * in_percent)\n",
        "        in_indices = sorted(random.sample(range(0, self.numof_input_nodes), \n",
        "                                      in_node))\n",
        "        hid_nodes = int(self.numof_hidden_nodes * hid_percent)\n",
        "        hid_indices = sorted(random.sample(range(0, self.numof_hidden_nodes), \n",
        "                                       hid_nodes))\n",
        "        \n",
        "        self.w = self.w[:, in_indices][hid_indices]       \n",
        "        self.ho = self.ho[:, hid_indices]\n",
        "        \n",
        "        self.numof_hidden_nodes = hid_nodes\n",
        "        self.numof_input_nodes = in_node\n",
        "        return in_indices, hid_indices\n",
        "\n",
        "  def train(self, in_vec, tar_vec):\n",
        "    in_vec = np.array(in_vec, ndmin=2).T \n",
        "    tar_vec = np.array(tar_vec, ndmin=2).T \n",
        "    out_vec1 = np.dot(self.w, in_vec)\n",
        "    out_hid = active_func(out_vec1)\n",
        "    out_vec2 = np.dot(self.ho, out_hid)\n",
        "    out_net = active_func(out_vec2)\n",
        "    out_error = tar_vec - out_net\n",
        "    #updating the weights\n",
        "    temp = out_error * out_net * (1.0 - out_net)\n",
        "    temp = self.learn_rate * np.dot(temp, out_hid.T)\n",
        "    self.ho += temp \n",
        "\n",
        "  #Calculating the hidden errors:\n",
        "\n",
        "    hid_err = np.dot(self.ho.T, out_error)\n",
        "\n",
        "    #updating the weight\n",
        "    temp = hid_err * out_hid * (1.0 - out_hid)\n",
        "    self.w += self.learn_rate * np.dot(temp, in_vec.T)\n",
        "\n",
        "  def run(self, in_vec):\n",
        "    in_vec = np.array(in_vec, ndmin=2).T \n",
        "    out_vec = np.dot(self.w,in_vec)\n",
        "    out_vec = active_func(out_vec)\n",
        "    out_vec = np.dot(self.ho, out_vec)\n",
        "    out_vec = active_func(out_vec)\n",
        "    return out_vec\n",
        "\n",
        "  def conf_mat(self, data_arr, lbs):\n",
        "    s = np.zeros((10,10), int)\n",
        "    for i in range(len(data_arr)):\n",
        "      r = self.run(data_arr[i])\n",
        "      r_mx =r.argmax()\n",
        "      tar = lbs[i][0]\n",
        "      s[r_mx, int(tar)] +=1\n",
        "    return s\n",
        "\n",
        "  def precision_func(self, lb, conf_mat):\n",
        "    c = conf_mat[:, lb]\n",
        "    return conf_mat[lb,lb] / c.sum()\n",
        "\n",
        "  def recall_func(self, lb, conf_mat):\n",
        "    r = conf_mat[lb, :]\n",
        "    return conf_mat[lb, lb] / r.sum()\n",
        "\n",
        "  def eval(self, dt, lbs):\n",
        "    right, wrong = 0, 0\n",
        "    for i in range(len(dt)):\n",
        "      r = self.run(dt[i])\n",
        "      r_mx = r.argmax()\n",
        "      if r_mx == lbs[i]:\n",
        "        right += 1\n",
        "      else:\n",
        "        wrong +=1\n",
        "    return right, wrong\n",
        "\n",
        "# NeuralNet = NN(numof_input_nodes=img_pixel, numof_output_nodes=10, numof_hidden_nodes=100, learn_rate=0.1)\n",
        "# for i in range(len(train_x)):\n",
        "#   NeuralNet.train(train_x[i], train_lbl[i])\n",
        "# for i in range(20):\n",
        "#   r = NeuralNet.run(test_x[i])\n",
        "#   print(test_y[i], np.argmax(r), np.max(r))"
      ],
      "execution_count": 0,
      "outputs": []
    },
    {
      "cell_type": "code",
      "metadata": {
        "id": "g745Xjisb5FS",
        "colab_type": "code",
        "outputId": "26ab314c-e613-4cb8-f6af-768360e8e245",
        "colab": {
          "base_uri": "https://localhost:8080/",
          "height": 402
        }
      },
      "source": [
        "epochs = 3\n",
        "\n",
        "NeuralNet = NN(numof_input_nodes=img_pixel, numof_output_nodes=10, numof_hidden_nodes=100, learn_rate=0.1)\n",
        "\n",
        "\n",
        "for epoch in range(epochs):  \n",
        "    print(\"epoch: \", epoch)\n",
        "    for i in range(len(x_train)):\n",
        "        NeuralNet.train(x_train[i], x_test[i])\n",
        "  \n",
        "    right, wrong = NN.eval(x_train, x_test)\n",
        "    print(\"accuracy train: \", right / ( right + wrong))\n",
        "    right, wrong = NN.eval(y_train, y_test)\n",
        "    print(\"accuracy: test\", right / ( right + wrong))"
      ],
      "execution_count": 74,
      "outputs": [
        {
          "output_type": "stream",
          "text": [
            "epoch:  0\n"
          ],
          "name": "stdout"
        },
        {
          "output_type": "error",
          "ename": "ValueError",
          "evalue": "ignored",
          "traceback": [
            "\u001b[0;31m---------------------------------------------------------------------------\u001b[0m",
            "\u001b[0;31mValueError\u001b[0m                                Traceback (most recent call last)",
            "\u001b[0;32m<ipython-input-74-4ce03270d0a0>\u001b[0m in \u001b[0;36m<module>\u001b[0;34m()\u001b[0m\n\u001b[1;32m      7\u001b[0m     \u001b[0mprint\u001b[0m\u001b[0;34m(\u001b[0m\u001b[0;34m\"epoch: \"\u001b[0m\u001b[0;34m,\u001b[0m \u001b[0mepoch\u001b[0m\u001b[0;34m)\u001b[0m\u001b[0;34m\u001b[0m\u001b[0;34m\u001b[0m\u001b[0m\n\u001b[1;32m      8\u001b[0m     \u001b[0;32mfor\u001b[0m \u001b[0mi\u001b[0m \u001b[0;32min\u001b[0m \u001b[0mrange\u001b[0m\u001b[0;34m(\u001b[0m\u001b[0mlen\u001b[0m\u001b[0;34m(\u001b[0m\u001b[0mx_train\u001b[0m\u001b[0;34m)\u001b[0m\u001b[0;34m)\u001b[0m\u001b[0;34m:\u001b[0m\u001b[0;34m\u001b[0m\u001b[0;34m\u001b[0m\u001b[0m\n\u001b[0;32m----> 9\u001b[0;31m         \u001b[0mNeuralNet\u001b[0m\u001b[0;34m.\u001b[0m\u001b[0mtrain\u001b[0m\u001b[0;34m(\u001b[0m\u001b[0mx_train\u001b[0m\u001b[0;34m[\u001b[0m\u001b[0mi\u001b[0m\u001b[0;34m]\u001b[0m\u001b[0;34m,\u001b[0m \u001b[0mx_test\u001b[0m\u001b[0;34m[\u001b[0m\u001b[0mi\u001b[0m\u001b[0;34m]\u001b[0m\u001b[0;34m)\u001b[0m\u001b[0;34m\u001b[0m\u001b[0;34m\u001b[0m\u001b[0m\n\u001b[0m\u001b[1;32m     10\u001b[0m \u001b[0;34m\u001b[0m\u001b[0m\n\u001b[1;32m     11\u001b[0m     \u001b[0mright\u001b[0m\u001b[0;34m,\u001b[0m \u001b[0mwrong\u001b[0m \u001b[0;34m=\u001b[0m \u001b[0mNN\u001b[0m\u001b[0;34m.\u001b[0m\u001b[0meval\u001b[0m\u001b[0;34m(\u001b[0m\u001b[0mx_train\u001b[0m\u001b[0;34m,\u001b[0m \u001b[0mx_test\u001b[0m\u001b[0;34m)\u001b[0m\u001b[0;34m\u001b[0m\u001b[0;34m\u001b[0m\u001b[0m\n",
            "\u001b[0;32m<ipython-input-72-ef13d2a94f20>\u001b[0m in \u001b[0;36mtrain\u001b[0;34m(self, in_vec, tar_vec)\u001b[0m\n\u001b[1;32m     20\u001b[0m     \u001b[0mout_vec1\u001b[0m \u001b[0;34m=\u001b[0m \u001b[0mnp\u001b[0m\u001b[0;34m.\u001b[0m\u001b[0mdot\u001b[0m\u001b[0;34m(\u001b[0m\u001b[0mself\u001b[0m\u001b[0;34m.\u001b[0m\u001b[0mw\u001b[0m\u001b[0;34m,\u001b[0m \u001b[0min_vec\u001b[0m\u001b[0;34m)\u001b[0m\u001b[0;34m\u001b[0m\u001b[0;34m\u001b[0m\u001b[0m\n\u001b[1;32m     21\u001b[0m     \u001b[0mout_hid\u001b[0m \u001b[0;34m=\u001b[0m \u001b[0mactive_func\u001b[0m\u001b[0;34m(\u001b[0m\u001b[0mout_vec1\u001b[0m\u001b[0;34m)\u001b[0m\u001b[0;34m\u001b[0m\u001b[0;34m\u001b[0m\u001b[0m\n\u001b[0;32m---> 22\u001b[0;31m     \u001b[0mout_vec2\u001b[0m \u001b[0;34m=\u001b[0m \u001b[0mnp\u001b[0m\u001b[0;34m.\u001b[0m\u001b[0mdot\u001b[0m\u001b[0;34m(\u001b[0m\u001b[0mself\u001b[0m\u001b[0;34m.\u001b[0m\u001b[0mho\u001b[0m\u001b[0;34m,\u001b[0m \u001b[0mout_hid\u001b[0m\u001b[0;34m)\u001b[0m\u001b[0;34m\u001b[0m\u001b[0;34m\u001b[0m\u001b[0m\n\u001b[0m\u001b[1;32m     23\u001b[0m     \u001b[0mout_net\u001b[0m \u001b[0;34m=\u001b[0m \u001b[0mactive_func\u001b[0m\u001b[0;34m(\u001b[0m\u001b[0mout_vec2\u001b[0m\u001b[0;34m)\u001b[0m\u001b[0;34m\u001b[0m\u001b[0;34m\u001b[0m\u001b[0m\n\u001b[1;32m     24\u001b[0m     \u001b[0mout_error\u001b[0m \u001b[0;34m=\u001b[0m \u001b[0mtar_vec\u001b[0m \u001b[0;34m-\u001b[0m \u001b[0mout_net\u001b[0m\u001b[0;34m\u001b[0m\u001b[0;34m\u001b[0m\u001b[0m\n",
            "\u001b[0;32m<__array_function__ internals>\u001b[0m in \u001b[0;36mdot\u001b[0;34m(*args, **kwargs)\u001b[0m\n",
            "\u001b[0;31mValueError\u001b[0m: shapes (10,) and (100,1) not aligned: 10 (dim 0) != 100 (dim 0)"
          ]
        }
      ]
    }
  ]
}